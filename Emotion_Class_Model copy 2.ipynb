{
 "cells": [
  {
   "cell_type": "markdown",
   "metadata": {},
   "source": [
    "# 1. Pre-processing"
   ]
  },
  {
   "cell_type": "markdown",
   "metadata": {},
   "source": [
    "#### 1.1. Text Pre-processing"
   ]
  },
  {
   "cell_type": "markdown",
   "metadata": {},
   "source": [
    "The dataset is already lowercased and lacks punctuation. We will tokenize the text and remove stopwords, as well as apply lemmatization to the tokens."
   ]
  },
  {
   "cell_type": "code",
   "execution_count": 1,
   "metadata": {
    "collapsed": false
   },
   "outputs": [
    {
     "name": "stderr",
     "output_type": "stream",
     "text": [
      "[nltk_data] Downloading package wordnet to\n",
      "[nltk_data]     C:\\Users\\inesc\\AppData\\Roaming\\nltk_data...\n",
      "[nltk_data]   Package wordnet is already up-to-date!\n",
      "[nltk_data] Downloading package stopwords to\n",
      "[nltk_data]     C:\\Users\\inesc\\AppData\\Roaming\\nltk_data...\n",
      "[nltk_data]   Package stopwords is already up-to-date!\n",
      "[nltk_data] Downloading package punkt to\n",
      "[nltk_data]     C:\\Users\\inesc\\AppData\\Roaming\\nltk_data...\n",
      "[nltk_data]   Package punkt is already up-to-date!\n"
     ]
    },
    {
     "data": {
      "text/html": [
       "<div>\n",
       "<style scoped>\n",
       "    .dataframe tbody tr th:only-of-type {\n",
       "        vertical-align: middle;\n",
       "    }\n",
       "\n",
       "    .dataframe tbody tr th {\n",
       "        vertical-align: top;\n",
       "    }\n",
       "\n",
       "    .dataframe thead th {\n",
       "        text-align: right;\n",
       "    }\n",
       "</style>\n",
       "<table border=\"1\" class=\"dataframe\">\n",
       "  <thead>\n",
       "    <tr style=\"text-align: right;\">\n",
       "      <th></th>\n",
       "      <th>text</th>\n",
       "      <th>label</th>\n",
       "    </tr>\n",
       "  </thead>\n",
       "  <tbody>\n",
       "    <tr>\n",
       "      <th>0</th>\n",
       "      <td>[feel, awful, s, job, position, succeed, just,...</td>\n",
       "      <td>0</td>\n",
       "    </tr>\n",
       "    <tr>\n",
       "      <th>1</th>\n",
       "      <td>[im, alone, feel, awful]</td>\n",
       "      <td>0</td>\n",
       "    </tr>\n",
       "    <tr>\n",
       "      <th>2</th>\n",
       "      <td>[ive, probably, mentioned, but, really, feel, ...</td>\n",
       "      <td>1</td>\n",
       "    </tr>\n",
       "    <tr>\n",
       "      <th>3</th>\n",
       "      <td>[feeling, little, low, day]</td>\n",
       "      <td>0</td>\n",
       "    </tr>\n",
       "    <tr>\n",
       "      <th>4</th>\n",
       "      <td>[beleive, sensitive, people, feeling, tend, co...</td>\n",
       "      <td>2</td>\n",
       "    </tr>\n",
       "  </tbody>\n",
       "</table>\n",
       "</div>"
      ],
      "text/plain": [
       "                                                text  label\n",
       "0  [feel, awful, s, job, position, succeed, just,...      0\n",
       "1                           [im, alone, feel, awful]      0\n",
       "2  [ive, probably, mentioned, but, really, feel, ...      1\n",
       "3                        [feeling, little, low, day]      0\n",
       "4  [beleive, sensitive, people, feeling, tend, co...      2"
      ]
     },
     "execution_count": 1,
     "metadata": {},
     "output_type": "execute_result"
    }
   ],
   "source": [
    "import pandas as pd\n",
    "import matplotlib.pyplot as plt\n",
    "from imblearn.over_sampling import SMOTE\n",
    "\n",
    "import nltk\n",
    "from nltk.corpus import stopwords\n",
    "from nltk.stem import WordNetLemmatizer\n",
    "import gensim\n",
    "nltk.download('wordnet')\n",
    "nltk.download('stopwords')\n",
    "nltk.download('punkt')\n",
    "\n",
    "from sklearn.feature_extraction import text\n",
    "\n",
    "#words to keep: no couldnt cry not cant cannot nor except nobody off but serious enough nothing alone down only without\n",
    "\n",
    "\n",
    "data = pd.read_json('./data/data.jsonl', lines=True)\n",
    "\n",
    "\n",
    "def pre_process_data(dataset):\n",
    "    #tokenize\n",
    "    dataset['text'] = dataset['text'].apply(nltk.word_tokenize)\n",
    "\n",
    "    #remove stop words\n",
    "    my_stop_words = text.ENGLISH_STOP_WORDS\n",
    "    #print(my_stop_words)\n",
    "    words_to_keep = frozenset(['no', 'couldnt', 'cry', 'not', 'cant', 'cannot', 'nor', 'except', 'nobody', 'off', 'but', 'serious', 'enough', 'nothing', 'alone', 'down', 'only', 'without','hereby'])\n",
    "    my_stop_words = my_stop_words - words_to_keep\n",
    "    \n",
    "    dataset['text'] = dataset['text'].apply(lambda x: [word for word in x if word not in my_stop_words])\n",
    "\n",
    "    #lemmatize\n",
    "    lemmatizer = WordNetLemmatizer()\n",
    "    dataset['text'] = dataset['text'].apply(lambda x: [lemmatizer.lemmatize(word) for word in x])\n",
    "    \n",
    "    return dataset\n",
    "\n",
    "data = pre_process_data(data)\n",
    "data.head()"
   ]
  },
  {
   "cell_type": "code",
   "execution_count": 2,
   "metadata": {
    "ExecuteTime": {
     "end_time": "2024-03-12T21:09:31.882317900Z",
     "start_time": "2024-03-12T21:09:28.844193200Z"
    },
    "collapsed": false
   },
   "outputs": [
    {
     "name": "stdout",
     "output_type": "stream",
     "text": [
      "['just', 'feel', 'extremely', 'comfortable', 'group', 'people', 'dont', 'need', 'hide']\n",
      "0        [im, feeling, rotten, im, not, ambitious, right]\n",
      "1                      [im, updating, blog, feel, shitty]\n",
      "2       [make, separate, don, t, want, feel, like, m, ...\n",
      "3       [left, bouquet, red, yellow, tulip, arm, feeli...\n",
      "4                            [feeling, little, vain, did]\n",
      "                              ...                        \n",
      "1995    [just, feeling, like, unkind, doing, wrong, th...\n",
      "1996    [im, feeling, little, cranky, negative, doctor...\n",
      "1997    [feel, useful, people, give, great, feeling, a...\n",
      "1998    [im, feeling, comfortable, derby, feel, start,...\n",
      "1999    [feel, weird, meet, w, people, text, but, like...\n",
      "Name: text, Length: 2000, dtype: object\n"
     ]
    }
   ],
   "source": [
    "test_data = pd.read_json('./data/test.jsonl', lines=True)\n",
    "train_data = pd.read_json('./data/train.jsonl', lines=True)\n",
    "validation_data = pd.read_json('./data/validation.jsonl', lines=True)\n",
    "\n",
    "test_data = pre_process_data(test_data)\n",
    "train_data = pre_process_data(train_data)\n",
    "validation_data = pre_process_data(validation_data)\n",
    "print(test_data['text'][13])\n",
    "\n",
    "print(test_data[\"text\"])"
   ]
  },
  {
   "cell_type": "markdown",
   "metadata": {
    "collapsed": false
   },
   "source": [
    "# 2. Vectorization\n",
    "(secção possívelmente temporária, mas queria experimentar as cenas de tf_idf depois do pré-processamento) -- matos\n",
    "não acho que convenha ser temporaria, dado que efetivamente melhora os resultados ihihihi, e é uma prática comum e recomendada pelo que estivemos a ver -- ines\n"
   ]
  },
  {
   "cell_type": "markdown",
   "metadata": {},
   "source": [
    "### TF-IDF"
   ]
  },
  {
   "cell_type": "markdown",
   "metadata": {},
   "source": [
    "#### Hypertunning for tf-idf"
   ]
  },
  {
   "cell_type": "code",
   "execution_count": 3,
   "metadata": {
    "ExecuteTime": {
     "end_time": "2024-03-12T21:02:46.201324100Z",
     "start_time": "2024-03-12T21:02:32.893616Z"
    },
    "collapsed": false
   },
   "outputs": [],
   "source": [
    "from sklearn.feature_extraction.text import TfidfVectorizer\n",
    "\n",
    "\n",
    "\n",
    "\n",
    "def tfidfVectorizer(data, train_data, validation_data, test_data):\n",
    "    vectorizer = TfidfVectorizer(stop_words=list(my_stop_words), ngram_range=(1,2), max_features=40000)\n",
    "    # good idea to use two-grams??\n",
    "    # print(X.shape)\n",
    "\n",
    "    x_train = vectorizer.fit_transform(train_data['text'].apply(lambda x: ' '.join(x)))\n",
    "\n",
    "    x_val = vectorizer.transform(validation_data['text'].apply(lambda x: ' '.join(x)))\n",
    "    x_test = vectorizer.transform(test_data['text'].apply(lambda x: ' '.join(x)))\n",
    "\n",
    "    y_train = train_data['label']\n",
    "    y_val = validation_data['label']\n",
    "    y_test = test_data['label']\n",
    "    \n",
    "    # print(vectorizer.get_feature_names_out())\n",
    "\n",
    "    return x_train, x_val, x_test, y_train, y_val, y_test\n",
    "\n"
   ]
  },
  {
   "cell_type": "markdown",
   "metadata": {},
   "source": [
    "### BOW model\n",
    "Count vectorizer which is an implementation of the BOW model.\n",
    "\n",
    "The disadvantage of the BOW model is it does not consider the sequence of words, and as language does involve sequence and context, sometimes the BOW model might not be a good fit for the best-case scenario."
   ]
  },
  {
   "cell_type": "code",
   "execution_count": 4,
   "metadata": {},
   "outputs": [],
   "source": [
    "from sklearn.feature_extraction.text import CountVectorizer\n",
    "\n",
    "def countVectorizer(data, train_data, validation_data, test_data):\n",
    "    # Initialize CountVectorizer\n",
    "    vectorizer = CountVectorizer(stop_words=my_stop_words, ngram_range=(1,2), max_features=40000)\n",
    "\n",
    "    x_train= vectorizer.fit_transform(train_data['text'].apply(lambda x: ' '.join(x)))\n",
    "\n",
    "    x_val = vectorizer.transform(validation_data['text'].apply(lambda x: ' '.join(x)))\n",
    "    x_test = vectorizer.transform(test_data['text'].apply(lambda x: ' '.join(x)))\n",
    "\n",
    "    y_train = train_data['label']\n",
    "    y_val = validation_data['label']\n",
    "    y_test = test_data['label']\n",
    "\n",
    "    return x_train, x_val, x_test, y_train, y_val, y_test\n",
    "\n"
   ]
  },
  {
   "cell_type": "markdown",
   "metadata": {},
   "source": [
    "### Doc 2 Vec"
   ]
  },
  {
   "cell_type": "markdown",
   "metadata": {},
   "source": [
    "### Hypertunning doc2vec"
   ]
  },
  {
   "cell_type": "code",
   "execution_count": 5,
   "metadata": {},
   "outputs": [],
   "source": [
    "# import optuna\n",
    "# from gensim.models import Doc2Vec\n",
    "# from gensim.models.doc2vec import TaggedDocument\n",
    "# from sklearn.metrics import accuracy_score\n",
    "# from sklearn.linear_model import LogisticRegression\n",
    "# from sklearn.model_selection import train_test_split\n",
    "# import numpy as np\n",
    "\n",
    "# y_train = train_data['label']\n",
    "# y_val = validation_data['label']\n",
    "\n",
    "# def objective(trial):\n",
    "#     vector_size = trial.suggest_int(\"vector_size\", 50, 300)\n",
    "#     window = trial.suggest_int(\"window\", 3, 15)\n",
    "#     min_count = trial.suggest_int(\"min_count\", 1, 10)\n",
    "#     epochs = trial.suggest_int(\"epochs\", 10, 50)\n",
    "    \n",
    "#     # Train Doc2Vec model\n",
    "#     tagged_data = [TaggedDocument(words=doc, tags=[str(label)]) for doc, label in zip(train_data['text'], train_data['label'])]\n",
    "#     doc2vec_model = Doc2Vec(vector_size=vector_size, window=window, min_count=min_count, epochs=epochs)\n",
    "#     doc2vec_model.build_vocab(tagged_data)\n",
    "#     doc2vec_model.train(tagged_data, total_examples=doc2vec_model.corpus_count, epochs=doc2vec_model.epochs)\n",
    "    \n",
    "#     # Prepare document vectors for training and test sets\n",
    "#     X_train_vecs  = [doc2vec_model.infer_vector(doc) for doc in train_data['text']]\n",
    "#     X_val_vecs = [doc2vec_model.infer_vector(doc) for doc in validation_data['text']]\n",
    "    \n",
    "#     # Train Logistic Regression classifier\n",
    "#     classifier = LogisticRegression(max_iter=1000)\n",
    "#     classifier.fit(X_train_vecs, y_train)\n",
    "    \n",
    "#     # Evaluate on test set\n",
    "#     y_pred = classifier.predict(X_val_vecs)\n",
    "#     accuracy = accuracy_score(y_val, y_pred)\n",
    "    \n",
    "#     return accuracy\n",
    "\n",
    "# # Define the study object and optimize the objective function\n",
    "# study = optuna.create_study(direction=\"maximize\")\n",
    "# study.optimize(objective, n_trials=100)\n",
    "\n",
    "# # Print the best hyperparameters found\n",
    "# best_params = study.best_params\n",
    "# print(\"Best hyperparameters:\", best_params)\n",
    "\n",
    "# # Train the final model with the best hyperparameters\n",
    "# best_vector_size = best_params[\"vector_size\"]\n",
    "# best_window = best_params[\"window\"]\n",
    "# best_min_count = best_params[\"min_count\"]\n",
    "# best_epochs = best_params[\"epochs\"]\n",
    "\n",
    "# # Train Doc2Vec model with best hyperparameters\n",
    "# tagged_data = [TaggedDocument(words=doc.split(), tags=[i]) for i, doc in enumerate(train_data[\"text\"])]\n",
    "# best_doc2vec_model = Doc2Vec(vector_size=best_vector_size, window=best_window, min_count=best_min_count, epochs=best_epochs)\n",
    "# best_doc2vec_model.build_vocab(tagged_data)\n",
    "# best_doc2vec_model.train(tagged_data, total_examples=best_doc2vec_model.corpus_count, epochs=best_doc2vec_model.epochs)\n",
    "\n",
    "# # Prepare document vectors for training and test sets with the best Doc2Vec model\n",
    "# X_train_vecs  = [best_doc2vec_model.infer_vector(doc) for doc in train_data['text']]\n",
    "# X_val_vecs = [best_doc2vec_model.infer_vector(doc) for doc in validation_data['text']]\n",
    "\n",
    "# # Train Logistic Regression classifier on the final Doc2Vec vectors\n",
    "# final_classifier = LogisticRegression(max_iter=1000)\n",
    "# final_classifier.fit(X_train_vecs, y_train)\n",
    "\n",
    "# # Evaluate on test set\n",
    "# final_accuracy = final_classifier.score(X_val_vecs, y_val)\n",
    "# print(\"Final accuracy on test set with the best model:\", final_accuracy)\n"
   ]
  },
  {
   "cell_type": "code",
   "execution_count": 6,
   "metadata": {},
   "outputs": [],
   "source": [
    "from gensim.models.doc2vec import Doc2Vec, TaggedDocument\n",
    "from sklearn import utils\n",
    "\n",
    "def train_doc2vec(train_data):\n",
    "    max_epochs = 16\n",
    "    vec_size = 88\n",
    "    alpha = 0.025\n",
    "    window = 4\n",
    "    min_count = 7\n",
    "\n",
    "    tagged_data = [TaggedDocument(words=doc, tags=[str(label)]) for doc, label in zip(train_data['text'], train_data['label'])]\n",
    "\n",
    "    # antes tinha workers definidos\n",
    "    model = Doc2Vec(vector_size=vec_size, window=window, min_count=min_count, epochs=max_epochs)\n",
    "    \n",
    "    model.build_vocab(tagged_data)\n",
    "\n",
    "\n",
    "    model.train(tagged_data, total_examples=model.corpus_count, epochs=50)\n",
    "\n",
    "    model.save(\"d2v_best_stopwords.model\")\n",
    "    print(\"Model Saved\")\n",
    "\n",
    "    return model\n",
    "\n",
    "#train_doc2vec(train_data)"
   ]
  },
  {
   "cell_type": "code",
   "execution_count": 7,
   "metadata": {
    "ExecuteTime": {
     "end_time": "2024-03-30T23:56:31.788595Z",
     "start_time": "2024-03-30T23:56:31.783431Z"
    }
   },
   "outputs": [],
   "source": [
    "from gensim.models.doc2vec import Doc2Vec, TaggedDocument\n",
    "from sklearn import utils\n",
    "from gensim.models.doc2vec import Doc2Vec\n",
    "from sklearn.decomposition import PCA\n",
    "\n",
    "def doc2vec(data, train_data, validation_data, test_data):\n",
    "\n",
    "    # training the doc2vec model\n",
    "    #model = train_doc2vec(train_data)\n",
    "    model = Doc2Vec.load(\"d2v_best_stopwords.model\")\n",
    "    \n",
    "    x_train = [model.infer_vector(doc) for doc in train_data['text']]\n",
    "    x_val = [model.infer_vector(doc) for doc in validation_data['text']]\n",
    "    x_test = [model.infer_vector(doc) for doc in test_data['text']]\n",
    "\n",
    "    y_train = train_data['label']\n",
    "    y_val = validation_data['label']\n",
    "    y_test = test_data['label']\n",
    "\n",
    "    return x_train, x_val, x_test, y_train, y_val, y_test"
   ]
  },
  {
   "cell_type": "markdown",
   "metadata": {},
   "source": [
    "### Word embeddings using pre-trained models from twitter"
   ]
  },
  {
   "cell_type": "code",
   "execution_count": 8,
   "metadata": {},
   "outputs": [],
   "source": [
    "# from gensim.models import Word2Vec\n",
    "# import numpy as np\n",
    "# import gensim.downloader as api\n",
    "\n",
    "\n",
    "# def text_to_vector(embeddings, text, sequence_len):\n",
    "    \n",
    "#     # split text into tokens\n",
    "#     tokens = text.split()\n",
    "    \n",
    "#     # convert tokens to embedding vectors, up to sequence_len tokens\n",
    "#     vec = []\n",
    "#     n = 0\n",
    "#     i = 0\n",
    "#     while i < len(tokens) and n < sequence_len:   # while there are tokens and did not reach desired sequence length\n",
    "#         try:\n",
    "#             vec.extend(embeddings.get_vector(tokens[i]))\n",
    "#             n += 1\n",
    "#         except KeyError:\n",
    "#             True   # simply ignore out-of-vocabulary tokens\n",
    "#         finally:\n",
    "#             i += 1\n",
    "    \n",
    "#     # add blanks up to sequence_len, if needed\n",
    "#     for j in range(sequence_len - n):\n",
    "#         vec.extend(np.zeros(embeddings.vector_size,))\n",
    "    \n",
    "#     return vec\n",
    "\n",
    "# def text_to_mean_vector(embeddings, text):\n",
    "#      # split text into tokens\n",
    "#     tokens = text.split()\n",
    "\n",
    "#     # convert tokens to embedding vectors, up to sequence_len tokens\n",
    "#     total_vector = []\n",
    "#     i = 0\n",
    "#     while i < len(tokens):   # while there are tokens and did not reach desired sequence length\n",
    "#         try:\n",
    "#             total_vector.append(embeddings.get_vector(tokens[i]))\n",
    "#         except KeyError:\n",
    "#             True   # simply ignore out-of-vocabulary tokens\n",
    "#         finally:\n",
    "#             i += 1\n",
    "\n",
    "#     return np.mean(total_vector, axis=0)\n",
    "\n",
    "# def documents_to_vectors(embeddings, documents, sequence_len):\n",
    "#     vectors = []\n",
    "#     for doc in documents:\n",
    "#         vectors.append(text_to_vector(embeddings, doc, sequence_len))\n",
    "#     return np.array(vectors)\n",
    "\n",
    "\n",
    "# def documents_to_mean_vectors(embeddings, documents):\n",
    "#     vectors = []\n",
    "#     for doc in documents:\n",
    "#         vectors.append(text_to_mean_vector(embeddings, doc))\n",
    "#     return np.array(vectors)\n",
    "\n",
    "# def wordEmbeddingsVectorizer(data):\n",
    "    \n",
    "#     # use twitter word embeddings\n",
    "#     model_glove_twitter = api.load(\"glove-twitter-25\")\n",
    "    \n",
    "#     # Initialize Word2Vec\n",
    "    \n",
    "#     train = train_data['text'].apply(lambda x: ' '.join(x))\n",
    "#     val = validation_data['text'].apply(lambda x: ' '.join(x))\n",
    "#     test = test_data['text'].apply(lambda x: ' '.join(x))\n",
    "    \n",
    "#     x_train = documents_to_vectors(model_glove_twitter, train, 40)\n",
    "#     x_val = documents_to_vectors(model_glove_twitter, val, 40)\n",
    "#     x_test = documents_to_vectors(model_glove_twitter, test, 40)\n",
    "    \n",
    "#     print(x_train.shape, x_val.shape, x_test.shape)\n",
    "#     print(x_train[0])\n",
    "    \n",
    "#     y_train = train_data['label']\n",
    "#     y_val = validation_data['label']\n",
    "#     y_test = test_data['label']\n",
    "\n",
    "#     return x_train, x_val, x_test, y_train, y_val, y_test\n",
    "\n",
    "\n",
    "# def wordEmbeddingsMeanVectorizer(data):\n",
    "\n",
    "#     # use twitter word embeddings\n",
    "#     model_glove_twitter = api.load(\"glove-twitter-25\")\n",
    "\n",
    "#     # Initialize Word2Vec\n",
    "\n",
    "#     train = train_data['text'].apply(lambda x: ' '.join(x))\n",
    "#     val = validation_data['text'].apply(lambda x: ' '.join(x))\n",
    "#     test = test_data['text'].apply(lambda x: ' '.join(x))\n",
    "\n",
    "#     x_train = documents_to_mean_vectors(model_glove_twitter, train)\n",
    "#     x_val = documents_to_mean_vectors(model_glove_twitter, val)\n",
    "#     x_test = documents_to_mean_vectors(model_glove_twitter, test)\n",
    "\n",
    "#     # x_train = np.mean(x_train, axis=1)\n",
    "#     # x_val = np.mean(x_val, axis=1)\n",
    "#     # x_test = np.mean(x_test, axis=1)\n",
    "#     #\n",
    "#     print(x_train.shape, x_val.shape, x_test.shape)\n",
    "#     print(x_train[0])\n",
    "\n",
    "#     y_train = train_data['label']\n",
    "#     y_val = validation_data['label']\n",
    "#     y_test = test_data['label']\n",
    "\n",
    "#     return x_train, x_val, x_test, y_train, y_val, y_test\n"
   ]
  },
  {
   "cell_type": "markdown",
   "metadata": {},
   "source": [
    "### Word2Vec - Word embeddings using gensim model "
   ]
  },
  {
   "cell_type": "markdown",
   "metadata": {},
   "source": [
    "### Hypertunne the word 2 vec model"
   ]
  },
  {
   "cell_type": "code",
   "execution_count": 9,
   "metadata": {},
   "outputs": [],
   "source": [
    "# from gensim.models import Word2Vec\n",
    "# import numpy as np\n",
    "# import optuna\n",
    "# from sklearn.metrics import f1_score\n",
    "# from sklearn.svm import SVC\n",
    "\n",
    "# # Calculate mean for each dimension\n",
    "# def calculate_mean_vectors(model, data):\n",
    "#     vectors = []\n",
    "#     for doc in data['text']:\n",
    "#         document = []\n",
    "#         for word in doc:\n",
    "#             if word in model.wv:\n",
    "#                 document.append(model.wv[word])\n",
    "#         if document:\n",
    "#             vectors.append(np.mean(document, axis=0))\n",
    "#         else:\n",
    "#             vectors.append(np.zeros(model.vector_size))\n",
    "#     return np.array(vectors)\n",
    "\n",
    "# def word_embeddings_vectorizer(train_data, validation_data, test_data, vector_size, window, min_count, sg):\n",
    "#     data_model = Word2Vec(train_data[\"text\"], vector_size=vector_size, window=window, min_count=min_count, sg=sg)\n",
    "    \n",
    "#     x_train = calculate_mean_vectors(data_model, train_data)\n",
    "#     x_val = calculate_mean_vectors(data_model, validation_data)\n",
    "#     x_test = calculate_mean_vectors(data_model, test_data)\n",
    "\n",
    "#     y_train = train_data['label']\n",
    "#     y_val = validation_data['label']\n",
    "#     y_test = test_data['label']\n",
    "\n",
    "#     return x_train, x_val, x_test, y_train, y_val, y_test\n",
    "\n",
    "\n",
    "# def objective(trial):\n",
    "#     # Define the search space for hyperparameters\n",
    "#     vector_size = trial.suggest_int('vector_size', 50, 300)\n",
    "#     window = trial.suggest_int('window', 2, 10)\n",
    "#     min_count = trial.suggest_int('min_count', 1, 5)\n",
    "#     sg = trial.suggest_categorical('sg', [0, 1])\n",
    "    \n",
    "#     # Call the function with the suggested hyperparameters\n",
    "#     x_train, x_val, x_test, y_train, y_val, y_test = word_embeddings_vectorizer(train_data, validation_data, test_data, vector_size, window, min_count, sg)\n",
    "    \n",
    "#     # Train an SVC classifier\n",
    "#     svc = SVC()\n",
    "#     svc.fit(x_train, y_train)\n",
    "    \n",
    "#     # Predict on the validation set\n",
    "#     y_pred = svc.predict(x_val)\n",
    "    \n",
    "#     # Calculate F1 score\n",
    "#     f1 = f1_score(y_val, y_pred, average='weighted')  # Use weighted average for multiclass classification\n",
    "    \n",
    "#     return f1\n",
    "\n",
    "\n",
    "# # Define your train_data, validation_data, and test_data here\n",
    "# if __name__ == \"__main__\":\n",
    "#     study = optuna.create_study(direction='maximize')  # We want to maximize accuracy\n",
    "#     study.optimize(objective, n_trials=100)  # You can adjust the number of trials as needed\n",
    "\n",
    "#     print('Number of finished trials:', len(study.trials))\n",
    "#     print('Best trial:', study.best_trial.params)\n",
    "#     print('Best f1:', study.best_value)\n"
   ]
  },
  {
   "cell_type": "code",
   "execution_count": 10,
   "metadata": {},
   "outputs": [],
   "source": [
    "from gensim.models import Word2Vec\n",
    "import numpy as np\n",
    "\n",
    "## calcular media a cada dimensão\n",
    "def my_word2vec_model(model, data):\n",
    "    vectors = []\n",
    "    for doc in data['text']:\n",
    "        document = []\n",
    "        for word in doc:\n",
    "            if word in model.wv:\n",
    "                document.append(model.wv[word])\n",
    "        if document:  # Check if the document is not empty\n",
    "            vectors.append(np.mean(document, axis=0))  # Take the mean of word vectors for each document\n",
    "        else:\n",
    "            # If the document is empty, append a zero vector\n",
    "            vectors.append(np.zeros(model.vector_size))\n",
    "    \n",
    "    return np.array(vectors)\n",
    "\n",
    "\n",
    "def wordEmbeddingsVectorizer_Trained(train_data,  validation_data, test_data):\n",
    "\n",
    "    # Hypertunning 1: 'vector_size': 120, 'window': 7, 'min_count': 3, 'sg': 1\n",
    "    data_model = Word2Vec(train_data[\"text\"], vector_size=88, window=10, min_count=2, workers=10, sg=1)\n",
    "    \n",
    "    x_train = my_word2vec_model(data_model, train_data)\n",
    "    x_val = my_word2vec_model(data_model, validation_data)\n",
    "    x_test = my_word2vec_model(data_model, test_data)\n",
    "\n",
    "    y_train = train_data['label']\n",
    "    y_val = validation_data['label']\n",
    "    y_test = test_data['label']\n",
    "\n",
    "    return x_train, x_val, x_test, y_train, y_val, y_test\n",
    "\n"
   ]
  },
  {
   "cell_type": "markdown",
   "metadata": {},
   "source": [
    "### Choosing algorithm"
   ]
  },
  {
   "cell_type": "code",
   "execution_count": 11,
   "metadata": {
    "ExecuteTime": {
     "end_time": "2024-03-30T23:57:13.209485Z",
     "start_time": "2024-03-30T23:56:34.757556Z"
    },
    "collapsed": false
   },
   "outputs": [
    {
     "name": "stdout",
     "output_type": "stream",
     "text": [
      "[[ 0.06455508  0.12937951  0.06183856 ...  0.05099848  0.04999455\n",
      "  -0.31714162]\n",
      " [ 0.00778266  0.10411745  0.08230763 ... -0.00428191  0.08609144\n",
      "  -0.26996222]\n",
      " [ 0.03484407  0.08076315  0.07238917 ...  0.00907401  0.10206132\n",
      "  -0.28551912]\n",
      " ...\n",
      " [ 0.01527372  0.0656736   0.04807798 ...  0.04309424  0.06768772\n",
      "  -0.31340587]\n",
      " [ 0.05658257  0.20816633  0.10311879 ...  0.01251066  0.09198956\n",
      "  -0.32257199]\n",
      " [ 0.02374755  0.1179698   0.06345709 ...  0.02025987  0.05940818\n",
      "  -0.3250635 ]]\n"
     ]
    }
   ],
   "source": [
    "# Choose vectorizer (featurizer)\n",
    "#x_train, x_val, x_test, y_train, y_val, y_test = tfidfVectorizer(data, train_data, validation_data, test_data)\n",
    "#x_train, x_val, x_test, y_train, y_val, y_test = countVectorizer(data, train_data, validation_data, test_data)\n",
    "#x_train, x_val, x_test, y_train, y_val, y_test = wordEmbeddingsMeanVectorizer(data)\n",
    "x_train, x_val, x_test, y_train, y_val, y_test = wordEmbeddingsVectorizer(train_data, validation_data, test_data)\n",
    "#x_train, x_val, x_test, y_train, y_val, y_test = doc2vec(data, train_data, validation_data, test_data)\n",
    "\n",
    "\n",
    "print(x_train)\n"
   ]
  },
  {
   "cell_type": "markdown",
   "metadata": {},
   "source": [
    "### Apply SMOTE"
   ]
  },
  {
   "cell_type": "code",
   "execution_count": 12,
   "metadata": {},
   "outputs": [],
   "source": [
    "## Apply SMOTE\n",
    "import numpy as np\n",
    "from imblearn.over_sampling import SMOTE\n",
    "\n",
    "smote = SMOTE(random_state=4, sampling_strategy='auto', k_neighbors=18)\n",
    "x_train, y_train = smote.fit_resample(x_train, y_train)"
   ]
  },
  {
   "cell_type": "markdown",
   "metadata": {},
   "source": [
    "#### Hypertunning number of features (using PCA) for each model"
   ]
  },
  {
   "cell_type": "code",
   "execution_count": 13,
   "metadata": {},
   "outputs": [],
   "source": [
    "# import optuna\n",
    "# from sklearn.decomposition import PCA\n",
    "# from sklearn.linear_model import LogisticRegression\n",
    "# from sklearn.pipeline import Pipeline\n",
    "# from sklearn.metrics import accuracy_score\n",
    "# from sklearn.svm import SVC\n",
    "# import lightgbm as lgb\n",
    "\n",
    "# def objective(trial):\n",
    "#     # Define parameters to search\n",
    "#     n_components = trial.suggest_int('n_components', 2, 25)\n",
    "    \n",
    "#     # Define the pipeline with PCA and a classifier\n",
    "#     pipeline = Pipeline([\n",
    "#         ('pca', PCA(n_components=n_components)),\n",
    "#         #('clf', SVC())\n",
    "#         ('clf', lgb.LGBMClassifier())\n",
    "#         #('clf', LogisticRegression())\n",
    "#     ])\n",
    "\n",
    "#     # Fit the pipeline\n",
    "#     pipeline.fit(x_train, y_train)\n",
    "    \n",
    "#     # Evaluate on the validation set\n",
    "#     y_pred = pipeline.predict(x_val)\n",
    "#     accuracy = accuracy_score(y_val, y_pred)\n",
    "    \n",
    "#     return accuracy\n",
    "\n",
    "# # Optimize hyperparameters\n",
    "# study = optuna.create_study(direction='maximize')\n",
    "# study.optimize(objective, n_trials=100)\n",
    "\n",
    "# # Get the best parameters found\n",
    "# best_params = study.best_params\n",
    "\n",
    "# # Get the best model\n",
    "# best_n_components = best_params['n_components']\n",
    "# best_model = Pipeline([\n",
    "#     ('pca', PCA(n_components=best_n_components)),\n",
    "#     ('clf', )  \n",
    "# ])\n",
    "# best_model.fit(x_train, y_train)\n",
    "\n",
    "# # Use the best model for prediction\n",
    "# y_pred = best_model.predict(x_test)\n",
    "\n",
    "# # Evaluate the best model\n",
    "# accuracy = accuracy_score(y_test, y_pred)\n",
    "# print(\"Test Accuracy:\", accuracy)\n"
   ]
  },
  {
   "cell_type": "markdown",
   "metadata": {
    "collapsed": false
   },
   "source": [
    "\n",
    "# 3. Model Training"
   ]
  },
  {
   "cell_type": "markdown",
   "metadata": {
    "collapsed": false
   },
   "source": [
    "#### 3.1. Model Selection\n",
    "Aqui também só estava a querer espetar modelos para começar a ver o que dá que ainda não sei que features vão ser usadas:\n",
    "tf-idf, word embeddings, ???, features mais feitas à mão?\n",
    "\n",
    "\n",
    "Isto pelos vistos é uma cena, que não implementei (ainda..)\n",
    "\n",
    "\"The validation set uses a subset of the training data to provide an unbiased evaluation of a model. The validation data set contrasts with training and test sets in that it is an intermediate phase used for choosing the best model and optimizing it. It is in this phase that hyperparameter tuning occurs.\"\n",
    "\n",
    "Wikipedia:\n",
    "The basic process of using a validation data set for model selection (as part of training data set, validation data set, and test data set) is:\n",
    "\n",
    "Since our goal is to find the network having the best performance on new data, the simplest approach to the comparison of different networks is to evaluate the error function using data which is independent of that used for training. Various networks are trained by minimization of an appropriate error function defined with respect to a training data set. The performance of the networks is then compared by evaluating the error function using an independent validation set, and the network having the smallest error with respect to the validation set is selected. This approach is called the hold out method. Since this procedure can itself lead to some overfitting to the validation set, the performance of the selected network should be confirmed by measuring its performance on a third independent set of data called a test set.\n",
    "\n",
    "An application of this process is in early stopping, where the candidate models are successive iterations of the same network, and training stops when the error on the validation set grows, choosing the previous model (the one with minimum error)."
   ]
  },
  {
   "cell_type": "markdown",
   "metadata": {
    "collapsed": false
   },
   "source": [
    "##### 3.1.1. Logistic Regression"
   ]
  },
  {
   "cell_type": "markdown",
   "metadata": {},
   "source": [
    "##### Model hypertunning"
   ]
  },
  {
   "cell_type": "code",
   "execution_count": 14,
   "metadata": {},
   "outputs": [],
   "source": [
    "# import optuna\n",
    "# from sklearn.linear_model import LogisticRegression\n",
    "# from sklearn.metrics import accuracy_score, classification_report, confusion_matrix\n",
    "# from sklearn.model_selection import train_test_split\n",
    "\n",
    "# # Define objective function for Optuna\n",
    "# # Define objective function for Optuna\n",
    "# def objective(trial):\n",
    "#     # Define solver\n",
    "#     solver = trial.suggest_categorical('solver', ['lbfgs', 'liblinear', 'saga'])\n",
    "    \n",
    "#     if solver == 'lbfgs':\n",
    "#         penalty = 'l2'  # LBFGS only supports L2 penalty\n",
    "#     else:\n",
    "#         penalty = trial.suggest_categorical('penalty', ['l1', 'l2'])\n",
    "    \n",
    "#     C = trial.suggest_loguniform('C', 0.01, 10)\n",
    "    \n",
    "#     # Instantiate Logistic Regression classifier with hyperparameters\n",
    "#     logreg_classifier = LogisticRegression(max_iter=1000, solver=solver, penalty=penalty, C=C)\n",
    "    \n",
    "#     # Train classifier\n",
    "#     logreg_classifier.fit(x_train, y_train)\n",
    "    \n",
    "#     # Predict on validation set\n",
    "#     y_pred = logreg_classifier.predict(x_val)\n",
    "    \n",
    "#     # Calculate accuracy score\n",
    "#     accuracy = accuracy_score(y_val, y_pred)\n",
    "    \n",
    "#     return accuracy\n",
    "\n",
    "# # Create Optuna study\n",
    "# study = optuna.create_study(direction='maximize')\n",
    "# study.optimize(objective, n_trials=100)\n",
    "\n",
    "# # Get best hyperparameters\n",
    "# best_params = study.best_params\n",
    "\n",
    "# print(best_params)"
   ]
  },
  {
   "cell_type": "markdown",
   "metadata": {},
   "source": [
    "##### Model Training"
   ]
  },
  {
   "cell_type": "code",
   "execution_count": 15,
   "metadata": {
    "ExecuteTime": {
     "end_time": "2024-03-30T23:57:44.308633Z",
     "start_time": "2024-03-30T23:57:43.289263Z"
    },
    "collapsed": false
   },
   "outputs": [
    {
     "name": "stdout",
     "output_type": "stream",
     "text": [
      "0.208\n",
      "              precision    recall  f1-score   support\n",
      "\n",
      "           0       0.39      0.20      0.27       550\n",
      "           1       0.49      0.16      0.24       704\n",
      "           2       0.13      0.40      0.20       178\n",
      "           3       0.21      0.18      0.19       275\n",
      "           4       0.17      0.30      0.22       212\n",
      "           5       0.03      0.11      0.04        81\n",
      "\n",
      "    accuracy                           0.21      2000\n",
      "   macro avg       0.24      0.23      0.19      2000\n",
      "weighted avg       0.34      0.21      0.23      2000\n",
      "\n",
      "[[111  50 124  62 116  87]\n",
      " [ 83 112 231  66  92 120]\n",
      " [ 15  24  72  20  21  26]\n",
      " [ 38  16  64  49  59  49]\n",
      " [ 23  15  37  30  63  44]\n",
      " [ 13  11  17   9  22   9]]\n"
     ]
    }
   ],
   "source": [
    "from sklearn.linear_model import LogisticRegression\n",
    "from sklearn.naive_bayes import MultinomialNB\n",
    "from sklearn.metrics import accuracy_score, classification_report, confusion_matrix\n",
    "\n",
    "# pca = PCA(n_components=77)\n",
    "# x_train = pca.fit_transform(x_train)\n",
    "# x_val = pca.transform(x_val)\n",
    "# x_test = pca.transform(x_test)\n",
    "\n",
    "logreg_classifier = LogisticRegression(solver='liblinear', penalty='l2', C=0.03784347512520397)\n",
    "logreg_classifier.fit(x_train, y_train)\n",
    "y_pred = logreg_classifier.predict(x_val)\n",
    "print(accuracy_score(y_val, y_pred))\n",
    "print(classification_report(y_val, y_pred))\n",
    "print(confusion_matrix(y_val, y_pred))"
   ]
  },
  {
   "cell_type": "markdown",
   "metadata": {
    "collapsed": false
   },
   "source": [
    "## SVM\n"
   ]
  },
  {
   "cell_type": "markdown",
   "metadata": {},
   "source": [
    "##### Hypertunning"
   ]
  },
  {
   "cell_type": "code",
   "execution_count": 16,
   "metadata": {},
   "outputs": [],
   "source": [
    "# import optuna\n",
    "# from sklearn.svm import SVC\n",
    "# from sklearn.metrics import accuracy_score\n",
    "# from sklearn.model_selection import train_test_split\n",
    "\n",
    "# # Define objective function for Optuna\n",
    "# def objective(trial):\n",
    "#     # Define kernel\n",
    "#     kernel = trial.suggest_categorical('kernel', ['linear', 'poly', 'rbf', 'sigmoid'])\n",
    "    \n",
    "#     # For 'poly', 'rbf', and 'sigmoid' kernels, suggest degree parameter\n",
    "#     if kernel in ['poly', 'rbf', 'sigmoid']:\n",
    "#         degree = trial.suggest_int('degree', 2, 5)\n",
    "#     else:\n",
    "#         degree = 3  # Default degree value for kernels that don't use it\n",
    "    \n",
    "#     # Instantiate SVM classifier with hyperparameters\n",
    "#     svm_classifier = SVC(kernel=kernel, degree=degree)\n",
    "    \n",
    "#     # Train classifier\n",
    "#     svm_classifier.fit(x_train, y_train)\n",
    "    \n",
    "#     # Predict on validation set\n",
    "#     y_pred = svm_classifier.predict(x_val)\n",
    "    \n",
    "#     # Calculate accuracy score\n",
    "#     accuracy = accuracy_score(y_val, y_pred)\n",
    "    \n",
    "#     return accuracy\n",
    "\n",
    "# # Create Optuna study\n",
    "# study = optuna.create_study(direction='maximize')\n",
    "# study.optimize(objective, n_trials=100)\n",
    "\n",
    "# # Get best hyperparameters\n",
    "# best_params = study.best_params\n",
    "\n",
    "# print(best_params)\n",
    "\n",
    "# #[I 2024-04-01 12:39:28,014] Trial 36 finished with value: 0.8245 and parameters: {'kernel': 'poly', 'degree': 2}. Best is trial 36 with value: 0.8245.\n"
   ]
  },
  {
   "cell_type": "markdown",
   "metadata": {},
   "source": [
    "### Training"
   ]
  },
  {
   "cell_type": "code",
   "execution_count": 17,
   "metadata": {
    "collapsed": false
   },
   "outputs": [
    {
     "name": "stdout",
     "output_type": "stream",
     "text": [
      "Accuracy: 0.2615\n",
      "Classification Report:\n",
      "               precision    recall  f1-score   support\n",
      "\n",
      "           0       0.47      0.21      0.29       550\n",
      "           1       0.57      0.27      0.37       704\n",
      "           2       0.15      0.41      0.22       178\n",
      "           3       0.21      0.27      0.24       275\n",
      "           4       0.22      0.24      0.23       212\n",
      "           5       0.05      0.22      0.08        81\n",
      "\n",
      "    accuracy                           0.26      2000\n",
      "   macro avg       0.28      0.27      0.24      2000\n",
      "weighted avg       0.40      0.26      0.29      2000\n",
      "\n",
      "Confusion Matrix:\n",
      " [[114  59 105 106  77  89]\n",
      " [ 52 193 212  91  41 115]\n",
      " [ 11  32  73  23  11  28]\n",
      " [ 35  21  54  74  39  52]\n",
      " [ 25  16  34  45  51  41]\n",
      " [  5  17  13  13  15  18]]\n"
     ]
    }
   ],
   "source": [
    "from sklearn.svm import SVC\n",
    "from sklearn.metrics import accuracy_score, classification_report, confusion_matrix\n",
    "\n",
    "svm_classifier = SVC(kernel='poly', degree=2, random_state=42)\n",
    "svm_classifier.fit(x_train, y_train)\n",
    "y_pred = svm_classifier.predict(x_val)\n",
    "\n",
    "# Evaluate the performance\n",
    "accuracy = accuracy_score(y_val, y_pred)\n",
    "report = classification_report(y_val, y_pred)\n",
    "conf_matrix = confusion_matrix(y_val, y_pred)\n",
    "\n",
    "# Print the evaluation metrics\n",
    "print(\"Accuracy:\", accuracy)\n",
    "print(\"Classification Report:\\n\", report)\n",
    "print(\"Confusion Matrix:\\n\", conf_matrix)"
   ]
  },
  {
   "cell_type": "markdown",
   "metadata": {
    "collapsed": false
   },
   "source": [
    "## KNN"
   ]
  },
  {
   "cell_type": "markdown",
   "metadata": {},
   "source": [
    "##### Hypertunning"
   ]
  },
  {
   "cell_type": "code",
   "execution_count": 18,
   "metadata": {},
   "outputs": [],
   "source": [
    "# import optuna\n",
    "# from sklearn.neighbors import KNeighborsClassifier\n",
    "# from sklearn.metrics import accuracy_score, classification_report, confusion_matrix\n",
    "# from sklearn.model_selection import train_test_split\n",
    "\n",
    "# # Define objective function for Optuna\n",
    "# def objective(trial):\n",
    "#     # Define hyperparameters to optimize\n",
    "#     n_neighbors = trial.suggest_int('n_neighbors', 1, 10)\n",
    "#     weights = trial.suggest_categorical('weights', ['uniform', 'distance'])\n",
    "#     algorithm = trial.suggest_categorical('algorithm', ['auto', 'ball_tree', 'kd_tree', 'brute'])\n",
    "    \n",
    "#     # Instantiate KNN classifier with hyperparameters\n",
    "#     knn_classifier = KNeighborsClassifier(n_neighbors=n_neighbors, weights=weights, algorithm=algorithm)\n",
    "    \n",
    "#     # Train classifier\n",
    "#     knn_classifier.fit(x_train, y_train)\n",
    "    \n",
    "#     # Predict on validation set\n",
    "#     y_pred = knn_classifier.predict(x_val)\n",
    "    \n",
    "#     # Calculate accuracy score\n",
    "#     accuracy = accuracy_score(y_val, y_pred)\n",
    "    \n",
    "#     return accuracy\n",
    "\n",
    "# # Create Optuna study\n",
    "# study = optuna.create_study(direction='maximize')\n",
    "# study.optimize(objective, n_trials=100)\n",
    "\n",
    "# # Get best hyperparameters\n",
    "# best_params = study.best_params\n",
    "\n",
    "# print(best_params)\n",
    "\n",
    "# # [I 2024-04-01 13:53:46,403] Trial 26 finished with value: 0.701 and parameters: {'n_neighbors': 10, 'weights': 'uniform', 'algorithm': 'auto'}. Best is trial 26 with value: 0.701."
   ]
  },
  {
   "cell_type": "code",
   "execution_count": 19,
   "metadata": {
    "ExecuteTime": {
     "end_time": "2024-03-30T23:58:47.991134Z",
     "start_time": "2024-03-30T23:58:45.992029Z"
    },
    "collapsed": false
   },
   "outputs": [
    {
     "name": "stdout",
     "output_type": "stream",
     "text": [
      "Accuracy: 0.226\n",
      "Classification Report:\n",
      "               precision    recall  f1-score   support\n",
      "\n",
      "           0       0.38      0.23      0.29       550\n",
      "           1       0.53      0.16      0.25       704\n",
      "           2       0.14      0.30      0.19       178\n",
      "           3       0.19      0.28      0.22       275\n",
      "           4       0.19      0.31      0.23       212\n",
      "           5       0.05      0.19      0.08        81\n",
      "\n",
      "    accuracy                           0.23      2000\n",
      "   macro avg       0.25      0.24      0.21      2000\n",
      "weighted avg       0.35      0.23      0.24      2000\n",
      "\n",
      "Confusion Matrix:\n",
      " [[128  31  74 134 105  78]\n",
      " [104 114 154 115  92 125]\n",
      " [ 16  26  53  23  28  32]\n",
      " [ 51  21  41  77  45  40]\n",
      " [ 26  14  35  43  65  29]\n",
      " [ 11   9  16  19  11  15]]\n"
     ]
    }
   ],
   "source": [
    "from sklearn.neighbors import KNeighborsClassifier\n",
    "\n",
    "#knn_classifier = KNeighborsClassifier(n_neighbors=5)\n",
    "hyperparameters = {'n_neighbors': 10, 'weights': 'uniform', 'algorithm': 'auto'}\n",
    "knn_classifier = KNeighborsClassifier(**hyperparameters)\n",
    "knn_classifier.fit(x_train, y_train)\n",
    "y_pred = knn_classifier.predict(x_val)\n",
    "\n",
    "# Evaluate the performance\n",
    "accuracy = accuracy_score(y_val, y_pred)\n",
    "report = classification_report(y_val, y_pred)\n",
    "conf_matrix = confusion_matrix(y_val, y_pred)\n",
    "\n",
    "# Print the evaluation metrics\n",
    "print(\"Accuracy:\", accuracy)\n",
    "print(\"Classification Report:\\n\", report)\n",
    "print(\"Confusion Matrix:\\n\", conf_matrix)"
   ]
  },
  {
   "cell_type": "markdown",
   "metadata": {
    "collapsed": false
   },
   "source": [
    "### Boosting Algorithms\n",
    "\n",
    "Testing with some boosting algorithms"
   ]
  },
  {
   "cell_type": "markdown",
   "metadata": {
    "collapsed": false
   },
   "source": [
    "##### XGBOOST"
   ]
  },
  {
   "cell_type": "code",
   "execution_count": 20,
   "metadata": {
    "collapsed": false
   },
   "outputs": [
    {
     "name": "stdout",
     "output_type": "stream",
     "text": [
      "XGBoost Classifier Evaluation:\n",
      "Accuracy: 0.3625\n",
      "Classification Report:\n",
      "               precision    recall  f1-score   support\n",
      "\n",
      "           0       0.40      0.37      0.38       550\n",
      "           1       0.56      0.47      0.51       704\n",
      "           2       0.21      0.24      0.22       178\n",
      "           3       0.26      0.31      0.28       275\n",
      "           4       0.20      0.25      0.22       212\n",
      "           5       0.11      0.16      0.13        81\n",
      "\n",
      "    accuracy                           0.36      2000\n",
      "   macro avg       0.29      0.30      0.29      2000\n",
      "weighted avg       0.39      0.36      0.37      2000\n",
      "\n",
      "Confusion Matrix:\n",
      " [[203  92  45 100  80  30]\n",
      " [130 329  74  71  60  40]\n",
      " [ 27  61  43  20  16  11]\n",
      " [ 70  46  24  85  35  15]\n",
      " [ 55  40  14  37  52  14]\n",
      " [ 21  19   5  11  12  13]]\n"
     ]
    }
   ],
   "source": [
    "import xgboost as xgb\n",
    "# XGBoost Classifier\n",
    "xgb_classifier = xgb.XGBClassifier()\n",
    "xgb_classifier.fit(x_train, y_train)\n",
    "y_pred_xgb = xgb_classifier.predict(x_val)\n",
    "\n",
    "# Evaluate the performance for XGBoost\n",
    "accuracy_xgb = accuracy_score(y_val, y_pred_xgb)\n",
    "report_xgb = classification_report(y_val, y_pred_xgb)\n",
    "conf_matrix_xgb = confusion_matrix(y_val, y_pred_xgb)\n",
    "\n",
    "# Print the evaluation metrics for XGBoost\n",
    "print(\"XGBoost Classifier Evaluation:\")\n",
    "print(\"Accuracy:\", accuracy_xgb)\n",
    "print(\"Classification Report:\\n\", report_xgb)\n",
    "print(\"Confusion Matrix:\\n\", conf_matrix_xgb)"
   ]
  },
  {
   "cell_type": "markdown",
   "metadata": {
    "collapsed": false
   },
   "source": [
    "##### Lightgbm"
   ]
  },
  {
   "cell_type": "code",
   "execution_count": 21,
   "metadata": {
    "collapsed": false
   },
   "outputs": [
    {
     "name": "stdout",
     "output_type": "stream",
     "text": [
      "[LightGBM] [Info] Auto-choosing col-wise multi-threading, the overhead of testing was 0.023252 seconds.\n",
      "You can set `force_col_wise=true` to remove the overhead.\n",
      "[LightGBM] [Info] Total Bins 30600\n",
      "[LightGBM] [Info] Number of data points in the train set: 32172, number of used features: 120\n",
      "[LightGBM] [Info] Start training from score -1.791759\n",
      "[LightGBM] [Info] Start training from score -1.791759\n",
      "[LightGBM] [Info] Start training from score -1.791759\n",
      "[LightGBM] [Info] Start training from score -1.791759\n",
      "[LightGBM] [Info] Start training from score -1.791759\n",
      "[LightGBM] [Info] Start training from score -1.791759\n",
      "\n",
      "LightGBM Classifier Evaluation:\n",
      "Accuracy: 0.3585\n",
      "Classification Report:\n",
      "               precision    recall  f1-score   support\n",
      "\n",
      "           0       0.48      0.37      0.42       550\n",
      "           1       0.58      0.45      0.51       704\n",
      "           2       0.19      0.28      0.23       178\n",
      "           3       0.24      0.29      0.26       275\n",
      "           4       0.18      0.25      0.21       212\n",
      "           5       0.10      0.19      0.13        81\n",
      "\n",
      "    accuracy                           0.36      2000\n",
      "   macro avg       0.30      0.30      0.29      2000\n",
      "weighted avg       0.41      0.36      0.38      2000\n",
      "\n",
      "Confusion Matrix:\n",
      " [[202  87  56  92  78  35]\n",
      " [ 90 318  95  84  66  51]\n",
      " [ 17  53  50  22  24  12]\n",
      " [ 59  36  30  79  52  19]\n",
      " [ 41  34  22  41  53  21]\n",
      " [ 12  19   9  10  16  15]]\n"
     ]
    }
   ],
   "source": [
    "import lightgbm as lgb\n",
    "\n",
    "lgb_classifier = lgb.LGBMClassifier()\n",
    "lgb_classifier.fit(x_train, y_train)\n",
    "y_pred_lgb = lgb_classifier.predict(x_val)\n",
    "\n",
    "# Evaluate the performance for LightGBM\n",
    "accuracy_lgb = accuracy_score(y_val, y_pred_lgb)\n",
    "report_lgb = classification_report(y_val, y_pred_lgb)\n",
    "conf_matrix_lgb = confusion_matrix(y_val, y_pred_lgb)\n",
    "\n",
    "# Print the evaluation metrics for LightGBM\n",
    "print(\"\\nLightGBM Classifier Evaluation:\")\n",
    "print(\"Accuracy:\", accuracy_lgb)\n",
    "print(\"Classification Report:\\n\", report_lgb)\n",
    "print(\"Confusion Matrix:\\n\", conf_matrix_lgb)"
   ]
  },
  {
   "cell_type": "code",
   "execution_count": 22,
   "metadata": {
    "collapsed": false
   },
   "outputs": [
    {
     "name": "stdout",
     "output_type": "stream",
     "text": [
      "AdaBoost Classifier Evaluation:\n",
      "Accuracy: 0.2235\n",
      "Classification Report:\n",
      "               precision    recall  f1-score   support\n",
      "\n",
      "           0       0.33      0.17      0.22       550\n",
      "           1       0.54      0.24      0.33       704\n",
      "           2       0.14      0.30      0.19       178\n",
      "           3       0.17      0.17      0.17       275\n",
      "           4       0.16      0.27      0.20       212\n",
      "           5       0.07      0.33      0.11        81\n",
      "\n",
      "    accuracy                           0.22      2000\n",
      "   macro avg       0.23      0.25      0.21      2000\n",
      "weighted avg       0.33      0.22      0.24      2000\n",
      "\n",
      "Confusion Matrix:\n",
      " [[ 94  55  75  93 114 119]\n",
      " [ 92 168 159  75  91 119]\n",
      " [ 19  38  53  21  23  24]\n",
      " [ 45  23  50  48  54  55]\n",
      " [ 31  20  23  35  57  46]\n",
      " [  8  10  11   9  16  27]]\n"
     ]
    }
   ],
   "source": [
    "from sklearn.ensemble import AdaBoostClassifier\n",
    "\n",
    "# AdaBoost Classifier\n",
    "adaboost_classifier = AdaBoostClassifier()\n",
    "adaboost_classifier.fit(x_train, y_train)\n",
    "y_pred_adaboost = adaboost_classifier.predict(x_val)\n",
    "\n",
    "# Evaluate the performance for AdaBoost\n",
    "accuracy_adaboost = accuracy_score(y_val, y_pred_adaboost)\n",
    "report_adaboost = classification_report(y_val, y_pred_adaboost)\n",
    "conf_matrix_adaboost = confusion_matrix(y_val, y_pred_adaboost)\n",
    "\n",
    "# Print the evaluation metrics for AdaBoost\n",
    "print(\"AdaBoost Classifier Evaluation:\")\n",
    "print(\"Accuracy:\", accuracy_adaboost)\n",
    "print(\"Classification Report:\\n\", report_adaboost)\n",
    "print(\"Confusion Matrix:\\n\", conf_matrix_adaboost)\n"
   ]
  },
  {
   "cell_type": "markdown",
   "metadata": {
    "collapsed": false
   },
   "source": [
    "###  Bagging Algorithm"
   ]
  },
  {
   "cell_type": "code",
   "execution_count": 23,
   "metadata": {
    "collapsed": false
   },
   "outputs": [],
   "source": [
    "# from sklearn.ensemble import BaggingClassifier, VotingClassifier\n",
    "\n",
    "# model1 = xgb_classifier\n",
    "# model2 = svm_classifier\n",
    "# model3 = logreg_classifier\n",
    "\n",
    "# voting_clf = VotingClassifier(estimators=[\n",
    "#     ('model1', model1), \n",
    "#     ('model2', model2),\n",
    "#     ('model3', model3)\n",
    "# ], voting='soft')\n",
    "# # Fit the ensemble model\n",
    "# voting_clf.fit(x_train, y_train)\n",
    "\n",
    "# # Predict the validation set\n",
    "# y_pred_voting = voting_clf.predict(x_val)\n",
    "\n",
    "# # Evaluate the performance for the ensemble model\n",
    "# accuracy_voting = accuracy_score(y_val, y_pred_voting)\n",
    "# report_voting = classification_report(y_val, y_pred_voting)\n",
    "# conf_matrix_voting = confusion_matrix(y_val, y_pred_voting)\n",
    "\n",
    "# # Print the evaluation metrics for the ensemble model\n",
    "# print(\"Voting Classifier Evaluation:\")\n",
    "# print(\"Accuracy:\", accuracy_voting)\n",
    "# print(\"Classification Report:\\n\", report_voting)\n",
    "# print(\"Confusion Matrix:\\n\", conf_matrix_voting)\n"
   ]
  },
  {
   "cell_type": "markdown",
   "metadata": {
    "collapsed": false
   },
   "source": [
    "# 5. Model Evaluation"
   ]
  },
  {
   "cell_type": "code",
   "execution_count": 24,
   "metadata": {
    "ExecuteTime": {
     "end_time": "2024-03-31T00:04:17.155945Z",
     "start_time": "2024-03-31T00:04:17.139641Z"
    },
    "collapsed": false
   },
   "outputs": [
    {
     "name": "stdout",
     "output_type": "stream",
     "text": [
      "0.2115\n",
      "              precision    recall  f1-score   support\n",
      "\n",
      "           0       0.36      0.18      0.24       581\n",
      "           1       0.50      0.16      0.25       695\n",
      "           2       0.14      0.49      0.21       159\n",
      "           3       0.19      0.16      0.17       275\n",
      "           4       0.20      0.33      0.25       224\n",
      "           5       0.03      0.14      0.05        66\n",
      "\n",
      "    accuracy                           0.21      2000\n",
      "   macro avg       0.24      0.24      0.20      2000\n",
      "weighted avg       0.34      0.21      0.23      2000\n",
      "\n",
      "[[105  56 133  78 119  90]\n",
      " [ 69 113 247  66  80 120]\n",
      " [ 17  11  78  19  17  17]\n",
      " [ 46  23  57  44  62  43]\n",
      " [ 43  17  35  18  74  37]\n",
      " [ 10   7  20   5  15   9]]\n"
     ]
    }
   ],
   "source": [
    "# evaluate with test set\n",
    "y_pred = logreg_classifier.predict(x_test)\n",
    "print(accuracy_score(y_test, y_pred))\n",
    "print(classification_report(y_test, y_pred))\n",
    "print(confusion_matrix(y_test, y_pred))\n",
    "\n",
    "y_pred_logreg = logreg_classifier.predict(x_test)"
   ]
  },
  {
   "cell_type": "code",
   "execution_count": 25,
   "metadata": {
    "ExecuteTime": {
     "end_time": "2024-03-30T23:59:23.243407Z",
     "start_time": "2024-03-30T23:59:23.209807Z"
    },
    "collapsed": false
   },
   "outputs": [],
   "source": [
    "# y_pred = mnb_classifier.predict(x_test)\n",
    "# print(accuracy_score(y_test, y_pred))\n",
    "# print(classification_report(y_test, y_pred))\n",
    "# print(confusion_matrix(y_test, y_pred))"
   ]
  },
  {
   "cell_type": "code",
   "execution_count": 26,
   "metadata": {
    "ExecuteTime": {
     "end_time": "2024-03-30T23:59:27.095314Z",
     "start_time": "2024-03-30T23:59:27.071996Z"
    },
    "collapsed": false
   },
   "outputs": [
    {
     "name": "stdout",
     "output_type": "stream",
     "text": [
      "0.268\n",
      "              precision    recall  f1-score   support\n",
      "\n",
      "           0       0.44      0.19      0.26       581\n",
      "           1       0.59      0.29      0.39       695\n",
      "           2       0.16      0.47      0.24       159\n",
      "           3       0.22      0.27      0.24       275\n",
      "           4       0.24      0.25      0.24       224\n",
      "           5       0.05      0.26      0.08        66\n",
      "\n",
      "    accuracy                           0.27      2000\n",
      "   macro avg       0.28      0.29      0.24      2000\n",
      "weighted avg       0.40      0.27      0.30      2000\n",
      "\n",
      "[[109  63 116 116  74 103]\n",
      " [ 57 205 184  79  34 136]\n",
      " [ 11  15  75  28   8  22]\n",
      " [ 33  29  53  75  43  42]\n",
      " [ 29  28  32  34  55  46]\n",
      " [  6   9  13   9  12  17]]\n"
     ]
    }
   ],
   "source": [
    "y_pred = svm_classifier.predict(x_test)\n",
    "print(accuracy_score(y_test, y_pred))\n",
    "print(classification_report(y_test, y_pred))\n",
    "print(confusion_matrix(y_test, y_pred))\n"
   ]
  },
  {
   "cell_type": "code",
   "execution_count": 27,
   "metadata": {
    "collapsed": false
   },
   "outputs": [
    {
     "name": "stdout",
     "output_type": "stream",
     "text": [
      "0.353\n",
      "              precision    recall  f1-score   support\n",
      "\n",
      "           0       0.41      0.35      0.38       581\n",
      "           1       0.53      0.47      0.50       695\n",
      "           2       0.17      0.23      0.19       159\n",
      "           3       0.24      0.25      0.25       275\n",
      "           4       0.23      0.24      0.23       224\n",
      "           5       0.10      0.20      0.14        66\n",
      "\n",
      "    accuracy                           0.35      2000\n",
      "   macro avg       0.28      0.29      0.28      2000\n",
      "weighted avg       0.38      0.35      0.36      2000\n",
      "\n",
      "[[203 129  49  96  59  45]\n",
      " [114 329  91  70  53  38]\n",
      " [ 27  54  37  19  16   6]\n",
      " [ 79  47  21  70  48  10]\n",
      " [ 59  47  20  30  54  14]\n",
      " [ 16  16   4   7  10  13]]\n"
     ]
    }
   ],
   "source": [
    "y_pred = xgb_classifier.predict(x_test)\n",
    "print(accuracy_score(y_test, y_pred))\n",
    "print(classification_report(y_test, y_pred))\n",
    "print(confusion_matrix(y_test, y_pred))\n"
   ]
  },
  {
   "cell_type": "code",
   "execution_count": 28,
   "metadata": {
    "collapsed": false
   },
   "outputs": [
    {
     "name": "stdout",
     "output_type": "stream",
     "text": [
      "0.335\n",
      "              precision    recall  f1-score   support\n",
      "\n",
      "           0       0.40      0.29      0.34       581\n",
      "           1       0.53      0.42      0.47       695\n",
      "           2       0.18      0.31      0.23       159\n",
      "           3       0.24      0.28      0.25       275\n",
      "           4       0.26      0.30      0.28       224\n",
      "           5       0.09      0.23      0.13        66\n",
      "\n",
      "    accuracy                           0.34      2000\n",
      "   macro avg       0.28      0.30      0.28      2000\n",
      "weighted avg       0.38      0.34      0.35      2000\n",
      "\n",
      "[[171 112  68 106  78  46]\n",
      " [107 291 105  83  48  61]\n",
      " [ 28  40  49  18  13  11]\n",
      " [ 61  45  29  76  47  17]\n",
      " [ 52  42  14  27  68  21]\n",
      " [  5  14   9  12  11  15]]\n"
     ]
    }
   ],
   "source": [
    "y_pred = lgb_classifier.predict(x_test)\n",
    "print(accuracy_score(y_test, y_pred))\n",
    "print(classification_report(y_test, y_pred))\n",
    "print(confusion_matrix(y_test, y_pred))"
   ]
  },
  {
   "cell_type": "code",
   "execution_count": 29,
   "metadata": {
    "collapsed": false
   },
   "outputs": [
    {
     "name": "stdout",
     "output_type": "stream",
     "text": [
      "0.225\n",
      "              precision    recall  f1-score   support\n",
      "\n",
      "           0       0.35      0.16      0.22       581\n",
      "           1       0.52      0.24      0.33       695\n",
      "           2       0.13      0.32      0.19       159\n",
      "           3       0.20      0.20      0.20       275\n",
      "           4       0.19      0.29      0.23       224\n",
      "           5       0.04      0.24      0.07        66\n",
      "\n",
      "    accuracy                           0.23      2000\n",
      "   macro avg       0.24      0.24      0.21      2000\n",
      "weighted avg       0.34      0.23      0.25      2000\n",
      "\n",
      "[[ 95  67  87  95 125 112]\n",
      " [ 85 166 169  68  63 144]\n",
      " [ 16  26  51  19  20  27]\n",
      " [ 39  36  44  56  58  42]\n",
      " [ 28  18  26  30  66  56]\n",
      " [  6   6  14   8  16  16]]\n"
     ]
    }
   ],
   "source": [
    "y_pred = adaboost_classifier.predict(x_test)\n",
    "print(accuracy_score(y_test, y_pred))\n",
    "print(classification_report(y_test, y_pred))\n",
    "print(confusion_matrix(y_test, y_pred))"
   ]
  },
  {
   "cell_type": "code",
   "execution_count": 30,
   "metadata": {
    "ExecuteTime": {
     "end_time": "2024-03-30T23:59:55.572789Z",
     "start_time": "2024-03-30T23:59:53.922972Z"
    },
    "collapsed": false
   },
   "outputs": [
    {
     "name": "stdout",
     "output_type": "stream",
     "text": [
      "0.2145\n",
      "              precision    recall  f1-score   support\n",
      "\n",
      "           0       0.37      0.23      0.28       581\n",
      "           1       0.53      0.15      0.23       695\n",
      "           2       0.11      0.26      0.16       159\n",
      "           3       0.19      0.26      0.22       275\n",
      "           4       0.17      0.29      0.21       224\n",
      "           5       0.05      0.24      0.08        66\n",
      "\n",
      "    accuracy                           0.21      2000\n",
      "   macro avg       0.24      0.24      0.20      2000\n",
      "weighted avg       0.35      0.21      0.23      2000\n",
      "\n",
      "[[132  48  86 115 117  83]\n",
      " [114 102 140  97 115 127]\n",
      " [ 19  16  41  36  25  22]\n",
      " [ 46  10  48  72  57  42]\n",
      " [ 32  13  37  40  66  36]\n",
      " [ 10   3  10  15  12  16]]\n"
     ]
    }
   ],
   "source": [
    "y_pred = knn_classifier.predict(x_test)\n",
    "print(accuracy_score(y_test, y_pred))\n",
    "print(classification_report(y_test, y_pred))\n",
    "print(confusion_matrix(y_test, y_pred))"
   ]
  },
  {
   "cell_type": "markdown",
   "metadata": {
    "collapsed": false
   },
   "source": [
    "# 6. Cause of errors\n"
   ]
  },
  {
   "cell_type": "code",
   "execution_count": 31,
   "metadata": {
    "ExecuteTime": {
     "end_time": "2024-03-31T00:09:10.004261Z",
     "start_time": "2024-03-31T00:09:09.997932Z"
    },
    "collapsed": false
   },
   "outputs": [
    {
     "name": "stdout",
     "output_type": "stream",
     "text": [
      "['im', 'feeling', 'rotten', 'im', 'not', 'ambitious', 'right']\n",
      "Real:  sadness\n",
      "Pred: fear\n",
      "\n",
      "\n",
      "['make', 'separate', 'don', 't', 'want', 'feel', 'like', 'm', 'ashamed']\n",
      "Real:  sadness\n",
      "Pred: anger\n",
      "\n",
      "\n",
      "['left', 'bouquet', 'red', 'yellow', 'tulip', 'arm', 'feeling', 'slightly', 'optimistic', 'arrived']\n",
      "Real:  joy\n",
      "Pred: surprise\n",
      "\n",
      "\n",
      "['feeling', 'little', 'vain', 'did']\n",
      "Real:  sadness\n",
      "Pred: fear\n",
      "\n",
      "\n",
      "['felt', 'anger', 'end', 'telephone']\n",
      "Real:  anger\n",
      "Pred: surprise\n",
      "\n",
      "\n",
      "['explain', 'clung', 'relationship', 'boy', 'way', 'immature', 'uncommitted', 'despite', 'excitement', 'feeling', 'getting', 'accepted', 'master', 'program', 'university', 'virginia']\n",
      "Real:  joy\n",
      "Pred: love\n",
      "\n",
      "\n",
      "['like', 'breathless', 'feeling', 'reader', 'eager', 'happen']\n",
      "Real:  joy\n",
      "Pred: love\n",
      "\n",
      "\n",
      "['jest', 'feel', 'grumpy', 'tired', 'pre', 'menstrual', 'probably', 'but', 'only', 'week', 'im', 'fit', 'walrus', 'vacation', 'summer']\n",
      "Real:  anger\n",
      "Pred: surprise\n",
      "\n",
      "\n",
      "['don', 't', 'feel', 'particularly', 'agitated']\n",
      "Real:  fear\n",
      "Pred: anger\n",
      "\n",
      "\n",
      "['feel', 'beautifully', 'emotional', 'knowing', 'woman', 'knew', 'just', 'handful', 'holding', 'baba', 'journey']\n",
      "Real:  sadness\n",
      "Pred: love\n",
      "\n",
      "\n"
     ]
    }
   ],
   "source": [
    "emotions_to_int = {\n",
    "    'sadness': 0,\n",
    "    'joy': 1,\n",
    "    'love': 2,\n",
    "    'anger': 3,\n",
    "    'fear': 4,\n",
    "    'surprise': 5\n",
    "}\n",
    "\n",
    "int_to_emotions = {v: k for k, v in emotions_to_int.items()}\n",
    "\n",
    "\n",
    "wrong_predictions = y_test[y_test != y_pred_logreg].index\n",
    "for i, index in enumerate(wrong_predictions):\n",
    "    if i == 10:\n",
    "        break\n",
    "    print(test_data['text'][index])\n",
    "    print('Real: ', int_to_emotions[test_data['label'][index]])\n",
    "    print('Pred:', int_to_emotions[y_pred_logreg[index]])\n",
    "    print('\\n')\n",
    "\n"
   ]
  },
  {
   "cell_type": "code",
   "execution_count": 32,
   "metadata": {
    "ExecuteTime": {
     "end_time": "2024-03-31T00:31:02.008118Z",
     "start_time": "2024-03-31T00:31:01.993186Z"
    },
    "collapsed": false
   },
   "outputs": [
    {
     "name": "stdout",
     "output_type": "stream",
     "text": [
      "[[105  56 133  78 119  90]\n",
      " [ 69 113 247  66  80 120]\n",
      " [ 17  11  78  19  17  17]\n",
      " [ 46  23  57  44  62  43]\n",
      " [ 43  17  35  18  74  37]\n",
      " [ 10   7  20   5  15   9]]\n",
      "              precision    recall  f1-score   support\n",
      "\n",
      "           0       0.36      0.18      0.24       581\n",
      "           1       0.50      0.16      0.25       695\n",
      "           2       0.14      0.49      0.21       159\n",
      "           3       0.19      0.16      0.17       275\n",
      "           4       0.20      0.33      0.25       224\n",
      "           5       0.03      0.14      0.05        66\n",
      "\n",
      "    accuracy                           0.21      2000\n",
      "   macro avg       0.24      0.24      0.20      2000\n",
      "weighted avg       0.34      0.21      0.23      2000\n",
      "\n"
     ]
    }
   ],
   "source": [
    "print(confusion_matrix(y_test, y_pred_logreg))\n",
    "print(classification_report(y_test, y_pred_logreg))"
   ]
  },
  {
   "cell_type": "code",
   "execution_count": 33,
   "metadata": {
    "ExecuteTime": {
     "end_time": "2024-03-31T00:28:51.102411Z",
     "start_time": "2024-03-31T00:28:50.943776Z"
    },
    "collapsed": false
   },
   "outputs": [
    {
     "data": {
      "image/png": "[encoded data removed]",
      "text/plain": [
       "<Figure size 640x480 with 1 Axes>"
      ]
     },
     "metadata": {},
     "output_type": "display_data"
    }
   ],
   "source": [
    "# check which emotions are being confused\n",
    "conf_matrix = confusion_matrix(y_test, y_pred_logreg)\n",
    "conf_matrix_copy = conf_matrix.copy()\n",
    "for i in range(conf_matrix.shape[0]):\n",
    "    conf_matrix[i, i] = 0 # make the diagonal null, to not eclipse the other values\n",
    "    \n",
    "plt.imshow(conf_matrix, cmap='viridis', interpolation='nearest')\n",
    "# annotate the axes with the emotion names\n",
    "plt.xticks(range(6), int_to_emotions.values(), rotation=45)\n",
    "plt.yticks(range(6), int_to_emotions.values())\n",
    "# add colorbar more to the right\n",
    "# plt.colorbar()\n",
    "# legend the axes with predicted and true values\n",
    "plt.xlabel('Predicted')\n",
    "plt.ylabel('True')\n",
    "\n",
    "# add counts in the plot\n",
    "for i in range(conf_matrix.shape[0]):\n",
    "    for j in range(conf_matrix.shape[1]):\n",
    "        if i == j:\n",
    "            plt.text(j, i, conf_matrix_copy[i, j], ha='center', va='center', color='white')\n",
    "        else:\n",
    "            plt.text(j, i, conf_matrix[i, j], ha='center', va='center', color='black')\n",
    "\n",
    "for i in range(conf_matrix.shape[0]): # this does not count correct predictions\n",
    "    plt.text(6, i, conf_matrix[i, :].sum(), ha='center', va='center', color='black')\n",
    "for i in range(conf_matrix.shape[1]):\n",
    "    plt.text(i, 7, conf_matrix[:, i].sum(), ha='center', va='center', color='black')\n",
    "plt.show()"
   ]
  },
  {
   "cell_type": "markdown",
   "metadata": {
    "collapsed": false
   },
   "source": [
    "The test set appears to be unbalance.\n",
    "- 'joy' is a lot more mixed with 'love' than the contrary. \n",
    "- 'surprise' has a low Precision"
   ]
  },
  {
   "cell_type": "code",
   "execution_count": 34,
   "metadata": {
    "ExecuteTime": {
     "end_time": "2024-03-31T00:45:22.096653Z",
     "start_time": "2024-03-31T00:45:21.865171Z"
    },
    "collapsed": false
   },
   "outputs": [
    {
     "data": {
      "image/png": "[encoded data removed]",
      "text/plain": [
       "<Figure size 640x480 with 2 Axes>"
      ]
     },
     "metadata": {},
     "output_type": "display_data"
    }
   ],
   "source": [
    "conf_matrix = confusion_matrix(y_test, y_pred_logreg)\n",
    "conf_matrix = conf_matrix / conf_matrix.sum(axis=1)[:, None] # normalize the confusion matrix\n",
    "conf_matrix_copy = conf_matrix.copy()\n",
    "for i in range(conf_matrix.shape[0]):\n",
    "    conf_matrix[i, i] = 0 # make the diagonal null, to not eclipse the other values\n",
    "plt.imshow(conf_matrix, cmap='viridis', interpolation='nearest')\n",
    "\n",
    "plt.xticks(range(6), int_to_emotions.values(), rotation=45)\n",
    "plt.yticks(range(6), int_to_emotions.values())\n",
    "plt.colorbar()\n",
    "plt.xlabel('Predicted')\n",
    "plt.ylabel('True')\n",
    "\n",
    "# add counts in the plot\n",
    "for i in range(conf_matrix.shape[0]):\n",
    "    for j in range(conf_matrix.shape[1]):\n",
    "        if i == j:\n",
    "            plt.text(j, i, f'{conf_matrix_copy[i, j]:.2f}', ha='center', va='center', color='white')\n",
    "        else:\n",
    "            plt.text(j, i, f'{conf_matrix[i, j]:.2f}', ha='center', va='center', color='black')\n",
    "\n",
    "        \n",
    "plt.title('Percentage of predictions (row sum=1)')\n",
    "# Rows add to 1\n",
    "plt.show()\n",
    "\n"
   ]
  },
  {
   "cell_type": "markdown",
   "metadata": {
    "collapsed": false
   },
   "source": [
    "- sadness mixed with joy and anger\n",
    "- joy mixed with love\n",
    "- love mixed with joy\n",
    "- anger mixed with sadness and joy??\n",
    "- fear mixed with sadness\n",
    "- surprise mixed with almost everything"
   ]
  },
  {
   "cell_type": "markdown",
   "metadata": {},
   "source": [
    "# 7. Experiment with user-inputed setences"
   ]
  },
  {
   "cell_type": "code",
   "execution_count": 35,
   "metadata": {},
   "outputs": [],
   "source": [
    "import nltk\n",
    "from nltk.corpus import stopwords\n",
    "from nltk.stem import WordNetLemmatizer\n",
    "from sklearn.feature_extraction import text\n",
    "\n",
    "emotions = {\n",
    "    0: \"0. sadness\",\n",
    "    1: \"1. joy\",\n",
    "    2: \"2. love\",\n",
    "    3: \"3. anger\",\n",
    "    4: \"4. fear\",\n",
    "    5: \"5. surprise\"\n",
    "}\n",
    "\n",
    "def preprocess_text(phrase):\n",
    "    # Tokenize\n",
    "    tokens = nltk.word_tokenize(phrase.lower())\n",
    "\n",
    "    # Remove stop words\n",
    "    my_stop_words = set(stopwords.words('english'))\n",
    "    words_to_keep = frozenset(['no', 'couldnt', 'cry', 'not', 'cant', 'cannot', 'nor', 'except', 'nobody', 'off', 'but', 'serious', 'enough', 'nothing', 'alone', 'down', 'only', 'without','hereby'])\n",
    "    my_stop_words -= words_to_keep\n",
    "    tokens = [word for word in tokens if word not in my_stop_words]\n",
    "\n",
    "    # Lemmatize\n",
    "    lemmatizer = WordNetLemmatizer()\n",
    "    tokens = [lemmatizer.lemmatize(word) for word in tokens]\n",
    "    \n",
    "    return tokens\n",
    "\n",
    "def doc2vec_text(tokens):\n",
    "    model = Doc2Vec.load(\"d2v_best_stopwords.model\")\n",
    "    return model.infer_vector(tokens)\n",
    "\n",
    "def classify_emotion(number):\n",
    "    if number==0:\n",
    "        return \"0. sadness\"\n",
    "    if number==1:\n",
    "        return \"1. joy\"\n",
    "    if number==2:\n",
    "        return \"2. love\"\n",
    "    if number==3:\n",
    "        return \"3. anger\"\n",
    "    if number==4:\n",
    "        return \"4. fear\"\n",
    "    if number==5:\n",
    "        return \"5. surprise\"\n",
    "\n",
    "    return \"Not possible to identify\"\n",
    "\n",
    "\n",
    "def analyze_sentiment(phrase):\n",
    "    tokens = preprocess_text(phrase)\n",
    "    tokens_embeddings = doc2vec_text(tokens)\n",
    "\n",
    "    # Reshape to have proper structure\n",
    "    tokens_embeddings = np.array(tokens_embeddings).reshape(1, -1)\n",
    "\n",
    "    # Predict the class using the SVM classifier\n",
    "    predicted_class = svm_classifier.predict(tokens_embeddings)\n",
    "    print(classify_emotion(predicted_class[0]))\n"
   ]
  },
  {
   "cell_type": "code",
   "execution_count": 36,
   "metadata": {},
   "outputs": [
    {
     "ename": "ValueError",
     "evalue": "X has 88 features, but SVC is expecting 120 features as input.",
     "output_type": "error",
     "traceback": [
      "\u001b[1;31m---------------------------------------------------------------------------\u001b[0m",
      "\u001b[1;31mValueError\u001b[0m                                Traceback (most recent call last)",
      "Cell \u001b[1;32mIn[36], line 2\u001b[0m\n\u001b[0;32m      1\u001b[0m phrase \u001b[38;5;241m=\u001b[39m \u001b[38;5;124m\"\u001b[39m\u001b[38;5;124mi love love\u001b[39m\u001b[38;5;124m\"\u001b[39m\n\u001b[1;32m----> 2\u001b[0m \u001b[43manalyze_sentiment\u001b[49m\u001b[43m(\u001b[49m\u001b[43mphrase\u001b[49m\u001b[43m)\u001b[49m\n",
      "Cell \u001b[1;32mIn[35], line 60\u001b[0m, in \u001b[0;36manalyze_sentiment\u001b[1;34m(phrase)\u001b[0m\n\u001b[0;32m     57\u001b[0m tokens_embeddings \u001b[38;5;241m=\u001b[39m np\u001b[38;5;241m.\u001b[39marray(tokens_embeddings)\u001b[38;5;241m.\u001b[39mreshape(\u001b[38;5;241m1\u001b[39m, \u001b[38;5;241m-\u001b[39m\u001b[38;5;241m1\u001b[39m)\n\u001b[0;32m     59\u001b[0m \u001b[38;5;66;03m# Predict the class using the SVM classifier\u001b[39;00m\n\u001b[1;32m---> 60\u001b[0m predicted_class \u001b[38;5;241m=\u001b[39m \u001b[43msvm_classifier\u001b[49m\u001b[38;5;241;43m.\u001b[39;49m\u001b[43mpredict\u001b[49m\u001b[43m(\u001b[49m\u001b[43mtokens_embeddings\u001b[49m\u001b[43m)\u001b[49m\n\u001b[0;32m     61\u001b[0m \u001b[38;5;28mprint\u001b[39m(classify_emotion(predicted_class[\u001b[38;5;241m0\u001b[39m]))\n",
      "File \u001b[1;32mc:\\Users\\inesc\\AppData\\Local\\Programs\\Python\\Python310\\lib\\site-packages\\sklearn\\svm\\_base.py:820\u001b[0m, in \u001b[0;36mBaseSVC.predict\u001b[1;34m(self, X)\u001b[0m\n\u001b[0;32m    818\u001b[0m     y \u001b[38;5;241m=\u001b[39m np\u001b[38;5;241m.\u001b[39margmax(\u001b[38;5;28mself\u001b[39m\u001b[38;5;241m.\u001b[39mdecision_function(X), axis\u001b[38;5;241m=\u001b[39m\u001b[38;5;241m1\u001b[39m)\n\u001b[0;32m    819\u001b[0m \u001b[38;5;28;01melse\u001b[39;00m:\n\u001b[1;32m--> 820\u001b[0m     y \u001b[38;5;241m=\u001b[39m \u001b[38;5;28;43msuper\u001b[39;49m\u001b[43m(\u001b[49m\u001b[43m)\u001b[49m\u001b[38;5;241;43m.\u001b[39;49m\u001b[43mpredict\u001b[49m\u001b[43m(\u001b[49m\u001b[43mX\u001b[49m\u001b[43m)\u001b[49m\n\u001b[0;32m    821\u001b[0m \u001b[38;5;28;01mreturn\u001b[39;00m \u001b[38;5;28mself\u001b[39m\u001b[38;5;241m.\u001b[39mclasses_\u001b[38;5;241m.\u001b[39mtake(np\u001b[38;5;241m.\u001b[39masarray(y, dtype\u001b[38;5;241m=\u001b[39mnp\u001b[38;5;241m.\u001b[39mintp))\n",
      "File \u001b[1;32mc:\\Users\\inesc\\AppData\\Local\\Programs\\Python\\Python310\\lib\\site-packages\\sklearn\\svm\\_base.py:433\u001b[0m, in \u001b[0;36mBaseLibSVM.predict\u001b[1;34m(self, X)\u001b[0m\n\u001b[0;32m    417\u001b[0m \u001b[38;5;28;01mdef\u001b[39;00m \u001b[38;5;21mpredict\u001b[39m(\u001b[38;5;28mself\u001b[39m, X):\n\u001b[0;32m    418\u001b[0m     \u001b[38;5;124;03m\"\"\"Perform regression on samples in X.\u001b[39;00m\n\u001b[0;32m    419\u001b[0m \n\u001b[0;32m    420\u001b[0m \u001b[38;5;124;03m    For an one-class model, +1 (inlier) or -1 (outlier) is returned.\u001b[39;00m\n\u001b[1;32m   (...)\u001b[0m\n\u001b[0;32m    431\u001b[0m \u001b[38;5;124;03m        The predicted values.\u001b[39;00m\n\u001b[0;32m    432\u001b[0m \u001b[38;5;124;03m    \"\"\"\u001b[39;00m\n\u001b[1;32m--> 433\u001b[0m     X \u001b[38;5;241m=\u001b[39m \u001b[38;5;28;43mself\u001b[39;49m\u001b[38;5;241;43m.\u001b[39;49m\u001b[43m_validate_for_predict\u001b[49m\u001b[43m(\u001b[49m\u001b[43mX\u001b[49m\u001b[43m)\u001b[49m\n\u001b[0;32m    434\u001b[0m     predict \u001b[38;5;241m=\u001b[39m \u001b[38;5;28mself\u001b[39m\u001b[38;5;241m.\u001b[39m_sparse_predict \u001b[38;5;28;01mif\u001b[39;00m \u001b[38;5;28mself\u001b[39m\u001b[38;5;241m.\u001b[39m_sparse \u001b[38;5;28;01melse\u001b[39;00m \u001b[38;5;28mself\u001b[39m\u001b[38;5;241m.\u001b[39m_dense_predict\n\u001b[0;32m    435\u001b[0m     \u001b[38;5;28;01mreturn\u001b[39;00m predict(X)\n",
      "File \u001b[1;32mc:\\Users\\inesc\\AppData\\Local\\Programs\\Python\\Python310\\lib\\site-packages\\sklearn\\svm\\_base.py:613\u001b[0m, in \u001b[0;36mBaseLibSVM._validate_for_predict\u001b[1;34m(self, X)\u001b[0m\n\u001b[0;32m    610\u001b[0m check_is_fitted(\u001b[38;5;28mself\u001b[39m)\n\u001b[0;32m    612\u001b[0m \u001b[38;5;28;01mif\u001b[39;00m \u001b[38;5;129;01mnot\u001b[39;00m callable(\u001b[38;5;28mself\u001b[39m\u001b[38;5;241m.\u001b[39mkernel):\n\u001b[1;32m--> 613\u001b[0m     X \u001b[38;5;241m=\u001b[39m \u001b[38;5;28;43mself\u001b[39;49m\u001b[38;5;241;43m.\u001b[39;49m\u001b[43m_validate_data\u001b[49m\u001b[43m(\u001b[49m\n\u001b[0;32m    614\u001b[0m \u001b[43m        \u001b[49m\u001b[43mX\u001b[49m\u001b[43m,\u001b[49m\n\u001b[0;32m    615\u001b[0m \u001b[43m        \u001b[49m\u001b[43maccept_sparse\u001b[49m\u001b[38;5;241;43m=\u001b[39;49m\u001b[38;5;124;43m\"\u001b[39;49m\u001b[38;5;124;43mcsr\u001b[39;49m\u001b[38;5;124;43m\"\u001b[39;49m\u001b[43m,\u001b[49m\n\u001b[0;32m    616\u001b[0m \u001b[43m        \u001b[49m\u001b[43mdtype\u001b[49m\u001b[38;5;241;43m=\u001b[39;49m\u001b[43mnp\u001b[49m\u001b[38;5;241;43m.\u001b[39;49m\u001b[43mfloat64\u001b[49m\u001b[43m,\u001b[49m\n\u001b[0;32m    617\u001b[0m \u001b[43m        \u001b[49m\u001b[43morder\u001b[49m\u001b[38;5;241;43m=\u001b[39;49m\u001b[38;5;124;43m\"\u001b[39;49m\u001b[38;5;124;43mC\u001b[39;49m\u001b[38;5;124;43m\"\u001b[39;49m\u001b[43m,\u001b[49m\n\u001b[0;32m    618\u001b[0m \u001b[43m        \u001b[49m\u001b[43maccept_large_sparse\u001b[49m\u001b[38;5;241;43m=\u001b[39;49m\u001b[38;5;28;43;01mFalse\u001b[39;49;00m\u001b[43m,\u001b[49m\n\u001b[0;32m    619\u001b[0m \u001b[43m        \u001b[49m\u001b[43mreset\u001b[49m\u001b[38;5;241;43m=\u001b[39;49m\u001b[38;5;28;43;01mFalse\u001b[39;49;00m\u001b[43m,\u001b[49m\n\u001b[0;32m    620\u001b[0m \u001b[43m    \u001b[49m\u001b[43m)\u001b[49m\n\u001b[0;32m    622\u001b[0m \u001b[38;5;28;01mif\u001b[39;00m \u001b[38;5;28mself\u001b[39m\u001b[38;5;241m.\u001b[39m_sparse \u001b[38;5;129;01mand\u001b[39;00m \u001b[38;5;129;01mnot\u001b[39;00m sp\u001b[38;5;241m.\u001b[39misspmatrix(X):\n\u001b[0;32m    623\u001b[0m     X \u001b[38;5;241m=\u001b[39m sp\u001b[38;5;241m.\u001b[39mcsr_matrix(X)\n",
      "File \u001b[1;32mc:\\Users\\inesc\\AppData\\Local\\Programs\\Python\\Python310\\lib\\site-packages\\sklearn\\base.py:588\u001b[0m, in \u001b[0;36mBaseEstimator._validate_data\u001b[1;34m(self, X, y, reset, validate_separately, **check_params)\u001b[0m\n\u001b[0;32m    585\u001b[0m     out \u001b[38;5;241m=\u001b[39m X, y\n\u001b[0;32m    587\u001b[0m \u001b[38;5;28;01mif\u001b[39;00m \u001b[38;5;129;01mnot\u001b[39;00m no_val_X \u001b[38;5;129;01mand\u001b[39;00m check_params\u001b[38;5;241m.\u001b[39mget(\u001b[38;5;124m\"\u001b[39m\u001b[38;5;124mensure_2d\u001b[39m\u001b[38;5;124m\"\u001b[39m, \u001b[38;5;28;01mTrue\u001b[39;00m):\n\u001b[1;32m--> 588\u001b[0m     \u001b[38;5;28;43mself\u001b[39;49m\u001b[38;5;241;43m.\u001b[39;49m\u001b[43m_check_n_features\u001b[49m\u001b[43m(\u001b[49m\u001b[43mX\u001b[49m\u001b[43m,\u001b[49m\u001b[43m \u001b[49m\u001b[43mreset\u001b[49m\u001b[38;5;241;43m=\u001b[39;49m\u001b[43mreset\u001b[49m\u001b[43m)\u001b[49m\n\u001b[0;32m    590\u001b[0m \u001b[38;5;28;01mreturn\u001b[39;00m out\n",
      "File \u001b[1;32mc:\\Users\\inesc\\AppData\\Local\\Programs\\Python\\Python310\\lib\\site-packages\\sklearn\\base.py:389\u001b[0m, in \u001b[0;36mBaseEstimator._check_n_features\u001b[1;34m(self, X, reset)\u001b[0m\n\u001b[0;32m    386\u001b[0m     \u001b[38;5;28;01mreturn\u001b[39;00m\n\u001b[0;32m    388\u001b[0m \u001b[38;5;28;01mif\u001b[39;00m n_features \u001b[38;5;241m!=\u001b[39m \u001b[38;5;28mself\u001b[39m\u001b[38;5;241m.\u001b[39mn_features_in_:\n\u001b[1;32m--> 389\u001b[0m     \u001b[38;5;28;01mraise\u001b[39;00m \u001b[38;5;167;01mValueError\u001b[39;00m(\n\u001b[0;32m    390\u001b[0m         \u001b[38;5;124mf\u001b[39m\u001b[38;5;124m\"\u001b[39m\u001b[38;5;124mX has \u001b[39m\u001b[38;5;132;01m{\u001b[39;00mn_features\u001b[38;5;132;01m}\u001b[39;00m\u001b[38;5;124m features, but \u001b[39m\u001b[38;5;132;01m{\u001b[39;00m\u001b[38;5;28mself\u001b[39m\u001b[38;5;241m.\u001b[39m\u001b[38;5;18m__class__\u001b[39m\u001b[38;5;241m.\u001b[39m\u001b[38;5;18m__name__\u001b[39m\u001b[38;5;132;01m}\u001b[39;00m\u001b[38;5;124m \u001b[39m\u001b[38;5;124m\"\u001b[39m\n\u001b[0;32m    391\u001b[0m         \u001b[38;5;124mf\u001b[39m\u001b[38;5;124m\"\u001b[39m\u001b[38;5;124mis expecting \u001b[39m\u001b[38;5;132;01m{\u001b[39;00m\u001b[38;5;28mself\u001b[39m\u001b[38;5;241m.\u001b[39mn_features_in_\u001b[38;5;132;01m}\u001b[39;00m\u001b[38;5;124m features as input.\u001b[39m\u001b[38;5;124m\"\u001b[39m\n\u001b[0;32m    392\u001b[0m     )\n",
      "\u001b[1;31mValueError\u001b[0m: X has 88 features, but SVC is expecting 120 features as input."
     ]
    }
   ],
   "source": [
    "phrase = \"i love love\"\n",
    "analyze_sentiment(phrase)"
   ]
  }
 ],
 "metadata": {
  "kernelspec": {
   "display_name": "venv",
   "language": "python",
   "name": "python3"
  },
  "language_info": {
   "codemirror_mode": {
    "name": "ipython",
    "version": 3
   },
   "file_extension": ".py",
   "mimetype": "text/x-python",
   "name": "python",
   "nbconvert_exporter": "python",
   "pygments_lexer": "ipython3",
   "version": "3.10.7"
  }
 },
 "nbformat": 4,
 "nbformat_minor": 2
}
