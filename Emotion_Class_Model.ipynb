{
 "cells": [
  {
   "cell_type": "markdown",
   "metadata": {},
   "source": [
    "# 1. Pre-processing"
   ]
  },
  {
   "cell_type": "markdown",
   "metadata": {},
   "source": [
    "#### 1.1. Text Pre-processing"
   ]
  },
  {
   "cell_type": "markdown",
   "metadata": {},
   "source": [
    "The dataset is already lowercased and lacks punctuation. We will tokenize the text and remove stopwords, as well as apply lemmatization to the tokens."
   ]
  },
  {
   "cell_type": "code",
   "execution_count": 1,
   "metadata": {
    "ExecuteTime": {
     "end_time": "2024-04-03T22:04:57.360922Z",
     "start_time": "2024-04-03T22:03:53.942834Z"
    },
    "collapsed": false
   },
   "outputs": [
    {
     "name": "stderr",
     "output_type": "stream",
     "text": [
      "[nltk_data] Downloading package wordnet to\n",
      "[nltk_data]     C:\\Users\\jcarv\\AppData\\Roaming\\nltk_data...\n",
      "[nltk_data]   Package wordnet is already up-to-date!\n",
      "[nltk_data] Downloading package stopwords to\n",
      "[nltk_data]     C:\\Users\\jcarv\\AppData\\Roaming\\nltk_data...\n",
      "[nltk_data]   Package stopwords is already up-to-date!\n",
      "[nltk_data] Downloading package punkt to\n",
      "[nltk_data]     C:\\Users\\jcarv\\AppData\\Roaming\\nltk_data...\n",
      "[nltk_data]   Package punkt is already up-to-date!\n"
     ]
    },
    {
     "data": {
      "text/html": [
       "<div>\n",
       "<style scoped>\n",
       "    .dataframe tbody tr th:only-of-type {\n",
       "        vertical-align: middle;\n",
       "    }\n",
       "\n",
       "    .dataframe tbody tr th {\n",
       "        vertical-align: top;\n",
       "    }\n",
       "\n",
       "    .dataframe thead th {\n",
       "        text-align: right;\n",
       "    }\n",
       "</style>\n",
       "<table border=\"1\" class=\"dataframe\">\n",
       "  <thead>\n",
       "    <tr style=\"text-align: right;\">\n",
       "      <th></th>\n",
       "      <th>text</th>\n",
       "      <th>label</th>\n",
       "    </tr>\n",
       "  </thead>\n",
       "  <tbody>\n",
       "    <tr>\n",
       "      <th>0</th>\n",
       "      <td>[feel, awful, s, job, position, succeed, just,...</td>\n",
       "      <td>0</td>\n",
       "    </tr>\n",
       "    <tr>\n",
       "      <th>1</th>\n",
       "      <td>[im, alone, feel, awful]</td>\n",
       "      <td>0</td>\n",
       "    </tr>\n",
       "    <tr>\n",
       "      <th>2</th>\n",
       "      <td>[ive, probably, mentioned, but, really, feel, ...</td>\n",
       "      <td>1</td>\n",
       "    </tr>\n",
       "    <tr>\n",
       "      <th>3</th>\n",
       "      <td>[feeling, little, low, day]</td>\n",
       "      <td>0</td>\n",
       "    </tr>\n",
       "    <tr>\n",
       "      <th>4</th>\n",
       "      <td>[beleive, sensitive, people, feeling, tend, co...</td>\n",
       "      <td>2</td>\n",
       "    </tr>\n",
       "  </tbody>\n",
       "</table>\n",
       "</div>"
      ],
      "text/plain": [
       "                                                text  label\n",
       "0  [feel, awful, s, job, position, succeed, just,...      0\n",
       "1                           [im, alone, feel, awful]      0\n",
       "2  [ive, probably, mentioned, but, really, feel, ...      1\n",
       "3                        [feeling, little, low, day]      0\n",
       "4  [beleive, sensitive, people, feeling, tend, co...      2"
      ]
     },
     "execution_count": 1,
     "metadata": {},
     "output_type": "execute_result"
    }
   ],
   "source": [
    "import pandas as pd\n",
    "import matplotlib.pyplot as plt\n",
    "from imblearn.over_sampling import SMOTE\n",
    "\n",
    "import nltk\n",
    "from nltk.corpus import stopwords\n",
    "from nltk.stem import WordNetLemmatizer\n",
    "import gensim\n",
    "nltk.download('wordnet')\n",
    "nltk.download('stopwords')\n",
    "nltk.download('punkt')\n",
    "\n",
    "from sklearn.feature_extraction import text\n",
    "\n",
    "#words to keep: no couldnt cry not cant cannot nor except nobody off but serious enough nothing alone down only without\n",
    "\n",
    "\n",
    "data = pd.read_json('./data/data.jsonl', lines=True)\n",
    "original_data = data.copy() # never lemmatized\n",
    "\n",
    "#remove stop words\n",
    "my_stop_words = text.ENGLISH_STOP_WORDS\n",
    "#print(my_stop_words)\n",
    "words_to_keep = frozenset(['no', 'couldnt', 'cry', 'not', 'cant', 'cannot', 'nor', 'except', 'nobody', 'off', 'but', 'serious', 'enough', 'nothing', 'alone', 'down', 'only', 'without','hereby'])\n",
    "my_stop_words = my_stop_words - words_to_keep\n",
    "\n",
    "def pre_process_data(dataset):\n",
    "    #tokenize\n",
    "    dataset['text'] = dataset['text'].apply(nltk.word_tokenize)\n",
    "    \n",
    "    dataset['text'] = dataset['text'].apply(lambda x: [word for word in x if word not in my_stop_words])\n",
    "\n",
    "    #lemmatize\n",
    "    lemmatizer = WordNetLemmatizer()\n",
    "    dataset['text'] = dataset['text'].apply(lambda x: [lemmatizer.lemmatize(word) for word in x])\n",
    "    \n",
    "    return dataset\n",
    "\n",
    "data = pre_process_data(data)\n",
    "data.head()"
   ]
  },
  {
   "cell_type": "code",
   "execution_count": 29,
   "metadata": {
    "ExecuteTime": {
     "end_time": "2024-04-03T22:17:18.908494Z",
     "start_time": "2024-04-03T22:17:07.154252Z"
    },
    "collapsed": false
   },
   "outputs": [
    {
     "name": "stdout",
     "output_type": "stream",
     "text": [
      "['woke', 'feeling', 'particularly', 'vile', 'tried', 'ignore', 'but', 'got', 'worse', 'worse', 'worse']\n",
      "0       [feel, awful, s, job, position, succeed, just,...\n",
      "1                                [im, alone, feel, awful]\n",
      "2       [ive, probably, mentioned, but, really, feel, ...\n",
      "3                             [feeling, little, low, day]\n",
      "4       [beleive, sensitive, people, feeling, tend, co...\n",
      "                              ...                        \n",
      "5395              [feel, grumpy, haven, t, yoga, ed, day]\n",
      "5396    [read, blog, suburb, direction, mentioned, cas...\n",
      "5397    [not, feel, thing, realize, violent, physical,...\n",
      "5398    [feel, petty, silly, giving, shit, but, little...\n",
      "5399    [remember, feeling, bitter, couldnt, pop, ball...\n",
      "Name: text, Length: 5396, dtype: object\n"
     ]
    }
   ],
   "source": [
    "test_data = pd.read_json('./data/test_final.jsonl', lines=True)\n",
    "train_data = pd.read_json('./data/train_final.jsonl', lines=True)\n",
    "validation_data = pd.read_json('./data/validation_final.jsonl', lines=True)\n",
    "\n",
    "\n",
    "\n",
    "# remove duplicates\n",
    "test_data = test_data.drop_duplicates(subset=['text'])\n",
    "train_data = train_data.drop_duplicates(subset=['text'])\n",
    "validation_data = validation_data.drop_duplicates(subset=['text'])\n",
    "\n",
    "original_test_data = test_data.copy()\n",
    "original_test_data['text'] = original_test_data['text'].apply(nltk.word_tokenize)\n",
    "original_train_data = train_data.copy()\n",
    "original_train_data['text'] = original_train_data['text'].apply(nltk.word_tokenize)\n",
    "original_validation_data = validation_data.copy()\n",
    "original_validation_data['text'] = original_validation_data['text'].apply(nltk.word_tokenize)\n",
    "\n",
    "test_data = pre_process_data(test_data)\n",
    "train_data = pre_process_data(train_data)\n",
    "validation_data = pre_process_data(validation_data)\n",
    "print(test_data['text'][13])\n",
    "\n",
    "print(test_data[\"text\"])"
   ]
  },
  {
   "cell_type": "markdown",
   "metadata": {
    "collapsed": false
   },
   "source": [
    "# 2. Vectorization\n",
    "In this section we will experiment different featurization techniques, using sparse and dense vector techniqques"
   ]
  },
  {
   "cell_type": "markdown",
   "metadata": {},
   "source": [
    "### TF-IDF"
   ]
  },
  {
   "cell_type": "code",
   "execution_count": 3,
   "metadata": {
    "ExecuteTime": {
     "end_time": "2024-04-03T22:05:08.344463Z",
     "start_time": "2024-04-03T22:05:08.338790Z"
    },
    "collapsed": false
   },
   "outputs": [],
   "source": [
    "from sklearn.feature_extraction.text import TfidfVectorizer\n",
    "\n",
    "def tfidfVectorizer(train_data, validation_data, test_data):\n",
    "    vectorizer = TfidfVectorizer(stop_words=list(my_stop_words), ngram_range=(1,2), max_features=40000)\n",
    "    # print(X.shape)\n",
    "\n",
    "    x_train = vectorizer.fit_transform(train_data['text'].apply(lambda x: ' '.join(x)))\n",
    "    x_val = vectorizer.transform(validation_data['text'].apply(lambda x: ' '.join(x)))\n",
    "    x_test = vectorizer.transform(test_data['text'].apply(lambda x: ' '.join(x)))\n",
    "\n",
    "    y_train = train_data['label']\n",
    "    y_val = validation_data['label']\n",
    "    y_test = test_data['label']\n",
    "    \n",
    "    # print(vectorizer.get_feature_names_out())\n",
    "\n",
    "    return x_train, x_val, x_test, y_train, y_val, y_test\n",
    "\n"
   ]
  },
  {
   "cell_type": "markdown",
   "metadata": {},
   "source": [
    "### BOW model\n",
    "Count vectorizer which is an implementation of the BOW model.\n",
    "\n",
    "The disadvantage of the BOW model is it does not consider the sequence of words, and as language does involve sequence and context, sometimes the BOW model might not be a good fit for the best-case scenario."
   ]
  },
  {
   "cell_type": "code",
   "execution_count": 4,
   "metadata": {
    "ExecuteTime": {
     "end_time": "2024-04-03T22:05:08.352647Z",
     "start_time": "2024-04-03T22:05:08.345987Z"
    }
   },
   "outputs": [],
   "source": [
    "from sklearn.feature_extraction.text import CountVectorizer\n",
    "\n",
    "def countVectorizer(train_data, validation_data, test_data):\n",
    "    # Initialize CountVectorizer\n",
    "    vectorizer = CountVectorizer(stop_words=my_stop_words, ngram_range=(1,2), max_features=40000)\n",
    "\n",
    "    x_train= vectorizer.fit_transform(train_data['text'].apply(lambda x: ' '.join(x)))\n",
    "\n",
    "    x_val = vectorizer.transform(validation_data['text'].apply(lambda x: ' '.join(x)))\n",
    "    x_test = vectorizer.transform(test_data['text'].apply(lambda x: ' '.join(x)))\n",
    "\n",
    "    y_train = train_data['label']\n",
    "    y_val = validation_data['label']\n",
    "    y_test = test_data['label']\n",
    "\n",
    "    return x_train, x_val, x_test, y_train, y_val, y_test\n",
    "\n"
   ]
  },
  {
   "cell_type": "markdown",
   "metadata": {},
   "source": [
    "### Doc 2 Vec"
   ]
  },
  {
   "cell_type": "markdown",
   "metadata": {},
   "source": [
    "### Hypertunning doc2vec"
   ]
  },
  {
   "cell_type": "code",
   "execution_count": 5,
   "metadata": {
    "ExecuteTime": {
     "end_time": "2024-04-03T22:05:08.359871Z",
     "start_time": "2024-04-03T22:05:08.353664Z"
    }
   },
   "outputs": [],
   "source": [
    "# import optuna\n",
    "# from gensim.models import Doc2Vec\n",
    "# from gensim.models.doc2vec import TaggedDocument\n",
    "# from sklearn.metrics import accuracy_score\n",
    "# from sklearn.linear_model import LogisticRegression\n",
    "# from sklearn.model_selection import train_test_split\n",
    "# import numpy as np\n",
    "\n",
    "# y_train = train_data['label']\n",
    "# y_val = validation_data['label']\n",
    "\n",
    "# def objective(trial):\n",
    "#     vector_size = trial.suggest_int(\"vector_size\", 50, 300)\n",
    "#     window = trial.suggest_int(\"window\", 3, 15)\n",
    "#     min_count = trial.suggest_int(\"min_count\", 1, 10)\n",
    "#     epochs = trial.suggest_int(\"epochs\", 10, 50)\n",
    "    \n",
    "#     # Train Doc2Vec model\n",
    "#     tagged_data = [TaggedDocument(words=doc, tags=[str(label)]) for doc, label in zip(train_data['text'], train_data['label'])]\n",
    "#     doc2vec_model = Doc2Vec(vector_size=vector_size, window=window, min_count=min_count, epochs=epochs)\n",
    "#     doc2vec_model.build_vocab(tagged_data)\n",
    "#     doc2vec_model.train(tagged_data, total_examples=doc2vec_model.corpus_count, epochs=doc2vec_model.epochs)\n",
    "    \n",
    "#     # Prepare document vectors for training and test sets\n",
    "#     X_train_vecs  = [doc2vec_model.infer_vector(doc) for doc in train_data['text']]\n",
    "#     X_val_vecs = [doc2vec_model.infer_vector(doc) for doc in validation_data['text']]\n",
    "    \n",
    "#     # Train Logistic Regression classifier\n",
    "#     classifier = LogisticRegression(max_iter=1000)\n",
    "#     classifier.fit(X_train_vecs, y_train)\n",
    "    \n",
    "#     # Evaluate on test set\n",
    "#     y_pred = classifier.predict(X_val_vecs)\n",
    "#     accuracy = accuracy_score(y_val, y_pred)\n",
    "    \n",
    "#     return accuracy\n",
    "\n",
    "# study = optuna.create_study(direction=\"maximize\")\n",
    "# study.optimize(objective, n_trials=100)\n",
    "\n",
    "# best_params = study.best_params\n",
    "# print(\"Best hyperparameters:\", best_params)\n"
   ]
  },
  {
   "cell_type": "markdown",
   "metadata": {},
   "source": [
    "#### Training doc2vec "
   ]
  },
  {
   "cell_type": "code",
   "execution_count": 6,
   "metadata": {
    "ExecuteTime": {
     "end_time": "2024-04-03T22:05:08.368013Z",
     "start_time": "2024-04-03T22:05:08.361881Z"
    }
   },
   "outputs": [],
   "source": [
    "from gensim.models.doc2vec import Doc2Vec, TaggedDocument\n",
    "from sklearn import utils\n",
    "\n",
    "def train_doc2vec(train_data):\n",
    "    max_epochs = 16\n",
    "    vec_size = 88\n",
    "    alpha = 0.025\n",
    "    window = 4\n",
    "    min_count = 7\n",
    "\n",
    "    tagged_data = [TaggedDocument(words=doc, tags=[str(label)]) for doc, label in zip(train_data['text'], train_data['label'])]\n",
    "\n",
    "    # antes tinha workers definidos\n",
    "    model = Doc2Vec(vector_size=vec_size, window=window, min_count=min_count, epochs=max_epochs)\n",
    "    \n",
    "    model.build_vocab(tagged_data)\n",
    "\n",
    "\n",
    "    model.train(tagged_data, total_examples=model.corpus_count, epochs=50)\n",
    "\n",
    "    model.save(\"d2v_best_stopwords.model\")\n",
    "    print(\"Model Saved\")\n",
    "\n",
    "    return model\n",
    "\n",
    "#train_doc2vec(train_data)"
   ]
  },
  {
   "cell_type": "markdown",
   "metadata": {},
   "source": [
    "#### Using the trained model"
   ]
  },
  {
   "cell_type": "code",
   "execution_count": 7,
   "metadata": {
    "ExecuteTime": {
     "end_time": "2024-04-03T22:05:08.376158Z",
     "start_time": "2024-04-03T22:05:08.370027Z"
    }
   },
   "outputs": [],
   "source": [
    "from gensim.models.doc2vec import Doc2Vec, TaggedDocument\n",
    "from sklearn import utils\n",
    "from gensim.models.doc2vec import Doc2Vec\n",
    "from sklearn.decomposition import PCA\n",
    "\n",
    "def doc2vec(train_data, validation_data, test_data):\n",
    "\n",
    "    # training the doc2vec model\n",
    "    #model = train_doc2vec(train_data)\n",
    "    model = Doc2Vec.load(\"d2v_best_stopwords.model\")\n",
    "    \n",
    "    x_train = [model.infer_vector(doc) for doc in train_data['text']]\n",
    "    x_val = [model.infer_vector(doc) for doc in validation_data['text']]\n",
    "    x_test = [model.infer_vector(doc) for doc in test_data['text']]\n",
    "\n",
    "    y_train = train_data['label']\n",
    "    y_val = validation_data['label']\n",
    "    y_test = test_data['label']\n",
    "\n",
    "    return x_train, x_val, x_test, y_train, y_val, y_test"
   ]
  },
  {
   "cell_type": "markdown",
   "metadata": {},
   "source": [
    "### Word embeddings using pre-trained models from twitter"
   ]
  },
  {
   "cell_type": "code",
   "execution_count": 8,
   "metadata": {
    "ExecuteTime": {
     "end_time": "2024-04-03T22:05:08.395260Z",
     "start_time": "2024-04-03T22:05:08.377173Z"
    }
   },
   "outputs": [],
   "source": [
    "from gensim.models import Word2Vec\n",
    "import numpy as np\n",
    "import gensim.downloader as api\n",
    "\n",
    "\n",
    "def text_to_vector(embeddings, text, sequence_len):\n",
    "    \n",
    "    # split text into tokens\n",
    "    tokens = text.split()\n",
    "    \n",
    "    # convert tokens to embedding vectors, up to sequence_len tokens\n",
    "    vec = []\n",
    "    n = 0\n",
    "    i = 0\n",
    "    while i < len(tokens) and n < sequence_len:   # while there are tokens and did not reach desired sequence length\n",
    "        try:\n",
    "            vec.extend(embeddings.get_vector(tokens[i]))\n",
    "            n += 1\n",
    "        except KeyError:\n",
    "            True   # simply ignore out-of-vocabulary tokens\n",
    "        finally:\n",
    "            i += 1\n",
    "    \n",
    "    # add blanks up to sequence_len, if needed\n",
    "    for j in range(sequence_len - n):\n",
    "        vec.extend(np.zeros(embeddings.vector_size,))\n",
    "    \n",
    "    return vec\n",
    "\n",
    "def text_to_mean_vector(embeddings, text):\n",
    "     # split text into tokens\n",
    "    tokens = text.split()\n",
    "\n",
    "    # convert tokens to embedding vectors, up to sequence_len tokens\n",
    "    total_vector = []\n",
    "    i = 0\n",
    "    while i < len(tokens):   # while there are tokens and did not reach desired sequence length\n",
    "        try:\n",
    "            total_vector.append(embeddings.get_vector(tokens[i]))\n",
    "        except KeyError:\n",
    "            True   # simply ignore out-of-vocabulary tokens\n",
    "        finally:\n",
    "            i += 1\n",
    "\n",
    "    return np.mean(total_vector, axis=0)\n",
    "\n",
    "def documents_to_vectors(embeddings, documents, sequence_len):\n",
    "    vectors = []\n",
    "    for doc in documents:\n",
    "        vectors.append(text_to_vector(embeddings, doc, sequence_len))\n",
    "    return np.array(vectors)\n",
    "\n",
    "\n",
    "def documents_to_mean_vectors(embeddings, documents):\n",
    "    vectors = []\n",
    "    for doc in documents:\n",
    "        vectors.append(text_to_mean_vector(embeddings, doc))\n",
    "    return np.array(vectors)\n",
    "\n",
    "def wordEmbeddingsVectorizer(train_data, validation_data, test_data):\n",
    "    \n",
    "    # use twitter word embeddings\n",
    "    model_glove_twitter = api.load(\"glove-twitter-25\")\n",
    "    \n",
    "    # Initialize Word2Vec\n",
    "    \n",
    "    train = train_data['text'].apply(lambda x: ' '.join(x))\n",
    "    val = validation_data['text'].apply(lambda x: ' '.join(x))\n",
    "    test = test_data['text'].apply(lambda x: ' '.join(x))\n",
    "    \n",
    "    x_train = documents_to_vectors(model_glove_twitter, train, 40)\n",
    "    x_val = documents_to_vectors(model_glove_twitter, val, 40)\n",
    "    x_test = documents_to_vectors(model_glove_twitter, test, 40)\n",
    "    \n",
    "    print(x_train.shape, x_val.shape, x_test.shape)\n",
    "    print(x_train[0])\n",
    "    \n",
    "    y_train = train_data['label']\n",
    "    y_val = validation_data['label']\n",
    "    y_test = test_data['label']\n",
    "\n",
    "    return x_train, x_val, x_test, y_train, y_val, y_test\n",
    "\n",
    "\n",
    "def wordEmbeddingsMeanVectorizer(train_data, validation_data, test_data):\n",
    "\n",
    "    # use twitter word embeddings\n",
    "    model_glove_twitter = api.load(\"glove-twitter-25\")\n",
    "\n",
    "    # Initialize Word2Vec\n",
    "\n",
    "    train = train_data['text'].apply(lambda x: ' '.join(x))\n",
    "    val = validation_data['text'].apply(lambda x: ' '.join(x))\n",
    "    test = test_data['text'].apply(lambda x: ' '.join(x))\n",
    "\n",
    "    x_train = documents_to_mean_vectors(model_glove_twitter, train)\n",
    "    x_val = documents_to_mean_vectors(model_glove_twitter, val)\n",
    "    x_test = documents_to_mean_vectors(model_glove_twitter, test)\n",
    "\n",
    "    # x_train = np.mean(x_train, axis=1)\n",
    "    # x_val = np.mean(x_val, axis=1)\n",
    "    # x_test = np.mean(x_test, axis=1)\n",
    "    #\n",
    "    print(x_train.shape, x_val.shape, x_test.shape)\n",
    "    print(x_train[0])\n",
    "\n",
    "    y_train = train_data['label']\n",
    "    y_val = validation_data['label']\n",
    "    y_test = test_data['label']\n",
    "\n",
    "    return x_train, x_val, x_test, y_train, y_val, y_test\n"
   ]
  },
  {
   "cell_type": "markdown",
   "metadata": {},
   "source": [
    "### Word2Vec - Word embeddings using gensim model "
   ]
  },
  {
   "cell_type": "markdown",
   "metadata": {},
   "source": [
    "### Hypertunne the word 2 vec model"
   ]
  },
  {
   "cell_type": "code",
   "execution_count": 9,
   "metadata": {
    "ExecuteTime": {
     "end_time": "2024-04-03T22:05:08.401110Z",
     "start_time": "2024-04-03T22:05:08.396215Z"
    }
   },
   "outputs": [],
   "source": [
    "# from gensim.models import Word2Vec\n",
    "# import numpy as np\n",
    "# import optuna\n",
    "# from sklearn.metrics import f1_score\n",
    "# from sklearn.svm import SVC\n",
    "\n",
    "# # Calculate mean for each dimension\n",
    "# def calculate_mean_vectors(model, data):\n",
    "#     vectors = []\n",
    "#     for doc in data['text']:\n",
    "#         document = []\n",
    "#         for word in doc:\n",
    "#             if word in model.wv:\n",
    "#                 document.append(model.wv[word])\n",
    "#         if document:\n",
    "#             vectors.append(np.mean(document, axis=0))\n",
    "#         else:\n",
    "#             vectors.append(np.zeros(model.vector_size))\n",
    "#     return np.array(vectors)\n",
    "\n",
    "# def word_embeddings_vectorizer(train_data, validation_data, test_data, vector_size, window, min_count, sg):\n",
    "#     data_model = Word2Vec(train_data[\"text\"], vector_size=vector_size, window=window, min_count=min_count, sg=sg)\n",
    "    \n",
    "#     x_train = calculate_mean_vectors(data_model, train_data)\n",
    "#     x_val = calculate_mean_vectors(data_model, validation_data)\n",
    "#     x_test = calculate_mean_vectors(data_model, test_data)\n",
    "\n",
    "#     y_train = train_data['label']\n",
    "#     y_val = validation_data['label']\n",
    "#     y_test = test_data['label']\n",
    "\n",
    "#     return x_train, x_val, x_test, y_train, y_val, y_test\n",
    "\n",
    "\n",
    "# def objective(trial):\n",
    "#     # Define the search space for hyperparameters\n",
    "#     vector_size = trial.suggest_int('vector_size', 50, 300)\n",
    "#     window = trial.suggest_int('window', 2, 10)\n",
    "#     min_count = trial.suggest_int('min_count', 1, 5)\n",
    "#     sg = trial.suggest_categorical('sg', [0, 1])\n",
    "    \n",
    "#     x_train, x_val, x_test, y_train, y_val, y_test = word_embeddings_vectorizer(train_data, validation_data, test_data, vector_size, window, min_count, sg)\n",
    "    \n",
    "#     # Train an SVC classifier\n",
    "#     svc = SVC()\n",
    "#     svc.fit(x_train, y_train)\n",
    "    \n",
    "#     # Predict on the validation set\n",
    "#     y_pred = svc.predict(x_val)\n",
    "    \n",
    "#     # Calculate F1 score\n",
    "#     f1 = f1_score(y_val, y_pred, average='weighted')  # Use weighted average for multiclass classification\n",
    "    \n",
    "#     return f1\n",
    "\n",
    "# if __name__ == \"__main__\":\n",
    "#     study = optuna.create_study(direction='maximize')  # We want to maximize accuracy\n",
    "#     study.optimize(objective, n_trials=100)  # You can adjust the number of trials as needed\n",
    "\n",
    "#     print('Number of finished trials:', len(study.trials))\n",
    "#     print('Best trial:', study.best_trial.params)\n",
    "#     print('Best f1:', study.best_value)\n"
   ]
  },
  {
   "cell_type": "code",
   "execution_count": 10,
   "metadata": {
    "ExecuteTime": {
     "end_time": "2024-04-03T22:05:08.408932Z",
     "start_time": "2024-04-03T22:05:08.402121Z"
    }
   },
   "outputs": [],
   "source": [
    "from gensim.models import Word2Vec\n",
    "import numpy as np\n",
    "\n",
    "## calcular media a cada dimensão\n",
    "def my_word2vec_model(model, data):\n",
    "    vectors = []\n",
    "    for doc in data['text']:\n",
    "        document = []\n",
    "        for word in doc:\n",
    "            if word in model.wv:\n",
    "                document.append(model.wv[word])\n",
    "        if document:  # Check if the document is not empty\n",
    "            vectors.append(np.mean(document, axis=0))  # Take the mean of word vectors for each document\n",
    "        else:\n",
    "            # If the document is empty, append a zero vector\n",
    "            vectors.append(np.zeros(model.vector_size))\n",
    "    \n",
    "    return np.array(vectors)\n",
    "\n",
    "\n",
    "def wordEmbeddingsVectorizer_Trained(train_data,  validation_data, test_data):\n",
    "\n",
    "    # Hypertunning 1: 'vector_size': 120, 'window': 7, 'min_count': 3, 'sg': 1\n",
    "    data_model = Word2Vec(train_data[\"text\"], vector_size=88, window=10, min_count=2, workers=10, sg=1)\n",
    "    \n",
    "    x_train = my_word2vec_model(data_model, train_data)\n",
    "    x_val = my_word2vec_model(data_model, validation_data)\n",
    "    x_test = my_word2vec_model(data_model, test_data)\n",
    "\n",
    "    y_train = train_data['label']\n",
    "    y_val = validation_data['label']\n",
    "    y_test = test_data['label']\n",
    "\n",
    "    return x_train, x_val, x_test, y_train, y_val, y_test\n",
    "\n"
   ]
  },
  {
   "cell_type": "markdown",
   "metadata": {},
   "source": [
    "### Lexicons"
   ]
  },
  {
   "cell_type": "code",
   "execution_count": 11,
   "metadata": {
    "ExecuteTime": {
     "end_time": "2024-04-03T22:05:08.463908Z",
     "start_time": "2024-04-03T22:05:08.409945Z"
    }
   },
   "outputs": [],
   "source": [
    "from nrclex import NRCLex\n",
    "from nltk.sentiment.vader import SentimentIntensityAnalyzer\n",
    "from textblob import TextBlob\n",
    "\n",
    "lexicon_emotions = ['fear','anger', 'anticip', 'trust', 'surprise', 'positive', 'negative', 'sadness', 'disgust', 'joy', 'anticipation']\n",
    "\n",
    "def get_features(data):\n",
    "    features = []\n",
    "    for text in data['text']:\n",
    "        text = ' '.join(text)\n",
    "        text = NRCLex(text)\n",
    "        features.append([text.affect_frequencies.get(emotion, 0) for emotion in lexicon_emotions])\n",
    "    return features\n",
    "\n",
    "# text_object = NRCLex(text='I am nervous')\n",
    "# print(text_object.affect_frequencies)\n",
    "# print(text_object.affect_dict)\n",
    "# print(text_object.top_emotions)\n",
    "# print(text_object.affect_list)\n",
    "# print(text_object.raw_emotion_scores)\n",
    "# print(text_object.lexicon)\n",
    "\n",
    "\n",
    "def lexiconVectorizer(train_data, validation_data, test_data):\n",
    "    x_train = get_features(train_data)\n",
    "    x_val = get_features(validation_data)\n",
    "    x_test = get_features(test_data)\n",
    "\n",
    "    y_train = train_data['label']\n",
    "    y_val = validation_data['label']\n",
    "    y_test = test_data['label']\n",
    "\n",
    "    return x_train, x_val, x_test, y_train, y_val, y_test"
   ]
  },
  {
   "cell_type": "markdown",
   "metadata": {},
   "source": [
    "## Choosing the vectorizer"
   ]
  },
  {
   "cell_type": "code",
   "execution_count": 93,
   "metadata": {
    "ExecuteTime": {
     "end_time": "2024-04-03T23:30:42.186700Z",
     "start_time": "2024-04-03T23:29:29.127314Z"
    }
   },
   "outputs": [],
   "source": [
    "# Choose vectorizer (featurizer)\n",
    "# x_train, x_val, x_test, y_train, y_val, y_test = tfidfVectorizer(train_data, validation_data, test_data)\n",
    "#x_train, x_val, x_test, y_train, y_val, y_test = countVectorizer(train_data, validation_data, test_data)\n",
    "#x_train, x_val, x_test, y_train, y_val, y_test = wordEmbeddingsMeanVectorizer(train_data, validation_data, test_data)\n",
    "#x_train, x_val, x_test, y_train, y_val, y_test = wordEmbeddingsVectorizer_Trained(train_data, validation_data, test_data)\n",
    "x_train, x_val, x_test, y_train, y_val, y_test = doc2vec(data, train_data, validation_data, test_data)\n"
   ]
  },
  {
   "cell_type": "markdown",
   "metadata": {},
   "source": [
    "### Attempt using lexicons"
   ]
  },
  {
   "cell_type": "code",
   "execution_count": 92,
   "metadata": {
    "ExecuteTime": {
     "end_time": "2024-04-03T23:29:02.637551Z",
     "start_time": "2024-04-03T23:29:02.612006Z"
    },
    "collapsed": false
   },
   "outputs": [
    {
     "data": {
      "text/plain": [
       "['features/y_test.pkl']"
      ]
     },
     "execution_count": 92,
     "metadata": {},
     "output_type": "execute_result"
    }
   ],
   "source": [
    "# # store the features\n",
    "# import joblib\n",
    "# folder = 'features/'\n",
    "# joblib.dump(x_train, folder + 'x_train.pkl')\n",
    "# joblib.dump(x_val, folder + 'x_val.pkl')\n",
    "# joblib.dump(x_test, folder + 'x_test.pkl')\n",
    "# joblib.dump(y_train, folder + 'y_train.pkl')\n",
    "# joblib.dump(y_val, folder + 'y_val.pkl')\n",
    "# joblib.dump(y_test, folder + 'y_test.pkl')\n"
   ]
  },
  {
   "cell_type": "code",
   "execution_count": 30,
   "metadata": {
    "ExecuteTime": {
     "end_time": "2024-04-03T22:17:41.791794Z",
     "start_time": "2024-04-03T22:17:32.836226Z"
    }
   },
   "outputs": [],
   "source": [
    "# join the features\n",
    "# import numpy as np\n",
    "\n",
    "# Using with lexicon \n",
    "#x_train_lexicon, x_val_lexicon, x_test_lexicon, y_train_lexicon, y_val_lexicon, y_test_lexicon = lexiconVectorizer(original_train_data, original_validation_data, original_test_data)\n"
   ]
  },
  {
   "cell_type": "code",
   "execution_count": 36,
   "metadata": {
    "ExecuteTime": {
     "end_time": "2024-04-03T22:18:46.674925Z",
     "start_time": "2024-04-03T22:18:46.564013Z"
    },
    "collapsed": false
   },
   "outputs": [
    {
     "name": "stdout",
     "output_type": "stream",
     "text": [
      "(42607, 11)\n"
     ]
    },
    {
     "ename": "ValueError",
     "evalue": "zero-dimensional arrays cannot be concatenated",
     "output_type": "error",
     "traceback": [
      "\u001b[1;31m---------------------------------------------------------------------------\u001b[0m",
      "\u001b[1;31mValueError\u001b[0m                                Traceback (most recent call last)",
      "Cell \u001b[1;32mIn[36], line 4\u001b[0m\n\u001b[0;32m      2\u001b[0m x_train_lexicon2 \u001b[38;5;241m=\u001b[39m np\u001b[38;5;241m.\u001b[39marray(x_train_lexicon)\n\u001b[0;32m      3\u001b[0m \u001b[38;5;28mprint\u001b[39m(x_train_lexicon2\u001b[38;5;241m.\u001b[39mshape)\n\u001b[1;32m----> 4\u001b[0m x_train2 \u001b[38;5;241m=\u001b[39m \u001b[43mnp\u001b[49m\u001b[38;5;241;43m.\u001b[39;49m\u001b[43mconcatenate\u001b[49m\u001b[43m(\u001b[49m\u001b[43m(\u001b[49m\u001b[43mx_train\u001b[49m\u001b[43m,\u001b[49m\u001b[43m \u001b[49m\u001b[43mx_train_lexicon\u001b[49m\u001b[43m)\u001b[49m\u001b[43m,\u001b[49m\u001b[43m \u001b[49m\u001b[43maxis\u001b[49m\u001b[38;5;241;43m=\u001b[39;49m\u001b[38;5;241;43m1\u001b[39;49m\u001b[43m)\u001b[49m\n\u001b[0;32m      5\u001b[0m x_val2 \u001b[38;5;241m=\u001b[39m np\u001b[38;5;241m.\u001b[39mhstack((x_val\u001b[38;5;241m.\u001b[39mtoarray(), x_val_lexicon))\n\u001b[0;32m      6\u001b[0m x_test2 \u001b[38;5;241m=\u001b[39m np\u001b[38;5;241m.\u001b[39mhstack((x_test\u001b[38;5;241m.\u001b[39mtoarray(), x_test_lexicon))\n",
      "File \u001b[1;32m<__array_function__ internals>:200\u001b[0m, in \u001b[0;36mconcatenate\u001b[1;34m(*args, **kwargs)\u001b[0m\n",
      "\u001b[1;31mValueError\u001b[0m: zero-dimensional arrays cannot be concatenated"
     ]
    }
   ],
   "source": [
    "# join the features\n",
    "# x_train_lexicon2 = np.array(x_train_lexicon)\n",
    "# print(x_train_lexicon2.shape)\n",
    "# x_train2 = np.concatenate((x_train, x_train_lexicon), axis=1)\n",
    "# x_val2 = np.hstack((x_val.toarray(), x_val_lexicon))\n",
    "# x_test2 = np.hstack((x_test.toarray(), x_test_lexicon))\n"
   ]
  },
  {
   "cell_type": "code",
   "execution_count": 38,
   "metadata": {
    "ExecuteTime": {
     "end_time": "2024-04-03T22:29:26.427163Z",
     "start_time": "2024-04-03T22:29:26.421636Z"
    },
    "collapsed": false
   },
   "outputs": [
    {
     "name": "stdout",
     "output_type": "stream",
     "text": [
      "(42607, 40000)\n",
      "[[0.0, 0.0, 0.0, 0.0, 0.0, 0.0, 0.0, 0.0, 0.0, 0.0, 0], [0.15384615384615385, 0.07692307692307693, 0.0, 0.07692307692307693, 0.07692307692307693, 0.07692307692307693, 0.15384615384615385, 0.15384615384615385, 0.07692307692307693, 0.07692307692307693, 0.07692307692307693], [0.0, 0.2, 0.0, 0.0, 0.0, 0.0, 0.4, 0.2, 0.2, 0.0, 0]]\n",
      "  (0, 32595)\t0.44382415483477683\n",
      "  (0, 9534)\t0.5180883291594622\n",
      "  (0, 17720)\t0.7248221208380449\n",
      "  (0, 10609)\t0.09611189269695694\n",
      "  (1, 12131)\t0.5456063331751863\n",
      "  (1, 33361)\t0.5444785796625673\n",
      "  (1, 16005)\t0.43594965484883114\n",
      "  (1, 11801)\t0.15183366990167263\n",
      "  (1, 33353)\t0.4390344412561912\n",
      "  (2, 11161)\t0.5270701621378975\n",
      "  (2, 31956)\t0.42658852580279044\n",
      "  (2, 18561)\t0.6010116053088199\n",
      "  (2, 18174)\t0.41386721188137643\n",
      "  (2, 10609)\t0.08785360010257795\n"
     ]
    }
   ],
   "source": [
    "# print(x_train.shape)\n",
    "# print(x_train_lexicon[:3])\n",
    "# print(x_train[:3])"
   ]
  },
  {
   "cell_type": "markdown",
   "metadata": {},
   "source": [
    "#### Hypertunning number of features (using PCA) for each model"
   ]
  },
  {
   "cell_type": "code",
   "execution_count": null,
   "metadata": {},
   "outputs": [],
   "source": [
    "# import optuna\n",
    "# from sklearn.decomposition import PCA\n",
    "# from sklearn.linear_model import LogisticRegression\n",
    "# from sklearn.pipeline import Pipeline\n",
    "# from sklearn.metrics import accuracy_score\n",
    "# from sklearn.svm import SVC\n",
    "# import lightgbm as lgb\n",
    "\n",
    "# def objective(trial):\n",
    "#     # Define parameters to search\n",
    "#     n_components = trial.suggest_int('n_components', 2, 25)\n",
    "    \n",
    "#     # Define the pipeline with PCA and a classifier\n",
    "#     pipeline = Pipeline([\n",
    "#         ('pca', PCA(n_components=n_components)),\n",
    "#         #('clf', SVC())\n",
    "#         ('clf', lgb.LGBMClassifier())\n",
    "#         #('clf', LogisticRegression())\n",
    "#     ])\n",
    "\n",
    "#     # Fit the pipeline\n",
    "#     pipeline.fit(x_train, y_train)\n",
    "    \n",
    "#     # Evaluate on the validation set\n",
    "#     y_pred = pipeline.predict(x_val)\n",
    "#     accuracy = accuracy_score(y_val, y_pred)\n",
    "    \n",
    "#     return accuracy\n",
    "\n",
    "# # Optimize hyperparameters\n",
    "# study = optuna.create_study(direction='maximize')\n",
    "# study.optimize(objective, n_trials=100)\n",
    "\n",
    "# # Get the best parameters found\n",
    "# best_params = study.best_params\n",
    "\n",
    "# # Get the best model\n",
    "# best_n_components = best_params['n_components']\n",
    "# best_model = Pipeline([\n",
    "#     ('pca', PCA(n_components=best_n_components)),\n",
    "#     ('clf', )  \n",
    "# ])\n",
    "# best_model.fit(x_train, y_train)\n",
    "\n",
    "# # Use the best model for prediction\n",
    "# y_pred = best_model.predict(x_test)\n",
    "\n",
    "# # Evaluate the best model\n",
    "# accuracy = accuracy_score(y_test, y_pred)\n",
    "# print(\"Test Accuracy:\", accuracy)\n"
   ]
  },
  {
   "cell_type": "markdown",
   "metadata": {
    "collapsed": false
   },
   "source": [
    "\n",
    "# 3. Model Training"
   ]
  },
  {
   "cell_type": "markdown",
   "metadata": {
    "collapsed": false
   },
   "source": [
    "#### 3.1. Model Selection\n",
    "Aqui também só estava a querer espetar modelos para começar a ver o que dá que ainda não sei que features vão ser usadas:\n",
    "tf-idf, word embeddings, ???, features mais feitas à mão?\n",
    "\n",
    "\n",
    "Isto pelos vistos é uma cena, que não implementei (ainda..)\n",
    "\n",
    "\"The validation set uses a subset of the training data to provide an unbiased evaluation of a model. The validation data set contrasts with training and test sets in that it is an intermediate phase used for choosing the best model and optimizing it. It is in this phase that hyperparameter tuning occurs.\"\n",
    "\n",
    "Wikipedia:\n",
    "The basic process of using a validation data set for model selection (as part of training data set, validation data set, and test data set) is:\n",
    "\n",
    "Since our goal is to find the network having the best performance on new data, the simplest approach to the comparison of different networks is to evaluate the error function using data which is independent of that used for training. Various networks are trained by minimization of an appropriate error function defined with respect to a training data set. The performance of the networks is then compared by evaluating the error function using an independent validation set, and the network having the smallest error with respect to the validation set is selected. This approach is called the hold out method. Since this procedure can itself lead to some overfitting to the validation set, the performance of the selected network should be confirmed by measuring its performance on a third independent set of data called a test set.\n",
    "\n",
    "An application of this process is in early stopping, where the candidate models are successive iterations of the same network, and training stops when the error on the validation set grows, choosing the previous model (the one with minimum error)."
   ]
  },
  {
   "cell_type": "markdown",
   "metadata": {
    "collapsed": false
   },
   "source": [
    "##### 3.1.1. Logistic Regression"
   ]
  },
  {
   "cell_type": "markdown",
   "metadata": {},
   "source": [
    "##### Model hypertunning"
   ]
  },
  {
   "cell_type": "code",
   "execution_count": null,
   "metadata": {},
   "outputs": [],
   "source": [
    "# import optuna\n",
    "# from sklearn.linear_model import LogisticRegression\n",
    "# from sklearn.metrics import accuracy_score, classification_report, confusion_matrix\n",
    "# from sklearn.model_selection import train_test_split\n",
    "\n",
    "# # Define objective function for Optuna\n",
    "# # Define objective function for Optuna\n",
    "# def objective(trial):\n",
    "#     # Define solver\n",
    "#     solver = trial.suggest_categorical('solver', ['lbfgs', 'liblinear', 'saga'])\n",
    "    \n",
    "#     if solver == 'lbfgs':\n",
    "#         penalty = 'l2'  # LBFGS only supports L2 penalty\n",
    "#     else:\n",
    "#         penalty = trial.suggest_categorical('penalty', ['l1', 'l2'])\n",
    "    \n",
    "#     C = trial.suggest_loguniform('C', 0.01, 10)\n",
    "    \n",
    "#     # Instantiate Logistic Regression classifier with hyperparameters\n",
    "#     logreg_classifier = LogisticRegression(max_iter=1000, solver=solver, penalty=penalty, C=C)\n",
    "    \n",
    "#     # Train classifier\n",
    "#     logreg_classifier.fit(x_train, y_train)\n",
    "    \n",
    "#     # Predict on validation set\n",
    "#     y_pred = logreg_classifier.predict(x_val)\n",
    "    \n",
    "#     # Calculate accuracy score\n",
    "#     accuracy = accuracy_score(y_val, y_pred)\n",
    "    \n",
    "#     return accuracy\n",
    "\n",
    "# # Create Optuna study\n",
    "# study = optuna.create_study(direction='maximize')\n",
    "# study.optimize(objective, n_trials=100)\n",
    "\n",
    "# # Get best hyperparameters\n",
    "# best_params = study.best_params\n",
    "\n",
    "# print(best_params)"
   ]
  },
  {
   "cell_type": "markdown",
   "metadata": {},
   "source": [
    "##### Model Training"
   ]
  },
  {
   "cell_type": "code",
   "execution_count": 94,
   "metadata": {
    "ExecuteTime": {
     "end_time": "2024-04-03T23:31:24.398889Z",
     "start_time": "2024-04-03T23:31:19.076009Z"
    },
    "collapsed": false
   },
   "outputs": [
    {
     "data": {
      "text/html": [
       "<style>#sk-container-id-6 {color: black;}#sk-container-id-6 pre{padding: 0;}#sk-container-id-6 div.sk-toggleable {background-color: white;}#sk-container-id-6 label.sk-toggleable__label {cursor: pointer;display: block;width: 100%;margin-bottom: 0;padding: 0.3em;box-sizing: border-box;text-align: center;}#sk-container-id-6 label.sk-toggleable__label-arrow:before {content: \"▸\";float: left;margin-right: 0.25em;color: #696969;}#sk-container-id-6 label.sk-toggleable__label-arrow:hover:before {color: black;}#sk-container-id-6 div.sk-estimator:hover label.sk-toggleable__label-arrow:before {color: black;}#sk-container-id-6 div.sk-toggleable__content {max-height: 0;max-width: 0;overflow: hidden;text-align: left;background-color: #f0f8ff;}#sk-container-id-6 div.sk-toggleable__content pre {margin: 0.2em;color: black;border-radius: 0.25em;background-color: #f0f8ff;}#sk-container-id-6 input.sk-toggleable__control:checked~div.sk-toggleable__content {max-height: 200px;max-width: 100%;overflow: auto;}#sk-container-id-6 input.sk-toggleable__control:checked~label.sk-toggleable__label-arrow:before {content: \"▾\";}#sk-container-id-6 div.sk-estimator input.sk-toggleable__control:checked~label.sk-toggleable__label {background-color: #d4ebff;}#sk-container-id-6 div.sk-label input.sk-toggleable__control:checked~label.sk-toggleable__label {background-color: #d4ebff;}#sk-container-id-6 input.sk-hidden--visually {border: 0;clip: rect(1px 1px 1px 1px);clip: rect(1px, 1px, 1px, 1px);height: 1px;margin: -1px;overflow: hidden;padding: 0;position: absolute;width: 1px;}#sk-container-id-6 div.sk-estimator {font-family: monospace;background-color: #f0f8ff;border: 1px dotted black;border-radius: 0.25em;box-sizing: border-box;margin-bottom: 0.5em;}#sk-container-id-6 div.sk-estimator:hover {background-color: #d4ebff;}#sk-container-id-6 div.sk-parallel-item::after {content: \"\";width: 100%;border-bottom: 1px solid gray;flex-grow: 1;}#sk-container-id-6 div.sk-label:hover label.sk-toggleable__label {background-color: #d4ebff;}#sk-container-id-6 div.sk-serial::before {content: \"\";position: absolute;border-left: 1px solid gray;box-sizing: border-box;top: 0;bottom: 0;left: 50%;z-index: 0;}#sk-container-id-6 div.sk-serial {display: flex;flex-direction: column;align-items: center;background-color: white;padding-right: 0.2em;padding-left: 0.2em;position: relative;}#sk-container-id-6 div.sk-item {position: relative;z-index: 1;}#sk-container-id-6 div.sk-parallel {display: flex;align-items: stretch;justify-content: center;background-color: white;position: relative;}#sk-container-id-6 div.sk-item::before, #sk-container-id-6 div.sk-parallel-item::before {content: \"\";position: absolute;border-left: 1px solid gray;box-sizing: border-box;top: 0;bottom: 0;left: 50%;z-index: -1;}#sk-container-id-6 div.sk-parallel-item {display: flex;flex-direction: column;z-index: 1;position: relative;background-color: white;}#sk-container-id-6 div.sk-parallel-item:first-child::after {align-self: flex-end;width: 50%;}#sk-container-id-6 div.sk-parallel-item:last-child::after {align-self: flex-start;width: 50%;}#sk-container-id-6 div.sk-parallel-item:only-child::after {width: 0;}#sk-container-id-6 div.sk-dashed-wrapped {border: 1px dashed gray;margin: 0 0.4em 0.5em 0.4em;box-sizing: border-box;padding-bottom: 0.4em;background-color: white;}#sk-container-id-6 div.sk-label label {font-family: monospace;font-weight: bold;display: inline-block;line-height: 1.2em;}#sk-container-id-6 div.sk-label-container {text-align: center;}#sk-container-id-6 div.sk-container {/* jupyter's `normalize.less` sets `[hidden] { display: none; }` but bootstrap.min.css set `[hidden] { display: none !important; }` so we also need the `!important` here to be able to override the default hidden behavior on the sphinx rendered scikit-learn.org. See: https://github.com/scikit-learn/scikit-learn/issues/21755 */display: inline-block !important;position: relative;}#sk-container-id-6 div.sk-text-repr-fallback {display: none;}</style><div id=\"sk-container-id-6\" class=\"sk-top-container\"><div class=\"sk-text-repr-fallback\"><pre>LogisticRegression(C=0.03784347512520397, solver=&#x27;liblinear&#x27;)</pre><b>In a Jupyter environment, please rerun this cell to show the HTML representation or trust the notebook. <br />On GitHub, the HTML representation is unable to render, please try loading this page with nbviewer.org.</b></div><div class=\"sk-container\" hidden><div class=\"sk-item\"><div class=\"sk-estimator sk-toggleable\"><input class=\"sk-toggleable__control sk-hidden--visually\" id=\"sk-estimator-id-6\" type=\"checkbox\" checked><label for=\"sk-estimator-id-6\" class=\"sk-toggleable__label sk-toggleable__label-arrow\">LogisticRegression</label><div class=\"sk-toggleable__content\"><pre>LogisticRegression(C=0.03784347512520397, solver=&#x27;liblinear&#x27;)</pre></div></div></div></div></div>"
      ],
      "text/plain": [
       "LogisticRegression(C=0.03784347512520397, solver='liblinear')"
      ]
     },
     "execution_count": 94,
     "metadata": {},
     "output_type": "execute_result"
    }
   ],
   "source": [
    "from sklearn.linear_model import LogisticRegression\n",
    "from sklearn.metrics import accuracy_score, classification_report, confusion_matrix\n",
    "\n",
    "# pca = PCA(n_components=77)\n",
    "# x_train = pca.fit_transform(x_train)\n",
    "# x_val = pca.transform(x_val)\n",
    "# x_test = pca.transform(x_test)\n",
    "\n",
    "logreg_classifier = LogisticRegression(solver='liblinear', penalty='l2', C=0.03784347512520397)\n",
    "logreg_classifier.fit(x_train, y_train)"
   ]
  },
  {
   "cell_type": "code",
   "execution_count": 95,
   "metadata": {
    "ExecuteTime": {
     "end_time": "2024-04-03T23:31:35.239924Z",
     "start_time": "2024-04-03T23:31:35.213703Z"
    },
    "collapsed": false
   },
   "outputs": [
    {
     "name": "stdout",
     "output_type": "stream",
     "text": [
      "0.8306780288995924\n",
      "              precision    recall  f1-score   support\n",
      "\n",
      "           0       0.91      0.87      0.89      1566\n",
      "           1       0.92      0.81      0.86      1835\n",
      "           2       0.61      0.81      0.70       432\n",
      "           3       0.82      0.82      0.82       756\n",
      "           4       0.82      0.82      0.82       593\n",
      "           5       0.50      0.81      0.62       216\n",
      "\n",
      "    accuracy                           0.83      5398\n",
      "   macro avg       0.76      0.82      0.78      5398\n",
      "weighted avg       0.85      0.83      0.84      5398\n",
      "\n",
      "[[1364   38   33   55   37   39]\n",
      " [  55 1486  157   42   30   65]\n",
      " [  16   40  352    5    3   16]\n",
      " [  43   24   20  623   21   25]\n",
      " [  24   12   11   35  485   26]\n",
      " [   5   13    7    1   16  174]]\n"
     ]
    }
   ],
   "source": [
    "y_pred = logreg_classifier.predict(x_val)\n",
    "print(accuracy_score(y_val, y_pred))\n",
    "print(classification_report(y_val, y_pred))\n",
    "print(confusion_matrix(y_val, y_pred))"
   ]
  },
  {
   "cell_type": "markdown",
   "metadata": {
    "collapsed": false
   },
   "source": [
    "## SVM\n"
   ]
  },
  {
   "cell_type": "markdown",
   "metadata": {},
   "source": [
    "##### Model Hypertunning"
   ]
  },
  {
   "cell_type": "code",
   "execution_count": null,
   "metadata": {},
   "outputs": [],
   "source": [
    "# import optuna\n",
    "# from sklearn.svm import SVC\n",
    "# from sklearn.metrics import accuracy_score\n",
    "# from sklearn.model_selection import train_test_split\n",
    "\n",
    "# # Define objective function for Optuna\n",
    "# def objective(trial):\n",
    "#     # Define kernel\n",
    "#     kernel = trial.suggest_categorical('kernel', ['linear', 'poly', 'rbf', 'sigmoid'])\n",
    "    \n",
    "#     # For 'poly', 'rbf', and 'sigmoid' kernels, suggest degree parameter\n",
    "#     if kernel in ['poly', 'rbf', 'sigmoid']:\n",
    "#         degree = trial.suggest_int('degree', 2, 5)\n",
    "#     else:\n",
    "#         degree = 3  # Default degree value for kernels that don't use it\n",
    "    \n",
    "#     # Instantiate SVM classifier with hyperparameters\n",
    "#     svm_classifier = SVC(kernel=kernel, degree=degree)\n",
    "    \n",
    "#     # Train classifier\n",
    "#     svm_classifier.fit(x_train, y_train)\n",
    "    \n",
    "#     # Predict on validation set\n",
    "#     y_pred = svm_classifier.predict(x_val)\n",
    "    \n",
    "#     # Calculate accuracy score\n",
    "#     accuracy = accuracy_score(y_val, y_pred)\n",
    "    \n",
    "#     return accuracy\n",
    "\n",
    "# # Create Optuna study\n",
    "# study = optuna.create_study(direction='maximize')\n",
    "# study.optimize(objective, n_trials=100)\n",
    "\n",
    "# # Get best hyperparameters\n",
    "# best_params = study.best_params\n",
    "\n",
    "# print(best_params)\n",
    "\n",
    "# #[I 2024-04-01 12:39:28,014] Trial 36 finished with value: 0.8245 and parameters: {'kernel': 'poly', 'degree': 2}. Best is trial 36 with value: 0.8245.\n"
   ]
  },
  {
   "cell_type": "markdown",
   "metadata": {},
   "source": [
    "### Training"
   ]
  },
  {
   "cell_type": "code",
   "execution_count": 96,
   "metadata": {
    "ExecuteTime": {
     "end_time": "2024-04-03T23:33:42.192191Z",
     "start_time": "2024-04-03T23:31:48.581961Z"
    },
    "collapsed": false
   },
   "outputs": [
    {
     "data": {
      "text/html": [
       "<style>#sk-container-id-7 {color: black;}#sk-container-id-7 pre{padding: 0;}#sk-container-id-7 div.sk-toggleable {background-color: white;}#sk-container-id-7 label.sk-toggleable__label {cursor: pointer;display: block;width: 100%;margin-bottom: 0;padding: 0.3em;box-sizing: border-box;text-align: center;}#sk-container-id-7 label.sk-toggleable__label-arrow:before {content: \"▸\";float: left;margin-right: 0.25em;color: #696969;}#sk-container-id-7 label.sk-toggleable__label-arrow:hover:before {color: black;}#sk-container-id-7 div.sk-estimator:hover label.sk-toggleable__label-arrow:before {color: black;}#sk-container-id-7 div.sk-toggleable__content {max-height: 0;max-width: 0;overflow: hidden;text-align: left;background-color: #f0f8ff;}#sk-container-id-7 div.sk-toggleable__content pre {margin: 0.2em;color: black;border-radius: 0.25em;background-color: #f0f8ff;}#sk-container-id-7 input.sk-toggleable__control:checked~div.sk-toggleable__content {max-height: 200px;max-width: 100%;overflow: auto;}#sk-container-id-7 input.sk-toggleable__control:checked~label.sk-toggleable__label-arrow:before {content: \"▾\";}#sk-container-id-7 div.sk-estimator input.sk-toggleable__control:checked~label.sk-toggleable__label {background-color: #d4ebff;}#sk-container-id-7 div.sk-label input.sk-toggleable__control:checked~label.sk-toggleable__label {background-color: #d4ebff;}#sk-container-id-7 input.sk-hidden--visually {border: 0;clip: rect(1px 1px 1px 1px);clip: rect(1px, 1px, 1px, 1px);height: 1px;margin: -1px;overflow: hidden;padding: 0;position: absolute;width: 1px;}#sk-container-id-7 div.sk-estimator {font-family: monospace;background-color: #f0f8ff;border: 1px dotted black;border-radius: 0.25em;box-sizing: border-box;margin-bottom: 0.5em;}#sk-container-id-7 div.sk-estimator:hover {background-color: #d4ebff;}#sk-container-id-7 div.sk-parallel-item::after {content: \"\";width: 100%;border-bottom: 1px solid gray;flex-grow: 1;}#sk-container-id-7 div.sk-label:hover label.sk-toggleable__label {background-color: #d4ebff;}#sk-container-id-7 div.sk-serial::before {content: \"\";position: absolute;border-left: 1px solid gray;box-sizing: border-box;top: 0;bottom: 0;left: 50%;z-index: 0;}#sk-container-id-7 div.sk-serial {display: flex;flex-direction: column;align-items: center;background-color: white;padding-right: 0.2em;padding-left: 0.2em;position: relative;}#sk-container-id-7 div.sk-item {position: relative;z-index: 1;}#sk-container-id-7 div.sk-parallel {display: flex;align-items: stretch;justify-content: center;background-color: white;position: relative;}#sk-container-id-7 div.sk-item::before, #sk-container-id-7 div.sk-parallel-item::before {content: \"\";position: absolute;border-left: 1px solid gray;box-sizing: border-box;top: 0;bottom: 0;left: 50%;z-index: -1;}#sk-container-id-7 div.sk-parallel-item {display: flex;flex-direction: column;z-index: 1;position: relative;background-color: white;}#sk-container-id-7 div.sk-parallel-item:first-child::after {align-self: flex-end;width: 50%;}#sk-container-id-7 div.sk-parallel-item:last-child::after {align-self: flex-start;width: 50%;}#sk-container-id-7 div.sk-parallel-item:only-child::after {width: 0;}#sk-container-id-7 div.sk-dashed-wrapped {border: 1px dashed gray;margin: 0 0.4em 0.5em 0.4em;box-sizing: border-box;padding-bottom: 0.4em;background-color: white;}#sk-container-id-7 div.sk-label label {font-family: monospace;font-weight: bold;display: inline-block;line-height: 1.2em;}#sk-container-id-7 div.sk-label-container {text-align: center;}#sk-container-id-7 div.sk-container {/* jupyter's `normalize.less` sets `[hidden] { display: none; }` but bootstrap.min.css set `[hidden] { display: none !important; }` so we also need the `!important` here to be able to override the default hidden behavior on the sphinx rendered scikit-learn.org. See: https://github.com/scikit-learn/scikit-learn/issues/21755 */display: inline-block !important;position: relative;}#sk-container-id-7 div.sk-text-repr-fallback {display: none;}</style><div id=\"sk-container-id-7\" class=\"sk-top-container\"><div class=\"sk-text-repr-fallback\"><pre>SVC(degree=2, kernel=&#x27;poly&#x27;, random_state=42)</pre><b>In a Jupyter environment, please rerun this cell to show the HTML representation or trust the notebook. <br />On GitHub, the HTML representation is unable to render, please try loading this page with nbviewer.org.</b></div><div class=\"sk-container\" hidden><div class=\"sk-item\"><div class=\"sk-estimator sk-toggleable\"><input class=\"sk-toggleable__control sk-hidden--visually\" id=\"sk-estimator-id-7\" type=\"checkbox\" checked><label for=\"sk-estimator-id-7\" class=\"sk-toggleable__label sk-toggleable__label-arrow\">SVC</label><div class=\"sk-toggleable__content\"><pre>SVC(degree=2, kernel=&#x27;poly&#x27;, random_state=42)</pre></div></div></div></div></div>"
      ],
      "text/plain": [
       "SVC(degree=2, kernel='poly', random_state=42)"
      ]
     },
     "execution_count": 96,
     "metadata": {},
     "output_type": "execute_result"
    }
   ],
   "source": [
    "from sklearn.svm import SVC\n",
    "from sklearn.metrics import accuracy_score, classification_report, confusion_matrix\n",
    "import joblib\n",
    "\n",
    "svm_classifier = SVC(kernel='poly', degree=2, random_state=42)\n",
    "svm_classifier.fit(x_train, y_train)"
   ]
  },
  {
   "cell_type": "code",
   "execution_count": 98,
   "metadata": {
    "ExecuteTime": {
     "end_time": "2024-04-03T23:34:34.031298Z",
     "start_time": "2024-04-03T23:34:25.778668Z"
    },
    "collapsed": false
   },
   "outputs": [
    {
     "name": "stdout",
     "output_type": "stream",
     "text": [
      "Accuracy: 0.8386439422008151\n",
      "Classification Report:\n",
      "               precision    recall  f1-score   support\n",
      "\n",
      "           0       0.91      0.86      0.88      1566\n",
      "           1       0.92      0.84      0.88      1835\n",
      "           2       0.64      0.82      0.72       432\n",
      "           3       0.81      0.82      0.82       756\n",
      "           4       0.81      0.83      0.82       593\n",
      "           5       0.55      0.86      0.67       216\n",
      "\n",
      "    accuracy                           0.84      5398\n",
      "   macro avg       0.77      0.84      0.80      5398\n",
      "weighted avg       0.85      0.84      0.84      5398\n",
      "\n",
      "Confusion Matrix:\n",
      " [[1340   40   26   67   55   38]\n",
      " [  40 1533  143   39   26   54]\n",
      " [  19   41  354    3    2   13]\n",
      " [  41   29   21  622   19   24]\n",
      " [  19   16   10   32  493   23]\n",
      " [   6    8    3    1   13  185]]\n"
     ]
    }
   ],
   "source": [
    "y_pred = svm_classifier.predict(x_val)\n",
    "\n",
    "# Evaluate the performance\n",
    "accuracy = accuracy_score(y_val, y_pred)\n",
    "report = classification_report(y_val, y_pred)\n",
    "conf_matrix = confusion_matrix(y_val, y_pred)\n",
    "\n",
    "# Print the evaluation metrics\n",
    "print(\"Accuracy:\", accuracy)\n",
    "print(\"Classification Report:\\n\", report)\n",
    "print(\"Confusion Matrix:\\n\", conf_matrix)"
   ]
  },
  {
   "cell_type": "markdown",
   "metadata": {
    "collapsed": false
   },
   "source": [
    "## KNN"
   ]
  },
  {
   "cell_type": "markdown",
   "metadata": {},
   "source": [
    "##### Hypertunning"
   ]
  },
  {
   "cell_type": "code",
   "execution_count": null,
   "metadata": {},
   "outputs": [],
   "source": [
    "# import optuna\n",
    "# from sklearn.neighbors import KNeighborsClassifier\n",
    "# from sklearn.metrics import accuracy_score, classification_report, confusion_matrix\n",
    "# from sklearn.model_selection import train_test_split\n",
    "# \n",
    "# # Define objective function for Optuna\n",
    "# def objective(trial):\n",
    "#     # Define hyperparameters to optimize\n",
    "#     n_neighbors = trial.suggest_int('n_neighbors', 1, 10)\n",
    "#     weights = trial.suggest_categorical('weights', ['uniform', 'distance'])\n",
    "#     algorithm = trial.suggest_categorical('algorithm', ['auto', 'ball_tree', 'kd_tree', 'brute'])\n",
    "#     \n",
    "#     # Instantiate KNN classifier with hyperparameters\n",
    "#     knn_classifier = KNeighborsClassifier(n_neighbors=n_neighbors, weights=weights, algorithm=algorithm)\n",
    "#     \n",
    "#     # Train classifier\n",
    "#     knn_classifier.fit(x_train, y_train)\n",
    "#     \n",
    "#     # Predict on validation set\n",
    "#     y_pred = knn_classifier.predict(x_val)\n",
    "#     \n",
    "#     # Calculate accuracy score\n",
    "#     accuracy = accuracy_score(y_val, y_pred)\n",
    "# \n",
    "#     return accuracy\n",
    "# \n",
    "# # Create Optuna study\n",
    "# study = optuna.create_study(direction='maximize')\n",
    "# study.optimize(objective, n_trials=100)\n",
    "# \n",
    "# # Get best hyperparameters\n",
    "# best_params = study.best_params\n",
    "# \n",
    "# print(best_params)\n",
    "# \n",
    "# # [I 2024-04-01 13:53:46,403] Trial 26 finished with value: 0.701 and parameters: {'n_neighbors': 10, 'weights': 'uniform', 'algorithm': 'auto'}. Best is trial 26 with value: 0.701."
   ]
  },
  {
   "cell_type": "code",
   "execution_count": 99,
   "metadata": {
    "ExecuteTime": {
     "end_time": "2024-04-03T23:34:56.054383Z",
     "start_time": "2024-04-03T23:34:56.022568Z"
    },
    "collapsed": false
   },
   "outputs": [
    {
     "data": {
      "text/html": [
       "<style>#sk-container-id-8 {color: black;}#sk-container-id-8 pre{padding: 0;}#sk-container-id-8 div.sk-toggleable {background-color: white;}#sk-container-id-8 label.sk-toggleable__label {cursor: pointer;display: block;width: 100%;margin-bottom: 0;padding: 0.3em;box-sizing: border-box;text-align: center;}#sk-container-id-8 label.sk-toggleable__label-arrow:before {content: \"▸\";float: left;margin-right: 0.25em;color: #696969;}#sk-container-id-8 label.sk-toggleable__label-arrow:hover:before {color: black;}#sk-container-id-8 div.sk-estimator:hover label.sk-toggleable__label-arrow:before {color: black;}#sk-container-id-8 div.sk-toggleable__content {max-height: 0;max-width: 0;overflow: hidden;text-align: left;background-color: #f0f8ff;}#sk-container-id-8 div.sk-toggleable__content pre {margin: 0.2em;color: black;border-radius: 0.25em;background-color: #f0f8ff;}#sk-container-id-8 input.sk-toggleable__control:checked~div.sk-toggleable__content {max-height: 200px;max-width: 100%;overflow: auto;}#sk-container-id-8 input.sk-toggleable__control:checked~label.sk-toggleable__label-arrow:before {content: \"▾\";}#sk-container-id-8 div.sk-estimator input.sk-toggleable__control:checked~label.sk-toggleable__label {background-color: #d4ebff;}#sk-container-id-8 div.sk-label input.sk-toggleable__control:checked~label.sk-toggleable__label {background-color: #d4ebff;}#sk-container-id-8 input.sk-hidden--visually {border: 0;clip: rect(1px 1px 1px 1px);clip: rect(1px, 1px, 1px, 1px);height: 1px;margin: -1px;overflow: hidden;padding: 0;position: absolute;width: 1px;}#sk-container-id-8 div.sk-estimator {font-family: monospace;background-color: #f0f8ff;border: 1px dotted black;border-radius: 0.25em;box-sizing: border-box;margin-bottom: 0.5em;}#sk-container-id-8 div.sk-estimator:hover {background-color: #d4ebff;}#sk-container-id-8 div.sk-parallel-item::after {content: \"\";width: 100%;border-bottom: 1px solid gray;flex-grow: 1;}#sk-container-id-8 div.sk-label:hover label.sk-toggleable__label {background-color: #d4ebff;}#sk-container-id-8 div.sk-serial::before {content: \"\";position: absolute;border-left: 1px solid gray;box-sizing: border-box;top: 0;bottom: 0;left: 50%;z-index: 0;}#sk-container-id-8 div.sk-serial {display: flex;flex-direction: column;align-items: center;background-color: white;padding-right: 0.2em;padding-left: 0.2em;position: relative;}#sk-container-id-8 div.sk-item {position: relative;z-index: 1;}#sk-container-id-8 div.sk-parallel {display: flex;align-items: stretch;justify-content: center;background-color: white;position: relative;}#sk-container-id-8 div.sk-item::before, #sk-container-id-8 div.sk-parallel-item::before {content: \"\";position: absolute;border-left: 1px solid gray;box-sizing: border-box;top: 0;bottom: 0;left: 50%;z-index: -1;}#sk-container-id-8 div.sk-parallel-item {display: flex;flex-direction: column;z-index: 1;position: relative;background-color: white;}#sk-container-id-8 div.sk-parallel-item:first-child::after {align-self: flex-end;width: 50%;}#sk-container-id-8 div.sk-parallel-item:last-child::after {align-self: flex-start;width: 50%;}#sk-container-id-8 div.sk-parallel-item:only-child::after {width: 0;}#sk-container-id-8 div.sk-dashed-wrapped {border: 1px dashed gray;margin: 0 0.4em 0.5em 0.4em;box-sizing: border-box;padding-bottom: 0.4em;background-color: white;}#sk-container-id-8 div.sk-label label {font-family: monospace;font-weight: bold;display: inline-block;line-height: 1.2em;}#sk-container-id-8 div.sk-label-container {text-align: center;}#sk-container-id-8 div.sk-container {/* jupyter's `normalize.less` sets `[hidden] { display: none; }` but bootstrap.min.css set `[hidden] { display: none !important; }` so we also need the `!important` here to be able to override the default hidden behavior on the sphinx rendered scikit-learn.org. See: https://github.com/scikit-learn/scikit-learn/issues/21755 */display: inline-block !important;position: relative;}#sk-container-id-8 div.sk-text-repr-fallback {display: none;}</style><div id=\"sk-container-id-8\" class=\"sk-top-container\"><div class=\"sk-text-repr-fallback\"><pre>KNeighborsClassifier(n_neighbors=10)</pre><b>In a Jupyter environment, please rerun this cell to show the HTML representation or trust the notebook. <br />On GitHub, the HTML representation is unable to render, please try loading this page with nbviewer.org.</b></div><div class=\"sk-container\" hidden><div class=\"sk-item\"><div class=\"sk-estimator sk-toggleable\"><input class=\"sk-toggleable__control sk-hidden--visually\" id=\"sk-estimator-id-8\" type=\"checkbox\" checked><label for=\"sk-estimator-id-8\" class=\"sk-toggleable__label sk-toggleable__label-arrow\">KNeighborsClassifier</label><div class=\"sk-toggleable__content\"><pre>KNeighborsClassifier(n_neighbors=10)</pre></div></div></div></div></div>"
      ],
      "text/plain": [
       "KNeighborsClassifier(n_neighbors=10)"
      ]
     },
     "execution_count": 99,
     "metadata": {},
     "output_type": "execute_result"
    }
   ],
   "source": [
    "from sklearn.neighbors import KNeighborsClassifier\n",
    "\n",
    "#knn_classifier = KNeighborsClassifier(n_neighbors=5)\n",
    "hyperparameters = {'n_neighbors': 10, 'weights': 'uniform', 'algorithm': 'auto'}\n",
    "knn_classifier = KNeighborsClassifier(**hyperparameters)\n",
    "knn_classifier.fit(x_train, y_train)"
   ]
  },
  {
   "cell_type": "code",
   "execution_count": 100,
   "metadata": {
    "ExecuteTime": {
     "end_time": "2024-04-03T23:35:54.713039Z",
     "start_time": "2024-04-03T23:35:54.007444Z"
    },
    "collapsed": false
   },
   "outputs": [
    {
     "name": "stdout",
     "output_type": "stream",
     "text": [
      "Accuracy: 0.7389773990366802\n",
      "Classification Report:\n",
      "               precision    recall  f1-score   support\n",
      "\n",
      "           0       0.82      0.79      0.80      1566\n",
      "           1       0.87      0.73      0.79      1835\n",
      "           2       0.49      0.75      0.59       432\n",
      "           3       0.68      0.71      0.70       756\n",
      "           4       0.73      0.68      0.70       593\n",
      "           5       0.45      0.75      0.57       216\n",
      "\n",
      "    accuracy                           0.74      5398\n",
      "   macro avg       0.67      0.73      0.69      5398\n",
      "weighted avg       0.77      0.74      0.75      5398\n",
      "\n",
      "Confusion Matrix:\n",
      " [[1233   72   64  104   49   44]\n",
      " [  97 1331  197   72   46   92]\n",
      " [  24   49  323   18    8   10]\n",
      " [  86   40   33  538   38   21]\n",
      " [  56   26   31   49  401   30]\n",
      " [  12   13    7   10   11  163]]\n"
     ]
    }
   ],
   "source": [
    "y_pred = knn_classifier.predict(x_val)\n",
    "\n",
    "# Evaluate the performance\n",
    "accuracy = accuracy_score(y_val, y_pred)\n",
    "report = classification_report(y_val, y_pred)\n",
    "conf_matrix = confusion_matrix(y_val, y_pred)\n",
    "\n",
    "# Print the evaluation metrics\n",
    "print(\"Accuracy:\", accuracy)\n",
    "print(\"Classification Report:\\n\", report)\n",
    "print(\"Confusion Matrix:\\n\", conf_matrix)"
   ]
  },
  {
   "cell_type": "markdown",
   "metadata": {
    "collapsed": false
   },
   "source": [
    "### Boosting Algorithms\n",
    "\n",
    "Testing with some boosting algorithms"
   ]
  },
  {
   "cell_type": "markdown",
   "metadata": {
    "collapsed": false
   },
   "source": [
    "##### XGBOOST"
   ]
  },
  {
   "cell_type": "code",
   "execution_count": 101,
   "metadata": {
    "ExecuteTime": {
     "end_time": "2024-04-03T23:36:26.092051Z",
     "start_time": "2024-04-03T23:36:16.216789Z"
    },
    "collapsed": false
   },
   "outputs": [
    {
     "data": {
      "text/html": [
       "<style>#sk-container-id-9 {color: black;}#sk-container-id-9 pre{padding: 0;}#sk-container-id-9 div.sk-toggleable {background-color: white;}#sk-container-id-9 label.sk-toggleable__label {cursor: pointer;display: block;width: 100%;margin-bottom: 0;padding: 0.3em;box-sizing: border-box;text-align: center;}#sk-container-id-9 label.sk-toggleable__label-arrow:before {content: \"▸\";float: left;margin-right: 0.25em;color: #696969;}#sk-container-id-9 label.sk-toggleable__label-arrow:hover:before {color: black;}#sk-container-id-9 div.sk-estimator:hover label.sk-toggleable__label-arrow:before {color: black;}#sk-container-id-9 div.sk-toggleable__content {max-height: 0;max-width: 0;overflow: hidden;text-align: left;background-color: #f0f8ff;}#sk-container-id-9 div.sk-toggleable__content pre {margin: 0.2em;color: black;border-radius: 0.25em;background-color: #f0f8ff;}#sk-container-id-9 input.sk-toggleable__control:checked~div.sk-toggleable__content {max-height: 200px;max-width: 100%;overflow: auto;}#sk-container-id-9 input.sk-toggleable__control:checked~label.sk-toggleable__label-arrow:before {content: \"▾\";}#sk-container-id-9 div.sk-estimator input.sk-toggleable__control:checked~label.sk-toggleable__label {background-color: #d4ebff;}#sk-container-id-9 div.sk-label input.sk-toggleable__control:checked~label.sk-toggleable__label {background-color: #d4ebff;}#sk-container-id-9 input.sk-hidden--visually {border: 0;clip: rect(1px 1px 1px 1px);clip: rect(1px, 1px, 1px, 1px);height: 1px;margin: -1px;overflow: hidden;padding: 0;position: absolute;width: 1px;}#sk-container-id-9 div.sk-estimator {font-family: monospace;background-color: #f0f8ff;border: 1px dotted black;border-radius: 0.25em;box-sizing: border-box;margin-bottom: 0.5em;}#sk-container-id-9 div.sk-estimator:hover {background-color: #d4ebff;}#sk-container-id-9 div.sk-parallel-item::after {content: \"\";width: 100%;border-bottom: 1px solid gray;flex-grow: 1;}#sk-container-id-9 div.sk-label:hover label.sk-toggleable__label {background-color: #d4ebff;}#sk-container-id-9 div.sk-serial::before {content: \"\";position: absolute;border-left: 1px solid gray;box-sizing: border-box;top: 0;bottom: 0;left: 50%;z-index: 0;}#sk-container-id-9 div.sk-serial {display: flex;flex-direction: column;align-items: center;background-color: white;padding-right: 0.2em;padding-left: 0.2em;position: relative;}#sk-container-id-9 div.sk-item {position: relative;z-index: 1;}#sk-container-id-9 div.sk-parallel {display: flex;align-items: stretch;justify-content: center;background-color: white;position: relative;}#sk-container-id-9 div.sk-item::before, #sk-container-id-9 div.sk-parallel-item::before {content: \"\";position: absolute;border-left: 1px solid gray;box-sizing: border-box;top: 0;bottom: 0;left: 50%;z-index: -1;}#sk-container-id-9 div.sk-parallel-item {display: flex;flex-direction: column;z-index: 1;position: relative;background-color: white;}#sk-container-id-9 div.sk-parallel-item:first-child::after {align-self: flex-end;width: 50%;}#sk-container-id-9 div.sk-parallel-item:last-child::after {align-self: flex-start;width: 50%;}#sk-container-id-9 div.sk-parallel-item:only-child::after {width: 0;}#sk-container-id-9 div.sk-dashed-wrapped {border: 1px dashed gray;margin: 0 0.4em 0.5em 0.4em;box-sizing: border-box;padding-bottom: 0.4em;background-color: white;}#sk-container-id-9 div.sk-label label {font-family: monospace;font-weight: bold;display: inline-block;line-height: 1.2em;}#sk-container-id-9 div.sk-label-container {text-align: center;}#sk-container-id-9 div.sk-container {/* jupyter's `normalize.less` sets `[hidden] { display: none; }` but bootstrap.min.css set `[hidden] { display: none !important; }` so we also need the `!important` here to be able to override the default hidden behavior on the sphinx rendered scikit-learn.org. See: https://github.com/scikit-learn/scikit-learn/issues/21755 */display: inline-block !important;position: relative;}#sk-container-id-9 div.sk-text-repr-fallback {display: none;}</style><div id=\"sk-container-id-9\" class=\"sk-top-container\"><div class=\"sk-text-repr-fallback\"><pre>XGBClassifier(base_score=None, booster=None, callbacks=None,\n",
       "              colsample_bylevel=None, colsample_bynode=None,\n",
       "              colsample_bytree=None, device=None, early_stopping_rounds=None,\n",
       "              enable_categorical=False, eval_metric=None, feature_types=None,\n",
       "              gamma=None, grow_policy=None, importance_type=None,\n",
       "              interaction_constraints=None, learning_rate=None, max_bin=None,\n",
       "              max_cat_threshold=None, max_cat_to_onehot=None,\n",
       "              max_delta_step=None, max_depth=None, max_leaves=None,\n",
       "              min_child_weight=None, missing=nan, monotone_constraints=None,\n",
       "              multi_strategy=None, n_estimators=None, n_jobs=None,\n",
       "              num_parallel_tree=None, objective=&#x27;multi:softprob&#x27;, ...)</pre><b>In a Jupyter environment, please rerun this cell to show the HTML representation or trust the notebook. <br />On GitHub, the HTML representation is unable to render, please try loading this page with nbviewer.org.</b></div><div class=\"sk-container\" hidden><div class=\"sk-item\"><div class=\"sk-estimator sk-toggleable\"><input class=\"sk-toggleable__control sk-hidden--visually\" id=\"sk-estimator-id-9\" type=\"checkbox\" checked><label for=\"sk-estimator-id-9\" class=\"sk-toggleable__label sk-toggleable__label-arrow\">XGBClassifier</label><div class=\"sk-toggleable__content\"><pre>XGBClassifier(base_score=None, booster=None, callbacks=None,\n",
       "              colsample_bylevel=None, colsample_bynode=None,\n",
       "              colsample_bytree=None, device=None, early_stopping_rounds=None,\n",
       "              enable_categorical=False, eval_metric=None, feature_types=None,\n",
       "              gamma=None, grow_policy=None, importance_type=None,\n",
       "              interaction_constraints=None, learning_rate=None, max_bin=None,\n",
       "              max_cat_threshold=None, max_cat_to_onehot=None,\n",
       "              max_delta_step=None, max_depth=None, max_leaves=None,\n",
       "              min_child_weight=None, missing=nan, monotone_constraints=None,\n",
       "              multi_strategy=None, n_estimators=None, n_jobs=None,\n",
       "              num_parallel_tree=None, objective=&#x27;multi:softprob&#x27;, ...)</pre></div></div></div></div></div>"
      ],
      "text/plain": [
       "XGBClassifier(base_score=None, booster=None, callbacks=None,\n",
       "              colsample_bylevel=None, colsample_bynode=None,\n",
       "              colsample_bytree=None, device=None, early_stopping_rounds=None,\n",
       "              enable_categorical=False, eval_metric=None, feature_types=None,\n",
       "              gamma=None, grow_policy=None, importance_type=None,\n",
       "              interaction_constraints=None, learning_rate=None, max_bin=None,\n",
       "              max_cat_threshold=None, max_cat_to_onehot=None,\n",
       "              max_delta_step=None, max_depth=None, max_leaves=None,\n",
       "              min_child_weight=None, missing=nan, monotone_constraints=None,\n",
       "              multi_strategy=None, n_estimators=None, n_jobs=None,\n",
       "              num_parallel_tree=None, objective='multi:softprob', ...)"
      ]
     },
     "execution_count": 101,
     "metadata": {},
     "output_type": "execute_result"
    }
   ],
   "source": [
    "import xgboost as xgb\n",
    "# XGBoost Classifier\n",
    "xgb_classifier = xgb.XGBClassifier()\n",
    "xgb_classifier.fit(x_train, y_train)"
   ]
  },
  {
   "cell_type": "code",
   "execution_count": 102,
   "metadata": {
    "ExecuteTime": {
     "end_time": "2024-04-03T23:36:28.971968Z",
     "start_time": "2024-04-03T23:36:28.922534Z"
    },
    "collapsed": false
   },
   "outputs": [
    {
     "name": "stdout",
     "output_type": "stream",
     "text": [
      "Accuracy: 0.797332345313079\n",
      "Classification Report:\n",
      "               precision    recall  f1-score   support\n",
      "\n",
      "           0       0.90      0.82      0.86      1566\n",
      "           1       0.92      0.78      0.84      1835\n",
      "           2       0.56      0.81      0.66       432\n",
      "           3       0.76      0.77      0.77       756\n",
      "           4       0.75      0.79      0.77       593\n",
      "           5       0.46      0.83      0.59       216\n",
      "\n",
      "    accuracy                           0.80      5398\n",
      "   macro avg       0.72      0.80      0.75      5398\n",
      "weighted avg       0.83      0.80      0.81      5398\n",
      "\n",
      "Confusion Matrix:\n",
      " [[1288   36   43   85   60   54]\n",
      " [  50 1435  182   53   38   77]\n",
      " [  13   38  349   11    3   18]\n",
      " [  47   29   30  585   41   24]\n",
      " [  25   18   15   30  468   37]\n",
      " [   7    6    7    2   15  179]]\n"
     ]
    }
   ],
   "source": [
    "y_pred = xgb_classifier.predict(x_val)\n",
    "\n",
    "# Evaluate the performance\n",
    "accuracy = accuracy_score(y_val, y_pred)\n",
    "report = classification_report(y_val, y_pred)\n",
    "conf_matrix = confusion_matrix(y_val, y_pred)\n",
    "\n",
    "# Print the evaluation metrics\n",
    "print(\"Accuracy:\", accuracy)\n",
    "print(\"Classification Report:\\n\", report)\n",
    "print(\"Confusion Matrix:\\n\", conf_matrix)"
   ]
  },
  {
   "cell_type": "markdown",
   "metadata": {
    "collapsed": false
   },
   "source": [
    "##### Lightgbm"
   ]
  },
  {
   "cell_type": "code",
   "execution_count": 103,
   "metadata": {
    "ExecuteTime": {
     "end_time": "2024-04-03T23:36:44.157635Z",
     "start_time": "2024-04-03T23:36:38.281909Z"
    },
    "collapsed": false
   },
   "outputs": [
    {
     "name": "stdout",
     "output_type": "stream",
     "text": [
      "[LightGBM] [Info] Auto-choosing col-wise multi-threading, the overhead of testing was 0.010635 seconds.\n",
      "You can set `force_col_wise=true` to remove the overhead.\n",
      "[LightGBM] [Info] Total Bins 22440\n",
      "[LightGBM] [Info] Number of data points in the train set: 42607, number of used features: 88\n",
      "[LightGBM] [Info] Start training from score -1.783928\n",
      "[LightGBM] [Info] Start training from score -1.795592\n",
      "[LightGBM] [Info] Start training from score -1.775718\n",
      "[LightGBM] [Info] Start training from score -1.780023\n",
      "[LightGBM] [Info] Start training from score -1.812270\n",
      "[LightGBM] [Info] Start training from score -1.803540\n"
     ]
    },
    {
     "data": {
      "text/html": [
       "<style>#sk-container-id-10 {color: black;}#sk-container-id-10 pre{padding: 0;}#sk-container-id-10 div.sk-toggleable {background-color: white;}#sk-container-id-10 label.sk-toggleable__label {cursor: pointer;display: block;width: 100%;margin-bottom: 0;padding: 0.3em;box-sizing: border-box;text-align: center;}#sk-container-id-10 label.sk-toggleable__label-arrow:before {content: \"▸\";float: left;margin-right: 0.25em;color: #696969;}#sk-container-id-10 label.sk-toggleable__label-arrow:hover:before {color: black;}#sk-container-id-10 div.sk-estimator:hover label.sk-toggleable__label-arrow:before {color: black;}#sk-container-id-10 div.sk-toggleable__content {max-height: 0;max-width: 0;overflow: hidden;text-align: left;background-color: #f0f8ff;}#sk-container-id-10 div.sk-toggleable__content pre {margin: 0.2em;color: black;border-radius: 0.25em;background-color: #f0f8ff;}#sk-container-id-10 input.sk-toggleable__control:checked~div.sk-toggleable__content {max-height: 200px;max-width: 100%;overflow: auto;}#sk-container-id-10 input.sk-toggleable__control:checked~label.sk-toggleable__label-arrow:before {content: \"▾\";}#sk-container-id-10 div.sk-estimator input.sk-toggleable__control:checked~label.sk-toggleable__label {background-color: #d4ebff;}#sk-container-id-10 div.sk-label input.sk-toggleable__control:checked~label.sk-toggleable__label {background-color: #d4ebff;}#sk-container-id-10 input.sk-hidden--visually {border: 0;clip: rect(1px 1px 1px 1px);clip: rect(1px, 1px, 1px, 1px);height: 1px;margin: -1px;overflow: hidden;padding: 0;position: absolute;width: 1px;}#sk-container-id-10 div.sk-estimator {font-family: monospace;background-color: #f0f8ff;border: 1px dotted black;border-radius: 0.25em;box-sizing: border-box;margin-bottom: 0.5em;}#sk-container-id-10 div.sk-estimator:hover {background-color: #d4ebff;}#sk-container-id-10 div.sk-parallel-item::after {content: \"\";width: 100%;border-bottom: 1px solid gray;flex-grow: 1;}#sk-container-id-10 div.sk-label:hover label.sk-toggleable__label {background-color: #d4ebff;}#sk-container-id-10 div.sk-serial::before {content: \"\";position: absolute;border-left: 1px solid gray;box-sizing: border-box;top: 0;bottom: 0;left: 50%;z-index: 0;}#sk-container-id-10 div.sk-serial {display: flex;flex-direction: column;align-items: center;background-color: white;padding-right: 0.2em;padding-left: 0.2em;position: relative;}#sk-container-id-10 div.sk-item {position: relative;z-index: 1;}#sk-container-id-10 div.sk-parallel {display: flex;align-items: stretch;justify-content: center;background-color: white;position: relative;}#sk-container-id-10 div.sk-item::before, #sk-container-id-10 div.sk-parallel-item::before {content: \"\";position: absolute;border-left: 1px solid gray;box-sizing: border-box;top: 0;bottom: 0;left: 50%;z-index: -1;}#sk-container-id-10 div.sk-parallel-item {display: flex;flex-direction: column;z-index: 1;position: relative;background-color: white;}#sk-container-id-10 div.sk-parallel-item:first-child::after {align-self: flex-end;width: 50%;}#sk-container-id-10 div.sk-parallel-item:last-child::after {align-self: flex-start;width: 50%;}#sk-container-id-10 div.sk-parallel-item:only-child::after {width: 0;}#sk-container-id-10 div.sk-dashed-wrapped {border: 1px dashed gray;margin: 0 0.4em 0.5em 0.4em;box-sizing: border-box;padding-bottom: 0.4em;background-color: white;}#sk-container-id-10 div.sk-label label {font-family: monospace;font-weight: bold;display: inline-block;line-height: 1.2em;}#sk-container-id-10 div.sk-label-container {text-align: center;}#sk-container-id-10 div.sk-container {/* jupyter's `normalize.less` sets `[hidden] { display: none; }` but bootstrap.min.css set `[hidden] { display: none !important; }` so we also need the `!important` here to be able to override the default hidden behavior on the sphinx rendered scikit-learn.org. See: https://github.com/scikit-learn/scikit-learn/issues/21755 */display: inline-block !important;position: relative;}#sk-container-id-10 div.sk-text-repr-fallback {display: none;}</style><div id=\"sk-container-id-10\" class=\"sk-top-container\"><div class=\"sk-text-repr-fallback\"><pre>LGBMClassifier()</pre><b>In a Jupyter environment, please rerun this cell to show the HTML representation or trust the notebook. <br />On GitHub, the HTML representation is unable to render, please try loading this page with nbviewer.org.</b></div><div class=\"sk-container\" hidden><div class=\"sk-item\"><div class=\"sk-estimator sk-toggleable\"><input class=\"sk-toggleable__control sk-hidden--visually\" id=\"sk-estimator-id-10\" type=\"checkbox\" checked><label for=\"sk-estimator-id-10\" class=\"sk-toggleable__label sk-toggleable__label-arrow\">LGBMClassifier</label><div class=\"sk-toggleable__content\"><pre>LGBMClassifier()</pre></div></div></div></div></div>"
      ],
      "text/plain": [
       "LGBMClassifier()"
      ]
     },
     "execution_count": 103,
     "metadata": {},
     "output_type": "execute_result"
    }
   ],
   "source": [
    "import lightgbm as lgb\n",
    "\n",
    "lgb_classifier = lgb.LGBMClassifier()\n",
    "lgb_classifier.fit(x_train, y_train)\n"
   ]
  },
  {
   "cell_type": "code",
   "execution_count": 104,
   "metadata": {
    "ExecuteTime": {
     "end_time": "2024-04-03T23:36:47.439946Z",
     "start_time": "2024-04-03T23:36:47.370616Z"
    },
    "collapsed": false
   },
   "outputs": [
    {
     "name": "stdout",
     "output_type": "stream",
     "text": [
      "\n",
      "LightGBM Classifier Evaluation:\n",
      "Accuracy: 0.7954798073360504\n",
      "Classification Report:\n",
      "               precision    recall  f1-score   support\n",
      "\n",
      "           0       0.90      0.83      0.86      1566\n",
      "           1       0.92      0.78      0.84      1835\n",
      "           2       0.56      0.80      0.66       432\n",
      "           3       0.78      0.78      0.78       756\n",
      "           4       0.73      0.77      0.75       593\n",
      "           5       0.45      0.82      0.58       216\n",
      "\n",
      "    accuracy                           0.80      5398\n",
      "   macro avg       0.72      0.80      0.75      5398\n",
      "weighted avg       0.82      0.80      0.80      5398\n",
      "\n",
      "Confusion Matrix:\n",
      " [[1294   42   39   77   66   48]\n",
      " [  53 1433  179   48   37   85]\n",
      " [  13   38  346    7   10   18]\n",
      " [  46   22   29  586   44   29]\n",
      " [  27   17   23   34  457   35]\n",
      " [   7   10    5    2   14  178]]\n"
     ]
    }
   ],
   "source": [
    "y_pred_lgb = lgb_classifier.predict(x_val)\n",
    "\n",
    "# Evaluate the performance for LightGBM\n",
    "accuracy_lgb = accuracy_score(y_val, y_pred_lgb)\n",
    "report_lgb = classification_report(y_val, y_pred_lgb)\n",
    "conf_matrix_lgb = confusion_matrix(y_val, y_pred_lgb)\n",
    "\n",
    "# Print the evaluation metrics for LightGBM\n",
    "print(\"\\nLightGBM Classifier Evaluation:\")\n",
    "print(\"Accuracy:\", accuracy_lgb)\n",
    "print(\"Classification Report:\\n\", report_lgb)\n",
    "print(\"Confusion Matrix:\\n\", conf_matrix_lgb)"
   ]
  },
  {
   "cell_type": "code",
   "execution_count": 105,
   "metadata": {
    "ExecuteTime": {
     "end_time": "2024-04-03T23:37:57.127746Z",
     "start_time": "2024-04-03T23:36:58.277968Z"
    },
    "collapsed": false
   },
   "outputs": [
    {
     "data": {
      "text/html": [
       "<style>#sk-container-id-11 {color: black;}#sk-container-id-11 pre{padding: 0;}#sk-container-id-11 div.sk-toggleable {background-color: white;}#sk-container-id-11 label.sk-toggleable__label {cursor: pointer;display: block;width: 100%;margin-bottom: 0;padding: 0.3em;box-sizing: border-box;text-align: center;}#sk-container-id-11 label.sk-toggleable__label-arrow:before {content: \"▸\";float: left;margin-right: 0.25em;color: #696969;}#sk-container-id-11 label.sk-toggleable__label-arrow:hover:before {color: black;}#sk-container-id-11 div.sk-estimator:hover label.sk-toggleable__label-arrow:before {color: black;}#sk-container-id-11 div.sk-toggleable__content {max-height: 0;max-width: 0;overflow: hidden;text-align: left;background-color: #f0f8ff;}#sk-container-id-11 div.sk-toggleable__content pre {margin: 0.2em;color: black;border-radius: 0.25em;background-color: #f0f8ff;}#sk-container-id-11 input.sk-toggleable__control:checked~div.sk-toggleable__content {max-height: 200px;max-width: 100%;overflow: auto;}#sk-container-id-11 input.sk-toggleable__control:checked~label.sk-toggleable__label-arrow:before {content: \"▾\";}#sk-container-id-11 div.sk-estimator input.sk-toggleable__control:checked~label.sk-toggleable__label {background-color: #d4ebff;}#sk-container-id-11 div.sk-label input.sk-toggleable__control:checked~label.sk-toggleable__label {background-color: #d4ebff;}#sk-container-id-11 input.sk-hidden--visually {border: 0;clip: rect(1px 1px 1px 1px);clip: rect(1px, 1px, 1px, 1px);height: 1px;margin: -1px;overflow: hidden;padding: 0;position: absolute;width: 1px;}#sk-container-id-11 div.sk-estimator {font-family: monospace;background-color: #f0f8ff;border: 1px dotted black;border-radius: 0.25em;box-sizing: border-box;margin-bottom: 0.5em;}#sk-container-id-11 div.sk-estimator:hover {background-color: #d4ebff;}#sk-container-id-11 div.sk-parallel-item::after {content: \"\";width: 100%;border-bottom: 1px solid gray;flex-grow: 1;}#sk-container-id-11 div.sk-label:hover label.sk-toggleable__label {background-color: #d4ebff;}#sk-container-id-11 div.sk-serial::before {content: \"\";position: absolute;border-left: 1px solid gray;box-sizing: border-box;top: 0;bottom: 0;left: 50%;z-index: 0;}#sk-container-id-11 div.sk-serial {display: flex;flex-direction: column;align-items: center;background-color: white;padding-right: 0.2em;padding-left: 0.2em;position: relative;}#sk-container-id-11 div.sk-item {position: relative;z-index: 1;}#sk-container-id-11 div.sk-parallel {display: flex;align-items: stretch;justify-content: center;background-color: white;position: relative;}#sk-container-id-11 div.sk-item::before, #sk-container-id-11 div.sk-parallel-item::before {content: \"\";position: absolute;border-left: 1px solid gray;box-sizing: border-box;top: 0;bottom: 0;left: 50%;z-index: -1;}#sk-container-id-11 div.sk-parallel-item {display: flex;flex-direction: column;z-index: 1;position: relative;background-color: white;}#sk-container-id-11 div.sk-parallel-item:first-child::after {align-self: flex-end;width: 50%;}#sk-container-id-11 div.sk-parallel-item:last-child::after {align-self: flex-start;width: 50%;}#sk-container-id-11 div.sk-parallel-item:only-child::after {width: 0;}#sk-container-id-11 div.sk-dashed-wrapped {border: 1px dashed gray;margin: 0 0.4em 0.5em 0.4em;box-sizing: border-box;padding-bottom: 0.4em;background-color: white;}#sk-container-id-11 div.sk-label label {font-family: monospace;font-weight: bold;display: inline-block;line-height: 1.2em;}#sk-container-id-11 div.sk-label-container {text-align: center;}#sk-container-id-11 div.sk-container {/* jupyter's `normalize.less` sets `[hidden] { display: none; }` but bootstrap.min.css set `[hidden] { display: none !important; }` so we also need the `!important` here to be able to override the default hidden behavior on the sphinx rendered scikit-learn.org. See: https://github.com/scikit-learn/scikit-learn/issues/21755 */display: inline-block !important;position: relative;}#sk-container-id-11 div.sk-text-repr-fallback {display: none;}</style><div id=\"sk-container-id-11\" class=\"sk-top-container\"><div class=\"sk-text-repr-fallback\"><pre>AdaBoostClassifier()</pre><b>In a Jupyter environment, please rerun this cell to show the HTML representation or trust the notebook. <br />On GitHub, the HTML representation is unable to render, please try loading this page with nbviewer.org.</b></div><div class=\"sk-container\" hidden><div class=\"sk-item\"><div class=\"sk-estimator sk-toggleable\"><input class=\"sk-toggleable__control sk-hidden--visually\" id=\"sk-estimator-id-11\" type=\"checkbox\" checked><label for=\"sk-estimator-id-11\" class=\"sk-toggleable__label sk-toggleable__label-arrow\">AdaBoostClassifier</label><div class=\"sk-toggleable__content\"><pre>AdaBoostClassifier()</pre></div></div></div></div></div>"
      ],
      "text/plain": [
       "AdaBoostClassifier()"
      ]
     },
     "execution_count": 105,
     "metadata": {},
     "output_type": "execute_result"
    }
   ],
   "source": [
    "from sklearn.ensemble import AdaBoostClassifier\n",
    "\n",
    "# AdaBoost Classifier\n",
    "adaboost_classifier = AdaBoostClassifier()\n",
    "adaboost_classifier.fit(x_train, y_train)\n"
   ]
  },
  {
   "cell_type": "code",
   "execution_count": 106,
   "metadata": {
    "ExecuteTime": {
     "end_time": "2024-04-03T23:43:45.571840Z",
     "start_time": "2024-04-03T23:43:45.446324Z"
    },
    "collapsed": false
   },
   "outputs": [
    {
     "name": "stdout",
     "output_type": "stream",
     "text": [
      "AdaBoost Classifier Evaluation:\n",
      "Accuracy: 0.6726565394590589\n",
      "Classification Report:\n",
      "               precision    recall  f1-score   support\n",
      "\n",
      "           0       0.84      0.71      0.77      1566\n",
      "           1       0.85      0.66      0.74      1835\n",
      "           2       0.41      0.70      0.52       432\n",
      "           3       0.64      0.63      0.63       756\n",
      "           4       0.58      0.64      0.61       593\n",
      "           5       0.29      0.67      0.41       216\n",
      "\n",
      "    accuracy                           0.67      5398\n",
      "   macro avg       0.60      0.67      0.61      5398\n",
      "weighted avg       0.73      0.67      0.69      5398\n",
      "\n",
      "Confusion Matrix:\n",
      " [[1114   73   75  108  109   87]\n",
      " [  70 1212  274   86   68  125]\n",
      " [  19   63  302   15   12   21]\n",
      " [  80   44   51  476   58   47]\n",
      " [  35   25   26   54  382   71]\n",
      " [  10   12    7    8   34  145]]\n"
     ]
    }
   ],
   "source": [
    "y_pred_adaboost = adaboost_classifier.predict(x_val)\n",
    "\n",
    "# Evaluate the performance for AdaBoost\n",
    "accuracy_adaboost = accuracy_score(y_val, y_pred_adaboost)\n",
    "report_adaboost = classification_report(y_val, y_pred_adaboost)\n",
    "conf_matrix_adaboost = confusion_matrix(y_val, y_pred_adaboost)\n",
    "\n",
    "# Print the evaluation metrics for AdaBoost\n",
    "print(\"AdaBoost Classifier Evaluation:\")\n",
    "print(\"Accuracy:\", accuracy_adaboost)\n",
    "print(\"Classification Report:\\n\", report_adaboost)\n",
    "print(\"Confusion Matrix:\\n\", conf_matrix_adaboost)\n"
   ]
  },
  {
   "cell_type": "markdown",
   "metadata": {
    "collapsed": false
   },
   "source": [
    "### Naive Bayes"
   ]
  },
  {
   "cell_type": "markdown",
   "metadata": {
    "collapsed": false
   },
   "source": [
    "### Hypertuning"
   ]
  },
  {
   "cell_type": "code",
   "execution_count": 62,
   "metadata": {
    "ExecuteTime": {
     "end_time": "2024-04-03T21:15:46.421091Z",
     "start_time": "2024-04-03T21:15:42.731357Z"
    },
    "collapsed": false
   },
   "outputs": [
    {
     "name": "stderr",
     "output_type": "stream",
     "text": [
      "[I 2024-04-03 22:15:43,209] A new study created in memory with name: no-name-01cfcdeb-373c-434b-954d-d263f6e58a1b\n",
      "C:\\Users\\jcarv\\AppData\\Local\\Temp\\ipykernel_57496\\3324414873.py:9: FutureWarning: suggest_loguniform has been deprecated in v3.0.0. This feature will be removed in v6.0.0. See https://github.com/optuna/optuna/releases/tag/v3.0.0. Use suggest_float(..., log=True) instead.\n",
      "  alpha = trial.suggest_loguniform('alpha', 1e-5, 1e-1)\n",
      "[I 2024-04-03 22:15:43,236] Trial 0 finished with value: 0.7600668027463351 and parameters: {'alpha': 0.0013964537506036552}. Best is trial 0 with value: 0.7600668027463351.\n",
      "C:\\Users\\jcarv\\AppData\\Local\\Temp\\ipykernel_57496\\3324414873.py:9: FutureWarning: suggest_loguniform has been deprecated in v3.0.0. This feature will be removed in v6.0.0. See https://github.com/optuna/optuna/releases/tag/v3.0.0. Use suggest_float(..., log=True) instead.\n",
      "  alpha = trial.suggest_loguniform('alpha', 1e-5, 1e-1)\n",
      "[I 2024-04-03 22:15:43,263] Trial 1 finished with value: 0.8287251809241046 and parameters: {'alpha': 0.04331146871215102}. Best is trial 1 with value: 0.8287251809241046.\n",
      "C:\\Users\\jcarv\\AppData\\Local\\Temp\\ipykernel_57496\\3324414873.py:9: FutureWarning: suggest_loguniform has been deprecated in v3.0.0. This feature will be removed in v6.0.0. See https://github.com/optuna/optuna/releases/tag/v3.0.0. Use suggest_float(..., log=True) instead.\n",
      "  alpha = trial.suggest_loguniform('alpha', 1e-5, 1e-1)\n",
      "[I 2024-04-03 22:15:43,285] Trial 2 finished with value: 0.7402115420300612 and parameters: {'alpha': 2.781862754084955e-05}. Best is trial 1 with value: 0.8287251809241046.\n",
      "C:\\Users\\jcarv\\AppData\\Local\\Temp\\ipykernel_57496\\3324414873.py:9: FutureWarning: suggest_loguniform has been deprecated in v3.0.0. This feature will be removed in v6.0.0. See https://github.com/optuna/optuna/releases/tag/v3.0.0. Use suggest_float(..., log=True) instead.\n",
      "  alpha = trial.suggest_loguniform('alpha', 1e-5, 1e-1)\n",
      "[I 2024-04-03 22:15:43,309] Trial 3 finished with value: 0.7613657450361848 and parameters: {'alpha': 0.0015582126011509535}. Best is trial 1 with value: 0.8287251809241046.\n",
      "C:\\Users\\jcarv\\AppData\\Local\\Temp\\ipykernel_57496\\3324414873.py:9: FutureWarning: suggest_loguniform has been deprecated in v3.0.0. This feature will be removed in v6.0.0. See https://github.com/optuna/optuna/releases/tag/v3.0.0. Use suggest_float(..., log=True) instead.\n",
      "  alpha = trial.suggest_loguniform('alpha', 1e-5, 1e-1)\n",
      "[I 2024-04-03 22:15:43,329] Trial 4 finished with value: 0.7719428465392466 and parameters: {'alpha': 0.002811445092563899}. Best is trial 1 with value: 0.8287251809241046.\n",
      "C:\\Users\\jcarv\\AppData\\Local\\Temp\\ipykernel_57496\\3324414873.py:9: FutureWarning: suggest_loguniform has been deprecated in v3.0.0. This feature will be removed in v6.0.0. See https://github.com/optuna/optuna/releases/tag/v3.0.0. Use suggest_float(..., log=True) instead.\n",
      "  alpha = trial.suggest_loguniform('alpha', 1e-5, 1e-1)\n",
      "[I 2024-04-03 22:15:43,358] Trial 5 finished with value: 0.7691593987752829 and parameters: {'alpha': 0.002407480951793995}. Best is trial 1 with value: 0.8287251809241046.\n",
      "C:\\Users\\jcarv\\AppData\\Local\\Temp\\ipykernel_57496\\3324414873.py:9: FutureWarning: suggest_loguniform has been deprecated in v3.0.0. This feature will be removed in v6.0.0. See https://github.com/optuna/optuna/releases/tag/v3.0.0. Use suggest_float(..., log=True) instead.\n",
      "  alpha = trial.suggest_loguniform('alpha', 1e-5, 1e-1)\n",
      "[I 2024-04-03 22:15:43,381] Trial 6 finished with value: 0.8277973650027834 and parameters: {'alpha': 0.040469538176328874}. Best is trial 1 with value: 0.8287251809241046.\n",
      "C:\\Users\\jcarv\\AppData\\Local\\Temp\\ipykernel_57496\\3324414873.py:9: FutureWarning: suggest_loguniform has been deprecated in v3.0.0. This feature will be removed in v6.0.0. See https://github.com/optuna/optuna/releases/tag/v3.0.0. Use suggest_float(..., log=True) instead.\n",
      "  alpha = trial.suggest_loguniform('alpha', 1e-5, 1e-1)\n",
      "[I 2024-04-03 22:15:43,407] Trial 7 finished with value: 0.7589534236407497 and parameters: {'alpha': 0.0011329034360930614}. Best is trial 1 with value: 0.8287251809241046.\n",
      "C:\\Users\\jcarv\\AppData\\Local\\Temp\\ipykernel_57496\\3324414873.py:9: FutureWarning: suggest_loguniform has been deprecated in v3.0.0. This feature will be removed in v6.0.0. See https://github.com/optuna/optuna/releases/tag/v3.0.0. Use suggest_float(..., log=True) instead.\n",
      "  alpha = trial.suggest_loguniform('alpha', 1e-5, 1e-1)\n",
      "[I 2024-04-03 22:15:43,429] Trial 8 finished with value: 0.7502319539803303 and parameters: {'alpha': 0.00034024124022822953}. Best is trial 1 with value: 0.8287251809241046.\n",
      "C:\\Users\\jcarv\\AppData\\Local\\Temp\\ipykernel_57496\\3324414873.py:9: FutureWarning: suggest_loguniform has been deprecated in v3.0.0. This feature will be removed in v6.0.0. See https://github.com/optuna/optuna/releases/tag/v3.0.0. Use suggest_float(..., log=True) instead.\n",
      "  alpha = trial.suggest_loguniform('alpha', 1e-5, 1e-1)\n",
      "[I 2024-04-03 22:15:43,452] Trial 9 finished with value: 0.7554277231397291 and parameters: {'alpha': 0.0008134573972971711}. Best is trial 1 with value: 0.8287251809241046.\n",
      "C:\\Users\\jcarv\\AppData\\Local\\Temp\\ipykernel_57496\\3324414873.py:9: FutureWarning: suggest_loguniform has been deprecated in v3.0.0. This feature will be removed in v6.0.0. See https://github.com/optuna/optuna/releases/tag/v3.0.0. Use suggest_float(..., log=True) instead.\n",
      "  alpha = trial.suggest_loguniform('alpha', 1e-5, 1e-1)\n",
      "[I 2024-04-03 22:15:43,501] Trial 10 finished with value: 0.8339209500835034 and parameters: {'alpha': 0.055054774698795474}. Best is trial 10 with value: 0.8339209500835034.\n",
      "C:\\Users\\jcarv\\AppData\\Local\\Temp\\ipykernel_57496\\3324414873.py:9: FutureWarning: suggest_loguniform has been deprecated in v3.0.0. This feature will be removed in v6.0.0. See https://github.com/optuna/optuna/releases/tag/v3.0.0. Use suggest_float(..., log=True) instead.\n",
      "  alpha = trial.suggest_loguniform('alpha', 1e-5, 1e-1)\n",
      "[I 2024-04-03 22:15:43,530] Trial 11 finished with value: 0.8406012247170161 and parameters: {'alpha': 0.06680894344819592}. Best is trial 11 with value: 0.8406012247170161.\n",
      "C:\\Users\\jcarv\\AppData\\Local\\Temp\\ipykernel_57496\\3324414873.py:9: FutureWarning: suggest_loguniform has been deprecated in v3.0.0. This feature will be removed in v6.0.0. See https://github.com/optuna/optuna/releases/tag/v3.0.0. Use suggest_float(..., log=True) instead.\n",
      "  alpha = trial.suggest_loguniform('alpha', 1e-5, 1e-1)\n",
      "[I 2024-04-03 22:15:43,561] Trial 12 finished with value: 0.8495082575616998 and parameters: {'alpha': 0.08916341015318022}. Best is trial 12 with value: 0.8495082575616998.\n",
      "C:\\Users\\jcarv\\AppData\\Local\\Temp\\ipykernel_57496\\3324414873.py:9: FutureWarning: suggest_loguniform has been deprecated in v3.0.0. This feature will be removed in v6.0.0. See https://github.com/optuna/optuna/releases/tag/v3.0.0. Use suggest_float(..., log=True) instead.\n",
      "  alpha = trial.suggest_loguniform('alpha', 1e-5, 1e-1)\n",
      "[I 2024-04-03 22:15:43,589] Trial 13 finished with value: 0.7986639450732974 and parameters: {'alpha': 0.011431311195057707}. Best is trial 12 with value: 0.8495082575616998.\n",
      "C:\\Users\\jcarv\\AppData\\Local\\Temp\\ipykernel_57496\\3324414873.py:9: FutureWarning: suggest_loguniform has been deprecated in v3.0.0. This feature will be removed in v6.0.0. See https://github.com/optuna/optuna/releases/tag/v3.0.0. Use suggest_float(..., log=True) instead.\n",
      "  alpha = trial.suggest_loguniform('alpha', 1e-5, 1e-1)\n",
      "[I 2024-04-03 22:15:43,619] Trial 14 finished with value: 0.797550565967712 and parameters: {'alpha': 0.010898756550024395}. Best is trial 12 with value: 0.8495082575616998.\n",
      "C:\\Users\\jcarv\\AppData\\Local\\Temp\\ipykernel_57496\\3324414873.py:9: FutureWarning: suggest_loguniform has been deprecated in v3.0.0. This feature will be removed in v6.0.0. See https://github.com/optuna/optuna/releases/tag/v3.0.0. Use suggest_float(..., log=True) instead.\n",
      "  alpha = trial.suggest_loguniform('alpha', 1e-5, 1e-1)\n",
      "[I 2024-04-03 22:15:43,652] Trial 15 finished with value: 0.8470959361662647 and parameters: {'alpha': 0.08273684358328953}. Best is trial 12 with value: 0.8495082575616998.\n",
      "C:\\Users\\jcarv\\AppData\\Local\\Temp\\ipykernel_57496\\3324414873.py:9: FutureWarning: suggest_loguniform has been deprecated in v3.0.0. This feature will be removed in v6.0.0. See https://github.com/optuna/optuna/releases/tag/v3.0.0. Use suggest_float(..., log=True) instead.\n",
      "  alpha = trial.suggest_loguniform('alpha', 1e-5, 1e-1)\n",
      "[I 2024-04-03 22:15:43,681] Trial 16 finished with value: 0.797550565967712 and parameters: {'alpha': 0.010879769729684125}. Best is trial 12 with value: 0.8495082575616998.\n",
      "C:\\Users\\jcarv\\AppData\\Local\\Temp\\ipykernel_57496\\3324414873.py:9: FutureWarning: suggest_loguniform has been deprecated in v3.0.0. This feature will be removed in v6.0.0. See https://github.com/optuna/optuna/releases/tag/v3.0.0. Use suggest_float(..., log=True) instead.\n",
      "  alpha = trial.suggest_loguniform('alpha', 1e-5, 1e-1)\n",
      "[I 2024-04-03 22:15:43,715] Trial 17 finished with value: 0.7455928743737242 and parameters: {'alpha': 0.00011246214225492055}. Best is trial 12 with value: 0.8495082575616998.\n",
      "C:\\Users\\jcarv\\AppData\\Local\\Temp\\ipykernel_57496\\3324414873.py:9: FutureWarning: suggest_loguniform has been deprecated in v3.0.0. This feature will be removed in v6.0.0. See https://github.com/optuna/optuna/releases/tag/v3.0.0. Use suggest_float(..., log=True) instead.\n",
      "  alpha = trial.suggest_loguniform('alpha', 1e-5, 1e-1)\n",
      "[I 2024-04-03 22:15:43,750] Trial 18 finished with value: 0.8079421042865096 and parameters: {'alpha': 0.016999879975860648}. Best is trial 12 with value: 0.8495082575616998.\n",
      "C:\\Users\\jcarv\\AppData\\Local\\Temp\\ipykernel_57496\\3324414873.py:9: FutureWarning: suggest_loguniform has been deprecated in v3.0.0. This feature will be removed in v6.0.0. See https://github.com/optuna/optuna/releases/tag/v3.0.0. Use suggest_float(..., log=True) instead.\n",
      "  alpha = trial.suggest_loguniform('alpha', 1e-5, 1e-1)\n",
      "[I 2024-04-03 22:15:43,781] Trial 19 finished with value: 0.8483948784561143 and parameters: {'alpha': 0.0869243161000582}. Best is trial 12 with value: 0.8495082575616998.\n",
      "C:\\Users\\jcarv\\AppData\\Local\\Temp\\ipykernel_57496\\3324414873.py:9: FutureWarning: suggest_loguniform has been deprecated in v3.0.0. This feature will be removed in v6.0.0. See https://github.com/optuna/optuna/releases/tag/v3.0.0. Use suggest_float(..., log=True) instead.\n",
      "  alpha = trial.suggest_loguniform('alpha', 1e-5, 1e-1)\n",
      "[I 2024-04-03 22:15:43,811] Trial 20 finished with value: 0.7793653739098163 and parameters: {'alpha': 0.004692358087288282}. Best is trial 12 with value: 0.8495082575616998.\n",
      "C:\\Users\\jcarv\\AppData\\Local\\Temp\\ipykernel_57496\\3324414873.py:9: FutureWarning: suggest_loguniform has been deprecated in v3.0.0. This feature will be removed in v6.0.0. See https://github.com/optuna/optuna/releases/tag/v3.0.0. Use suggest_float(..., log=True) instead.\n",
      "  alpha = trial.suggest_loguniform('alpha', 1e-5, 1e-1)\n",
      "[I 2024-04-03 22:15:43,844] Trial 21 finished with value: 0.8513638894043422 and parameters: {'alpha': 0.09705368695815624}. Best is trial 21 with value: 0.8513638894043422.\n",
      "C:\\Users\\jcarv\\AppData\\Local\\Temp\\ipykernel_57496\\3324414873.py:9: FutureWarning: suggest_loguniform has been deprecated in v3.0.0. This feature will be removed in v6.0.0. See https://github.com/optuna/optuna/releases/tag/v3.0.0. Use suggest_float(..., log=True) instead.\n",
      "  alpha = trial.suggest_loguniform('alpha', 1e-5, 1e-1)\n",
      "[I 2024-04-03 22:15:43,878] Trial 22 finished with value: 0.8168491371311932 and parameters: {'alpha': 0.0246224817450502}. Best is trial 21 with value: 0.8513638894043422.\n",
      "C:\\Users\\jcarv\\AppData\\Local\\Temp\\ipykernel_57496\\3324414873.py:9: FutureWarning: suggest_loguniform has been deprecated in v3.0.0. This feature will be removed in v6.0.0. See https://github.com/optuna/optuna/releases/tag/v3.0.0. Use suggest_float(..., log=True) instead.\n",
      "  alpha = trial.suggest_loguniform('alpha', 1e-5, 1e-1)\n",
      "[I 2024-04-03 22:15:43,912] Trial 23 finished with value: 0.8513638894043422 and parameters: {'alpha': 0.09710481092898553}. Best is trial 21 with value: 0.8513638894043422.\n",
      "C:\\Users\\jcarv\\AppData\\Local\\Temp\\ipykernel_57496\\3324414873.py:9: FutureWarning: suggest_loguniform has been deprecated in v3.0.0. This feature will be removed in v6.0.0. See https://github.com/optuna/optuna/releases/tag/v3.0.0. Use suggest_float(..., log=True) instead.\n",
      "  alpha = trial.suggest_loguniform('alpha', 1e-5, 1e-1)\n",
      "[I 2024-04-03 22:15:43,948] Trial 24 finished with value: 0.8175913898682501 and parameters: {'alpha': 0.02648916679036463}. Best is trial 21 with value: 0.8513638894043422.\n",
      "C:\\Users\\jcarv\\AppData\\Local\\Temp\\ipykernel_57496\\3324414873.py:9: FutureWarning: suggest_loguniform has been deprecated in v3.0.0. This feature will be removed in v6.0.0. See https://github.com/optuna/optuna/releases/tag/v3.0.0. Use suggest_float(..., log=True) instead.\n",
      "  alpha = trial.suggest_loguniform('alpha', 1e-5, 1e-1)\n",
      "[I 2024-04-03 22:15:43,983] Trial 25 finished with value: 0.7370569678975691 and parameters: {'alpha': 1.0456401133244849e-05}. Best is trial 21 with value: 0.8513638894043422.\n",
      "C:\\Users\\jcarv\\AppData\\Local\\Temp\\ipykernel_57496\\3324414873.py:9: FutureWarning: suggest_loguniform has been deprecated in v3.0.0. This feature will be removed in v6.0.0. See https://github.com/optuna/optuna/releases/tag/v3.0.0. Use suggest_float(..., log=True) instead.\n",
      "  alpha = trial.suggest_loguniform('alpha', 1e-5, 1e-1)\n",
      "[I 2024-04-03 22:15:44,019] Trial 26 finished with value: 0.7843755798849509 and parameters: {'alpha': 0.005584167322524829}. Best is trial 21 with value: 0.8513638894043422.\n",
      "C:\\Users\\jcarv\\AppData\\Local\\Temp\\ipykernel_57496\\3324414873.py:9: FutureWarning: suggest_loguniform has been deprecated in v3.0.0. This feature will be removed in v6.0.0. See https://github.com/optuna/optuna/releases/tag/v3.0.0. Use suggest_float(..., log=True) instead.\n",
      "  alpha = trial.suggest_loguniform('alpha', 1e-5, 1e-1)\n",
      "[I 2024-04-03 22:15:44,059] Trial 27 finished with value: 0.8508071998515494 and parameters: {'alpha': 0.09478717873955504}. Best is trial 21 with value: 0.8513638894043422.\n",
      "C:\\Users\\jcarv\\AppData\\Local\\Temp\\ipykernel_57496\\3324414873.py:9: FutureWarning: suggest_loguniform has been deprecated in v3.0.0. This feature will be removed in v6.0.0. See https://github.com/optuna/optuna/releases/tag/v3.0.0. Use suggest_float(..., log=True) instead.\n",
      "  alpha = trial.suggest_loguniform('alpha', 1e-5, 1e-1)\n",
      "[I 2024-04-03 22:15:44,094] Trial 28 finished with value: 0.8170347003154574 and parameters: {'alpha': 0.026182730234990813}. Best is trial 21 with value: 0.8513638894043422.\n",
      "C:\\Users\\jcarv\\AppData\\Local\\Temp\\ipykernel_57496\\3324414873.py:9: FutureWarning: suggest_loguniform has been deprecated in v3.0.0. This feature will be removed in v6.0.0. See https://github.com/optuna/optuna/releases/tag/v3.0.0. Use suggest_float(..., log=True) instead.\n",
      "  alpha = trial.suggest_loguniform('alpha', 1e-5, 1e-1)\n",
      "[I 2024-04-03 22:15:44,130] Trial 29 finished with value: 0.7494897012432733 and parameters: {'alpha': 0.0003090442969980676}. Best is trial 21 with value: 0.8513638894043422.\n",
      "C:\\Users\\jcarv\\AppData\\Local\\Temp\\ipykernel_57496\\3324414873.py:9: FutureWarning: suggest_loguniform has been deprecated in v3.0.0. This feature will be removed in v6.0.0. See https://github.com/optuna/optuna/releases/tag/v3.0.0. Use suggest_float(..., log=True) instead.\n",
      "  alpha = trial.suggest_loguniform('alpha', 1e-5, 1e-1)\n",
      "[I 2024-04-03 22:15:44,166] Trial 30 finished with value: 0.8263128595286695 and parameters: {'alpha': 0.0382699891225179}. Best is trial 21 with value: 0.8513638894043422.\n",
      "C:\\Users\\jcarv\\AppData\\Local\\Temp\\ipykernel_57496\\3324414873.py:9: FutureWarning: suggest_loguniform has been deprecated in v3.0.0. This feature will be removed in v6.0.0. See https://github.com/optuna/optuna/releases/tag/v3.0.0. Use suggest_float(..., log=True) instead.\n",
      "  alpha = trial.suggest_loguniform('alpha', 1e-5, 1e-1)\n",
      "[I 2024-04-03 22:15:44,193] Trial 31 finished with value: 0.849693820745964 and parameters: {'alpha': 0.09107010188611687}. Best is trial 21 with value: 0.8513638894043422.\n",
      "C:\\Users\\jcarv\\AppData\\Local\\Temp\\ipykernel_57496\\3324414873.py:9: FutureWarning: suggest_loguniform has been deprecated in v3.0.0. This feature will be removed in v6.0.0. See https://github.com/optuna/optuna/releases/tag/v3.0.0. Use suggest_float(..., log=True) instead.\n",
      "  alpha = trial.suggest_loguniform('alpha', 1e-5, 1e-1)\n",
      "[I 2024-04-03 22:15:44,222] Trial 32 finished with value: 0.8326220077936537 and parameters: {'alpha': 0.05278347575518794}. Best is trial 21 with value: 0.8513638894043422.\n",
      "C:\\Users\\jcarv\\AppData\\Local\\Temp\\ipykernel_57496\\3324414873.py:9: FutureWarning: suggest_loguniform has been deprecated in v3.0.0. This feature will be removed in v6.0.0. See https://github.com/optuna/optuna/releases/tag/v3.0.0. Use suggest_float(..., log=True) instead.\n",
      "  alpha = trial.suggest_loguniform('alpha', 1e-5, 1e-1)\n",
      "[I 2024-04-03 22:15:44,251] Trial 33 finished with value: 0.850436073483021 and parameters: {'alpha': 0.09278540732004975}. Best is trial 21 with value: 0.8513638894043422.\n",
      "C:\\Users\\jcarv\\AppData\\Local\\Temp\\ipykernel_57496\\3324414873.py:9: FutureWarning: suggest_loguniform has been deprecated in v3.0.0. This feature will be removed in v6.0.0. See https://github.com/optuna/optuna/releases/tag/v3.0.0. Use suggest_float(..., log=True) instead.\n",
      "  alpha = trial.suggest_loguniform('alpha', 1e-5, 1e-1)\n",
      "[I 2024-04-03 22:15:44,279] Trial 34 finished with value: 0.8116533679717944 and parameters: {'alpha': 0.018498858519342784}. Best is trial 21 with value: 0.8513638894043422.\n",
      "C:\\Users\\jcarv\\AppData\\Local\\Temp\\ipykernel_57496\\3324414873.py:9: FutureWarning: suggest_loguniform has been deprecated in v3.0.0. This feature will be removed in v6.0.0. See https://github.com/optuna/optuna/releases/tag/v3.0.0. Use suggest_float(..., log=True) instead.\n",
      "  alpha = trial.suggest_loguniform('alpha', 1e-5, 1e-1)\n",
      "[I 2024-04-03 22:15:44,306] Trial 35 finished with value: 0.8263128595286695 and parameters: {'alpha': 0.038800404519426165}. Best is trial 21 with value: 0.8513638894043422.\n",
      "C:\\Users\\jcarv\\AppData\\Local\\Temp\\ipykernel_57496\\3324414873.py:9: FutureWarning: suggest_loguniform has been deprecated in v3.0.0. This feature will be removed in v6.0.0. See https://github.com/optuna/optuna/releases/tag/v3.0.0. Use suggest_float(..., log=True) instead.\n",
      "  alpha = trial.suggest_loguniform('alpha', 1e-5, 1e-1)\n",
      "[I 2024-04-03 22:15:44,339] Trial 36 finished with value: 0.786787901280386 and parameters: {'alpha': 0.006461954399336009}. Best is trial 21 with value: 0.8513638894043422.\n",
      "C:\\Users\\jcarv\\AppData\\Local\\Temp\\ipykernel_57496\\3324414873.py:9: FutureWarning: suggest_loguniform has been deprecated in v3.0.0. This feature will be removed in v6.0.0. See https://github.com/optuna/optuna/releases/tag/v3.0.0. Use suggest_float(..., log=True) instead.\n",
      "  alpha = trial.suggest_loguniform('alpha', 1e-5, 1e-1)\n",
      "[I 2024-04-03 22:15:44,371] Trial 37 finished with value: 0.8251994804230841 and parameters: {'alpha': 0.03628534122761419}. Best is trial 21 with value: 0.8513638894043422.\n",
      "C:\\Users\\jcarv\\AppData\\Local\\Temp\\ipykernel_57496\\3324414873.py:9: FutureWarning: suggest_loguniform has been deprecated in v3.0.0. This feature will be removed in v6.0.0. See https://github.com/optuna/optuna/releases/tag/v3.0.0. Use suggest_float(..., log=True) instead.\n",
      "  alpha = trial.suggest_loguniform('alpha', 1e-5, 1e-1)\n",
      "[I 2024-04-03 22:15:44,403] Trial 38 finished with value: 0.7428094266097606 and parameters: {'alpha': 5.470047412923904e-05}. Best is trial 21 with value: 0.8513638894043422.\n",
      "C:\\Users\\jcarv\\AppData\\Local\\Temp\\ipykernel_57496\\3324414873.py:9: FutureWarning: suggest_loguniform has been deprecated in v3.0.0. This feature will be removed in v6.0.0. See https://github.com/optuna/optuna/releases/tag/v3.0.0. Use suggest_float(..., log=True) instead.\n",
      "  alpha = trial.suggest_loguniform('alpha', 1e-5, 1e-1)\n",
      "[I 2024-04-03 22:15:44,429] Trial 39 finished with value: 0.8515494525886064 and parameters: {'alpha': 0.09811920430757447}. Best is trial 39 with value: 0.8515494525886064.\n",
      "C:\\Users\\jcarv\\AppData\\Local\\Temp\\ipykernel_57496\\3324414873.py:9: FutureWarning: suggest_loguniform has been deprecated in v3.0.0. This feature will be removed in v6.0.0. See https://github.com/optuna/optuna/releases/tag/v3.0.0. Use suggest_float(..., log=True) instead.\n",
      "  alpha = trial.suggest_loguniform('alpha', 1e-5, 1e-1)\n",
      "[I 2024-04-03 22:15:44,457] Trial 40 finished with value: 0.8326220077936537 and parameters: {'alpha': 0.05262100476336812}. Best is trial 39 with value: 0.8515494525886064.\n",
      "C:\\Users\\jcarv\\AppData\\Local\\Temp\\ipykernel_57496\\3324414873.py:9: FutureWarning: suggest_loguniform has been deprecated in v3.0.0. This feature will be removed in v6.0.0. See https://github.com/optuna/optuna/releases/tag/v3.0.0. Use suggest_float(..., log=True) instead.\n",
      "  alpha = trial.suggest_loguniform('alpha', 1e-5, 1e-1)\n",
      "[I 2024-04-03 22:15:44,489] Trial 41 finished with value: 0.8515494525886064 and parameters: {'alpha': 0.09740138655413934}. Best is trial 39 with value: 0.8515494525886064.\n",
      "C:\\Users\\jcarv\\AppData\\Local\\Temp\\ipykernel_57496\\3324414873.py:9: FutureWarning: suggest_loguniform has been deprecated in v3.0.0. This feature will be removed in v6.0.0. See https://github.com/optuna/optuna/releases/tag/v3.0.0. Use suggest_float(..., log=True) instead.\n",
      "  alpha = trial.suggest_loguniform('alpha', 1e-5, 1e-1)\n",
      "[I 2024-04-03 22:15:44,533] Trial 42 finished with value: 0.8329931341621822 and parameters: {'alpha': 0.05323237316153641}. Best is trial 39 with value: 0.8515494525886064.\n",
      "C:\\Users\\jcarv\\AppData\\Local\\Temp\\ipykernel_57496\\3324414873.py:9: FutureWarning: suggest_loguniform has been deprecated in v3.0.0. This feature will be removed in v6.0.0. See https://github.com/optuna/optuna/releases/tag/v3.0.0. Use suggest_float(..., log=True) instead.\n",
      "  alpha = trial.suggest_loguniform('alpha', 1e-5, 1e-1)\n",
      "[I 2024-04-03 22:15:44,564] Trial 43 finished with value: 0.8070142883651883 and parameters: {'alpha': 0.016138319913192537}. Best is trial 39 with value: 0.8515494525886064.\n",
      "C:\\Users\\jcarv\\AppData\\Local\\Temp\\ipykernel_57496\\3324414873.py:9: FutureWarning: suggest_loguniform has been deprecated in v3.0.0. This feature will be removed in v6.0.0. See https://github.com/optuna/optuna/releases/tag/v3.0.0. Use suggest_float(..., log=True) instead.\n",
      "  alpha = trial.suggest_loguniform('alpha', 1e-5, 1e-1)\n",
      "[I 2024-04-03 22:15:44,593] Trial 44 finished with value: 0.8181480794210428 and parameters: {'alpha': 0.027381640939263967}. Best is trial 39 with value: 0.8515494525886064.\n",
      "C:\\Users\\jcarv\\AppData\\Local\\Temp\\ipykernel_57496\\3324414873.py:9: FutureWarning: suggest_loguniform has been deprecated in v3.0.0. This feature will be removed in v6.0.0. See https://github.com/optuna/optuna/releases/tag/v3.0.0. Use suggest_float(..., log=True) instead.\n",
      "  alpha = trial.suggest_loguniform('alpha', 1e-5, 1e-1)\n",
      "[I 2024-04-03 22:15:44,626] Trial 45 finished with value: 0.838931156058638 and parameters: {'alpha': 0.06235198483988837}. Best is trial 39 with value: 0.8515494525886064.\n",
      "C:\\Users\\jcarv\\AppData\\Local\\Temp\\ipykernel_57496\\3324414873.py:9: FutureWarning: suggest_loguniform has been deprecated in v3.0.0. This feature will be removed in v6.0.0. See https://github.com/optuna/optuna/releases/tag/v3.0.0. Use suggest_float(..., log=True) instead.\n",
      "  alpha = trial.suggest_loguniform('alpha', 1e-5, 1e-1)\n",
      "[I 2024-04-03 22:15:44,658] Trial 46 finished with value: 0.8519205789571349 and parameters: {'alpha': 0.09927118035437996}. Best is trial 46 with value: 0.8519205789571349.\n",
      "C:\\Users\\jcarv\\AppData\\Local\\Temp\\ipykernel_57496\\3324414873.py:9: FutureWarning: suggest_loguniform has been deprecated in v3.0.0. This feature will be removed in v6.0.0. See https://github.com/optuna/optuna/releases/tag/v3.0.0. Use suggest_float(..., log=True) instead.\n",
      "  alpha = trial.suggest_loguniform('alpha', 1e-5, 1e-1)\n",
      "[I 2024-04-03 22:15:44,694] Trial 47 finished with value: 0.8294674336611616 and parameters: {'alpha': 0.04418974301830748}. Best is trial 46 with value: 0.8519205789571349.\n",
      "C:\\Users\\jcarv\\AppData\\Local\\Temp\\ipykernel_57496\\3324414873.py:9: FutureWarning: suggest_loguniform has been deprecated in v3.0.0. This feature will be removed in v6.0.0. See https://github.com/optuna/optuna/releases/tag/v3.0.0. Use suggest_float(..., log=True) instead.\n",
      "  alpha = trial.suggest_loguniform('alpha', 1e-5, 1e-1)\n",
      "[I 2024-04-03 22:15:44,725] Trial 48 finished with value: 0.7548710335869363 and parameters: {'alpha': 0.0007625453677395546}. Best is trial 46 with value: 0.8519205789571349.\n",
      "C:\\Users\\jcarv\\AppData\\Local\\Temp\\ipykernel_57496\\3324414873.py:9: FutureWarning: suggest_loguniform has been deprecated in v3.0.0. This feature will be removed in v6.0.0. See https://github.com/optuna/optuna/releases/tag/v3.0.0. Use suggest_float(..., log=True) instead.\n",
      "  alpha = trial.suggest_loguniform('alpha', 1e-5, 1e-1)\n",
      "[I 2024-04-03 22:15:44,757] Trial 49 finished with value: 0.7639636296158842 and parameters: {'alpha': 0.0018734388707842232}. Best is trial 46 with value: 0.8519205789571349.\n",
      "C:\\Users\\jcarv\\AppData\\Local\\Temp\\ipykernel_57496\\3324414873.py:9: FutureWarning: suggest_loguniform has been deprecated in v3.0.0. This feature will be removed in v6.0.0. See https://github.com/optuna/optuna/releases/tag/v3.0.0. Use suggest_float(..., log=True) instead.\n",
      "  alpha = trial.suggest_loguniform('alpha', 1e-5, 1e-1)\n",
      "[I 2024-04-03 22:15:44,786] Trial 50 finished with value: 0.8398589719799592 and parameters: {'alpha': 0.06404714787675866}. Best is trial 46 with value: 0.8519205789571349.\n",
      "C:\\Users\\jcarv\\AppData\\Local\\Temp\\ipykernel_57496\\3324414873.py:9: FutureWarning: suggest_loguniform has been deprecated in v3.0.0. This feature will be removed in v6.0.0. See https://github.com/optuna/optuna/releases/tag/v3.0.0. Use suggest_float(..., log=True) instead.\n",
      "  alpha = trial.suggest_loguniform('alpha', 1e-5, 1e-1)\n",
      "[I 2024-04-03 22:15:44,810] Trial 51 finished with value: 0.8522917053256633 and parameters: {'alpha': 0.09965020089826075}. Best is trial 51 with value: 0.8522917053256633.\n",
      "C:\\Users\\jcarv\\AppData\\Local\\Temp\\ipykernel_57496\\3324414873.py:9: FutureWarning: suggest_loguniform has been deprecated in v3.0.0. This feature will be removed in v6.0.0. See https://github.com/optuna/optuna/releases/tag/v3.0.0. Use suggest_float(..., log=True) instead.\n",
      "  alpha = trial.suggest_loguniform('alpha', 1e-5, 1e-1)\n",
      "[I 2024-04-03 22:15:44,838] Trial 52 finished with value: 0.8393022824271664 and parameters: {'alpha': 0.06249336051148714}. Best is trial 51 with value: 0.8522917053256633.\n",
      "C:\\Users\\jcarv\\AppData\\Local\\Temp\\ipykernel_57496\\3324414873.py:9: FutureWarning: suggest_loguniform has been deprecated in v3.0.0. This feature will be removed in v6.0.0. See https://github.com/optuna/optuna/releases/tag/v3.0.0. Use suggest_float(..., log=True) instead.\n",
      "  alpha = trial.suggest_loguniform('alpha', 1e-5, 1e-1)\n",
      "[I 2024-04-03 22:15:44,865] Trial 53 finished with value: 0.8229727222119132 and parameters: {'alpha': 0.03323387795190761}. Best is trial 51 with value: 0.8522917053256633.\n",
      "C:\\Users\\jcarv\\AppData\\Local\\Temp\\ipykernel_57496\\3324414873.py:9: FutureWarning: suggest_loguniform has been deprecated in v3.0.0. This feature will be removed in v6.0.0. See https://github.com/optuna/optuna/releases/tag/v3.0.0. Use suggest_float(..., log=True) instead.\n",
      "  alpha = trial.suggest_loguniform('alpha', 1e-5, 1e-1)\n",
      "[I 2024-04-03 22:15:44,892] Trial 54 finished with value: 0.8413434774540731 and parameters: {'alpha': 0.06981068669404301}. Best is trial 51 with value: 0.8522917053256633.\n",
      "C:\\Users\\jcarv\\AppData\\Local\\Temp\\ipykernel_57496\\3324414873.py:9: FutureWarning: suggest_loguniform has been deprecated in v3.0.0. This feature will be removed in v6.0.0. See https://github.com/optuna/optuna/releases/tag/v3.0.0. Use suggest_float(..., log=True) instead.\n",
      "  alpha = trial.suggest_loguniform('alpha', 1e-5, 1e-1)\n",
      "[I 2024-04-03 22:15:44,917] Trial 55 finished with value: 0.8099832993134162 and parameters: {'alpha': 0.018052993109654275}. Best is trial 51 with value: 0.8522917053256633.\n",
      "C:\\Users\\jcarv\\AppData\\Local\\Temp\\ipykernel_57496\\3324414873.py:9: FutureWarning: suggest_loguniform has been deprecated in v3.0.0. This feature will be removed in v6.0.0. See https://github.com/optuna/optuna/releases/tag/v3.0.0. Use suggest_float(..., log=True) instead.\n",
      "  alpha = trial.suggest_loguniform('alpha', 1e-5, 1e-1)\n",
      "[I 2024-04-03 22:15:44,944] Trial 56 finished with value: 0.8508071998515494 and parameters: {'alpha': 0.09618614699100539}. Best is trial 51 with value: 0.8522917053256633.\n",
      "C:\\Users\\jcarv\\AppData\\Local\\Temp\\ipykernel_57496\\3324414873.py:9: FutureWarning: suggest_loguniform has been deprecated in v3.0.0. This feature will be removed in v6.0.0. See https://github.com/optuna/optuna/releases/tag/v3.0.0. Use suggest_float(..., log=True) instead.\n",
      "  alpha = trial.suggest_loguniform('alpha', 1e-5, 1e-1)\n",
      "[I 2024-04-03 22:15:44,971] Trial 57 finished with value: 0.7903136017814065 and parameters: {'alpha': 0.007861506050498911}. Best is trial 51 with value: 0.8522917053256633.\n",
      "C:\\Users\\jcarv\\AppData\\Local\\Temp\\ipykernel_57496\\3324414873.py:9: FutureWarning: suggest_loguniform has been deprecated in v3.0.0. This feature will be removed in v6.0.0. See https://github.com/optuna/optuna/releases/tag/v3.0.0. Use suggest_float(..., log=True) instead.\n",
      "  alpha = trial.suggest_loguniform('alpha', 1e-5, 1e-1)\n",
      "[I 2024-04-03 22:15:44,998] Trial 58 finished with value: 0.8300241232139544 and parameters: {'alpha': 0.04624098358551049}. Best is trial 51 with value: 0.8522917053256633.\n",
      "C:\\Users\\jcarv\\AppData\\Local\\Temp\\ipykernel_57496\\3324414873.py:9: FutureWarning: suggest_loguniform has been deprecated in v3.0.0. This feature will be removed in v6.0.0. See https://github.com/optuna/optuna/releases/tag/v3.0.0. Use suggest_float(..., log=True) instead.\n",
      "  alpha = trial.suggest_loguniform('alpha', 1e-5, 1e-1)\n",
      "[I 2024-04-03 22:15:45,023] Trial 59 finished with value: 0.8430135461124513 and parameters: {'alpha': 0.07194388718180607}. Best is trial 51 with value: 0.8522917053256633.\n",
      "C:\\Users\\jcarv\\AppData\\Local\\Temp\\ipykernel_57496\\3324414873.py:9: FutureWarning: suggest_loguniform has been deprecated in v3.0.0. This feature will be removed in v6.0.0. See https://github.com/optuna/optuna/releases/tag/v3.0.0. Use suggest_float(..., log=True) instead.\n",
      "  alpha = trial.suggest_loguniform('alpha', 1e-5, 1e-1)\n",
      "[I 2024-04-03 22:15:45,057] Trial 60 finished with value: 0.7765819261458526 and parameters: {'alpha': 0.003960988480391891}. Best is trial 51 with value: 0.8522917053256633.\n",
      "C:\\Users\\jcarv\\AppData\\Local\\Temp\\ipykernel_57496\\3324414873.py:9: FutureWarning: suggest_loguniform has been deprecated in v3.0.0. This feature will be removed in v6.0.0. See https://github.com/optuna/optuna/releases/tag/v3.0.0. Use suggest_float(..., log=True) instead.\n",
      "  alpha = trial.suggest_loguniform('alpha', 1e-5, 1e-1)\n",
      "[I 2024-04-03 22:15:45,084] Trial 61 finished with value: 0.8515494525886064 and parameters: {'alpha': 0.09823783648678186}. Best is trial 51 with value: 0.8522917053256633.\n",
      "C:\\Users\\jcarv\\AppData\\Local\\Temp\\ipykernel_57496\\3324414873.py:9: FutureWarning: suggest_loguniform has been deprecated in v3.0.0. This feature will be removed in v6.0.0. See https://github.com/optuna/optuna/releases/tag/v3.0.0. Use suggest_float(..., log=True) instead.\n",
      "  alpha = trial.suggest_loguniform('alpha', 1e-5, 1e-1)\n",
      "[I 2024-04-03 22:15:45,115] Trial 62 finished with value: 0.8437557988495082 and parameters: {'alpha': 0.073075468257031}. Best is trial 51 with value: 0.8522917053256633.\n",
      "C:\\Users\\jcarv\\AppData\\Local\\Temp\\ipykernel_57496\\3324414873.py:9: FutureWarning: suggest_loguniform has been deprecated in v3.0.0. This feature will be removed in v6.0.0. See https://github.com/optuna/optuna/releases/tag/v3.0.0. Use suggest_float(..., log=True) instead.\n",
      "  alpha = trial.suggest_loguniform('alpha', 1e-5, 1e-1)\n",
      "[I 2024-04-03 22:15:45,146] Trial 63 finished with value: 0.8214882167377993 and parameters: {'alpha': 0.030784973702376588}. Best is trial 51 with value: 0.8522917053256633.\n",
      "C:\\Users\\jcarv\\AppData\\Local\\Temp\\ipykernel_57496\\3324414873.py:9: FutureWarning: suggest_loguniform has been deprecated in v3.0.0. This feature will be removed in v6.0.0. See https://github.com/optuna/optuna/releases/tag/v3.0.0. Use suggest_float(..., log=True) instead.\n",
      "  alpha = trial.suggest_loguniform('alpha', 1e-5, 1e-1)\n",
      "[I 2024-04-03 22:15:45,178] Trial 64 finished with value: 0.8506216366672852 and parameters: {'alpha': 0.093425857281908}. Best is trial 51 with value: 0.8522917053256633.\n",
      "C:\\Users\\jcarv\\AppData\\Local\\Temp\\ipykernel_57496\\3324414873.py:9: FutureWarning: suggest_loguniform has been deprecated in v3.0.0. This feature will be removed in v6.0.0. See https://github.com/optuna/optuna/releases/tag/v3.0.0. Use suggest_float(..., log=True) instead.\n",
      "  alpha = trial.suggest_loguniform('alpha', 1e-5, 1e-1)\n",
      "[I 2024-04-03 22:15:45,209] Trial 65 finished with value: 0.8298385600296901 and parameters: {'alpha': 0.04558101512378688}. Best is trial 51 with value: 0.8522917053256633.\n",
      "C:\\Users\\jcarv\\AppData\\Local\\Temp\\ipykernel_57496\\3324414873.py:9: FutureWarning: suggest_loguniform has been deprecated in v3.0.0. This feature will be removed in v6.0.0. See https://github.com/optuna/optuna/releases/tag/v3.0.0. Use suggest_float(..., log=True) instead.\n",
      "  alpha = trial.suggest_loguniform('alpha', 1e-5, 1e-1)\n",
      "[I 2024-04-03 22:15:45,237] Trial 66 finished with value: 0.8413434774540731 and parameters: {'alpha': 0.06955909381291259}. Best is trial 51 with value: 0.8522917053256633.\n",
      "C:\\Users\\jcarv\\AppData\\Local\\Temp\\ipykernel_57496\\3324414873.py:9: FutureWarning: suggest_loguniform has been deprecated in v3.0.0. This feature will be removed in v6.0.0. See https://github.com/optuna/optuna/releases/tag/v3.0.0. Use suggest_float(..., log=True) instead.\n",
      "  alpha = trial.suggest_loguniform('alpha', 1e-5, 1e-1)\n",
      "[I 2024-04-03 22:15:45,264] Trial 67 finished with value: 0.8146223789200223 and parameters: {'alpha': 0.022249352456386873}. Best is trial 51 with value: 0.8522917053256633.\n",
      "C:\\Users\\jcarv\\AppData\\Local\\Temp\\ipykernel_57496\\3324414873.py:9: FutureWarning: suggest_loguniform has been deprecated in v3.0.0. This feature will be removed in v6.0.0. See https://github.com/optuna/optuna/releases/tag/v3.0.0. Use suggest_float(..., log=True) instead.\n",
      "  alpha = trial.suggest_loguniform('alpha', 1e-5, 1e-1)\n",
      "[I 2024-04-03 22:15:45,290] Trial 68 finished with value: 0.8509927630358137 and parameters: {'alpha': 0.09645366578595464}. Best is trial 51 with value: 0.8522917053256633.\n",
      "C:\\Users\\jcarv\\AppData\\Local\\Temp\\ipykernel_57496\\3324414873.py:9: FutureWarning: suggest_loguniform has been deprecated in v3.0.0. This feature will be removed in v6.0.0. See https://github.com/optuna/optuna/releases/tag/v3.0.0. Use suggest_float(..., log=True) instead.\n",
      "  alpha = trial.suggest_loguniform('alpha', 1e-5, 1e-1)\n",
      "[I 2024-04-03 22:15:45,323] Trial 69 finished with value: 0.8251994804230841 and parameters: {'alpha': 0.03646262884609733}. Best is trial 51 with value: 0.8522917053256633.\n",
      "C:\\Users\\jcarv\\AppData\\Local\\Temp\\ipykernel_57496\\3324414873.py:9: FutureWarning: suggest_loguniform has been deprecated in v3.0.0. This feature will be removed in v6.0.0. See https://github.com/optuna/optuna/releases/tag/v3.0.0. Use suggest_float(..., log=True) instead.\n",
      "  alpha = trial.suggest_loguniform('alpha', 1e-5, 1e-1)\n",
      "[I 2024-04-03 22:15:45,357] Trial 70 finished with value: 0.802189645574318 and parameters: {'alpha': 0.012876735217887096}. Best is trial 51 with value: 0.8522917053256633.\n",
      "C:\\Users\\jcarv\\AppData\\Local\\Temp\\ipykernel_57496\\3324414873.py:9: FutureWarning: suggest_loguniform has been deprecated in v3.0.0. This feature will be removed in v6.0.0. See https://github.com/optuna/optuna/releases/tag/v3.0.0. Use suggest_float(..., log=True) instead.\n",
      "  alpha = trial.suggest_loguniform('alpha', 1e-5, 1e-1)\n",
      "[I 2024-04-03 22:15:45,384] Trial 71 finished with value: 0.8522917053256633 and parameters: {'alpha': 0.09961052840436789}. Best is trial 51 with value: 0.8522917053256633.\n",
      "C:\\Users\\jcarv\\AppData\\Local\\Temp\\ipykernel_57496\\3324414873.py:9: FutureWarning: suggest_loguniform has been deprecated in v3.0.0. This feature will be removed in v6.0.0. See https://github.com/optuna/optuna/releases/tag/v3.0.0. Use suggest_float(..., log=True) instead.\n",
      "  alpha = trial.suggest_loguniform('alpha', 1e-5, 1e-1)\n",
      "[I 2024-04-03 22:15:45,422] Trial 72 finished with value: 0.832807570977918 and parameters: {'alpha': 0.05298190011407276}. Best is trial 51 with value: 0.8522917053256633.\n",
      "C:\\Users\\jcarv\\AppData\\Local\\Temp\\ipykernel_57496\\3324414873.py:9: FutureWarning: suggest_loguniform has been deprecated in v3.0.0. This feature will be removed in v6.0.0. See https://github.com/optuna/optuna/releases/tag/v3.0.0. Use suggest_float(..., log=True) instead.\n",
      "  alpha = trial.suggest_loguniform('alpha', 1e-5, 1e-1)\n",
      "[I 2024-04-03 22:15:45,451] Trial 73 finished with value: 0.8439413620337725 and parameters: {'alpha': 0.07508912529209497}. Best is trial 51 with value: 0.8522917053256633.\n",
      "C:\\Users\\jcarv\\AppData\\Local\\Temp\\ipykernel_57496\\3324414873.py:9: FutureWarning: suggest_loguniform has been deprecated in v3.0.0. This feature will be removed in v6.0.0. See https://github.com/optuna/optuna/releases/tag/v3.0.0. Use suggest_float(..., log=True) instead.\n",
      "  alpha = trial.suggest_loguniform('alpha', 1e-5, 1e-1)\n",
      "[I 2024-04-03 22:15:45,479] Trial 74 finished with value: 0.8515494525886064 and parameters: {'alpha': 0.09801408290254832}. Best is trial 51 with value: 0.8522917053256633.\n",
      "C:\\Users\\jcarv\\AppData\\Local\\Temp\\ipykernel_57496\\3324414873.py:9: FutureWarning: suggest_loguniform has been deprecated in v3.0.0. This feature will be removed in v6.0.0. See https://github.com/optuna/optuna/releases/tag/v3.0.0. Use suggest_float(..., log=True) instead.\n",
      "  alpha = trial.suggest_loguniform('alpha', 1e-5, 1e-1)\n",
      "[I 2024-04-03 22:15:45,529] Trial 75 finished with value: 0.8331786973464465 and parameters: {'alpha': 0.053594646612273894}. Best is trial 51 with value: 0.8522917053256633.\n",
      "C:\\Users\\jcarv\\AppData\\Local\\Temp\\ipykernel_57496\\3324414873.py:9: FutureWarning: suggest_loguniform has been deprecated in v3.0.0. This feature will be removed in v6.0.0. See https://github.com/optuna/optuna/releases/tag/v3.0.0. Use suggest_float(..., log=True) instead.\n",
      "  alpha = trial.suggest_loguniform('alpha', 1e-5, 1e-1)\n",
      "[I 2024-04-03 22:15:45,567] Trial 76 finished with value: 0.7493041380590091 and parameters: {'alpha': 0.0002843248575988615}. Best is trial 51 with value: 0.8522917053256633.\n",
      "C:\\Users\\jcarv\\AppData\\Local\\Temp\\ipykernel_57496\\3324414873.py:9: FutureWarning: suggest_loguniform has been deprecated in v3.0.0. This feature will be removed in v6.0.0. See https://github.com/optuna/optuna/releases/tag/v3.0.0. Use suggest_float(..., log=True) instead.\n",
      "  alpha = trial.suggest_loguniform('alpha', 1e-5, 1e-1)\n",
      "[I 2024-04-03 22:15:45,605] Trial 77 finished with value: 0.8448691779550938 and parameters: {'alpha': 0.07623743887482395}. Best is trial 51 with value: 0.8522917053256633.\n",
      "C:\\Users\\jcarv\\AppData\\Local\\Temp\\ipykernel_57496\\3324414873.py:9: FutureWarning: suggest_loguniform has been deprecated in v3.0.0. This feature will be removed in v6.0.0. See https://github.com/optuna/optuna/releases/tag/v3.0.0. Use suggest_float(..., log=True) instead.\n",
      "  alpha = trial.suggest_loguniform('alpha', 1e-5, 1e-1)\n",
      "[I 2024-04-03 22:15:45,642] Trial 78 finished with value: 0.8287251809241046 and parameters: {'alpha': 0.04326782204148208}. Best is trial 51 with value: 0.8522917053256633.\n",
      "C:\\Users\\jcarv\\AppData\\Local\\Temp\\ipykernel_57496\\3324414873.py:9: FutureWarning: suggest_loguniform has been deprecated in v3.0.0. This feature will be removed in v6.0.0. See https://github.com/optuna/optuna/releases/tag/v3.0.0. Use suggest_float(..., log=True) instead.\n",
      "  alpha = trial.suggest_loguniform('alpha', 1e-5, 1e-1)\n",
      "[I 2024-04-03 22:15:45,679] Trial 79 finished with value: 0.8148079421042865 and parameters: {'alpha': 0.0225495197370592}. Best is trial 51 with value: 0.8522917053256633.\n",
      "C:\\Users\\jcarv\\AppData\\Local\\Temp\\ipykernel_57496\\3324414873.py:9: FutureWarning: suggest_loguniform has been deprecated in v3.0.0. This feature will be removed in v6.0.0. See https://github.com/optuna/optuna/releases/tag/v3.0.0. Use suggest_float(..., log=True) instead.\n",
      "  alpha = trial.suggest_loguniform('alpha', 1e-5, 1e-1)\n",
      "[I 2024-04-03 22:15:45,711] Trial 80 finished with value: 0.8218593431063277 and parameters: {'alpha': 0.031121256500933458}. Best is trial 51 with value: 0.8522917053256633.\n",
      "C:\\Users\\jcarv\\AppData\\Local\\Temp\\ipykernel_57496\\3324414873.py:9: FutureWarning: suggest_loguniform has been deprecated in v3.0.0. This feature will be removed in v6.0.0. See https://github.com/optuna/optuna/releases/tag/v3.0.0. Use suggest_float(..., log=True) instead.\n",
      "  alpha = trial.suggest_loguniform('alpha', 1e-5, 1e-1)\n",
      "[I 2024-04-03 22:15:45,739] Trial 81 finished with value: 0.8509927630358137 and parameters: {'alpha': 0.09659827996723276}. Best is trial 51 with value: 0.8522917053256633.\n",
      "C:\\Users\\jcarv\\AppData\\Local\\Temp\\ipykernel_57496\\3324414873.py:9: FutureWarning: suggest_loguniform has been deprecated in v3.0.0. This feature will be removed in v6.0.0. See https://github.com/optuna/optuna/releases/tag/v3.0.0. Use suggest_float(..., log=True) instead.\n",
      "  alpha = trial.suggest_loguniform('alpha', 1e-5, 1e-1)\n",
      "[I 2024-04-03 22:15:45,770] Trial 82 finished with value: 0.8365188346632029 and parameters: {'alpha': 0.060012956369238674}. Best is trial 51 with value: 0.8522917053256633.\n",
      "C:\\Users\\jcarv\\AppData\\Local\\Temp\\ipykernel_57496\\3324414873.py:9: FutureWarning: suggest_loguniform has been deprecated in v3.0.0. This feature will be removed in v6.0.0. See https://github.com/optuna/optuna/releases/tag/v3.0.0. Use suggest_float(..., log=True) instead.\n",
      "  alpha = trial.suggest_loguniform('alpha', 1e-5, 1e-1)\n",
      "[I 2024-04-03 22:15:45,797] Trial 83 finished with value: 0.8521061421413991 and parameters: {'alpha': 0.09991531256355189}. Best is trial 51 with value: 0.8522917053256633.\n",
      "C:\\Users\\jcarv\\AppData\\Local\\Temp\\ipykernel_57496\\3324414873.py:9: FutureWarning: suggest_loguniform has been deprecated in v3.0.0. This feature will be removed in v6.0.0. See https://github.com/optuna/optuna/releases/tag/v3.0.0. Use suggest_float(..., log=True) instead.\n",
      "  alpha = trial.suggest_loguniform('alpha', 1e-5, 1e-1)\n",
      "[I 2024-04-03 22:15:45,836] Trial 84 finished with value: 0.8439413620337725 and parameters: {'alpha': 0.07409739323387421}. Best is trial 51 with value: 0.8522917053256633.\n",
      "C:\\Users\\jcarv\\AppData\\Local\\Temp\\ipykernel_57496\\3324414873.py:9: FutureWarning: suggest_loguniform has been deprecated in v3.0.0. This feature will be removed in v6.0.0. See https://github.com/optuna/optuna/releases/tag/v3.0.0. Use suggest_float(..., log=True) instead.\n",
      "  alpha = trial.suggest_loguniform('alpha', 1e-5, 1e-1)\n",
      "[I 2024-04-03 22:15:45,882] Trial 85 finished with value: 0.8300241232139544 and parameters: {'alpha': 0.04598450538362843}. Best is trial 51 with value: 0.8522917053256633.\n",
      "C:\\Users\\jcarv\\AppData\\Local\\Temp\\ipykernel_57496\\3324414873.py:9: FutureWarning: suggest_loguniform has been deprecated in v3.0.0. This feature will be removed in v6.0.0. See https://github.com/optuna/optuna/releases/tag/v3.0.0. Use suggest_float(..., log=True) instead.\n",
      "  alpha = trial.suggest_loguniform('alpha', 1e-5, 1e-1)\n",
      "[I 2024-04-03 22:15:45,930] Trial 86 finished with value: 0.8517350157728707 and parameters: {'alpha': 0.09859742968455087}. Best is trial 51 with value: 0.8522917053256633.\n",
      "C:\\Users\\jcarv\\AppData\\Local\\Temp\\ipykernel_57496\\3324414873.py:9: FutureWarning: suggest_loguniform has been deprecated in v3.0.0. This feature will be removed in v6.0.0. See https://github.com/optuna/optuna/releases/tag/v3.0.0. Use suggest_float(..., log=True) instead.\n",
      "  alpha = trial.suggest_loguniform('alpha', 1e-5, 1e-1)\n",
      "[I 2024-04-03 22:15:45,976] Trial 87 finished with value: 0.8344776396362962 and parameters: {'alpha': 0.05719897077442419}. Best is trial 51 with value: 0.8522917053256633.\n",
      "C:\\Users\\jcarv\\AppData\\Local\\Temp\\ipykernel_57496\\3324414873.py:9: FutureWarning: suggest_loguniform has been deprecated in v3.0.0. This feature will be removed in v6.0.0. See https://github.com/optuna/optuna/releases/tag/v3.0.0. Use suggest_float(..., log=True) instead.\n",
      "  alpha = trial.suggest_loguniform('alpha', 1e-5, 1e-1)\n",
      "[I 2024-04-03 22:15:46,015] Trial 88 finished with value: 0.8452403043236222 and parameters: {'alpha': 0.07747237857085129}. Best is trial 51 with value: 0.8522917053256633.\n",
      "C:\\Users\\jcarv\\AppData\\Local\\Temp\\ipykernel_57496\\3324414873.py:9: FutureWarning: suggest_loguniform has been deprecated in v3.0.0. This feature will be removed in v6.0.0. See https://github.com/optuna/optuna/releases/tag/v3.0.0. Use suggest_float(..., log=True) instead.\n",
      "  alpha = trial.suggest_loguniform('alpha', 1e-5, 1e-1)\n",
      "[I 2024-04-03 22:15:46,053] Trial 89 finished with value: 0.8457969938764149 and parameters: {'alpha': 0.07971539870060382}. Best is trial 51 with value: 0.8522917053256633.\n",
      "C:\\Users\\jcarv\\AppData\\Local\\Temp\\ipykernel_57496\\3324414873.py:9: FutureWarning: suggest_loguniform has been deprecated in v3.0.0. This feature will be removed in v6.0.0. See https://github.com/optuna/optuna/releases/tag/v3.0.0. Use suggest_float(..., log=True) instead.\n",
      "  alpha = trial.suggest_loguniform('alpha', 1e-5, 1e-1)\n",
      "[I 2024-04-03 22:15:46,088] Trial 90 finished with value: 0.837446650584524 and parameters: {'alpha': 0.06043373420732678}. Best is trial 51 with value: 0.8522917053256633.\n",
      "C:\\Users\\jcarv\\AppData\\Local\\Temp\\ipykernel_57496\\3324414873.py:9: FutureWarning: suggest_loguniform has been deprecated in v3.0.0. This feature will be removed in v6.0.0. See https://github.com/optuna/optuna/releases/tag/v3.0.0. Use suggest_float(..., log=True) instead.\n",
      "  alpha = trial.suggest_loguniform('alpha', 1e-5, 1e-1)\n",
      "[I 2024-04-03 22:15:46,120] Trial 91 finished with value: 0.8515494525886064 and parameters: {'alpha': 0.09805314388551735}. Best is trial 51 with value: 0.8522917053256633.\n",
      "C:\\Users\\jcarv\\AppData\\Local\\Temp\\ipykernel_57496\\3324414873.py:9: FutureWarning: suggest_loguniform has been deprecated in v3.0.0. This feature will be removed in v6.0.0. See https://github.com/optuna/optuna/releases/tag/v3.0.0. Use suggest_float(..., log=True) instead.\n",
      "  alpha = trial.suggest_loguniform('alpha', 1e-5, 1e-1)\n",
      "[I 2024-04-03 22:15:46,154] Trial 92 finished with value: 0.8508071998515494 and parameters: {'alpha': 0.0963416505767989}. Best is trial 51 with value: 0.8522917053256633.\n",
      "C:\\Users\\jcarv\\AppData\\Local\\Temp\\ipykernel_57496\\3324414873.py:9: FutureWarning: suggest_loguniform has been deprecated in v3.0.0. This feature will be removed in v6.0.0. See https://github.com/optuna/optuna/releases/tag/v3.0.0. Use suggest_float(..., log=True) instead.\n",
      "  alpha = trial.suggest_loguniform('alpha', 1e-5, 1e-1)\n",
      "[I 2024-04-03 22:15:46,191] Trial 93 finished with value: 0.8250139172388198 and parameters: {'alpha': 0.03613795324861709}. Best is trial 51 with value: 0.8522917053256633.\n",
      "C:\\Users\\jcarv\\AppData\\Local\\Temp\\ipykernel_57496\\3324414873.py:9: FutureWarning: suggest_loguniform has been deprecated in v3.0.0. This feature will be removed in v6.0.0. See https://github.com/optuna/optuna/releases/tag/v3.0.0. Use suggest_float(..., log=True) instead.\n",
      "  alpha = trial.suggest_loguniform('alpha', 1e-5, 1e-1)\n",
      "[I 2024-04-03 22:15:46,227] Trial 94 finished with value: 0.8457969938764149 and parameters: {'alpha': 0.0797180746575695}. Best is trial 51 with value: 0.8522917053256633.\n",
      "C:\\Users\\jcarv\\AppData\\Local\\Temp\\ipykernel_57496\\3324414873.py:9: FutureWarning: suggest_loguniform has been deprecated in v3.0.0. This feature will be removed in v6.0.0. See https://github.com/optuna/optuna/releases/tag/v3.0.0. Use suggest_float(..., log=True) instead.\n",
      "  alpha = trial.suggest_loguniform('alpha', 1e-5, 1e-1)\n",
      "[I 2024-04-03 22:15:46,266] Trial 95 finished with value: 0.7376136574503619 and parameters: {'alpha': 1.2468087148000803e-05}. Best is trial 51 with value: 0.8522917053256633.\n",
      "C:\\Users\\jcarv\\AppData\\Local\\Temp\\ipykernel_57496\\3324414873.py:9: FutureWarning: suggest_loguniform has been deprecated in v3.0.0. This feature will be removed in v6.0.0. See https://github.com/optuna/optuna/releases/tag/v3.0.0. Use suggest_float(..., log=True) instead.\n",
      "  alpha = trial.suggest_loguniform('alpha', 1e-5, 1e-1)\n",
      "[I 2024-04-03 22:15:46,300] Trial 96 finished with value: 0.8318797550565967 and parameters: {'alpha': 0.050030629913385506}. Best is trial 51 with value: 0.8522917053256633.\n",
      "C:\\Users\\jcarv\\AppData\\Local\\Temp\\ipykernel_57496\\3324414873.py:9: FutureWarning: suggest_loguniform has been deprecated in v3.0.0. This feature will be removed in v6.0.0. See https://github.com/optuna/optuna/releases/tag/v3.0.0. Use suggest_float(..., log=True) instead.\n",
      "  alpha = trial.suggest_loguniform('alpha', 1e-5, 1e-1)\n",
      "[I 2024-04-03 22:15:46,345] Trial 97 finished with value: 0.8380033401373168 and parameters: {'alpha': 0.06083949962932438}. Best is trial 51 with value: 0.8522917053256633.\n",
      "C:\\Users\\jcarv\\AppData\\Local\\Temp\\ipykernel_57496\\3324414873.py:9: FutureWarning: suggest_loguniform has been deprecated in v3.0.0. This feature will be removed in v6.0.0. See https://github.com/optuna/optuna/releases/tag/v3.0.0. Use suggest_float(..., log=True) instead.\n",
      "  alpha = trial.suggest_loguniform('alpha', 1e-5, 1e-1)\n",
      "[I 2024-04-03 22:15:46,378] Trial 98 finished with value: 0.8469103729820003 and parameters: {'alpha': 0.08263350778537248}. Best is trial 51 with value: 0.8522917053256633.\n",
      "C:\\Users\\jcarv\\AppData\\Local\\Temp\\ipykernel_57496\\3324414873.py:9: FutureWarning: suggest_loguniform has been deprecated in v3.0.0. This feature will be removed in v6.0.0. See https://github.com/optuna/optuna/releases/tag/v3.0.0. Use suggest_float(..., log=True) instead.\n",
      "  alpha = trial.suggest_loguniform('alpha', 1e-5, 1e-1)\n",
      "[I 2024-04-03 22:15:46,416] Trial 99 finished with value: 0.8281684913713119 and parameters: {'alpha': 0.041690253844305754}. Best is trial 51 with value: 0.8522917053256633.\n"
     ]
    },
    {
     "name": "stdout",
     "output_type": "stream",
     "text": [
      "{'alpha': 0.09965020089826075}\n"
     ]
    }
   ],
   "source": [
    "# import optuna\n",
    "# from sklearn.naive_bayes import MultinomialNB\n",
    "# from sklearn.metrics import accuracy_score, classification_report, confusion_matrix\n",
    "# from sklearn.model_selection import train_test_split\n",
    "# \n",
    "# # Define objective function for Optuna\n",
    "# def objective(trial):\n",
    "#     # Define hyperparameters to optimize\n",
    "#     alpha = trial.suggest_loguniform('alpha', 1e-5, 1e-1)\n",
    "# \n",
    "#     \n",
    "#     # Instantiate Naive Bayes classifier with hyperparameters\n",
    "#     mnb_classifier = MultinomialNB(alpha=alpha)\n",
    "# \n",
    "#     \n",
    "#     # Train classifier\n",
    "#     mnb_classifier.fit(x_train, y_train)\n",
    "#     \n",
    "#     # Predict on validation set\n",
    "#     y_pred = mnb_classifier.predict(x_val)\n",
    "#     \n",
    "#     # Calculate accuracy score\n",
    "#     accuracy = accuracy_score(y_val, y_pred)\n",
    "#     \n",
    "#     return accuracy\n",
    "# \n",
    "# # Create Optuna study\n",
    "# study = optuna.create_study(direction='maximize')\n",
    "# study.optimize(objective, n_trials=100)\n",
    "# \n",
    "# # Get best hyperparameters\n",
    "# best_params = study.best_params\n",
    "# \n",
    "# print(best_params)\n"
   ]
  },
  {
   "cell_type": "code",
   "execution_count": 107,
   "metadata": {
    "ExecuteTime": {
     "end_time": "2024-04-03T23:44:48.219594Z",
     "start_time": "2024-04-03T23:44:47.993760Z"
    },
    "collapsed": false
   },
   "outputs": [
    {
     "ename": "ValueError",
     "evalue": "Negative values in data passed to MultinomialNB (input X)",
     "output_type": "error",
     "traceback": [
      "\u001b[1;31m---------------------------------------------------------------------------\u001b[0m",
      "\u001b[1;31mValueError\u001b[0m                                Traceback (most recent call last)",
      "Cell \u001b[1;32mIn[107], line 5\u001b[0m\n\u001b[0;32m      3\u001b[0m hyperparameters \u001b[38;5;241m=\u001b[39m {\u001b[38;5;124m'\u001b[39m\u001b[38;5;124malpha\u001b[39m\u001b[38;5;124m'\u001b[39m: \u001b[38;5;241m0.09965020089826075\u001b[39m}\n\u001b[0;32m      4\u001b[0m mnb_classifier \u001b[38;5;241m=\u001b[39m MultinomialNB()\n\u001b[1;32m----> 5\u001b[0m \u001b[43mmnb_classifier\u001b[49m\u001b[38;5;241;43m.\u001b[39;49m\u001b[43mfit\u001b[49m\u001b[43m(\u001b[49m\u001b[43mx_train\u001b[49m\u001b[43m,\u001b[49m\u001b[43m \u001b[49m\u001b[43my_train\u001b[49m\u001b[43m)\u001b[49m\n",
      "File \u001b[1;32mC:\\Python311\\Lib\\site-packages\\sklearn\\base.py:1152\u001b[0m, in \u001b[0;36m_fit_context.<locals>.decorator.<locals>.wrapper\u001b[1;34m(estimator, *args, **kwargs)\u001b[0m\n\u001b[0;32m   1145\u001b[0m     estimator\u001b[38;5;241m.\u001b[39m_validate_params()\n\u001b[0;32m   1147\u001b[0m \u001b[38;5;28;01mwith\u001b[39;00m config_context(\n\u001b[0;32m   1148\u001b[0m     skip_parameter_validation\u001b[38;5;241m=\u001b[39m(\n\u001b[0;32m   1149\u001b[0m         prefer_skip_nested_validation \u001b[38;5;129;01mor\u001b[39;00m global_skip_validation\n\u001b[0;32m   1150\u001b[0m     )\n\u001b[0;32m   1151\u001b[0m ):\n\u001b[1;32m-> 1152\u001b[0m     \u001b[38;5;28;01mreturn\u001b[39;00m \u001b[43mfit_method\u001b[49m\u001b[43m(\u001b[49m\u001b[43mestimator\u001b[49m\u001b[43m,\u001b[49m\u001b[43m \u001b[49m\u001b[38;5;241;43m*\u001b[39;49m\u001b[43margs\u001b[49m\u001b[43m,\u001b[49m\u001b[43m \u001b[49m\u001b[38;5;241;43m*\u001b[39;49m\u001b[38;5;241;43m*\u001b[39;49m\u001b[43mkwargs\u001b[49m\u001b[43m)\u001b[49m\n",
      "File \u001b[1;32mC:\\Python311\\Lib\\site-packages\\sklearn\\naive_bayes.py:772\u001b[0m, in \u001b[0;36m_BaseDiscreteNB.fit\u001b[1;34m(self, X, y, sample_weight)\u001b[0m\n\u001b[0;32m    770\u001b[0m n_classes \u001b[38;5;241m=\u001b[39m Y\u001b[38;5;241m.\u001b[39mshape[\u001b[38;5;241m1\u001b[39m]\n\u001b[0;32m    771\u001b[0m \u001b[38;5;28mself\u001b[39m\u001b[38;5;241m.\u001b[39m_init_counters(n_classes, n_features)\n\u001b[1;32m--> 772\u001b[0m \u001b[38;5;28;43mself\u001b[39;49m\u001b[38;5;241;43m.\u001b[39;49m\u001b[43m_count\u001b[49m\u001b[43m(\u001b[49m\u001b[43mX\u001b[49m\u001b[43m,\u001b[49m\u001b[43m \u001b[49m\u001b[43mY\u001b[49m\u001b[43m)\u001b[49m\n\u001b[0;32m    773\u001b[0m alpha \u001b[38;5;241m=\u001b[39m \u001b[38;5;28mself\u001b[39m\u001b[38;5;241m.\u001b[39m_check_alpha()\n\u001b[0;32m    774\u001b[0m \u001b[38;5;28mself\u001b[39m\u001b[38;5;241m.\u001b[39m_update_feature_log_prob(alpha)\n",
      "File \u001b[1;32mC:\\Python311\\Lib\\site-packages\\sklearn\\naive_bayes.py:894\u001b[0m, in \u001b[0;36mMultinomialNB._count\u001b[1;34m(self, X, Y)\u001b[0m\n\u001b[0;32m    892\u001b[0m \u001b[38;5;28;01mdef\u001b[39;00m \u001b[38;5;21m_count\u001b[39m(\u001b[38;5;28mself\u001b[39m, X, Y):\n\u001b[0;32m    893\u001b[0m \u001b[38;5;250m    \u001b[39m\u001b[38;5;124;03m\"\"\"Count and smooth feature occurrences.\"\"\"\u001b[39;00m\n\u001b[1;32m--> 894\u001b[0m     \u001b[43mcheck_non_negative\u001b[49m\u001b[43m(\u001b[49m\u001b[43mX\u001b[49m\u001b[43m,\u001b[49m\u001b[43m \u001b[49m\u001b[38;5;124;43m\"\u001b[39;49m\u001b[38;5;124;43mMultinomialNB (input X)\u001b[39;49m\u001b[38;5;124;43m\"\u001b[39;49m\u001b[43m)\u001b[49m\n\u001b[0;32m    895\u001b[0m     \u001b[38;5;28mself\u001b[39m\u001b[38;5;241m.\u001b[39mfeature_count_ \u001b[38;5;241m+\u001b[39m\u001b[38;5;241m=\u001b[39m safe_sparse_dot(Y\u001b[38;5;241m.\u001b[39mT, X)\n\u001b[0;32m    896\u001b[0m     \u001b[38;5;28mself\u001b[39m\u001b[38;5;241m.\u001b[39mclass_count_ \u001b[38;5;241m+\u001b[39m\u001b[38;5;241m=\u001b[39m Y\u001b[38;5;241m.\u001b[39msum(axis\u001b[38;5;241m=\u001b[39m\u001b[38;5;241m0\u001b[39m)\n",
      "File \u001b[1;32mC:\\Python311\\Lib\\site-packages\\sklearn\\utils\\validation.py:1489\u001b[0m, in \u001b[0;36mcheck_non_negative\u001b[1;34m(X, whom)\u001b[0m\n\u001b[0;32m   1486\u001b[0m     X_min \u001b[38;5;241m=\u001b[39m xp\u001b[38;5;241m.\u001b[39mmin(X)\n\u001b[0;32m   1488\u001b[0m \u001b[38;5;28;01mif\u001b[39;00m X_min \u001b[38;5;241m<\u001b[39m \u001b[38;5;241m0\u001b[39m:\n\u001b[1;32m-> 1489\u001b[0m     \u001b[38;5;28;01mraise\u001b[39;00m \u001b[38;5;167;01mValueError\u001b[39;00m(\u001b[38;5;124m\"\u001b[39m\u001b[38;5;124mNegative values in data passed to \u001b[39m\u001b[38;5;132;01m%s\u001b[39;00m\u001b[38;5;124m\"\u001b[39m \u001b[38;5;241m%\u001b[39m whom)\n",
      "\u001b[1;31mValueError\u001b[0m: Negative values in data passed to MultinomialNB (input X)"
     ]
    }
   ],
   "source": [
    "from sklearn.naive_bayes import MultinomialNB\n",
    "\n",
    "hyperparameters = {'alpha': 0.09965020089826075}\n",
    "mnb_classifier = MultinomialNB()\n",
    "mnb_classifier.fit(x_train, y_train)\n"
   ]
  },
  {
   "cell_type": "code",
   "execution_count": 52,
   "metadata": {
    "ExecuteTime": {
     "end_time": "2024-04-03T22:36:27.915238Z",
     "start_time": "2024-04-03T22:36:27.895165Z"
    },
    "collapsed": false
   },
   "outputs": [
    {
     "name": "stdout",
     "output_type": "stream",
     "text": [
      "Multinomial Naive Bayes Classifier Evaluation:\n",
      "Accuracy: 0.8977399036680251\n",
      "Classification Report:\n",
      "               precision    recall  f1-score   support\n",
      "\n",
      "           0       0.95      0.90      0.93      1566\n",
      "           1       0.97      0.86      0.91      1835\n",
      "           2       0.69      0.97      0.81       432\n",
      "           3       0.87      0.91      0.89       756\n",
      "           4       0.88      0.93      0.90       593\n",
      "           5       0.73      0.96      0.83       216\n",
      "\n",
      "    accuracy                           0.90      5398\n",
      "   macro avg       0.85      0.92      0.88      5398\n",
      "weighted avg       0.91      0.90      0.90      5398\n"
     ]
    }
   ],
   "source": [
    "y_pred_mnb = mnb_classifier.predict(x_val)\n",
    "\n",
    "# Evaluate the performance for Multinomial Naive Bayes\n",
    "accuracy_mnb = accuracy_score(y_val, y_pred_mnb)\n",
    "report_mnb = classification_report(y_val, y_pred_mnb)\n",
    "conf_matrix_mnb = confusion_matrix(y_val, y_pred_mnb)\n",
    "\n",
    "# Print the evaluation metrics for Multinomial Naive Bayes\n",
    "print(\"Multinomial Naive Bayes Classifier Evaluation:\")\n",
    "print(\"Accuracy:\", accuracy_mnb)\n",
    "print(\"Classification Report:\\n\", report_mnb)"
   ]
  },
  {
   "cell_type": "code",
   "execution_count": 108,
   "metadata": {
    "ExecuteTime": {
     "end_time": "2024-04-03T23:44:55.843030Z",
     "start_time": "2024-04-03T23:44:55.784006Z"
    },
    "collapsed": false
   },
   "outputs": [
    {
     "data": {
      "text/html": [
       "<style>#sk-container-id-12 {color: black;}#sk-container-id-12 pre{padding: 0;}#sk-container-id-12 div.sk-toggleable {background-color: white;}#sk-container-id-12 label.sk-toggleable__label {cursor: pointer;display: block;width: 100%;margin-bottom: 0;padding: 0.3em;box-sizing: border-box;text-align: center;}#sk-container-id-12 label.sk-toggleable__label-arrow:before {content: \"▸\";float: left;margin-right: 0.25em;color: #696969;}#sk-container-id-12 label.sk-toggleable__label-arrow:hover:before {color: black;}#sk-container-id-12 div.sk-estimator:hover label.sk-toggleable__label-arrow:before {color: black;}#sk-container-id-12 div.sk-toggleable__content {max-height: 0;max-width: 0;overflow: hidden;text-align: left;background-color: #f0f8ff;}#sk-container-id-12 div.sk-toggleable__content pre {margin: 0.2em;color: black;border-radius: 0.25em;background-color: #f0f8ff;}#sk-container-id-12 input.sk-toggleable__control:checked~div.sk-toggleable__content {max-height: 200px;max-width: 100%;overflow: auto;}#sk-container-id-12 input.sk-toggleable__control:checked~label.sk-toggleable__label-arrow:before {content: \"▾\";}#sk-container-id-12 div.sk-estimator input.sk-toggleable__control:checked~label.sk-toggleable__label {background-color: #d4ebff;}#sk-container-id-12 div.sk-label input.sk-toggleable__control:checked~label.sk-toggleable__label {background-color: #d4ebff;}#sk-container-id-12 input.sk-hidden--visually {border: 0;clip: rect(1px 1px 1px 1px);clip: rect(1px, 1px, 1px, 1px);height: 1px;margin: -1px;overflow: hidden;padding: 0;position: absolute;width: 1px;}#sk-container-id-12 div.sk-estimator {font-family: monospace;background-color: #f0f8ff;border: 1px dotted black;border-radius: 0.25em;box-sizing: border-box;margin-bottom: 0.5em;}#sk-container-id-12 div.sk-estimator:hover {background-color: #d4ebff;}#sk-container-id-12 div.sk-parallel-item::after {content: \"\";width: 100%;border-bottom: 1px solid gray;flex-grow: 1;}#sk-container-id-12 div.sk-label:hover label.sk-toggleable__label {background-color: #d4ebff;}#sk-container-id-12 div.sk-serial::before {content: \"\";position: absolute;border-left: 1px solid gray;box-sizing: border-box;top: 0;bottom: 0;left: 50%;z-index: 0;}#sk-container-id-12 div.sk-serial {display: flex;flex-direction: column;align-items: center;background-color: white;padding-right: 0.2em;padding-left: 0.2em;position: relative;}#sk-container-id-12 div.sk-item {position: relative;z-index: 1;}#sk-container-id-12 div.sk-parallel {display: flex;align-items: stretch;justify-content: center;background-color: white;position: relative;}#sk-container-id-12 div.sk-item::before, #sk-container-id-12 div.sk-parallel-item::before {content: \"\";position: absolute;border-left: 1px solid gray;box-sizing: border-box;top: 0;bottom: 0;left: 50%;z-index: -1;}#sk-container-id-12 div.sk-parallel-item {display: flex;flex-direction: column;z-index: 1;position: relative;background-color: white;}#sk-container-id-12 div.sk-parallel-item:first-child::after {align-self: flex-end;width: 50%;}#sk-container-id-12 div.sk-parallel-item:last-child::after {align-self: flex-start;width: 50%;}#sk-container-id-12 div.sk-parallel-item:only-child::after {width: 0;}#sk-container-id-12 div.sk-dashed-wrapped {border: 1px dashed gray;margin: 0 0.4em 0.5em 0.4em;box-sizing: border-box;padding-bottom: 0.4em;background-color: white;}#sk-container-id-12 div.sk-label label {font-family: monospace;font-weight: bold;display: inline-block;line-height: 1.2em;}#sk-container-id-12 div.sk-label-container {text-align: center;}#sk-container-id-12 div.sk-container {/* jupyter's `normalize.less` sets `[hidden] { display: none; }` but bootstrap.min.css set `[hidden] { display: none !important; }` so we also need the `!important` here to be able to override the default hidden behavior on the sphinx rendered scikit-learn.org. See: https://github.com/scikit-learn/scikit-learn/issues/21755 */display: inline-block !important;position: relative;}#sk-container-id-12 div.sk-text-repr-fallback {display: none;}</style><div id=\"sk-container-id-12\" class=\"sk-top-container\"><div class=\"sk-text-repr-fallback\"><pre>GaussianNB()</pre><b>In a Jupyter environment, please rerun this cell to show the HTML representation or trust the notebook. <br />On GitHub, the HTML representation is unable to render, please try loading this page with nbviewer.org.</b></div><div class=\"sk-container\" hidden><div class=\"sk-item\"><div class=\"sk-estimator sk-toggleable\"><input class=\"sk-toggleable__control sk-hidden--visually\" id=\"sk-estimator-id-12\" type=\"checkbox\" checked><label for=\"sk-estimator-id-12\" class=\"sk-toggleable__label sk-toggleable__label-arrow\">GaussianNB</label><div class=\"sk-toggleable__content\"><pre>GaussianNB()</pre></div></div></div></div></div>"
      ],
      "text/plain": [
       "GaussianNB()"
      ]
     },
     "execution_count": 108,
     "metadata": {},
     "output_type": "execute_result"
    }
   ],
   "source": [
    "# não dá com tfidf por ser esparso\n",
    "from sklearn.naive_bayes import GaussianNB\n",
    "\n",
    "gnb_classifier = GaussianNB()\n",
    "gnb_classifier.fit(x_train, y_train)\n",
    "\n"
   ]
  },
  {
   "cell_type": "code",
   "execution_count": 109,
   "metadata": {
    "ExecuteTime": {
     "end_time": "2024-04-03T23:44:59.538990Z",
     "start_time": "2024-04-03T23:44:59.489935Z"
    },
    "collapsed": false
   },
   "outputs": [
    {
     "name": "stdout",
     "output_type": "stream",
     "text": [
      "Gaussian Naive Bayes Classifier Evaluation:\n",
      "Accuracy: 0.7739903668025194\n",
      "Classification Report:\n",
      "               precision    recall  f1-score   support\n",
      "\n",
      "           0       0.86      0.79      0.82      1566\n",
      "           1       0.89      0.79      0.84      1835\n",
      "           2       0.47      0.70      0.56       432\n",
      "           3       0.77      0.76      0.76       756\n",
      "           4       0.75      0.76      0.76       593\n",
      "           5       0.47      0.75      0.58       216\n",
      "\n",
      "    accuracy                           0.77      5398\n",
      "   macro avg       0.70      0.76      0.72      5398\n",
      "weighted avg       0.80      0.77      0.78      5398\n",
      "\n",
      "Confusion Matrix:\n",
      " [[1242   55  104   62   54   49]\n",
      " [  79 1448  159   54   34   61]\n",
      " [  37   51  301   21    6   16]\n",
      " [  51   31   38  574   32   30]\n",
      " [  31   21   23   39  451   28]\n",
      " [  10   12    9    0   23  162]]\n"
     ]
    }
   ],
   "source": [
    "y_pred_gnb = gnb_classifier.predict(x_val)\n",
    "\n",
    "# Evaluate the performance for Gaussian Naive Bayes\n",
    "accuracy_gnb = accuracy_score(y_val, y_pred_gnb)\n",
    "report_gnb = classification_report(y_val, y_pred_gnb)\n",
    "conf_matrix_gnb = confusion_matrix(y_val, y_pred_gnb)\n",
    "\n",
    "# Print the evaluation metrics for Gaussian Naive Bayes\n",
    "print(\"Gaussian Naive Bayes Classifier Evaluation:\")\n",
    "print(\"Accuracy:\", accuracy_gnb)\n",
    "print(\"Classification Report:\\n\", report_gnb)\n",
    "print(\"Confusion Matrix:\\n\", conf_matrix_gnb)"
   ]
  },
  {
   "cell_type": "markdown",
   "metadata": {
    "collapsed": false
   },
   "source": [
    "### Random Forest"
   ]
  },
  {
   "cell_type": "markdown",
   "metadata": {
    "collapsed": false
   },
   "source": [
    "##### Hypertunning"
   ]
  },
  {
   "cell_type": "code",
   "execution_count": null,
   "metadata": {
    "collapsed": false
   },
   "outputs": [],
   "source": [
    "# import optuna\n",
    "# from sklearn.ensemble import RandomForestClassifier\n",
    "# from sklearn.metrics import accuracy_score\n",
    "\n",
    "# # Define the objective function for Optuna\n",
    "# def objective(trial):\n",
    "#     # Define hyperparameters to optimize\n",
    "#     n_estimators = trial.suggest_int('n_estimators', 100, 1000)\n",
    "#     max_depth = trial.suggest_int('max_depth', 10, 100)\n",
    "#     min_samples_split = trial.suggest_int('min_samples_split', 2, 10)\n",
    "#     min_samples_leaf = trial.suggest_int('min_samples_leaf', 1, 5)\n",
    "\n",
    "    \n",
    "#     # Instantiate Random Forest classifier with hyperparameters\n",
    "#     rf_classifier = RandomForestClassifier(n_estimators=n_estimators, max_depth=max_depth, min_samples_split=min_samples_split, min_samples_leaf=min_samples_leaf)\n",
    "\n",
    "#     # Train classifier\n",
    "#     rf_classifier.fit(x_train, y_train)\n",
    "\n",
    "#     # Predict on validation set\n",
    "#     y_pred = rf_classifier.predict(x_val)\n",
    "        \n",
    "#     # Calculate accuracy score\n",
    "#     accuracy = accuracy_score(y_val, y_pred)\n",
    "\n",
    "#     return accuracy\n",
    "\n",
    "# # Create Optuna study\n",
    "# study = optuna.create_study(direction='maximize')\n",
    "# study.optimize(objective, n_trials=100)\n",
    "\n",
    "# # Get best hyperparameters\n",
    "# best_params = study.best_params\n",
    "\n",
    "# print(best_params)"
   ]
  },
  {
   "cell_type": "code",
   "execution_count": 112,
   "metadata": {
    "ExecuteTime": {
     "end_time": "2024-04-03T23:58:55.844702Z",
     "start_time": "2024-04-03T23:57:22.342535Z"
    },
    "collapsed": false
   },
   "outputs": [
    {
     "data": {
      "text/html": [
       "<style>#sk-container-id-14 {color: black;}#sk-container-id-14 pre{padding: 0;}#sk-container-id-14 div.sk-toggleable {background-color: white;}#sk-container-id-14 label.sk-toggleable__label {cursor: pointer;display: block;width: 100%;margin-bottom: 0;padding: 0.3em;box-sizing: border-box;text-align: center;}#sk-container-id-14 label.sk-toggleable__label-arrow:before {content: \"▸\";float: left;margin-right: 0.25em;color: #696969;}#sk-container-id-14 label.sk-toggleable__label-arrow:hover:before {color: black;}#sk-container-id-14 div.sk-estimator:hover label.sk-toggleable__label-arrow:before {color: black;}#sk-container-id-14 div.sk-toggleable__content {max-height: 0;max-width: 0;overflow: hidden;text-align: left;background-color: #f0f8ff;}#sk-container-id-14 div.sk-toggleable__content pre {margin: 0.2em;color: black;border-radius: 0.25em;background-color: #f0f8ff;}#sk-container-id-14 input.sk-toggleable__control:checked~div.sk-toggleable__content {max-height: 200px;max-width: 100%;overflow: auto;}#sk-container-id-14 input.sk-toggleable__control:checked~label.sk-toggleable__label-arrow:before {content: \"▾\";}#sk-container-id-14 div.sk-estimator input.sk-toggleable__control:checked~label.sk-toggleable__label {background-color: #d4ebff;}#sk-container-id-14 div.sk-label input.sk-toggleable__control:checked~label.sk-toggleable__label {background-color: #d4ebff;}#sk-container-id-14 input.sk-hidden--visually {border: 0;clip: rect(1px 1px 1px 1px);clip: rect(1px, 1px, 1px, 1px);height: 1px;margin: -1px;overflow: hidden;padding: 0;position: absolute;width: 1px;}#sk-container-id-14 div.sk-estimator {font-family: monospace;background-color: #f0f8ff;border: 1px dotted black;border-radius: 0.25em;box-sizing: border-box;margin-bottom: 0.5em;}#sk-container-id-14 div.sk-estimator:hover {background-color: #d4ebff;}#sk-container-id-14 div.sk-parallel-item::after {content: \"\";width: 100%;border-bottom: 1px solid gray;flex-grow: 1;}#sk-container-id-14 div.sk-label:hover label.sk-toggleable__label {background-color: #d4ebff;}#sk-container-id-14 div.sk-serial::before {content: \"\";position: absolute;border-left: 1px solid gray;box-sizing: border-box;top: 0;bottom: 0;left: 50%;z-index: 0;}#sk-container-id-14 div.sk-serial {display: flex;flex-direction: column;align-items: center;background-color: white;padding-right: 0.2em;padding-left: 0.2em;position: relative;}#sk-container-id-14 div.sk-item {position: relative;z-index: 1;}#sk-container-id-14 div.sk-parallel {display: flex;align-items: stretch;justify-content: center;background-color: white;position: relative;}#sk-container-id-14 div.sk-item::before, #sk-container-id-14 div.sk-parallel-item::before {content: \"\";position: absolute;border-left: 1px solid gray;box-sizing: border-box;top: 0;bottom: 0;left: 50%;z-index: -1;}#sk-container-id-14 div.sk-parallel-item {display: flex;flex-direction: column;z-index: 1;position: relative;background-color: white;}#sk-container-id-14 div.sk-parallel-item:first-child::after {align-self: flex-end;width: 50%;}#sk-container-id-14 div.sk-parallel-item:last-child::after {align-self: flex-start;width: 50%;}#sk-container-id-14 div.sk-parallel-item:only-child::after {width: 0;}#sk-container-id-14 div.sk-dashed-wrapped {border: 1px dashed gray;margin: 0 0.4em 0.5em 0.4em;box-sizing: border-box;padding-bottom: 0.4em;background-color: white;}#sk-container-id-14 div.sk-label label {font-family: monospace;font-weight: bold;display: inline-block;line-height: 1.2em;}#sk-container-id-14 div.sk-label-container {text-align: center;}#sk-container-id-14 div.sk-container {/* jupyter's `normalize.less` sets `[hidden] { display: none; }` but bootstrap.min.css set `[hidden] { display: none !important; }` so we also need the `!important` here to be able to override the default hidden behavior on the sphinx rendered scikit-learn.org. See: https://github.com/scikit-learn/scikit-learn/issues/21755 */display: inline-block !important;position: relative;}#sk-container-id-14 div.sk-text-repr-fallback {display: none;}</style><div id=\"sk-container-id-14\" class=\"sk-top-container\"><div class=\"sk-text-repr-fallback\"><pre>RandomForestClassifier()</pre><b>In a Jupyter environment, please rerun this cell to show the HTML representation or trust the notebook. <br />On GitHub, the HTML representation is unable to render, please try loading this page with nbviewer.org.</b></div><div class=\"sk-container\" hidden><div class=\"sk-item\"><div class=\"sk-estimator sk-toggleable\"><input class=\"sk-toggleable__control sk-hidden--visually\" id=\"sk-estimator-id-14\" type=\"checkbox\" checked><label for=\"sk-estimator-id-14\" class=\"sk-toggleable__label sk-toggleable__label-arrow\">RandomForestClassifier</label><div class=\"sk-toggleable__content\"><pre>RandomForestClassifier()</pre></div></div></div></div></div>"
      ],
      "text/plain": [
       "RandomForestClassifier()"
      ]
     },
     "execution_count": 112,
     "metadata": {},
     "output_type": "execute_result"
    }
   ],
   "source": [
    "from sklearn.ensemble import RandomForestClassifier\n",
    "\n",
    "# hyperparameters = {'n_estimators': 100, 'max_depth': 10, 'min_samples_split': 2, 'min_samples_leaf': 1}  # placeholders\n",
    "# rf_classifier = RandomForestClassifier(**hyperparameters)\n",
    "rf_classifier = RandomForestClassifier()\n",
    "rf_classifier.fit(x_train, y_train)\n",
    "# rf_classifier = joblib.load('TfIdf Classifiers/rf_tfidf_classifier.pkl')"
   ]
  },
  {
   "cell_type": "code",
   "execution_count": 113,
   "metadata": {
    "ExecuteTime": {
     "end_time": "2024-04-03T23:59:09.290184Z",
     "start_time": "2024-04-03T23:59:09.109693Z"
    },
    "collapsed": false
   },
   "outputs": [
    {
     "name": "stdout",
     "output_type": "stream",
     "text": [
      "Random Forest Classifier Evaluation:\n",
      "Accuracy: 0.7424972211930344\n",
      "Classification Report:\n",
      "               precision    recall  f1-score   support\n",
      "\n",
      "           0       0.86      0.79      0.82      1566\n",
      "           1       0.89      0.74      0.81      1835\n",
      "           2       0.48      0.74      0.58       432\n",
      "           3       0.69      0.69      0.69       756\n",
      "           4       0.67      0.69      0.68       593\n",
      "           5       0.42      0.75      0.54       216\n",
      "\n",
      "    accuracy                           0.74      5398\n",
      "   macro avg       0.67      0.73      0.69      5398\n",
      "weighted avg       0.78      0.74      0.75      5398\n",
      "\n",
      "Confusion Matrix:\n",
      " [[1234   52   63  100   66   51]\n",
      " [  62 1362  201   72   55   83]\n",
      " [  18   52  318   18   14   12]\n",
      " [  63   34   44  525   50   40]\n",
      " [  48   25   30   43  407   40]\n",
      " [   9   10   11    6   18  162]]\n"
     ]
    }
   ],
   "source": [
    "y_pred_rf = rf_classifier.predict(x_val)\n",
    "\n",
    "# Evaluate the performance for Random Forest\n",
    "accuracy_rf = accuracy_score(y_val, y_pred_rf)\n",
    "report_rf = classification_report(y_val, y_pred_rf)\n",
    "conf_matrix_rf = confusion_matrix(y_val, y_pred_rf)\n",
    "\n",
    "# Print the evaluation metrics for Random Forest\n",
    "print(\"Random Forest Classifier Evaluation:\")\n",
    "print(\"Accuracy:\", accuracy_rf)\n",
    "print(\"Classification Report:\\n\", report_rf)\n",
    "print(\"Confusion Matrix:\\n\", conf_matrix_rf)"
   ]
  },
  {
   "cell_type": "markdown",
   "metadata": {
    "collapsed": false
   },
   "source": [
    "### Neural Network - MLP"
   ]
  },
  {
   "cell_type": "markdown",
   "metadata": {
    "collapsed": false
   },
   "source": [
    "##### Hypertunning"
   ]
  },
  {
   "cell_type": "code",
   "execution_count": null,
   "metadata": {
    "collapsed": false
   },
   "outputs": [],
   "source": [
    "# import optuna\n",
    "# from sklearn.neural_network import MLPClassifier\n",
    "# from sklearn.metrics import accuracy_score\n",
    "\n",
    "# # Define the objective function for Optuna\n",
    "# def objective(trial):\n",
    "#     # Define hyperparameters to optimize\n",
    "#     hidden_layer_sizes = trial.suggest_int('hidden_layer_sizes', 1, 100)\n",
    "#     activation = trial.suggest_categorical('activation', ['identity', 'logistic', 'tanh', 'relu'])\n",
    "#     solver = trial.suggest_categorical('solver', ['lbfgs', 'sgd', 'adam'])\n",
    "#     alpha = trial.suggest_loguniform('alpha', 1e-5, 1e-1)\n",
    "    \n",
    "#     # Instantiate MLP classifier with hyperparameters\n",
    "#     mlp_classifier = MLPClassifier(hidden_layer_sizes=(hidden_layer_sizes,), activation=activation, solver=solver, alpha=alpha)\n",
    "\n",
    "#     # Train classifier\n",
    "#     mlp_classifier.fit(x_train, y_train)\n",
    "\n",
    "#     # Predict on validation set\n",
    "#     y_pred = mlp_classifier.predict(x_val)\n",
    "        \n",
    "#     # Calculate accuracy score\n",
    "#     accuracy = accuracy_score(y_val, y_pred)\n",
    "\n",
    "#     return accuracy\n",
    "\n",
    "# # Create Optuna study\n",
    "# study = optuna.create_study(direction='maximize')\n",
    "# study.optimize(objective, n_trials=100)\n",
    "\n",
    "# # Get best hyperparameters\n",
    "# best_params = study.best_params\n",
    "\n",
    "# print(best_params)\n"
   ]
  },
  {
   "cell_type": "code",
   "execution_count": 117,
   "metadata": {
    "ExecuteTime": {
     "end_time": "2024-04-04T00:09:56.463553Z",
     "start_time": "2024-04-04T00:07:51.041064Z"
    },
    "collapsed": false
   },
   "outputs": [
    {
     "data": {
      "text/html": [
       "<style>#sk-container-id-16 {color: black;}#sk-container-id-16 pre{padding: 0;}#sk-container-id-16 div.sk-toggleable {background-color: white;}#sk-container-id-16 label.sk-toggleable__label {cursor: pointer;display: block;width: 100%;margin-bottom: 0;padding: 0.3em;box-sizing: border-box;text-align: center;}#sk-container-id-16 label.sk-toggleable__label-arrow:before {content: \"▸\";float: left;margin-right: 0.25em;color: #696969;}#sk-container-id-16 label.sk-toggleable__label-arrow:hover:before {color: black;}#sk-container-id-16 div.sk-estimator:hover label.sk-toggleable__label-arrow:before {color: black;}#sk-container-id-16 div.sk-toggleable__content {max-height: 0;max-width: 0;overflow: hidden;text-align: left;background-color: #f0f8ff;}#sk-container-id-16 div.sk-toggleable__content pre {margin: 0.2em;color: black;border-radius: 0.25em;background-color: #f0f8ff;}#sk-container-id-16 input.sk-toggleable__control:checked~div.sk-toggleable__content {max-height: 200px;max-width: 100%;overflow: auto;}#sk-container-id-16 input.sk-toggleable__control:checked~label.sk-toggleable__label-arrow:before {content: \"▾\";}#sk-container-id-16 div.sk-estimator input.sk-toggleable__control:checked~label.sk-toggleable__label {background-color: #d4ebff;}#sk-container-id-16 div.sk-label input.sk-toggleable__control:checked~label.sk-toggleable__label {background-color: #d4ebff;}#sk-container-id-16 input.sk-hidden--visually {border: 0;clip: rect(1px 1px 1px 1px);clip: rect(1px, 1px, 1px, 1px);height: 1px;margin: -1px;overflow: hidden;padding: 0;position: absolute;width: 1px;}#sk-container-id-16 div.sk-estimator {font-family: monospace;background-color: #f0f8ff;border: 1px dotted black;border-radius: 0.25em;box-sizing: border-box;margin-bottom: 0.5em;}#sk-container-id-16 div.sk-estimator:hover {background-color: #d4ebff;}#sk-container-id-16 div.sk-parallel-item::after {content: \"\";width: 100%;border-bottom: 1px solid gray;flex-grow: 1;}#sk-container-id-16 div.sk-label:hover label.sk-toggleable__label {background-color: #d4ebff;}#sk-container-id-16 div.sk-serial::before {content: \"\";position: absolute;border-left: 1px solid gray;box-sizing: border-box;top: 0;bottom: 0;left: 50%;z-index: 0;}#sk-container-id-16 div.sk-serial {display: flex;flex-direction: column;align-items: center;background-color: white;padding-right: 0.2em;padding-left: 0.2em;position: relative;}#sk-container-id-16 div.sk-item {position: relative;z-index: 1;}#sk-container-id-16 div.sk-parallel {display: flex;align-items: stretch;justify-content: center;background-color: white;position: relative;}#sk-container-id-16 div.sk-item::before, #sk-container-id-16 div.sk-parallel-item::before {content: \"\";position: absolute;border-left: 1px solid gray;box-sizing: border-box;top: 0;bottom: 0;left: 50%;z-index: -1;}#sk-container-id-16 div.sk-parallel-item {display: flex;flex-direction: column;z-index: 1;position: relative;background-color: white;}#sk-container-id-16 div.sk-parallel-item:first-child::after {align-self: flex-end;width: 50%;}#sk-container-id-16 div.sk-parallel-item:last-child::after {align-self: flex-start;width: 50%;}#sk-container-id-16 div.sk-parallel-item:only-child::after {width: 0;}#sk-container-id-16 div.sk-dashed-wrapped {border: 1px dashed gray;margin: 0 0.4em 0.5em 0.4em;box-sizing: border-box;padding-bottom: 0.4em;background-color: white;}#sk-container-id-16 div.sk-label label {font-family: monospace;font-weight: bold;display: inline-block;line-height: 1.2em;}#sk-container-id-16 div.sk-label-container {text-align: center;}#sk-container-id-16 div.sk-container {/* jupyter's `normalize.less` sets `[hidden] { display: none; }` but bootstrap.min.css set `[hidden] { display: none !important; }` so we also need the `!important` here to be able to override the default hidden behavior on the sphinx rendered scikit-learn.org. See: https://github.com/scikit-learn/scikit-learn/issues/21755 */display: inline-block !important;position: relative;}#sk-container-id-16 div.sk-text-repr-fallback {display: none;}</style><div id=\"sk-container-id-16\" class=\"sk-top-container\"><div class=\"sk-text-repr-fallback\"><pre>MLPClassifier(max_iter=500)</pre><b>In a Jupyter environment, please rerun this cell to show the HTML representation or trust the notebook. <br />On GitHub, the HTML representation is unable to render, please try loading this page with nbviewer.org.</b></div><div class=\"sk-container\" hidden><div class=\"sk-item\"><div class=\"sk-estimator sk-toggleable\"><input class=\"sk-toggleable__control sk-hidden--visually\" id=\"sk-estimator-id-16\" type=\"checkbox\" checked><label for=\"sk-estimator-id-16\" class=\"sk-toggleable__label sk-toggleable__label-arrow\">MLPClassifier</label><div class=\"sk-toggleable__content\"><pre>MLPClassifier(max_iter=500)</pre></div></div></div></div></div>"
      ],
      "text/plain": [
       "MLPClassifier(max_iter=500)"
      ]
     },
     "execution_count": 117,
     "metadata": {},
     "output_type": "execute_result"
    }
   ],
   "source": [
    "from sklearn.neural_network import MLPClassifier\n",
    "\n",
    "# hyperparameters = {'hidden_layer_sizes': 100, 'activation': 'relu', 'solver': 'adam', 'alpha': 0.0001} # placeholders\n",
    "# mlp_classifier = MLPClassifier(**hyperparameters)\n",
    "# Maximum iterations (200) reached and the optimization hasn't converged yet.\n",
    "\n",
    "\n",
    "mlp_classifier = MLPClassifier(max_iter=500)\n",
    "mlp_classifier.fit(x_train, y_train)\n"
   ]
  },
  {
   "cell_type": "code",
   "execution_count": 118,
   "metadata": {
    "ExecuteTime": {
     "end_time": "2024-04-04T00:10:13.066980Z",
     "start_time": "2024-04-04T00:10:13.017643Z"
    },
    "collapsed": false
   },
   "outputs": [
    {
     "name": "stdout",
     "output_type": "stream",
     "text": [
      "Multilayer Perceptron Classifier Evaluation:\n",
      "Accuracy: 0.7886254168210448\n",
      "Classification Report:\n",
      "               precision    recall  f1-score   support\n",
      "\n",
      "           0       0.90      0.80      0.85      1566\n",
      "           1       0.89      0.78      0.84      1835\n",
      "           2       0.57      0.75      0.65       432\n",
      "           3       0.77      0.78      0.77       756\n",
      "           4       0.71      0.81      0.76       593\n",
      "           5       0.44      0.79      0.57       216\n",
      "\n",
      "    accuracy                           0.79      5398\n",
      "   macro avg       0.71      0.78      0.74      5398\n",
      "weighted avg       0.81      0.79      0.80      5398\n",
      "\n",
      "Confusion Matrix:\n",
      " [[1256   61   32   84   73   60]\n",
      " [  46 1438  164   58   45   84]\n",
      " [  19   56  323    7   12   15]\n",
      " [  49   24   26  591   42   24]\n",
      " [  23   17   15   27  479   32]\n",
      " [   5   11    4    4   22  170]]\n"
     ]
    }
   ],
   "source": [
    "y_pred_mlp = mlp_classifier.predict(x_val)\n",
    "\n",
    "# Evaluate the performance for Multilayer Perceptron\n",
    "accuracy_mlp = accuracy_score(y_val, y_pred_mlp)\n",
    "report_mlp = classification_report(y_val, y_pred_mlp)\n",
    "conf_matrix_mlp = confusion_matrix(y_val, y_pred_mlp)\n",
    "\n",
    "# Print the evaluation metrics for Multilayer Perceptron\n",
    "print(\"Multilayer Perceptron Classifier Evaluation:\")\n",
    "print(\"Accuracy:\", accuracy_mlp)\n",
    "print(\"Classification Report:\\n\", report_mlp)\n",
    "print(\"Confusion Matrix:\\n\", conf_matrix_mlp)\n"
   ]
  },
  {
   "cell_type": "markdown",
   "metadata": {
    "collapsed": false
   },
   "source": [
    "###  Bagging Algorithm"
   ]
  },
  {
   "cell_type": "code",
   "execution_count": 127,
   "metadata": {
    "ExecuteTime": {
     "end_time": "2024-04-04T02:13:08.488664Z",
     "start_time": "2024-04-04T02:00:09.161573Z"
    },
    "collapsed": false
   },
   "outputs": [
    {
     "name": "stdout",
     "output_type": "stream",
     "text": [
      "Voting Classifier Evaluation:\n",
      "Accuracy: 0.8343831048536495\n",
      "Classification Report:\n",
      "               precision    recall  f1-score   support\n",
      "\n",
      "           0       0.91      0.87      0.89      1566\n",
      "           1       0.93      0.82      0.87      1835\n",
      "           2       0.62      0.82      0.70       432\n",
      "           3       0.79      0.81      0.80       756\n",
      "           4       0.82      0.82      0.82       593\n",
      "           5       0.54      0.86      0.67       216\n",
      "\n",
      "    accuracy                           0.83      5398\n",
      "   macro avg       0.77      0.83      0.79      5398\n",
      "weighted avg       0.85      0.83      0.84      5398\n",
      "\n",
      "Confusion Matrix:\n",
      " [[1359   32   30   71   40   34]\n",
      " [  47 1502  158   47   23   58]\n",
      " [  15   35  355    8    4   15]\n",
      " [  48   21   20  615   26   26]\n",
      " [  24   16   11   31  487   24]\n",
      " [   7    7    2    2   12  186]]\n"
     ]
    }
   ],
   "source": [
    "from sklearn.ensemble import BaggingClassifier, VotingClassifier\n",
    "\n",
    "# model1 = svm_classifier\n",
    "model1 = SVC(kernel='poly', degree=2, random_state=42, probability=True)\n",
    "model2 = MLPClassifier(max_iter=500)\n",
    "model3 = LogisticRegression(solver='liblinear', penalty='l2', C=0.03784347512520397)\n",
    "\n",
    "voting_clf = VotingClassifier(estimators=[\n",
    "    ('model1', model1), \n",
    "    ('model2', model2),\n",
    "    ('model3', model3)\n",
    "], voting='soft')\n",
    "# Fit the ensemble model\n",
    "voting_clf.fit(x_train, y_train)\n",
    "\n",
    "# Predict the validation set\n",
    "y_pred_voting = voting_clf.predict(x_val)\n",
    "\n",
    "# Evaluate the performance for the ensemble model\n",
    "accuracy_voting = accuracy_score(y_val, y_pred_voting)\n",
    "report_voting = classification_report(y_val, y_pred_voting)\n",
    "conf_matrix_voting = confusion_matrix(y_val, y_pred_voting)\n",
    "\n",
    "# Print the evaluation metrics for the ensemble model\n",
    "print(\"Voting Classifier Evaluation:\")\n",
    "print(\"Accuracy:\", accuracy_voting)\n",
    "print(\"Classification Report:\\n\", report_voting)\n",
    "print(\"Confusion Matrix:\\n\", conf_matrix_voting)\n"
   ]
  },
  {
   "cell_type": "code",
   "execution_count": null,
   "metadata": {
    "collapsed": false
   },
   "outputs": [],
   "source": []
  },
  {
   "cell_type": "code",
   "execution_count": 129,
   "metadata": {
    "ExecuteTime": {
     "end_time": "2024-04-04T03:49:21.192864Z",
     "start_time": "2024-04-04T03:39:46.256135Z"
    },
    "collapsed": false
   },
   "outputs": [
    {
     "data": {
      "image/png": "[encoded data removed]",
      "text/plain": [
       "<Figure size 640x480 with 1 Axes>"
      ]
     },
     "metadata": {},
     "output_type": "display_data"
    }
   ],
   "source": [
    "from sklearn.model_selection import learning_curve\n",
    "\n",
    "def plot_learning_curves(model, X_train, y_train, cv=5):\n",
    "    train_sizes, train_scores, test_scores = learning_curve(\n",
    "        model, X_train, y_train, cv=cv, n_jobs=-1, \n",
    "        train_sizes=np.linspace(.1, 1.0, 10),\n",
    "        scoring='accuracy'\n",
    "    )\n",
    "\n",
    "    train_scores_mean = np.mean(train_scores, axis=1)\n",
    "    train_scores_std = np.std(train_scores, axis=1)\n",
    "    test_scores_mean = np.mean(test_scores, axis=1)\n",
    "    test_scores_std = np.std(test_scores, axis=1)\n",
    "\n",
    "    plt.figure()\n",
    "    plt.title(\"Learning Curves\")\n",
    "    plt.xlabel(\"Training examples\")\n",
    "    plt.ylabel(\"Score\")\n",
    "    \n",
    "    plt.fill_between(train_sizes, train_scores_mean - train_scores_std,\n",
    "                        train_scores_mean + train_scores_std, alpha=0.1, color=\"r\")\n",
    "    plt.plot(train_sizes, train_scores_mean, 'o-', color=\"r\",\n",
    "                label=\"Training score\")\n",
    "\n",
    "    plt.fill_between(train_sizes, test_scores_mean - test_scores_std,\n",
    "                        test_scores_mean + test_scores_std, alpha=0.1, color=\"g\")\n",
    "    plt.plot(train_sizes, test_scores_mean, 'o-', color=\"g\",\n",
    "                label=\"Cross-validation score\")\n",
    "\n",
    "    plt.legend(loc=\"best\")\n",
    "    return plt\n",
    "\n",
    "\n",
    "model = MLPClassifier(max_iter=500)\n",
    "plot_learning_curves(model, x_train, y_train, cv=5)\n",
    "plt.show()"
   ]
  },
  {
   "cell_type": "markdown",
   "metadata": {
    "collapsed": false
   },
   "source": [
    "# 5. Model Evaluation"
   ]
  },
  {
   "cell_type": "code",
   "execution_count": 75,
   "metadata": {
    "ExecuteTime": {
     "end_time": "2024-04-03T21:26:24.964472Z",
     "start_time": "2024-04-03T21:26:24.942085Z"
    },
    "collapsed": false
   },
   "outputs": [
    {
     "name": "stdout",
     "output_type": "stream",
     "text": [
      "0.8855555555555555\n",
      "              precision    recall  f1-score   support\n",
      "\n",
      "           0       0.95      0.89      0.92      1566\n",
      "           1       0.95      0.84      0.89      1836\n",
      "           2       0.67      0.97      0.79       432\n",
      "           3       0.87      0.90      0.88       756\n",
      "           4       0.84      0.90      0.87       594\n",
      "           5       0.79      1.00      0.88       216\n",
      "\n",
      "    accuracy                           0.89      5400\n",
      "   macro avg       0.85      0.92      0.87      5400\n",
      "weighted avg       0.90      0.89      0.89      5400\n",
      "\n",
      "[[1399   35   30   45   44   13]\n",
      " [  49 1536  157   43   32   19]\n",
      " [   1    4  419    3    2    3]\n",
      " [  11   22   15  677   26    5]\n",
      " [  14   11    9    8  536   16]\n",
      " [   0    1    0    0    0  215]]\n"
     ]
    }
   ],
   "source": [
    "# evaluate with test set\n",
    "y_pred = logreg_classifier.predict(x_test)\n",
    "print(accuracy_score(y_test, y_pred))\n",
    "print(classification_report(y_test, y_pred))\n",
    "print(confusion_matrix(y_test, y_pred))\n",
    "\n",
    "y_pred_logreg = logreg_classifier.predict(x_test)"
   ]
  },
  {
   "cell_type": "code",
   "execution_count": 76,
   "metadata": {
    "ExecuteTime": {
     "end_time": "2024-04-03T21:26:32.274782Z",
     "start_time": "2024-04-03T21:26:32.250792Z"
    },
    "collapsed": false
   },
   "outputs": [
    {
     "name": "stdout",
     "output_type": "stream",
     "text": [
      "0.8964814814814814\n",
      "              precision    recall  f1-score   support\n",
      "\n",
      "           0       0.97      0.90      0.93      1566\n",
      "           1       0.97      0.85      0.91      1836\n",
      "           2       0.67      0.95      0.79       432\n",
      "           3       0.89      0.92      0.90       756\n",
      "           4       0.85      0.92      0.88       594\n",
      "           5       0.74      0.95      0.83       216\n",
      "\n",
      "    accuracy                           0.90      5400\n",
      "   macro avg       0.85      0.92      0.87      5400\n",
      "weighted avg       0.91      0.90      0.90      5400\n",
      "\n",
      "[[1416   23   27   45   38   17]\n",
      " [  20 1567  159   31   27   32]\n",
      " [   2   13  412    2    2    1]\n",
      " [   9    4   14  696   25    8]\n",
      " [  15    4    4   12  545   14]\n",
      " [   1    5    1    0    4  205]]\n"
     ]
    }
   ],
   "source": [
    "y_pred = mnb_classifier.predict(x_test)\n",
    "print(accuracy_score(y_test, y_pred))\n",
    "print(classification_report(y_test, y_pred))\n",
    "print(confusion_matrix(y_test, y_pred))"
   ]
  },
  {
   "cell_type": "code",
   "execution_count": 121,
   "metadata": {
    "ExecuteTime": {
     "end_time": "2024-04-04T01:39:52.225386Z",
     "start_time": "2024-04-04T01:39:41.677780Z"
    },
    "collapsed": false
   },
   "outputs": [
    {
     "name": "stdout",
     "output_type": "stream",
     "text": [
      "0.8335804299481097\n",
      "              precision    recall  f1-score   support\n",
      "\n",
      "           0       0.90      0.85      0.87      1566\n",
      "           1       0.91      0.83      0.87      1835\n",
      "           2       0.62      0.82      0.71       431\n",
      "           3       0.83      0.80      0.82       755\n",
      "           4       0.77      0.83      0.80       593\n",
      "           5       0.60      0.86      0.71       216\n",
      "\n",
      "    accuracy                           0.83      5396\n",
      "   macro avg       0.77      0.83      0.80      5396\n",
      "weighted avg       0.85      0.83      0.84      5396\n",
      "\n",
      "[[1332   53   29   65   57   30]\n",
      " [  53 1528  154   33   27   40]\n",
      " [  12   47  354    6    4    8]\n",
      " [  43   26   18  607   40   21]\n",
      " [  38   11   10   17  491   26]\n",
      " [   2    7    2    4   15  186]]\n"
     ]
    }
   ],
   "source": [
    "y_pred = svm_classifier.predict(x_test)\n",
    "print(accuracy_score(y_test, y_pred))\n",
    "print(classification_report(y_test, y_pred))\n",
    "print(confusion_matrix(y_test, y_pred))\n",
    "y_pred_svm = y_pred.copy()\n"
   ]
  },
  {
   "cell_type": "code",
   "execution_count": 78,
   "metadata": {
    "ExecuteTime": {
     "end_time": "2024-04-03T21:27:15.830383Z",
     "start_time": "2024-04-03T21:27:15.758362Z"
    },
    "collapsed": false
   },
   "outputs": [
    {
     "name": "stdout",
     "output_type": "stream",
     "text": [
      "0.9131481481481482\n",
      "              precision    recall  f1-score   support\n",
      "\n",
      "           0       0.98      0.90      0.93      1566\n",
      "           1       0.97      0.89      0.93      1836\n",
      "           2       0.74      0.98      0.84       432\n",
      "           3       0.88      0.93      0.90       756\n",
      "           4       0.87      0.93      0.90       594\n",
      "           5       0.79      0.98      0.88       216\n",
      "\n",
      "    accuracy                           0.91      5400\n",
      "   macro avg       0.87      0.93      0.90      5400\n",
      "weighted avg       0.92      0.91      0.91      5400\n",
      "\n",
      "[[1402   44   15   55   37   13]\n",
      " [  21 1638  124   25   10   18]\n",
      " [   1    3  423    1    1    3]\n",
      " [   5    4    6  705   31    5]\n",
      " [   5    2    3   17  551   16]\n",
      " [   0    1    0    0    3  212]]\n"
     ]
    }
   ],
   "source": [
    "y_pred = xgb_classifier.predict(x_test)\n",
    "print(accuracy_score(y_test, y_pred))\n",
    "print(classification_report(y_test, y_pred))\n",
    "print(confusion_matrix(y_test, y_pred))\n"
   ]
  },
  {
   "cell_type": "code",
   "execution_count": 62,
   "metadata": {
    "ExecuteTime": {
     "end_time": "2024-04-03T23:02:14.679876Z",
     "start_time": "2024-04-03T23:02:14.570458Z"
    },
    "collapsed": false
   },
   "outputs": [
    {
     "name": "stdout",
     "output_type": "stream",
     "text": [
      "0.9186434395848777\n",
      "              precision    recall  f1-score   support\n",
      "\n",
      "           0       0.97      0.91      0.94      1566\n",
      "           1       0.96      0.90      0.93      1835\n",
      "           2       0.76      0.97      0.85       431\n",
      "           3       0.89      0.94      0.91       755\n",
      "           4       0.88      0.94      0.91       593\n",
      "           5       0.81      0.98      0.89       216\n",
      "\n",
      "    accuracy                           0.92      5396\n",
      "   macro avg       0.88      0.94      0.91      5396\n",
      "weighted avg       0.93      0.92      0.92      5396\n",
      "\n",
      "[[1419   46   10   49   33    9]\n",
      " [  27 1643  118   22    9   16]\n",
      " [   0    7  417    3    2    2]\n",
      " [   7    5    3  709   26    5]\n",
      " [   4    1    2   12  558   16]\n",
      " [   0    1    0    1    3  211]]\n"
     ]
    }
   ],
   "source": [
    "y_pred = lgb_classifier.predict(x_test)\n",
    "print(accuracy_score(y_test, y_pred))\n",
    "print(classification_report(y_test, y_pred))\n",
    "print(confusion_matrix(y_test, y_pred))\n",
    "\n",
    "y_pred_lgb = y_pred.copy()"
   ]
  },
  {
   "cell_type": "code",
   "execution_count": 80,
   "metadata": {
    "ExecuteTime": {
     "end_time": "2024-04-03T21:27:28.164109Z",
     "start_time": "2024-04-03T21:27:28.067869Z"
    },
    "collapsed": false
   },
   "outputs": [
    {
     "name": "stdout",
     "output_type": "stream",
     "text": [
      "0.11074074074074074\n",
      "              precision    recall  f1-score   support\n",
      "\n",
      "           0       0.00      0.00      0.00      1566\n",
      "           1       0.00      0.00      0.00      1836\n",
      "           2       0.08      0.99      0.15       432\n",
      "           3       0.00      0.00      0.00       756\n",
      "           4       0.21      0.01      0.02       594\n",
      "           5       0.74      0.77      0.75       216\n",
      "\n",
      "    accuracy                           0.11      5400\n",
      "   macro avg       0.17      0.29      0.15      5400\n",
      "weighted avg       0.06      0.11      0.04      5400\n",
      "\n",
      "[[   0    0 1553    0    1   12]\n",
      " [   0    0 1816    0    0   20]\n",
      " [   0    0  427    0    0    5]\n",
      " [   0    0  747    0    2    7]\n",
      " [   0    1  574    0    5   14]\n",
      " [  20    0    0   14   16  166]]\n"
     ]
    }
   ],
   "source": [
    "y_pred = adaboost_classifier.predict(x_test)\n",
    "print(accuracy_score(y_test, y_pred))\n",
    "print(classification_report(y_test, y_pred))\n",
    "print(confusion_matrix(y_test, y_pred))"
   ]
  },
  {
   "cell_type": "code",
   "execution_count": 81,
   "metadata": {
    "ExecuteTime": {
     "end_time": "2024-04-03T21:27:36.977781Z",
     "start_time": "2024-04-03T21:27:30.776498Z"
    },
    "collapsed": false
   },
   "outputs": [
    {
     "name": "stdout",
     "output_type": "stream",
     "text": [
      "0.7433333333333333\n",
      "              precision    recall  f1-score   support\n",
      "\n",
      "           0       0.91      0.74      0.82      1566\n",
      "           1       0.93      0.68      0.78      1836\n",
      "           2       0.63      0.69      0.66       432\n",
      "           3       0.48      0.89      0.62       756\n",
      "           4       0.71      0.78      0.74       594\n",
      "           5       0.70      0.81      0.75       216\n",
      "\n",
      "    accuracy                           0.74      5400\n",
      "   macro avg       0.73      0.76      0.73      5400\n",
      "weighted avg       0.80      0.74      0.75      5400\n",
      "\n",
      "[[1161   44   29  258   62   12]\n",
      " [  59 1246  123  294   80   34]\n",
      " [  14   26  297   76   15    4]\n",
      " [  19   16   16  674   21   10]\n",
      " [  21    6    5   85  462   15]\n",
      " [   6    5    3   21    7  174]]\n"
     ]
    }
   ],
   "source": [
    "y_pred = knn_classifier.predict(x_test)\n",
    "print(accuracy_score(y_test, y_pred))\n",
    "print(classification_report(y_test, y_pred))\n",
    "print(confusion_matrix(y_test, y_pred))"
   ]
  },
  {
   "cell_type": "code",
   "execution_count": 82,
   "metadata": {
    "ExecuteTime": {
     "end_time": "2024-04-03T21:27:40.881753Z",
     "start_time": "2024-04-03T21:27:39.585768Z"
    },
    "collapsed": false
   },
   "outputs": [
    {
     "name": "stdout",
     "output_type": "stream",
     "text": [
      "0.9175925925925926\n",
      "              precision    recall  f1-score   support\n",
      "\n",
      "           0       0.98      0.90      0.94      1566\n",
      "           1       0.98      0.89      0.93      1836\n",
      "           2       0.73      0.99      0.84       432\n",
      "           3       0.89      0.95      0.92       756\n",
      "           4       0.88      0.93      0.90       594\n",
      "           5       0.81      0.99      0.89       216\n",
      "\n",
      "    accuracy                           0.92      5400\n",
      "   macro avg       0.88      0.94      0.90      5400\n",
      "weighted avg       0.93      0.92      0.92      5400\n",
      "\n",
      "[[1414   26   21   52   42   11]\n",
      " [  24 1635  131   20   11   15]\n",
      " [   0    2  427    0    0    3]\n",
      " [   4    7    5  715   21    4]\n",
      " [   6    4    3   13  551   17]\n",
      " [   0    1    1    0    1  213]]\n"
     ]
    }
   ],
   "source": [
    "y_pred = rf_classifier.predict(x_test)\n",
    "print(accuracy_score(y_test, y_pred))\n",
    "print(classification_report(y_test, y_pred))\n",
    "print(confusion_matrix(y_test, y_pred))"
   ]
  },
  {
   "cell_type": "code",
   "execution_count": 83,
   "metadata": {
    "ExecuteTime": {
     "end_time": "2024-04-03T21:27:43.922484Z",
     "start_time": "2024-04-03T21:27:43.887681Z"
    },
    "collapsed": false
   },
   "outputs": [
    {
     "name": "stdout",
     "output_type": "stream",
     "text": [
      "0.9101851851851852\n",
      "              precision    recall  f1-score   support\n",
      "\n",
      "           0       0.95      0.93      0.94      1566\n",
      "           1       0.97      0.87      0.92      1836\n",
      "           2       0.74      0.94      0.83       432\n",
      "           3       0.90      0.94      0.92       756\n",
      "           4       0.85      0.90      0.87       594\n",
      "           5       0.81      0.92      0.86       216\n",
      "\n",
      "    accuracy                           0.91      5400\n",
      "   macro avg       0.87      0.92      0.89      5400\n",
      "weighted avg       0.92      0.91      0.91      5400\n",
      "\n",
      "[[1460   18    5   36   44    3]\n",
      " [  38 1605  129   22   19   23]\n",
      " [   2   17  408    1    3    1]\n",
      " [  16    5    2  707   21    5]\n",
      " [  18    6    3   17  537   13]\n",
      " [   0    5    1    2   10  198]]\n"
     ]
    }
   ],
   "source": [
    "y_pred = mlp_classifier.predict(x_test)\n",
    "print(accuracy_score(y_test, y_pred))\n",
    "print(classification_report(y_test, y_pred))\n",
    "print(confusion_matrix(y_test, y_pred))"
   ]
  },
  {
   "cell_type": "code",
   "execution_count": null,
   "metadata": {
    "collapsed": false
   },
   "outputs": [],
   "source": []
  },
  {
   "cell_type": "markdown",
   "metadata": {
    "collapsed": false
   },
   "source": [
    "# 6. Cause of errors\n"
   ]
  },
  {
   "cell_type": "code",
   "execution_count": 122,
   "metadata": {
    "ExecuteTime": {
     "end_time": "2024-04-04T01:40:09.566434Z",
     "start_time": "2024-04-04T01:40:09.554917Z"
    },
    "collapsed": false
   },
   "outputs": [
    {
     "name": "stdout",
     "output_type": "stream",
     "text": [
      "['feel', 'awful', 's', 'job', 'position', 'succeed', 'just', 'didn', 't', 'happen']\n",
      "Real:  sadness\n",
      "Pred: joy\n",
      "\n",
      "\n",
      "['ive', 'probably', 'mentioned', 'but', 'really', 'feel', 'proud', 'actually', 'keeping', 'new', 'year', 'resolution', 'monthly', 'weekly', 'goal']\n",
      "Real:  joy\n",
      "Pred: sadness\n",
      "\n",
      "\n",
      "['frustrated', 'christian', 'feel', 'constantly', 'talk', 'loving', 'praying', 'seen', 'not', 'case']\n",
      "Real:  love\n",
      "Pred: anger\n",
      "\n",
      "\n",
      "['struggling', 'awful', 'feeling', 'saying', 'sweet', 'thing', 'not', 'deserving', 'sister', 'friendship', 'agreed', 'car', 'just', 'starting', 'drive', 'away', 'reached', 'hand']\n",
      "Real:  joy\n",
      "Pred: anger\n",
      "\n",
      "\n",
      "['feel', 'enraged', 'but', 'helpless', 'time']\n",
      "Real:  anger\n",
      "Pred: fear\n",
      "\n",
      "\n",
      "['wish', 'knew', 'word', 'write', 'write', 'think', 's', 'useless', 'm', 'just', 'heartless', 'feeling', 's', 'w']\n",
      "Real:  sadness\n",
      "Pred: anger\n",
      "\n",
      "\n",
      "['feel', 'assured', 'no', 'thing', 'ultimate', 'forgetting', 'trace', 'impressed', 'memory', 'indestructible']\n",
      "Real:  joy\n",
      "Pred: surprise\n",
      "\n",
      "\n",
      "['feel', 'blessed', 'everyday', 'little', 'man', 'love', 'watch', 'grow']\n",
      "Real:  love\n",
      "Pred: joy\n",
      "\n",
      "\n",
      "['feel', 'exhausted', 'home', 'but', 'glad', 'learning', 'new', 'thing', 'help', 'learn']\n",
      "Real:  sadness\n",
      "Pred: surprise\n",
      "\n",
      "\n",
      "['left', 'kinda', 'feeling', 'stupid', 'insecure']\n",
      "Real:  sadness\n",
      "Pred: fear\n"
     ]
    }
   ],
   "source": [
    "emotions_to_int = {\n",
    "    'sadness': 0,\n",
    "    'joy': 1,\n",
    "    'love': 2,\n",
    "    'anger': 3,\n",
    "    'fear': 4,\n",
    "    'surprise': 5\n",
    "}\n",
    "\n",
    "int_to_emotions = {v: k for k, v in emotions_to_int.items()}\n",
    "\n",
    "prediction = y_pred_svm\n",
    "wrong_predictions = y_test[y_test != prediction].index\n",
    "for i, index in enumerate(wrong_predictions):\n",
    "    if i == 10:\n",
    "        break\n",
    "    print(test_data['text'][index])\n",
    "    print('Real: ', int_to_emotions[test_data['label'][index]])\n",
    "    print('Pred:', int_to_emotions[prediction[index]])\n",
    "    print('\\n')\n",
    "\n"
   ]
  },
  {
   "cell_type": "code",
   "execution_count": 123,
   "metadata": {
    "ExecuteTime": {
     "end_time": "2024-04-04T01:40:10.557670Z",
     "start_time": "2024-04-04T01:40:10.527552Z"
    },
    "collapsed": false
   },
   "outputs": [
    {
     "name": "stdout",
     "output_type": "stream",
     "text": [
      "[[1332   53   29   65   57   30]\n",
      " [  53 1528  154   33   27   40]\n",
      " [  12   47  354    6    4    8]\n",
      " [  43   26   18  607   40   21]\n",
      " [  38   11   10   17  491   26]\n",
      " [   2    7    2    4   15  186]]\n",
      "              precision    recall  f1-score   support\n",
      "\n",
      "           0       0.90      0.85      0.87      1566\n",
      "           1       0.91      0.83      0.87      1835\n",
      "           2       0.62      0.82      0.71       431\n",
      "           3       0.83      0.80      0.82       755\n",
      "           4       0.77      0.83      0.80       593\n",
      "           5       0.60      0.86      0.71       216\n",
      "\n",
      "    accuracy                           0.83      5396\n",
      "   macro avg       0.77      0.83      0.80      5396\n",
      "weighted avg       0.85      0.83      0.84      5396\n"
     ]
    }
   ],
   "source": [
    "print(confusion_matrix(y_test, prediction))\n",
    "print(classification_report(y_test, prediction))"
   ]
  },
  {
   "cell_type": "code",
   "execution_count": 125,
   "metadata": {
    "ExecuteTime": {
     "end_time": "2024-04-04T01:40:57.428732Z",
     "start_time": "2024-04-04T01:40:56.858241Z"
    },
    "collapsed": false
   },
   "outputs": [
    {
     "data": {
      "image/png": "[encoded data removed]",
      "text/plain": [
       "<Figure size 640x480 with 2 Axes>"
      ]
     },
     "metadata": {},
     "output_type": "display_data"
    }
   ],
   "source": [
    "# check which emotions are being confused\n",
    "plt.clf()\n",
    "conf_matrix = confusion_matrix(y_test, prediction)\n",
    "conf_matrix_copy = conf_matrix.copy()\n",
    "for i in range(conf_matrix.shape[0]):\n",
    "    conf_matrix[i, i] = 0 # make the diagonal null, to not eclipse the other values\n",
    "    \n",
    "plt.imshow(conf_matrix, cmap='viridis', interpolation='nearest')\n",
    "# remove plot grid\n",
    "plt.grid(False)\n",
    "# annotate the axes with the emotion names\n",
    "plt.xticks(range(6), int_to_emotions.values(), rotation=45)\n",
    "plt.yticks(range(6), int_to_emotions.values())\n",
    "# add colorbar more to the right\n",
    "plt.colorbar()\n",
    "# legend the axes with predicted and true values\n",
    "plt.xlabel('Predicted')\n",
    "plt.ylabel('True')\n",
    "plt.title('Confusion Matrix')\n",
    "# add counts in the plot\n",
    "for i in range(conf_matrix.shape[0]):\n",
    "    for j in range(conf_matrix.shape[1]):\n",
    "        if i == j:\n",
    "            plt.text(j, i, conf_matrix_copy[i, j], ha='center', va='center', color='white')\n",
    "        else:\n",
    "            plt.text(j, i, conf_matrix[i, j], ha='center', va='center', color='white')\n",
    "\n",
    "for i in range(conf_matrix.shape[0]): # this does not count correct predictions\n",
    "    plt.text(7, i, conf_matrix[i, :].sum(), ha='center', va='center', color='black')\n",
    "for i in range(conf_matrix.shape[1]):\n",
    "    plt.text(i, 7, conf_matrix[:, i].sum(), ha='center', va='center', color='black')\n",
    "plt.show()"
   ]
  },
  {
   "cell_type": "markdown",
   "metadata": {
    "collapsed": false
   },
   "source": [
    "The test set appears to be unbalance.\n",
    "- 'joy' is a lot more mixed with 'love' than the contrary. \n",
    "- 'surprise' has a low Precision"
   ]
  },
  {
   "cell_type": "code",
   "execution_count": 126,
   "metadata": {
    "ExecuteTime": {
     "end_time": "2024-04-04T01:40:59.731219Z",
     "start_time": "2024-04-04T01:40:58.851752Z"
    },
    "collapsed": false
   },
   "outputs": [
    {
     "data": {
      "image/png": "[encoded data removed]",
      "text/plain": [
       "<Figure size 640x480 with 2 Axes>"
      ]
     },
     "metadata": {},
     "output_type": "display_data"
    }
   ],
   "source": [
    "conf_matrix = confusion_matrix(y_test, prediction)\n",
    "conf_matrix = conf_matrix / conf_matrix.sum(axis=1)[:, None] # normalize the confusion matrix\n",
    "conf_matrix_copy = conf_matrix.copy()\n",
    "for i in range(conf_matrix.shape[0]):\n",
    "    conf_matrix[i, i] = 0 # make the diagonal null, to not eclipse the other values\n",
    "plt.imshow(conf_matrix, cmap='viridis', interpolation='nearest')\n",
    "plt.grid(False)\n",
    "\n",
    "plt.xticks(range(6), int_to_emotions.values(), rotation=45)\n",
    "plt.yticks(range(6), int_to_emotions.values())\n",
    "plt.colorbar()\n",
    "plt.xlabel('Predicted')\n",
    "plt.ylabel('True')\n",
    "\n",
    "# add counts in the plot\n",
    "for i in range(conf_matrix.shape[0]):\n",
    "    for j in range(conf_matrix.shape[1]):\n",
    "        if i == j:\n",
    "            plt.text(j, i, f'{conf_matrix_copy[i, j]:.2f}', ha='center', va='center', color='white')\n",
    "        else:\n",
    "            plt.text(j, i, f'{conf_matrix[i, j]:.2f}', ha='center', va='center', color='white')\n",
    "\n",
    "        \n",
    "plt.title('Percentage of predictions (row sum=1)')\n",
    "# Rows add to 1\n",
    "plt.show()\n",
    "\n"
   ]
  },
  {
   "cell_type": "markdown",
   "metadata": {
    "collapsed": false
   },
   "source": [
    "- sadness mixed with joy and anger\n",
    "- joy mixed with love\n",
    "- love mixed with joy\n",
    "- anger mixed with sadness and joy??\n",
    "- fear mixed with sadness\n",
    "- surprise mixed with almost everything"
   ]
  },
  {
   "cell_type": "markdown",
   "metadata": {},
   "source": [
    "# 7. Experiment with user-inputed setences"
   ]
  },
  {
   "cell_type": "code",
   "execution_count": 84,
   "metadata": {
    "ExecuteTime": {
     "end_time": "2024-04-03T23:17:16.161682Z",
     "start_time": "2024-04-03T23:17:16.153224Z"
    }
   },
   "outputs": [],
   "source": [
    "import nltk\n",
    "from nltk.corpus import stopwords\n",
    "from nltk.stem import WordNetLemmatizer\n",
    "from sklearn.feature_extraction import text\n",
    "\n",
    "emotions = {\n",
    "    0: \"0. sadness\",\n",
    "    1: \"1. joy\",\n",
    "    2: \"2. love\",\n",
    "    3: \"3. anger\",\n",
    "    4: \"4. fear\",\n",
    "    5: \"5. surprise\"\n",
    "}\n",
    "\n",
    "def preprocess_text(phrase):\n",
    "    # Tokenize\n",
    "    tokens = nltk.word_tokenize(phrase.lower())\n",
    "\n",
    "    # Remove stop words\n",
    "    my_stop_words = set(stopwords.words('english'))\n",
    "    words_to_keep = frozenset(['no', 'couldnt', 'cry', 'not', 'cant', 'cannot', 'nor', 'except', 'nobody', 'off', 'but', 'serious', 'enough', 'nothing', 'alone', 'down', 'only', 'without','hereby'])\n",
    "    my_stop_words -= words_to_keep\n",
    "    tokens = [word for word in tokens if word not in my_stop_words]\n",
    "\n",
    "    # Lemmatize\n",
    "    lemmatizer = WordNetLemmatizer()\n",
    "    tokens = [lemmatizer.lemmatize(word) for word in tokens]\n",
    "    \n",
    "    return tokens\n",
    "\n",
    "def doc2vec_text(tokens):\n",
    "    model = Doc2Vec.load(\"d2v_best_stopwords.model\")\n",
    "    return model.infer_vector(tokens)\n",
    "\n",
    "def classify_emotion(number):\n",
    "    if number==0:\n",
    "        return \"0. sadness\"\n",
    "    if number==1:\n",
    "        return \"1. joy\"\n",
    "    if number==2:\n",
    "        return \"2. love\"\n",
    "    if number==3:\n",
    "        return \"3. anger\"\n",
    "    if number==4:\n",
    "        return \"4. fear\"\n",
    "    if number==5:\n",
    "        return \"5. surprise\"\n",
    "\n",
    "    return \"Not possible to identify\"\n",
    "\n",
    "\n",
    "def analyze_sentiment(phrase):\n",
    "    tokens = preprocess_text(phrase)\n",
    "    tokens_embeddings = doc2vec_text(tokens)\n",
    "\n",
    "    # Reshape to have proper structure\n",
    "    tokens_embeddings = np.array(tokens_embeddings).reshape(1, -1)\n",
    "\n",
    "    # Predict the class using the SVM classifier\n",
    "    predicted_class = lgb_classifier.predict(tokens_embeddings)\n",
    "    print(classify_emotion(predicted_class[0]))\n",
    "    \n",
    "def sentence_to_vector(sentence):\n",
    "    tokens = preprocess_text(sentence)\n",
    "    tokens_embeddings = doc2vec_text(tokens)\n",
    "    return tokens_embeddings\n"
   ]
  },
  {
   "cell_type": "code",
   "execution_count": 85,
   "metadata": {
    "ExecuteTime": {
     "end_time": "2024-04-03T23:17:17.527780Z",
     "start_time": "2024-04-03T23:17:17.374102Z"
    }
   },
   "outputs": [
    {
     "ename": "ValueError",
     "evalue": "Number of features of the model must match the input. Model n_features_ is 40000 and input n_features is 88",
     "output_type": "error",
     "traceback": [
      "\u001b[1;31m---------------------------------------------------------------------------\u001b[0m",
      "\u001b[1;31mValueError\u001b[0m                                Traceback (most recent call last)",
      "Cell \u001b[1;32mIn[85], line 2\u001b[0m\n\u001b[0;32m      1\u001b[0m phrase \u001b[38;5;241m=\u001b[39m \u001b[38;5;124m\"\u001b[39m\u001b[38;5;124mi love love\u001b[39m\u001b[38;5;124m\"\u001b[39m\n\u001b[1;32m----> 2\u001b[0m \u001b[43manalyze_sentiment\u001b[49m\u001b[43m(\u001b[49m\u001b[43mphrase\u001b[49m\u001b[43m)\u001b[49m\n",
      "Cell \u001b[1;32mIn[84], line 60\u001b[0m, in \u001b[0;36manalyze_sentiment\u001b[1;34m(phrase)\u001b[0m\n\u001b[0;32m     57\u001b[0m tokens_embeddings \u001b[38;5;241m=\u001b[39m np\u001b[38;5;241m.\u001b[39marray(tokens_embeddings)\u001b[38;5;241m.\u001b[39mreshape(\u001b[38;5;241m1\u001b[39m, \u001b[38;5;241m-\u001b[39m\u001b[38;5;241m1\u001b[39m)\n\u001b[0;32m     59\u001b[0m \u001b[38;5;66;03m# Predict the class using the SVM classifier\u001b[39;00m\n\u001b[1;32m---> 60\u001b[0m predicted_class \u001b[38;5;241m=\u001b[39m \u001b[43mlgb_classifier\u001b[49m\u001b[38;5;241;43m.\u001b[39;49m\u001b[43mpredict\u001b[49m\u001b[43m(\u001b[49m\u001b[43mtokens_embeddings\u001b[49m\u001b[43m)\u001b[49m\n\u001b[0;32m     61\u001b[0m \u001b[38;5;28mprint\u001b[39m(classify_emotion(predicted_class[\u001b[38;5;241m0\u001b[39m]))\n",
      "File \u001b[1;32mC:\\Python311\\Lib\\site-packages\\lightgbm\\sklearn.py:1223\u001b[0m, in \u001b[0;36mLGBMClassifier.predict\u001b[1;34m(self, X, raw_score, start_iteration, num_iteration, pred_leaf, pred_contrib, validate_features, **kwargs)\u001b[0m\n\u001b[0;32m   1211\u001b[0m \u001b[38;5;28;01mdef\u001b[39;00m \u001b[38;5;21mpredict\u001b[39m(\n\u001b[0;32m   1212\u001b[0m     \u001b[38;5;28mself\u001b[39m,\n\u001b[0;32m   1213\u001b[0m     X: _LGBM_ScikitMatrixLike,\n\u001b[1;32m   (...)\u001b[0m\n\u001b[0;32m   1220\u001b[0m     \u001b[38;5;241m*\u001b[39m\u001b[38;5;241m*\u001b[39mkwargs: Any\n\u001b[0;32m   1221\u001b[0m ):\n\u001b[0;32m   1222\u001b[0m \u001b[38;5;250m    \u001b[39m\u001b[38;5;124;03m\"\"\"Docstring is inherited from the LGBMModel.\"\"\"\u001b[39;00m\n\u001b[1;32m-> 1223\u001b[0m     result \u001b[38;5;241m=\u001b[39m \u001b[38;5;28;43mself\u001b[39;49m\u001b[38;5;241;43m.\u001b[39;49m\u001b[43mpredict_proba\u001b[49m\u001b[43m(\u001b[49m\n\u001b[0;32m   1224\u001b[0m \u001b[43m        \u001b[49m\u001b[43mX\u001b[49m\u001b[38;5;241;43m=\u001b[39;49m\u001b[43mX\u001b[49m\u001b[43m,\u001b[49m\n\u001b[0;32m   1225\u001b[0m \u001b[43m        \u001b[49m\u001b[43mraw_score\u001b[49m\u001b[38;5;241;43m=\u001b[39;49m\u001b[43mraw_score\u001b[49m\u001b[43m,\u001b[49m\n\u001b[0;32m   1226\u001b[0m \u001b[43m        \u001b[49m\u001b[43mstart_iteration\u001b[49m\u001b[38;5;241;43m=\u001b[39;49m\u001b[43mstart_iteration\u001b[49m\u001b[43m,\u001b[49m\n\u001b[0;32m   1227\u001b[0m \u001b[43m        \u001b[49m\u001b[43mnum_iteration\u001b[49m\u001b[38;5;241;43m=\u001b[39;49m\u001b[43mnum_iteration\u001b[49m\u001b[43m,\u001b[49m\n\u001b[0;32m   1228\u001b[0m \u001b[43m        \u001b[49m\u001b[43mpred_leaf\u001b[49m\u001b[38;5;241;43m=\u001b[39;49m\u001b[43mpred_leaf\u001b[49m\u001b[43m,\u001b[49m\n\u001b[0;32m   1229\u001b[0m \u001b[43m        \u001b[49m\u001b[43mpred_contrib\u001b[49m\u001b[38;5;241;43m=\u001b[39;49m\u001b[43mpred_contrib\u001b[49m\u001b[43m,\u001b[49m\n\u001b[0;32m   1230\u001b[0m \u001b[43m        \u001b[49m\u001b[43mvalidate_features\u001b[49m\u001b[38;5;241;43m=\u001b[39;49m\u001b[43mvalidate_features\u001b[49m\u001b[43m,\u001b[49m\n\u001b[0;32m   1231\u001b[0m \u001b[43m        \u001b[49m\u001b[38;5;241;43m*\u001b[39;49m\u001b[38;5;241;43m*\u001b[39;49m\u001b[43mkwargs\u001b[49m\n\u001b[0;32m   1232\u001b[0m \u001b[43m    \u001b[49m\u001b[43m)\u001b[49m\n\u001b[0;32m   1233\u001b[0m     \u001b[38;5;28;01mif\u001b[39;00m \u001b[38;5;28mcallable\u001b[39m(\u001b[38;5;28mself\u001b[39m\u001b[38;5;241m.\u001b[39m_objective) \u001b[38;5;129;01mor\u001b[39;00m raw_score \u001b[38;5;129;01mor\u001b[39;00m pred_leaf \u001b[38;5;129;01mor\u001b[39;00m pred_contrib:\n\u001b[0;32m   1234\u001b[0m         \u001b[38;5;28;01mreturn\u001b[39;00m result\n",
      "File \u001b[1;32mC:\\Python311\\Lib\\site-packages\\lightgbm\\sklearn.py:1253\u001b[0m, in \u001b[0;36mLGBMClassifier.predict_proba\u001b[1;34m(self, X, raw_score, start_iteration, num_iteration, pred_leaf, pred_contrib, validate_features, **kwargs)\u001b[0m\n\u001b[0;32m   1241\u001b[0m \u001b[38;5;28;01mdef\u001b[39;00m \u001b[38;5;21mpredict_proba\u001b[39m(\n\u001b[0;32m   1242\u001b[0m     \u001b[38;5;28mself\u001b[39m,\n\u001b[0;32m   1243\u001b[0m     X: _LGBM_ScikitMatrixLike,\n\u001b[1;32m   (...)\u001b[0m\n\u001b[0;32m   1250\u001b[0m     \u001b[38;5;241m*\u001b[39m\u001b[38;5;241m*\u001b[39mkwargs: Any\n\u001b[0;32m   1251\u001b[0m ):\n\u001b[0;32m   1252\u001b[0m \u001b[38;5;250m    \u001b[39m\u001b[38;5;124;03m\"\"\"Docstring is set after definition, using a template.\"\"\"\u001b[39;00m\n\u001b[1;32m-> 1253\u001b[0m     result \u001b[38;5;241m=\u001b[39m \u001b[38;5;28;43msuper\u001b[39;49m\u001b[43m(\u001b[49m\u001b[43m)\u001b[49m\u001b[38;5;241;43m.\u001b[39;49m\u001b[43mpredict\u001b[49m\u001b[43m(\u001b[49m\n\u001b[0;32m   1254\u001b[0m \u001b[43m        \u001b[49m\u001b[43mX\u001b[49m\u001b[38;5;241;43m=\u001b[39;49m\u001b[43mX\u001b[49m\u001b[43m,\u001b[49m\n\u001b[0;32m   1255\u001b[0m \u001b[43m        \u001b[49m\u001b[43mraw_score\u001b[49m\u001b[38;5;241;43m=\u001b[39;49m\u001b[43mraw_score\u001b[49m\u001b[43m,\u001b[49m\n\u001b[0;32m   1256\u001b[0m \u001b[43m        \u001b[49m\u001b[43mstart_iteration\u001b[49m\u001b[38;5;241;43m=\u001b[39;49m\u001b[43mstart_iteration\u001b[49m\u001b[43m,\u001b[49m\n\u001b[0;32m   1257\u001b[0m \u001b[43m        \u001b[49m\u001b[43mnum_iteration\u001b[49m\u001b[38;5;241;43m=\u001b[39;49m\u001b[43mnum_iteration\u001b[49m\u001b[43m,\u001b[49m\n\u001b[0;32m   1258\u001b[0m \u001b[43m        \u001b[49m\u001b[43mpred_leaf\u001b[49m\u001b[38;5;241;43m=\u001b[39;49m\u001b[43mpred_leaf\u001b[49m\u001b[43m,\u001b[49m\n\u001b[0;32m   1259\u001b[0m \u001b[43m        \u001b[49m\u001b[43mpred_contrib\u001b[49m\u001b[38;5;241;43m=\u001b[39;49m\u001b[43mpred_contrib\u001b[49m\u001b[43m,\u001b[49m\n\u001b[0;32m   1260\u001b[0m \u001b[43m        \u001b[49m\u001b[43mvalidate_features\u001b[49m\u001b[38;5;241;43m=\u001b[39;49m\u001b[43mvalidate_features\u001b[49m\u001b[43m,\u001b[49m\n\u001b[0;32m   1261\u001b[0m \u001b[43m        \u001b[49m\u001b[38;5;241;43m*\u001b[39;49m\u001b[38;5;241;43m*\u001b[39;49m\u001b[43mkwargs\u001b[49m\n\u001b[0;32m   1262\u001b[0m \u001b[43m    \u001b[49m\u001b[43m)\u001b[49m\n\u001b[0;32m   1263\u001b[0m     \u001b[38;5;28;01mif\u001b[39;00m \u001b[38;5;28mcallable\u001b[39m(\u001b[38;5;28mself\u001b[39m\u001b[38;5;241m.\u001b[39m_objective) \u001b[38;5;129;01mand\u001b[39;00m \u001b[38;5;129;01mnot\u001b[39;00m (raw_score \u001b[38;5;129;01mor\u001b[39;00m pred_leaf \u001b[38;5;129;01mor\u001b[39;00m pred_contrib):\n\u001b[0;32m   1264\u001b[0m         _log_warning(\u001b[38;5;124m\"\u001b[39m\u001b[38;5;124mCannot compute class probabilities or labels \u001b[39m\u001b[38;5;124m\"\u001b[39m\n\u001b[0;32m   1265\u001b[0m                      \u001b[38;5;124m\"\u001b[39m\u001b[38;5;124mdue to the usage of customized objective function.\u001b[39m\u001b[38;5;130;01m\\n\u001b[39;00m\u001b[38;5;124m\"\u001b[39m\n\u001b[0;32m   1266\u001b[0m                      \u001b[38;5;124m\"\u001b[39m\u001b[38;5;124mReturning raw scores instead.\u001b[39m\u001b[38;5;124m\"\u001b[39m)\n",
      "File \u001b[1;32mC:\\Python311\\Lib\\site-packages\\lightgbm\\sklearn.py:937\u001b[0m, in \u001b[0;36mLGBMModel.predict\u001b[1;34m(self, X, raw_score, start_iteration, num_iteration, pred_leaf, pred_contrib, validate_features, **kwargs)\u001b[0m\n\u001b[0;32m    935\u001b[0m n_features \u001b[38;5;241m=\u001b[39m X\u001b[38;5;241m.\u001b[39mshape[\u001b[38;5;241m1\u001b[39m]\n\u001b[0;32m    936\u001b[0m \u001b[38;5;28;01mif\u001b[39;00m \u001b[38;5;28mself\u001b[39m\u001b[38;5;241m.\u001b[39m_n_features \u001b[38;5;241m!=\u001b[39m n_features:\n\u001b[1;32m--> 937\u001b[0m     \u001b[38;5;28;01mraise\u001b[39;00m \u001b[38;5;167;01mValueError\u001b[39;00m(\u001b[38;5;124m\"\u001b[39m\u001b[38;5;124mNumber of features of the model must \u001b[39m\u001b[38;5;124m\"\u001b[39m\n\u001b[0;32m    938\u001b[0m                      \u001b[38;5;124mf\u001b[39m\u001b[38;5;124m\"\u001b[39m\u001b[38;5;124mmatch the input. Model n_features_ is \u001b[39m\u001b[38;5;132;01m{\u001b[39;00m\u001b[38;5;28mself\u001b[39m\u001b[38;5;241m.\u001b[39m_n_features\u001b[38;5;132;01m}\u001b[39;00m\u001b[38;5;124m and \u001b[39m\u001b[38;5;124m\"\u001b[39m\n\u001b[0;32m    939\u001b[0m                      \u001b[38;5;124mf\u001b[39m\u001b[38;5;124m\"\u001b[39m\u001b[38;5;124minput n_features is \u001b[39m\u001b[38;5;132;01m{\u001b[39;00mn_features\u001b[38;5;132;01m}\u001b[39;00m\u001b[38;5;124m\"\u001b[39m)\n\u001b[0;32m    940\u001b[0m \u001b[38;5;66;03m# retrive original params that possibly can be used in both training and prediction\u001b[39;00m\n\u001b[0;32m    941\u001b[0m \u001b[38;5;66;03m# and then overwrite them (considering aliases) with params that were passed directly in prediction\u001b[39;00m\n\u001b[0;32m    942\u001b[0m predict_params \u001b[38;5;241m=\u001b[39m \u001b[38;5;28mself\u001b[39m\u001b[38;5;241m.\u001b[39m_process_params(stage\u001b[38;5;241m=\u001b[39m\u001b[38;5;124m\"\u001b[39m\u001b[38;5;124mpredict\u001b[39m\u001b[38;5;124m\"\u001b[39m)\n",
      "\u001b[1;31mValueError\u001b[0m: Number of features of the model must match the input. Model n_features_ is 40000 and input n_features is 88"
     ]
    }
   ],
   "source": [
    "phrase = \"i love love\"\n",
    "analyze_sentiment(phrase)"
   ]
  },
  {
   "cell_type": "markdown",
   "metadata": {
    "collapsed": false
   },
   "source": [
    "## Misc"
   ]
  },
  {
   "cell_type": "markdown",
   "metadata": {
    "collapsed": false
   },
   "source": [
    "### Word Embeddings testing"
   ]
  },
  {
   "cell_type": "code",
   "execution_count": 139,
   "metadata": {
    "ExecuteTime": {
     "end_time": "2024-04-04T04:02:30.842044Z",
     "start_time": "2024-04-04T04:00:53.996331Z"
    },
    "collapsed": false
   },
   "outputs": [],
   "source": [
    "model_glove_twitter = api.load(\"glove-twitter-100\")\n",
    "happy_vec = model_glove_twitter.get_vector('happy')"
   ]
  },
  {
   "cell_type": "code",
   "execution_count": 140,
   "metadata": {
    "ExecuteTime": {
     "end_time": "2024-04-04T04:03:19.892342Z",
     "start_time": "2024-04-04T04:03:19.887850Z"
    },
    "collapsed": false
   },
   "outputs": [],
   "source": [
    "sad_vec = model_glove_twitter.get_vector('sad')"
   ]
  },
  {
   "cell_type": "code",
   "execution_count": 141,
   "metadata": {
    "ExecuteTime": {
     "end_time": "2024-04-04T04:03:20.628910Z",
     "start_time": "2024-04-04T04:03:20.623306Z"
    },
    "collapsed": false
   },
   "outputs": [
    {
     "data": {
      "text/plain": [
       "24.223938"
      ]
     },
     "execution_count": 141,
     "metadata": {},
     "output_type": "execute_result"
    }
   ],
   "source": [
    "# compare\n",
    "np.dot(happy_vec, sad_vec)\n"
   ]
  },
  {
   "cell_type": "code",
   "execution_count": 142,
   "metadata": {
    "ExecuteTime": {
     "end_time": "2024-04-04T04:03:22.781098Z",
     "start_time": "2024-04-04T04:03:22.774452Z"
    },
    "collapsed": false
   },
   "outputs": [
    {
     "name": "stdout",
     "output_type": "stream",
     "text": [
      "happy - happy: 43.754364013671875\n",
      "happy - sad: 24.22393798828125\n",
      "happy - angry: 16.345155715942383\n",
      "happy - fear: 12.840924263000488\n",
      "happy - surprise: 20.760772705078125\n",
      "happy - love: 34.92958450317383\n",
      "sad - happy: 24.22393798828125\n",
      "sad - sad: 38.538841247558594\n",
      "sad - angry: 21.6543025970459\n",
      "sad - fear: 20.165283203125\n",
      "sad - surprise: 15.245964050292969\n",
      "sad - love: 26.230363845825195\n",
      "angry - happy: 16.345155715942383\n",
      "angry - sad: 21.6543025970459\n",
      "angry - angry: 28.474971771240234\n",
      "angry - fear: 18.885839462280273\n",
      "angry - surprise: 11.685001373291016\n",
      "angry - love: 17.105241775512695\n",
      "fear - happy: 12.840924263000488\n",
      "fear - sad: 20.165283203125\n",
      "fear - angry: 18.885839462280273\n",
      "fear - fear: 37.312435150146484\n",
      "fear - surprise: 10.949886322021484\n",
      "fear - love: 20.85854148864746\n",
      "surprise - happy: 20.760772705078125\n",
      "surprise - sad: 15.245964050292969\n",
      "surprise - angry: 11.685001373291016\n",
      "surprise - fear: 10.949886322021484\n",
      "surprise - surprise: 26.94860076904297\n",
      "surprise - love: 18.885562896728516\n",
      "love - happy: 34.92958450317383\n",
      "love - sad: 26.230363845825195\n",
      "love - angry: 17.105241775512695\n",
      "love - fear: 20.85854148864746\n",
      "love - surprise: 18.885562896728516\n",
      "love - love: 45.182777404785156\n"
     ]
    }
   ],
   "source": [
    "list1 = ['happy', 'sad', 'angry', 'fear', 'surprise', 'love']\n",
    "\n",
    "for word in list1:\n",
    "    for word2 in list1:\n",
    "        vec1 = model_glove_twitter.get_vector(word)\n",
    "        vec2 = model_glove_twitter.get_vector(word2)\n",
    "        print(f'{word} - {word2}: {np.dot(vec1, vec2)}')"
   ]
  },
  {
   "cell_type": "code",
   "execution_count": 143,
   "metadata": {
    "ExecuteTime": {
     "end_time": "2024-04-04T04:03:25.236673Z",
     "start_time": "2024-04-04T04:03:25.231272Z"
    },
    "collapsed": false
   },
   "outputs": [
    {
     "name": "stdout",
     "output_type": "stream",
     "text": [
      "happy - happy: 43.754364013671875\n",
      "happy - castle: 12.034024238586426\n",
      "happy - unhappy: 13.99042797088623\n",
      "happy - mom: 26.998214721679688\n",
      "happy - game: 18.880996704101562\n",
      "happy - water: 12.893235206604004\n",
      "castle - happy: 12.034024238586426\n",
      "castle - castle: 33.73011016845703\n",
      "castle - unhappy: 3.9025256633758545\n",
      "castle - mom: 9.389619827270508\n",
      "castle - game: 16.043418884277344\n",
      "castle - water: 12.81629753112793\n",
      "unhappy - happy: 13.99042797088623\n",
      "unhappy - castle: 3.9025256633758545\n",
      "unhappy - unhappy: 34.128849029541016\n",
      "unhappy - mom: 12.150673866271973\n",
      "unhappy - game: 5.554847240447998\n",
      "unhappy - water: 7.630435943603516\n",
      "mom - happy: 26.998214721679688\n",
      "mom - castle: 9.389619827270508\n",
      "mom - unhappy: 12.150673866271973\n",
      "mom - mom: 37.74396514892578\n",
      "mom - game: 17.937639236450195\n",
      "mom - water: 17.61774253845215\n",
      "game - happy: 18.880996704101562\n",
      "game - castle: 16.043418884277344\n",
      "game - unhappy: 5.554847240447998\n",
      "game - mom: 17.937639236450195\n",
      "game - game: 44.55514907836914\n",
      "game - water: 15.571388244628906\n",
      "water - happy: 12.893235206604004\n",
      "water - castle: 12.81629753112793\n",
      "water - unhappy: 7.630435943603516\n",
      "water - mom: 17.61774253845215\n",
      "water - game: 15.571388244628906\n",
      "water - water: 43.7157096862793\n"
     ]
    }
   ],
   "source": [
    "list2 = ['happy', 'castle', 'unhappy', 'mom', 'game', 'water']\n",
    "\n",
    "for word in list2:\n",
    "    for word2 in list2:\n",
    "        vec1 = model_glove_twitter.get_vector(word)\n",
    "        vec2 = model_glove_twitter.get_vector(word2)\n",
    "        print(f'{word} - {word2}: {np.dot(vec1, vec2)}')\n",
    "        \n"
   ]
  },
  {
   "cell_type": "code",
   "execution_count": 144,
   "metadata": {
    "ExecuteTime": {
     "end_time": "2024-04-04T04:03:26.501098Z",
     "start_time": "2024-04-04T04:03:26.495212Z"
    },
    "collapsed": false
   },
   "outputs": [
    {
     "name": "stdout",
     "output_type": "stream",
     "text": [
      "man - man: 40.658973693847656\n",
      "man - woman: 26.042871475219727\n",
      "man - king: 18.844642639160156\n",
      "man - queen: 13.50074291229248\n",
      "man - germany: 15.163900375366211\n",
      "man - france: 11.202445983886719\n",
      "man - paris: 12.94122314453125\n",
      "man - berlin: 11.269183158874512\n",
      "woman - man: 26.042871475219727\n",
      "woman - woman: 37.115867614746094\n",
      "woman - king: 15.821100234985352\n",
      "woman - queen: 18.255599975585938\n",
      "woman - germany: 13.00075626373291\n",
      "woman - france: 12.808996200561523\n",
      "woman - paris: 12.195499420166016\n",
      "woman - berlin: 7.850008487701416\n",
      "king - man: 18.844642639160156\n",
      "king - woman: 15.821100234985352\n",
      "king - king: 28.84543800354004\n",
      "king - queen: 20.43501853942871\n",
      "king - germany: 10.667684555053711\n",
      "king - france: 11.604635238647461\n",
      "king - paris: 13.265036582946777\n",
      "king - berlin: 8.66583251953125\n",
      "queen - man: 13.50074291229248\n",
      "queen - woman: 18.255599975585938\n",
      "queen - king: 20.43501853942871\n",
      "queen - queen: 28.91381072998047\n",
      "queen - germany: 12.133584976196289\n",
      "queen - france: 12.15859317779541\n",
      "queen - paris: 13.419187545776367\n",
      "queen - berlin: 9.792597770690918\n",
      "germany - man: 15.163900375366211\n",
      "germany - woman: 13.00075626373291\n",
      "germany - king: 10.667684555053711\n",
      "germany - queen: 12.133584976196289\n",
      "germany - germany: 33.827903747558594\n",
      "germany - france: 24.301509857177734\n",
      "germany - paris: 17.64777183532715\n",
      "germany - berlin: 21.75170135498047\n",
      "france - man: 11.202445983886719\n",
      "france - woman: 12.808996200561523\n",
      "france - king: 11.604635238647461\n",
      "france - queen: 12.15859317779541\n",
      "france - germany: 24.301509857177734\n",
      "france - france: 37.41983413696289\n",
      "france - paris: 26.439781188964844\n",
      "france - berlin: 16.791763305664062\n",
      "paris - man: 12.94122314453125\n",
      "paris - woman: 12.195499420166016\n",
      "paris - king: 13.265036582946777\n",
      "paris - queen: 13.419187545776367\n",
      "paris - germany: 17.64777183532715\n",
      "paris - france: 26.439781188964844\n",
      "paris - paris: 32.606163024902344\n",
      "paris - berlin: 18.800283432006836\n",
      "berlin - man: 11.269183158874512\n",
      "berlin - woman: 7.850008487701416\n",
      "berlin - king: 8.66583251953125\n",
      "berlin - queen: 9.792597770690918\n",
      "berlin - germany: 21.75170135498047\n",
      "berlin - france: 16.791763305664062\n",
      "berlin - paris: 18.800283432006836\n",
      "berlin - berlin: 27.78725814819336\n"
     ]
    }
   ],
   "source": [
    "list3 = ['man', 'woman', 'king', 'queen', 'germany', 'france', 'paris', 'berlin']\n",
    "\n",
    "for word in list3:\n",
    "    for word2 in list3:\n",
    "        vec1 = model_glove_twitter.get_vector(word)\n",
    "        vec2 = model_glove_twitter.get_vector(word2)\n",
    "        print(f'{word} - {word2}: {np.dot(vec1, vec2)}')"
   ]
  },
  {
   "cell_type": "code",
   "execution_count": 146,
   "metadata": {
    "ExecuteTime": {
     "end_time": "2024-04-04T04:35:59.778457Z",
     "start_time": "2024-04-04T04:35:59.771907Z"
    },
    "collapsed": false
   },
   "outputs": [
    {
     "data": {
      "text/plain": [
       "0.5899086"
      ]
     },
     "execution_count": 146,
     "metadata": {},
     "output_type": "execute_result"
    }
   ],
   "source": [
    "model_glove_twitter.similarity('happy', 'sad')\n"
   ]
  }
 ],
 "metadata": {
  "kernelspec": {
   "display_name": "venv",
   "language": "python",
   "name": "python3"
  },
  "language_info": {
   "codemirror_mode": {
    "name": "ipython",
    "version": 3
   },
   "file_extension": ".py",
   "mimetype": "text/x-python",
   "name": "python",
   "nbconvert_exporter": "python",
   "pygments_lexer": "ipython3",
   "version": "3.10.7"
  }
 },
 "nbformat": 4,
 "nbformat_minor": 2
}
