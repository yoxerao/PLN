{
 "cells": [
  {
   "cell_type": "markdown",
   "metadata": {},
   "source": [
    "# 1. Pre-processing"
   ]
  },
  {
   "cell_type": "markdown",
   "metadata": {},
   "source": [
    "#### 1.1. Text Pre-processing"
   ]
  },
  {
   "cell_type": "markdown",
   "metadata": {},
   "source": [
    "The dataset is already lowercased and lacks punctuation. We will tokenize the text and remove stopwords, as well as apply lemmatization to the tokens."
   ]
  },
  {
   "cell_type": "code",
   "execution_count": 1,
   "metadata": {
    "collapsed": false,
    "ExecuteTime": {
     "end_time": "2024-04-03T22:04:57.360922Z",
     "start_time": "2024-04-03T22:03:53.942834Z"
    }
   },
   "outputs": [
    {
     "name": "stderr",
     "output_type": "stream",
     "text": [
      "[nltk_data] Downloading package wordnet to\n",
      "[nltk_data]     C:\\Users\\jcarv\\AppData\\Roaming\\nltk_data...\n",
      "[nltk_data]   Package wordnet is already up-to-date!\n",
      "[nltk_data] Downloading package stopwords to\n",
      "[nltk_data]     C:\\Users\\jcarv\\AppData\\Roaming\\nltk_data...\n",
      "[nltk_data]   Package stopwords is already up-to-date!\n",
      "[nltk_data] Downloading package punkt to\n",
      "[nltk_data]     C:\\Users\\jcarv\\AppData\\Roaming\\nltk_data...\n",
      "[nltk_data]   Package punkt is already up-to-date!\n"
     ]
    },
    {
     "data": {
      "text/plain": "                                                text  label\n0  [feel, awful, s, job, position, succeed, just,...      0\n1                           [im, alone, feel, awful]      0\n2  [ive, probably, mentioned, but, really, feel, ...      1\n3                        [feeling, little, low, day]      0\n4  [beleive, sensitive, people, feeling, tend, co...      2",
      "text/html": "<div>\n<style scoped>\n    .dataframe tbody tr th:only-of-type {\n        vertical-align: middle;\n    }\n\n    .dataframe tbody tr th {\n        vertical-align: top;\n    }\n\n    .dataframe thead th {\n        text-align: right;\n    }\n</style>\n<table border=\"1\" class=\"dataframe\">\n  <thead>\n    <tr style=\"text-align: right;\">\n      <th></th>\n      <th>text</th>\n      <th>label</th>\n    </tr>\n  </thead>\n  <tbody>\n    <tr>\n      <th>0</th>\n      <td>[feel, awful, s, job, position, succeed, just,...</td>\n      <td>0</td>\n    </tr>\n    <tr>\n      <th>1</th>\n      <td>[im, alone, feel, awful]</td>\n      <td>0</td>\n    </tr>\n    <tr>\n      <th>2</th>\n      <td>[ive, probably, mentioned, but, really, feel, ...</td>\n      <td>1</td>\n    </tr>\n    <tr>\n      <th>3</th>\n      <td>[feeling, little, low, day]</td>\n      <td>0</td>\n    </tr>\n    <tr>\n      <th>4</th>\n      <td>[beleive, sensitive, people, feeling, tend, co...</td>\n      <td>2</td>\n    </tr>\n  </tbody>\n</table>\n</div>"
     },
     "execution_count": 1,
     "metadata": {},
     "output_type": "execute_result"
    }
   ],
   "source": [
    "import pandas as pd\n",
    "import matplotlib.pyplot as plt\n",
    "from imblearn.over_sampling import SMOTE\n",
    "\n",
    "import nltk\n",
    "from nltk.corpus import stopwords\n",
    "from nltk.stem import WordNetLemmatizer\n",
    "import gensim\n",
    "nltk.download('wordnet')\n",
    "nltk.download('stopwords')\n",
    "nltk.download('punkt')\n",
    "\n",
    "from sklearn.feature_extraction import text\n",
    "\n",
    "#words to keep: no couldnt cry not cant cannot nor except nobody off but serious enough nothing alone down only without\n",
    "\n",
    "\n",
    "data = pd.read_json('./data/data.jsonl', lines=True)\n",
    "original_data = data.copy() # never lemmatized\n",
    "\n",
    "#remove stop words\n",
    "my_stop_words = text.ENGLISH_STOP_WORDS\n",
    "#print(my_stop_words)\n",
    "words_to_keep = frozenset(['no', 'couldnt', 'cry', 'not', 'cant', 'cannot', 'nor', 'except', 'nobody', 'off', 'but', 'serious', 'enough', 'nothing', 'alone', 'down', 'only', 'without','hereby'])\n",
    "my_stop_words = my_stop_words - words_to_keep\n",
    "\n",
    "def pre_process_data(dataset):\n",
    "    #tokenize\n",
    "    dataset['text'] = dataset['text'].apply(nltk.word_tokenize)\n",
    "    \n",
    "    dataset['text'] = dataset['text'].apply(lambda x: [word for word in x if word not in my_stop_words])\n",
    "\n",
    "    #lemmatize\n",
    "    lemmatizer = WordNetLemmatizer()\n",
    "    dataset['text'] = dataset['text'].apply(lambda x: [lemmatizer.lemmatize(word) for word in x])\n",
    "    \n",
    "    return dataset\n",
    "\n",
    "data = pre_process_data(data)\n",
    "data.head()"
   ]
  },
  {
   "cell_type": "code",
   "execution_count": 29,
   "metadata": {
    "collapsed": false,
    "ExecuteTime": {
     "end_time": "2024-04-03T22:17:18.908494Z",
     "start_time": "2024-04-03T22:17:07.154252Z"
    }
   },
   "outputs": [
    {
     "name": "stdout",
     "output_type": "stream",
     "text": [
      "['woke', 'feeling', 'particularly', 'vile', 'tried', 'ignore', 'but', 'got', 'worse', 'worse', 'worse']\n",
      "0       [feel, awful, s, job, position, succeed, just,...\n",
      "1                                [im, alone, feel, awful]\n",
      "2       [ive, probably, mentioned, but, really, feel, ...\n",
      "3                             [feeling, little, low, day]\n",
      "4       [beleive, sensitive, people, feeling, tend, co...\n",
      "                              ...                        \n",
      "5395              [feel, grumpy, haven, t, yoga, ed, day]\n",
      "5396    [read, blog, suburb, direction, mentioned, cas...\n",
      "5397    [not, feel, thing, realize, violent, physical,...\n",
      "5398    [feel, petty, silly, giving, shit, but, little...\n",
      "5399    [remember, feeling, bitter, couldnt, pop, ball...\n",
      "Name: text, Length: 5396, dtype: object\n"
     ]
    }
   ],
   "source": [
    "test_data = pd.read_json('./data/test5.jsonl', lines=True)\n",
    "train_data = pd.read_json('./data/train3.jsonl', lines=True)\n",
    "validation_data = pd.read_json('./data/validation5.jsonl', lines=True)\n",
    "\n",
    "\n",
    "\n",
    "# remove duplicates\n",
    "test_data = test_data.drop_duplicates(subset=['text'])\n",
    "train_data = train_data.drop_duplicates(subset=['text'])\n",
    "validation_data = validation_data.drop_duplicates(subset=['text'])\n",
    "\n",
    "original_test_data = test_data.copy()\n",
    "original_test_data['text'] = original_test_data['text'].apply(nltk.word_tokenize)\n",
    "original_train_data = train_data.copy()\n",
    "original_train_data['text'] = original_train_data['text'].apply(nltk.word_tokenize)\n",
    "original_validation_data = validation_data.copy()\n",
    "original_validation_data['text'] = original_validation_data['text'].apply(nltk.word_tokenize)\n",
    "\n",
    "test_data = pre_process_data(test_data)\n",
    "train_data = pre_process_data(train_data)\n",
    "validation_data = pre_process_data(validation_data)\n",
    "print(test_data['text'][13])\n",
    "\n",
    "print(test_data[\"text\"])"
   ]
  },
  {
   "cell_type": "markdown",
   "metadata": {
    "collapsed": false
   },
   "source": [
    "# 2. Vectorization\n",
    "(secção possívelmente temporária, mas queria experimentar as cenas de tf_idf depois do pré-processamento) -- matos\n",
    "não acho que convenha ser temporaria, dado que efetivamente melhora os resultados ihihihi, e é uma prática comum e recomendada pelo que estivemos a ver -- ines\n"
   ]
  },
  {
   "cell_type": "markdown",
   "metadata": {},
   "source": [
    "### TF-IDF"
   ]
  },
  {
   "cell_type": "markdown",
   "metadata": {},
   "source": [
    "#### Hypertunning for tf-idf"
   ]
  },
  {
   "cell_type": "code",
   "execution_count": 3,
   "metadata": {
    "collapsed": false,
    "ExecuteTime": {
     "end_time": "2024-04-03T22:05:08.344463Z",
     "start_time": "2024-04-03T22:05:08.338790Z"
    }
   },
   "outputs": [],
   "source": [
    "from sklearn.feature_extraction.text import TfidfVectorizer\n",
    "\n",
    "\n",
    "\n",
    "\n",
    "def tfidfVectorizer(data, train_data, validation_data, test_data):\n",
    "    vectorizer = TfidfVectorizer(stop_words=list(my_stop_words), ngram_range=(1,2), max_features=40000)\n",
    "    # good idea to use two-grams??\n",
    "    # print(X.shape)\n",
    "\n",
    "    x_train = vectorizer.fit_transform(train_data['text'].apply(lambda x: ' '.join(x)))\n",
    "\n",
    "    x_val = vectorizer.transform(validation_data['text'].apply(lambda x: ' '.join(x)))\n",
    "    x_test = vectorizer.transform(test_data['text'].apply(lambda x: ' '.join(x)))\n",
    "\n",
    "    y_train = train_data['label']\n",
    "    y_val = validation_data['label']\n",
    "    y_test = test_data['label']\n",
    "    \n",
    "    # print(vectorizer.get_feature_names_out())\n",
    "\n",
    "    return x_train, x_val, x_test, y_train, y_val, y_test\n",
    "\n"
   ]
  },
  {
   "cell_type": "markdown",
   "metadata": {},
   "source": [
    "### BOW model\n",
    "Count vectorizer which is an implementation of the BOW model.\n",
    "\n",
    "The disadvantage of the BOW model is it does not consider the sequence of words, and as language does involve sequence and context, sometimes the BOW model might not be a good fit for the best-case scenario."
   ]
  },
  {
   "cell_type": "code",
   "execution_count": 4,
   "metadata": {
    "ExecuteTime": {
     "end_time": "2024-04-03T22:05:08.352647Z",
     "start_time": "2024-04-03T22:05:08.345987Z"
    }
   },
   "outputs": [],
   "source": [
    "from sklearn.feature_extraction.text import CountVectorizer\n",
    "\n",
    "def countVectorizer(data, train_data, validation_data, test_data):\n",
    "    # Initialize CountVectorizer\n",
    "    vectorizer = CountVectorizer(stop_words=my_stop_words, ngram_range=(1,2), max_features=40000)\n",
    "\n",
    "    x_train= vectorizer.fit_transform(train_data['text'].apply(lambda x: ' '.join(x)))\n",
    "\n",
    "    x_val = vectorizer.transform(validation_data['text'].apply(lambda x: ' '.join(x)))\n",
    "    x_test = vectorizer.transform(test_data['text'].apply(lambda x: ' '.join(x)))\n",
    "\n",
    "    y_train = train_data['label']\n",
    "    y_val = validation_data['label']\n",
    "    y_test = test_data['label']\n",
    "\n",
    "    return x_train, x_val, x_test, y_train, y_val, y_test\n",
    "\n"
   ]
  },
  {
   "cell_type": "markdown",
   "metadata": {},
   "source": [
    "### Doc 2 Vec"
   ]
  },
  {
   "cell_type": "markdown",
   "metadata": {},
   "source": [
    "### Hypertunning doc2vec"
   ]
  },
  {
   "cell_type": "code",
   "execution_count": 5,
   "metadata": {
    "ExecuteTime": {
     "end_time": "2024-04-03T22:05:08.359871Z",
     "start_time": "2024-04-03T22:05:08.353664Z"
    }
   },
   "outputs": [],
   "source": [
    "# import optuna\n",
    "# from gensim.models import Doc2Vec\n",
    "# from gensim.models.doc2vec import TaggedDocument\n",
    "# from sklearn.metrics import accuracy_score\n",
    "# from sklearn.linear_model import LogisticRegression\n",
    "# from sklearn.model_selection import train_test_split\n",
    "# import numpy as np\n",
    "\n",
    "# y_train = train_data['label']\n",
    "# y_val = validation_data['label']\n",
    "\n",
    "# def objective(trial):\n",
    "#     vector_size = trial.suggest_int(\"vector_size\", 50, 300)\n",
    "#     window = trial.suggest_int(\"window\", 3, 15)\n",
    "#     min_count = trial.suggest_int(\"min_count\", 1, 10)\n",
    "#     epochs = trial.suggest_int(\"epochs\", 10, 50)\n",
    "    \n",
    "#     # Train Doc2Vec model\n",
    "#     tagged_data = [TaggedDocument(words=doc, tags=[str(label)]) for doc, label in zip(train_data['text'], train_data['label'])]\n",
    "#     doc2vec_model = Doc2Vec(vector_size=vector_size, window=window, min_count=min_count, epochs=epochs)\n",
    "#     doc2vec_model.build_vocab(tagged_data)\n",
    "#     doc2vec_model.train(tagged_data, total_examples=doc2vec_model.corpus_count, epochs=doc2vec_model.epochs)\n",
    "    \n",
    "#     # Prepare document vectors for training and test sets\n",
    "#     X_train_vecs  = [doc2vec_model.infer_vector(doc) for doc in train_data['text']]\n",
    "#     X_val_vecs = [doc2vec_model.infer_vector(doc) for doc in validation_data['text']]\n",
    "    \n",
    "#     # Train Logistic Regression classifier\n",
    "#     classifier = LogisticRegression(max_iter=1000)\n",
    "#     classifier.fit(X_train_vecs, y_train)\n",
    "    \n",
    "#     # Evaluate on test set\n",
    "#     y_pred = classifier.predict(X_val_vecs)\n",
    "#     accuracy = accuracy_score(y_val, y_pred)\n",
    "    \n",
    "#     return accuracy\n",
    "\n",
    "# # Define the study object and optimize the objective function\n",
    "# study = optuna.create_study(direction=\"maximize\")\n",
    "# study.optimize(objective, n_trials=100)\n",
    "\n",
    "# # Print the best hyperparameters found\n",
    "# best_params = study.best_params\n",
    "# print(\"Best hyperparameters:\", best_params)\n",
    "\n",
    "# # Train the final model with the best hyperparameters\n",
    "# best_vector_size = best_params[\"vector_size\"]\n",
    "# best_window = best_params[\"window\"]\n",
    "# best_min_count = best_params[\"min_count\"]\n",
    "# best_epochs = best_params[\"epochs\"]\n",
    "\n",
    "# # Train Doc2Vec model with best hyperparameters\n",
    "# tagged_data = [TaggedDocument(words=doc.split(), tags=[i]) for i, doc in enumerate(train_data[\"text\"])]\n",
    "# best_doc2vec_model = Doc2Vec(vector_size=best_vector_size, window=best_window, min_count=best_min_count, epochs=best_epochs)\n",
    "# best_doc2vec_model.build_vocab(tagged_data)\n",
    "# best_doc2vec_model.train(tagged_data, total_examples=best_doc2vec_model.corpus_count, epochs=best_doc2vec_model.epochs)\n",
    "\n",
    "# # Prepare document vectors for training and test sets with the best Doc2Vec model\n",
    "# X_train_vecs  = [best_doc2vec_model.infer_vector(doc) for doc in train_data['text']]\n",
    "# X_val_vecs = [best_doc2vec_model.infer_vector(doc) for doc in validation_data['text']]\n",
    "\n",
    "# # Train Logistic Regression classifier on the final Doc2Vec vectors\n",
    "# final_classifier = LogisticRegression(max_iter=1000)\n",
    "# final_classifier.fit(X_train_vecs, y_train)\n",
    "\n",
    "# # Evaluate on test set\n",
    "# final_accuracy = final_classifier.score(X_val_vecs, y_val)\n",
    "# print(\"Final accuracy on test set with the best model:\", final_accuracy)\n"
   ]
  },
  {
   "cell_type": "code",
   "execution_count": 6,
   "metadata": {
    "ExecuteTime": {
     "end_time": "2024-04-03T22:05:08.368013Z",
     "start_time": "2024-04-03T22:05:08.361881Z"
    }
   },
   "outputs": [],
   "source": [
    "from gensim.models.doc2vec import Doc2Vec, TaggedDocument\n",
    "from sklearn import utils\n",
    "\n",
    "def train_doc2vec(train_data):\n",
    "    max_epochs = 16\n",
    "    vec_size = 88\n",
    "    alpha = 0.025\n",
    "    window = 4\n",
    "    min_count = 7\n",
    "\n",
    "    tagged_data = [TaggedDocument(words=doc, tags=[str(label)]) for doc, label in zip(train_data['text'], train_data['label'])]\n",
    "\n",
    "    # antes tinha workers definidos\n",
    "    model = Doc2Vec(vector_size=vec_size, window=window, min_count=min_count, epochs=max_epochs)\n",
    "    \n",
    "    model.build_vocab(tagged_data)\n",
    "\n",
    "\n",
    "    model.train(tagged_data, total_examples=model.corpus_count, epochs=50)\n",
    "\n",
    "    model.save(\"d2v_best_stopwords.model\")\n",
    "    print(\"Model Saved\")\n",
    "\n",
    "    return model\n",
    "\n",
    "#train_doc2vec(train_data)"
   ]
  },
  {
   "cell_type": "code",
   "execution_count": 7,
   "metadata": {
    "ExecuteTime": {
     "end_time": "2024-04-03T22:05:08.376158Z",
     "start_time": "2024-04-03T22:05:08.370027Z"
    }
   },
   "outputs": [],
   "source": [
    "from gensim.models.doc2vec import Doc2Vec, TaggedDocument\n",
    "from sklearn import utils\n",
    "from gensim.models.doc2vec import Doc2Vec\n",
    "from sklearn.decomposition import PCA\n",
    "\n",
    "def doc2vec(data, train_data, validation_data, test_data):\n",
    "\n",
    "    # training the doc2vec model\n",
    "    #model = train_doc2vec(train_data)\n",
    "    model = Doc2Vec.load(\"d2v_best_stopwords.model\")\n",
    "    \n",
    "    x_train = [model.infer_vector(doc) for doc in train_data['text']]\n",
    "    x_val = [model.infer_vector(doc) for doc in validation_data['text']]\n",
    "    x_test = [model.infer_vector(doc) for doc in test_data['text']]\n",
    "\n",
    "    y_train = train_data['label']\n",
    "    y_val = validation_data['label']\n",
    "    y_test = test_data['label']\n",
    "\n",
    "    return x_train, x_val, x_test, y_train, y_val, y_test"
   ]
  },
  {
   "cell_type": "markdown",
   "metadata": {},
   "source": [
    "### Word embeddings using pre-trained models from twitter"
   ]
  },
  {
   "cell_type": "code",
   "execution_count": 8,
   "metadata": {
    "ExecuteTime": {
     "end_time": "2024-04-03T22:05:08.395260Z",
     "start_time": "2024-04-03T22:05:08.377173Z"
    }
   },
   "outputs": [],
   "source": [
    "from gensim.models import Word2Vec\n",
    "import numpy as np\n",
    "import gensim.downloader as api\n",
    "\n",
    "\n",
    "def text_to_vector(embeddings, text, sequence_len):\n",
    "    \n",
    "    # split text into tokens\n",
    "    tokens = text.split()\n",
    "    \n",
    "    # convert tokens to embedding vectors, up to sequence_len tokens\n",
    "    vec = []\n",
    "    n = 0\n",
    "    i = 0\n",
    "    while i < len(tokens) and n < sequence_len:   # while there are tokens and did not reach desired sequence length\n",
    "        try:\n",
    "            vec.extend(embeddings.get_vector(tokens[i]))\n",
    "            n += 1\n",
    "        except KeyError:\n",
    "            True   # simply ignore out-of-vocabulary tokens\n",
    "        finally:\n",
    "            i += 1\n",
    "    \n",
    "    # add blanks up to sequence_len, if needed\n",
    "    for j in range(sequence_len - n):\n",
    "        vec.extend(np.zeros(embeddings.vector_size,))\n",
    "    \n",
    "    return vec\n",
    "\n",
    "def text_to_mean_vector(embeddings, text):\n",
    "     # split text into tokens\n",
    "    tokens = text.split()\n",
    "\n",
    "    # convert tokens to embedding vectors, up to sequence_len tokens\n",
    "    total_vector = []\n",
    "    i = 0\n",
    "    while i < len(tokens):   # while there are tokens and did not reach desired sequence length\n",
    "        try:\n",
    "            total_vector.append(embeddings.get_vector(tokens[i]))\n",
    "        except KeyError:\n",
    "            True   # simply ignore out-of-vocabulary tokens\n",
    "        finally:\n",
    "            i += 1\n",
    "\n",
    "    return np.mean(total_vector, axis=0)\n",
    "\n",
    "def documents_to_vectors(embeddings, documents, sequence_len):\n",
    "    vectors = []\n",
    "    for doc in documents:\n",
    "        vectors.append(text_to_vector(embeddings, doc, sequence_len))\n",
    "    return np.array(vectors)\n",
    "\n",
    "\n",
    "def documents_to_mean_vectors(embeddings, documents):\n",
    "    vectors = []\n",
    "    for doc in documents:\n",
    "        vectors.append(text_to_mean_vector(embeddings, doc))\n",
    "    return np.array(vectors)\n",
    "\n",
    "def wordEmbeddingsVectorizer(data):\n",
    "    \n",
    "    # use twitter word embeddings\n",
    "    model_glove_twitter = api.load(\"glove-twitter-25\")\n",
    "    \n",
    "    # Initialize Word2Vec\n",
    "    \n",
    "    train = train_data['text'].apply(lambda x: ' '.join(x))\n",
    "    val = validation_data['text'].apply(lambda x: ' '.join(x))\n",
    "    test = test_data['text'].apply(lambda x: ' '.join(x))\n",
    "    \n",
    "    x_train = documents_to_vectors(model_glove_twitter, train, 40)\n",
    "    x_val = documents_to_vectors(model_glove_twitter, val, 40)\n",
    "    x_test = documents_to_vectors(model_glove_twitter, test, 40)\n",
    "    \n",
    "    print(x_train.shape, x_val.shape, x_test.shape)\n",
    "    print(x_train[0])\n",
    "    \n",
    "    y_train = train_data['label']\n",
    "    y_val = validation_data['label']\n",
    "    y_test = test_data['label']\n",
    "\n",
    "    return x_train, x_val, x_test, y_train, y_val, y_test\n",
    "\n",
    "\n",
    "def wordEmbeddingsMeanVectorizer(train_data, validation_data, test_data):\n",
    "\n",
    "    # use twitter word embeddings\n",
    "    model_glove_twitter = api.load(\"glove-twitter-25\")\n",
    "\n",
    "    # Initialize Word2Vec\n",
    "\n",
    "    train = train_data['text'].apply(lambda x: ' '.join(x))\n",
    "    val = validation_data['text'].apply(lambda x: ' '.join(x))\n",
    "    test = test_data['text'].apply(lambda x: ' '.join(x))\n",
    "\n",
    "    x_train = documents_to_mean_vectors(model_glove_twitter, train)\n",
    "    x_val = documents_to_mean_vectors(model_glove_twitter, val)\n",
    "    x_test = documents_to_mean_vectors(model_glove_twitter, test)\n",
    "\n",
    "    # x_train = np.mean(x_train, axis=1)\n",
    "    # x_val = np.mean(x_val, axis=1)\n",
    "    # x_test = np.mean(x_test, axis=1)\n",
    "    #\n",
    "    print(x_train.shape, x_val.shape, x_test.shape)\n",
    "    print(x_train[0])\n",
    "\n",
    "    y_train = train_data['label']\n",
    "    y_val = validation_data['label']\n",
    "    y_test = test_data['label']\n",
    "\n",
    "    return x_train, x_val, x_test, y_train, y_val, y_test\n"
   ]
  },
  {
   "cell_type": "markdown",
   "metadata": {},
   "source": [
    "### Word2Vec - Word embeddings using gensim model "
   ]
  },
  {
   "cell_type": "markdown",
   "metadata": {},
   "source": [
    "### Hypertunne the word 2 vec model"
   ]
  },
  {
   "cell_type": "code",
   "execution_count": 9,
   "metadata": {
    "ExecuteTime": {
     "end_time": "2024-04-03T22:05:08.401110Z",
     "start_time": "2024-04-03T22:05:08.396215Z"
    }
   },
   "outputs": [],
   "source": [
    "# from gensim.models import Word2Vec\n",
    "# import numpy as np\n",
    "# import optuna\n",
    "# from sklearn.metrics import f1_score\n",
    "# from sklearn.svm import SVC\n",
    "\n",
    "# # Calculate mean for each dimension\n",
    "# def calculate_mean_vectors(model, data):\n",
    "#     vectors = []\n",
    "#     for doc in data['text']:\n",
    "#         document = []\n",
    "#         for word in doc:\n",
    "#             if word in model.wv:\n",
    "#                 document.append(model.wv[word])\n",
    "#         if document:\n",
    "#             vectors.append(np.mean(document, axis=0))\n",
    "#         else:\n",
    "#             vectors.append(np.zeros(model.vector_size))\n",
    "#     return np.array(vectors)\n",
    "\n",
    "# def word_embeddings_vectorizer(train_data, validation_data, test_data, vector_size, window, min_count, sg):\n",
    "#     data_model = Word2Vec(train_data[\"text\"], vector_size=vector_size, window=window, min_count=min_count, sg=sg)\n",
    "    \n",
    "#     x_train = calculate_mean_vectors(data_model, train_data)\n",
    "#     x_val = calculate_mean_vectors(data_model, validation_data)\n",
    "#     x_test = calculate_mean_vectors(data_model, test_data)\n",
    "\n",
    "#     y_train = train_data['label']\n",
    "#     y_val = validation_data['label']\n",
    "#     y_test = test_data['label']\n",
    "\n",
    "#     return x_train, x_val, x_test, y_train, y_val, y_test\n",
    "\n",
    "\n",
    "# def objective(trial):\n",
    "#     # Define the search space for hyperparameters\n",
    "#     vector_size = trial.suggest_int('vector_size', 50, 300)\n",
    "#     window = trial.suggest_int('window', 2, 10)\n",
    "#     min_count = trial.suggest_int('min_count', 1, 5)\n",
    "#     sg = trial.suggest_categorical('sg', [0, 1])\n",
    "    \n",
    "#     # Call the function with the suggested hyperparameters\n",
    "#     x_train, x_val, x_test, y_train, y_val, y_test = word_embeddings_vectorizer(train_data, validation_data, test_data, vector_size, window, min_count, sg)\n",
    "    \n",
    "#     # Train an SVC classifier\n",
    "#     svc = SVC()\n",
    "#     svc.fit(x_train, y_train)\n",
    "    \n",
    "#     # Predict on the validation set\n",
    "#     y_pred = svc.predict(x_val)\n",
    "    \n",
    "#     # Calculate F1 score\n",
    "#     f1 = f1_score(y_val, y_pred, average='weighted')  # Use weighted average for multiclass classification\n",
    "    \n",
    "#     return f1\n",
    "\n",
    "\n",
    "# # Define your train_data, validation_data, and test_data here\n",
    "# if __name__ == \"__main__\":\n",
    "#     study = optuna.create_study(direction='maximize')  # We want to maximize accuracy\n",
    "#     study.optimize(objective, n_trials=100)  # You can adjust the number of trials as needed\n",
    "\n",
    "#     print('Number of finished trials:', len(study.trials))\n",
    "#     print('Best trial:', study.best_trial.params)\n",
    "#     print('Best f1:', study.best_value)\n"
   ]
  },
  {
   "cell_type": "code",
   "execution_count": 10,
   "metadata": {
    "ExecuteTime": {
     "end_time": "2024-04-03T22:05:08.408932Z",
     "start_time": "2024-04-03T22:05:08.402121Z"
    }
   },
   "outputs": [],
   "source": [
    "from gensim.models import Word2Vec\n",
    "import numpy as np\n",
    "\n",
    "## calcular media a cada dimensão\n",
    "def my_word2vec_model(model, data):\n",
    "    vectors = []\n",
    "    for doc in data['text']:\n",
    "        document = []\n",
    "        for word in doc:\n",
    "            if word in model.wv:\n",
    "                document.append(model.wv[word])\n",
    "        if document:  # Check if the document is not empty\n",
    "            vectors.append(np.mean(document, axis=0))  # Take the mean of word vectors for each document\n",
    "        else:\n",
    "            # If the document is empty, append a zero vector\n",
    "            vectors.append(np.zeros(model.vector_size))\n",
    "    \n",
    "    return np.array(vectors)\n",
    "\n",
    "\n",
    "def wordEmbeddingsVectorizer_Trained(train_data,  validation_data, test_data):\n",
    "\n",
    "    # Hypertunning 1: 'vector_size': 120, 'window': 7, 'min_count': 3, 'sg': 1\n",
    "    data_model = Word2Vec(train_data[\"text\"], vector_size=88, window=10, min_count=2, workers=10, sg=1)\n",
    "    \n",
    "    x_train = my_word2vec_model(data_model, train_data)\n",
    "    x_val = my_word2vec_model(data_model, validation_data)\n",
    "    x_test = my_word2vec_model(data_model, test_data)\n",
    "\n",
    "    y_train = train_data['label']\n",
    "    y_val = validation_data['label']\n",
    "    y_test = test_data['label']\n",
    "\n",
    "    return x_train, x_val, x_test, y_train, y_val, y_test\n",
    "\n"
   ]
  },
  {
   "cell_type": "markdown",
   "metadata": {},
   "source": [
    "### Lexicons"
   ]
  },
  {
   "cell_type": "code",
   "execution_count": 11,
   "metadata": {
    "ExecuteTime": {
     "end_time": "2024-04-03T22:05:08.463908Z",
     "start_time": "2024-04-03T22:05:08.409945Z"
    }
   },
   "outputs": [],
   "source": [
    "from nrclex import NRCLex\n",
    "from nltk.sentiment.vader import SentimentIntensityAnalyzer\n",
    "from textblob import TextBlob\n",
    "\n",
    "lexicon_emotions = ['fear','anger', 'anticip', 'trust', 'surprise', 'positive', 'negative', 'sadness', 'disgust', 'joy', 'anticipation']\n",
    "\n",
    "def get_features(data):\n",
    "    features = []\n",
    "    for text in data['text']:\n",
    "        text = ' '.join(text)\n",
    "        text = NRCLex(text)\n",
    "        features.append([text.affect_frequencies.get(emotion, 0) for emotion in lexicon_emotions])\n",
    "    return features\n",
    "\n",
    "# text_object = NRCLex(text='I am nervous')\n",
    "# print(text_object.affect_frequencies)\n",
    "# print(text_object.affect_dict)\n",
    "# print(text_object.top_emotions)\n",
    "# print(text_object.affect_list)\n",
    "# print(text_object.raw_emotion_scores)\n",
    "# print(text_object.lexicon)\n",
    "\n",
    "\n",
    "def lexiconVectorizer(train_data, validation_data, test_data):\n",
    "    x_train = get_features(train_data)\n",
    "    x_val = get_features(validation_data)\n",
    "    x_test = get_features(test_data)\n",
    "\n",
    "    y_train = train_data['label']\n",
    "    y_val = validation_data['label']\n",
    "    y_test = test_data['label']\n",
    "\n",
    "    return x_train, x_val, x_test, y_train, y_val, y_test"
   ]
  },
  {
   "cell_type": "markdown",
   "metadata": {},
   "source": [
    "### Choosing algorithm"
   ]
  },
  {
   "cell_type": "code",
   "execution_count": 37,
   "metadata": {
    "ExecuteTime": {
     "end_time": "2024-04-03T22:20:12.723664Z",
     "start_time": "2024-04-03T22:20:10.095151Z"
    }
   },
   "outputs": [],
   "source": [
    "# Choose vectorizer (featurizer)\n",
    "x_train, x_val, x_test, y_train, y_val, y_test = tfidfVectorizer(data, train_data, validation_data, test_data)\n",
    "#x_train, x_val, x_test, y_train, y_val, y_test = countVectorizer(data, train_data, validation_data, test_data)\n",
    "#x_train, x_val, x_test, y_train, y_val, y_test = wordEmbeddingsMeanVectorizer(train_data, validation_data, test_data)\n",
    "#x_train, x_val, x_test, y_train, y_val, y_test = wordEmbeddingsVectorizer_Trained(train_data, validation_data, test_data)\n",
    "# x_train, x_val, x_test, y_train, y_val, y_test = doc2vec(data, train_data, validation_data, test_data)\n"
   ]
  },
  {
   "cell_type": "code",
   "execution_count": 30,
   "metadata": {
    "ExecuteTime": {
     "end_time": "2024-04-03T22:17:41.791794Z",
     "start_time": "2024-04-03T22:17:32.836226Z"
    }
   },
   "outputs": [],
   "source": [
    "# join the features\n",
    "# import numpy as np\n",
    "\n",
    "# Using with lexicon \n",
    "x_train_lexicon, x_val_lexicon, x_test_lexicon, y_train_lexicon, y_val_lexicon, y_test_lexicon = lexiconVectorizer(original_train_data, original_validation_data, original_test_data)\n"
   ]
  },
  {
   "cell_type": "code",
   "outputs": [
    {
     "name": "stdout",
     "output_type": "stream",
     "text": [
      "(42607, 11)\n"
     ]
    },
    {
     "ename": "ValueError",
     "evalue": "zero-dimensional arrays cannot be concatenated",
     "output_type": "error",
     "traceback": [
      "\u001B[1;31m---------------------------------------------------------------------------\u001B[0m",
      "\u001B[1;31mValueError\u001B[0m                                Traceback (most recent call last)",
      "Cell \u001B[1;32mIn[36], line 4\u001B[0m\n\u001B[0;32m      2\u001B[0m x_train_lexicon2 \u001B[38;5;241m=\u001B[39m np\u001B[38;5;241m.\u001B[39marray(x_train_lexicon)\n\u001B[0;32m      3\u001B[0m \u001B[38;5;28mprint\u001B[39m(x_train_lexicon2\u001B[38;5;241m.\u001B[39mshape)\n\u001B[1;32m----> 4\u001B[0m x_train2 \u001B[38;5;241m=\u001B[39m \u001B[43mnp\u001B[49m\u001B[38;5;241;43m.\u001B[39;49m\u001B[43mconcatenate\u001B[49m\u001B[43m(\u001B[49m\u001B[43m(\u001B[49m\u001B[43mx_train\u001B[49m\u001B[43m,\u001B[49m\u001B[43m \u001B[49m\u001B[43mx_train_lexicon\u001B[49m\u001B[43m)\u001B[49m\u001B[43m,\u001B[49m\u001B[43m \u001B[49m\u001B[43maxis\u001B[49m\u001B[38;5;241;43m=\u001B[39;49m\u001B[38;5;241;43m1\u001B[39;49m\u001B[43m)\u001B[49m\n\u001B[0;32m      5\u001B[0m x_val2 \u001B[38;5;241m=\u001B[39m np\u001B[38;5;241m.\u001B[39mhstack((x_val\u001B[38;5;241m.\u001B[39mtoarray(), x_val_lexicon))\n\u001B[0;32m      6\u001B[0m x_test2 \u001B[38;5;241m=\u001B[39m np\u001B[38;5;241m.\u001B[39mhstack((x_test\u001B[38;5;241m.\u001B[39mtoarray(), x_test_lexicon))\n",
      "File \u001B[1;32m<__array_function__ internals>:200\u001B[0m, in \u001B[0;36mconcatenate\u001B[1;34m(*args, **kwargs)\u001B[0m\n",
      "\u001B[1;31mValueError\u001B[0m: zero-dimensional arrays cannot be concatenated"
     ]
    }
   ],
   "source": [
    "# join the features\n",
    "# x_train_lexicon2 = np.array(x_train_lexicon)\n",
    "# print(x_train_lexicon2.shape)\n",
    "# x_train2 = np.concatenate((x_train, x_train_lexicon), axis=1)\n",
    "# x_val2 = np.hstack((x_val.toarray(), x_val_lexicon))\n",
    "# x_test2 = np.hstack((x_test.toarray(), x_test_lexicon))\n"
   ],
   "metadata": {
    "collapsed": false,
    "ExecuteTime": {
     "end_time": "2024-04-03T22:18:46.674925Z",
     "start_time": "2024-04-03T22:18:46.564013Z"
    }
   },
   "execution_count": 36
  },
  {
   "cell_type": "code",
   "outputs": [
    {
     "name": "stdout",
     "output_type": "stream",
     "text": [
      "(42607, 40000)\n",
      "[[0.0, 0.0, 0.0, 0.0, 0.0, 0.0, 0.0, 0.0, 0.0, 0.0, 0], [0.15384615384615385, 0.07692307692307693, 0.0, 0.07692307692307693, 0.07692307692307693, 0.07692307692307693, 0.15384615384615385, 0.15384615384615385, 0.07692307692307693, 0.07692307692307693, 0.07692307692307693], [0.0, 0.2, 0.0, 0.0, 0.0, 0.0, 0.4, 0.2, 0.2, 0.0, 0]]\n",
      "  (0, 32595)\t0.44382415483477683\n",
      "  (0, 9534)\t0.5180883291594622\n",
      "  (0, 17720)\t0.7248221208380449\n",
      "  (0, 10609)\t0.09611189269695694\n",
      "  (1, 12131)\t0.5456063331751863\n",
      "  (1, 33361)\t0.5444785796625673\n",
      "  (1, 16005)\t0.43594965484883114\n",
      "  (1, 11801)\t0.15183366990167263\n",
      "  (1, 33353)\t0.4390344412561912\n",
      "  (2, 11161)\t0.5270701621378975\n",
      "  (2, 31956)\t0.42658852580279044\n",
      "  (2, 18561)\t0.6010116053088199\n",
      "  (2, 18174)\t0.41386721188137643\n",
      "  (2, 10609)\t0.08785360010257795\n"
     ]
    }
   ],
   "source": [
    "print(x_train.shape)\n",
    "print(x_train_lexicon[:3])\n",
    "print(x_train[:3])"
   ],
   "metadata": {
    "collapsed": false,
    "ExecuteTime": {
     "end_time": "2024-04-03T22:07:33.150440Z",
     "start_time": "2024-04-03T22:07:33.143887Z"
    }
   },
   "execution_count": 18
  },
  {
   "cell_type": "markdown",
   "metadata": {},
   "source": [
    "### Apply SMOTE"
   ]
  },
  {
   "cell_type": "code",
   "execution_count": null,
   "metadata": {},
   "outputs": [],
   "source": [
    "## Apply SMOTE\n",
    "import numpy as np\n",
    "from imblearn.over_sampling import SMOTE\n",
    "\n",
    "smote = SMOTE(random_state=4, sampling_strategy='auto', k_neighbors=18)\n",
    "x_train, y_train = smote.fit_resample(x_train, y_train)"
   ]
  },
  {
   "cell_type": "markdown",
   "metadata": {},
   "source": [
    "#### Hypertunning number of features (using PCA) for each model"
   ]
  },
  {
   "cell_type": "code",
   "execution_count": null,
   "metadata": {},
   "outputs": [],
   "source": [
    "# import optuna\n",
    "# from sklearn.decomposition import PCA\n",
    "# from sklearn.linear_model import LogisticRegression\n",
    "# from sklearn.pipeline import Pipeline\n",
    "# from sklearn.metrics import accuracy_score\n",
    "# from sklearn.svm import SVC\n",
    "# import lightgbm as lgb\n",
    "\n",
    "# def objective(trial):\n",
    "#     # Define parameters to search\n",
    "#     n_components = trial.suggest_int('n_components', 2, 25)\n",
    "    \n",
    "#     # Define the pipeline with PCA and a classifier\n",
    "#     pipeline = Pipeline([\n",
    "#         ('pca', PCA(n_components=n_components)),\n",
    "#         #('clf', SVC())\n",
    "#         ('clf', lgb.LGBMClassifier())\n",
    "#         #('clf', LogisticRegression())\n",
    "#     ])\n",
    "\n",
    "#     # Fit the pipeline\n",
    "#     pipeline.fit(x_train, y_train)\n",
    "    \n",
    "#     # Evaluate on the validation set\n",
    "#     y_pred = pipeline.predict(x_val)\n",
    "#     accuracy = accuracy_score(y_val, y_pred)\n",
    "    \n",
    "#     return accuracy\n",
    "\n",
    "# # Optimize hyperparameters\n",
    "# study = optuna.create_study(direction='maximize')\n",
    "# study.optimize(objective, n_trials=100)\n",
    "\n",
    "# # Get the best parameters found\n",
    "# best_params = study.best_params\n",
    "\n",
    "# # Get the best model\n",
    "# best_n_components = best_params['n_components']\n",
    "# best_model = Pipeline([\n",
    "#     ('pca', PCA(n_components=best_n_components)),\n",
    "#     ('clf', )  \n",
    "# ])\n",
    "# best_model.fit(x_train, y_train)\n",
    "\n",
    "# # Use the best model for prediction\n",
    "# y_pred = best_model.predict(x_test)\n",
    "\n",
    "# # Evaluate the best model\n",
    "# accuracy = accuracy_score(y_test, y_pred)\n",
    "# print(\"Test Accuracy:\", accuracy)\n"
   ]
  },
  {
   "cell_type": "markdown",
   "metadata": {
    "collapsed": false
   },
   "source": [
    "\n",
    "# 3. Model Training"
   ]
  },
  {
   "cell_type": "markdown",
   "metadata": {
    "collapsed": false
   },
   "source": [
    "#### 3.1. Model Selection\n",
    "Aqui também só estava a querer espetar modelos para começar a ver o que dá que ainda não sei que features vão ser usadas:\n",
    "tf-idf, word embeddings, ???, features mais feitas à mão?\n",
    "\n",
    "\n",
    "Isto pelos vistos é uma cena, que não implementei (ainda..)\n",
    "\n",
    "\"The validation set uses a subset of the training data to provide an unbiased evaluation of a model. The validation data set contrasts with training and test sets in that it is an intermediate phase used for choosing the best model and optimizing it. It is in this phase that hyperparameter tuning occurs.\"\n",
    "\n",
    "Wikipedia:\n",
    "The basic process of using a validation data set for model selection (as part of training data set, validation data set, and test data set) is:\n",
    "\n",
    "Since our goal is to find the network having the best performance on new data, the simplest approach to the comparison of different networks is to evaluate the error function using data which is independent of that used for training. Various networks are trained by minimization of an appropriate error function defined with respect to a training data set. The performance of the networks is then compared by evaluating the error function using an independent validation set, and the network having the smallest error with respect to the validation set is selected. This approach is called the hold out method. Since this procedure can itself lead to some overfitting to the validation set, the performance of the selected network should be confirmed by measuring its performance on a third independent set of data called a test set.\n",
    "\n",
    "An application of this process is in early stopping, where the candidate models are successive iterations of the same network, and training stops when the error on the validation set grows, choosing the previous model (the one with minimum error)."
   ]
  },
  {
   "cell_type": "markdown",
   "metadata": {
    "collapsed": false
   },
   "source": [
    "##### 3.1.1. Logistic Regression"
   ]
  },
  {
   "cell_type": "markdown",
   "metadata": {},
   "source": [
    "##### Model hypertunning"
   ]
  },
  {
   "cell_type": "code",
   "execution_count": null,
   "metadata": {},
   "outputs": [],
   "source": [
    "# import optuna\n",
    "# from sklearn.linear_model import LogisticRegression\n",
    "# from sklearn.metrics import accuracy_score, classification_report, confusion_matrix\n",
    "# from sklearn.model_selection import train_test_split\n",
    "\n",
    "# # Define objective function for Optuna\n",
    "# # Define objective function for Optuna\n",
    "# def objective(trial):\n",
    "#     # Define solver\n",
    "#     solver = trial.suggest_categorical('solver', ['lbfgs', 'liblinear', 'saga'])\n",
    "    \n",
    "#     if solver == 'lbfgs':\n",
    "#         penalty = 'l2'  # LBFGS only supports L2 penalty\n",
    "#     else:\n",
    "#         penalty = trial.suggest_categorical('penalty', ['l1', 'l2'])\n",
    "    \n",
    "#     C = trial.suggest_loguniform('C', 0.01, 10)\n",
    "    \n",
    "#     # Instantiate Logistic Regression classifier with hyperparameters\n",
    "#     logreg_classifier = LogisticRegression(max_iter=1000, solver=solver, penalty=penalty, C=C)\n",
    "    \n",
    "#     # Train classifier\n",
    "#     logreg_classifier.fit(x_train, y_train)\n",
    "    \n",
    "#     # Predict on validation set\n",
    "#     y_pred = logreg_classifier.predict(x_val)\n",
    "    \n",
    "#     # Calculate accuracy score\n",
    "#     accuracy = accuracy_score(y_val, y_pred)\n",
    "    \n",
    "#     return accuracy\n",
    "\n",
    "# # Create Optuna study\n",
    "# study = optuna.create_study(direction='maximize')\n",
    "# study.optimize(objective, n_trials=100)\n",
    "\n",
    "# # Get best hyperparameters\n",
    "# best_params = study.best_params\n",
    "\n",
    "# print(best_params)"
   ]
  },
  {
   "cell_type": "markdown",
   "metadata": {},
   "source": [
    "##### Model Training"
   ]
  },
  {
   "cell_type": "code",
   "execution_count": 22,
   "metadata": {
    "collapsed": false,
    "ExecuteTime": {
     "end_time": "2024-04-03T17:12:24.990042Z",
     "start_time": "2024-04-03T17:12:23.093283Z"
    }
   },
   "outputs": [
    {
     "name": "stdout",
     "output_type": "stream",
     "text": [
      "0.8996103173130451\n",
      "              precision    recall  f1-score   support\n",
      "\n",
      "           0       0.92      0.89      0.90       902\n",
      "           1       0.92      0.81      0.87       865\n",
      "           2       0.86      0.98      0.92       904\n",
      "           3       0.91      0.90      0.90       881\n",
      "           4       0.92      0.82      0.86       931\n",
      "           5       0.89      0.99      0.93       906\n",
      "\n",
      "    accuracy                           0.90      5389\n",
      "   macro avg       0.90      0.90      0.90      5389\n",
      "weighted avg       0.90      0.90      0.90      5389\n",
      "\n",
      "[[805  16  20  30  25   6]\n",
      " [ 19 704  92  20  13  17]\n",
      " [  5   5 887   3   2   2]\n",
      " [ 17  23  11 794  29   7]\n",
      " [ 32   9  15  30 762  83]\n",
      " [  0   5   4   0   1 896]]\n"
     ]
    }
   ],
   "source": [
    "from sklearn.linear_model import LogisticRegression\n",
    "from sklearn.metrics import accuracy_score, classification_report, confusion_matrix\n",
    "\n",
    "# pca = PCA(n_components=77)\n",
    "# x_train = pca.fit_transform(x_train)\n",
    "# x_val = pca.transform(x_val)\n",
    "# x_test = pca.transform(x_test)\n",
    "\n",
    "logreg_classifier = LogisticRegression(solver='liblinear', penalty='l2', C=0.03784347512520397)\n",
    "logreg_classifier.fit(x_train, y_train)"
   ]
  },
  {
   "cell_type": "code",
   "outputs": [
    {
     "name": "stdout",
     "output_type": "stream",
     "text": [
      "0.885\n",
      "              precision    recall  f1-score   support\n",
      "\n",
      "           0       0.94      0.90      0.92      1566\n",
      "           1       0.96      0.83      0.89      1836\n",
      "           2       0.68      0.97      0.80       432\n",
      "           3       0.86      0.90      0.88       756\n",
      "           4       0.84      0.90      0.87       594\n",
      "           5       0.79      0.97      0.87       216\n",
      "\n",
      "    accuracy                           0.89      5400\n",
      "   macro avg       0.84      0.91      0.87      5400\n",
      "weighted avg       0.90      0.89      0.89      5400\n",
      "\n",
      "[[1410   32   33   46   35   10]\n",
      " [  54 1525  151   41   37   28]\n",
      " [   3    2  420    3    3    1]\n",
      " [  20   20    6  680   23    7]\n",
      " [  16    8    9   15  535   11]\n",
      " [   0    4    0    2    1  209]]\n"
     ]
    }
   ],
   "source": [
    "y_pred = logreg_classifier.predict(x_val)\n",
    "print(accuracy_score(y_val, y_pred))\n",
    "print(classification_report(y_val, y_pred))\n",
    "print(confusion_matrix(y_val, y_pred))"
   ],
   "metadata": {
    "collapsed": false,
    "ExecuteTime": {
     "end_time": "2024-04-03T21:19:59.229716Z",
     "start_time": "2024-04-03T21:19:59.204643Z"
    }
   },
   "execution_count": 66
  },
  {
   "cell_type": "markdown",
   "metadata": {
    "collapsed": false
   },
   "source": [
    "## SVM\n"
   ]
  },
  {
   "cell_type": "markdown",
   "metadata": {},
   "source": [
    "##### Hypertunning"
   ]
  },
  {
   "cell_type": "code",
   "execution_count": null,
   "metadata": {},
   "outputs": [],
   "source": [
    "# import optuna\n",
    "# from sklearn.svm import SVC\n",
    "# from sklearn.metrics import accuracy_score\n",
    "# from sklearn.model_selection import train_test_split\n",
    "\n",
    "# # Define objective function for Optuna\n",
    "# def objective(trial):\n",
    "#     # Define kernel\n",
    "#     kernel = trial.suggest_categorical('kernel', ['linear', 'poly', 'rbf', 'sigmoid'])\n",
    "    \n",
    "#     # For 'poly', 'rbf', and 'sigmoid' kernels, suggest degree parameter\n",
    "#     if kernel in ['poly', 'rbf', 'sigmoid']:\n",
    "#         degree = trial.suggest_int('degree', 2, 5)\n",
    "#     else:\n",
    "#         degree = 3  # Default degree value for kernels that don't use it\n",
    "    \n",
    "#     # Instantiate SVM classifier with hyperparameters\n",
    "#     svm_classifier = SVC(kernel=kernel, degree=degree)\n",
    "    \n",
    "#     # Train classifier\n",
    "#     svm_classifier.fit(x_train, y_train)\n",
    "    \n",
    "#     # Predict on validation set\n",
    "#     y_pred = svm_classifier.predict(x_val)\n",
    "    \n",
    "#     # Calculate accuracy score\n",
    "#     accuracy = accuracy_score(y_val, y_pred)\n",
    "    \n",
    "#     return accuracy\n",
    "\n",
    "# # Create Optuna study\n",
    "# study = optuna.create_study(direction='maximize')\n",
    "# study.optimize(objective, n_trials=100)\n",
    "\n",
    "# # Get best hyperparameters\n",
    "# best_params = study.best_params\n",
    "\n",
    "# print(best_params)\n",
    "\n",
    "# #[I 2024-04-01 12:39:28,014] Trial 36 finished with value: 0.8245 and parameters: {'kernel': 'poly', 'degree': 2}. Best is trial 36 with value: 0.8245.\n"
   ]
  },
  {
   "cell_type": "markdown",
   "metadata": {},
   "source": [
    "### Training"
   ]
  },
  {
   "cell_type": "code",
   "execution_count": 32,
   "metadata": {
    "collapsed": false,
    "ExecuteTime": {
     "end_time": "2024-04-03T17:43:23.463272Z",
     "start_time": "2024-04-03T17:17:27.832560Z"
    }
   },
   "outputs": [
    {
     "name": "stdout",
     "output_type": "stream",
     "text": [
      "Accuracy: 0.8996103173130451\n",
      "Classification Report:\n",
      "               precision    recall  f1-score   support\n",
      "\n",
      "           0       0.92      0.91      0.91       902\n",
      "           1       0.89      0.87      0.88       865\n",
      "           2       0.89      0.95      0.92       904\n",
      "           3       0.92      0.91      0.91       881\n",
      "           4       0.88      0.84      0.86       931\n",
      "           5       0.90      0.93      0.92       906\n",
      "\n",
      "    accuracy                           0.90      5389\n",
      "   macro avg       0.90      0.90      0.90      5389\n",
      "weighted avg       0.90      0.90      0.90      5389\n",
      "\n",
      "Confusion Matrix:\n",
      " [[817  24   7  31  20   3]\n",
      " [ 12 751  79   5   8  10]\n",
      " [  6  30 858   5   4   1]\n",
      " [ 25  16   4 799  35   2]\n",
      " [ 26  15   5  29 778  78]\n",
      " [  2  12   7   2  38 845]]\n"
     ]
    }
   ],
   "source": [
    "from sklearn.svm import SVC\n",
    "from sklearn.metrics import accuracy_score, classification_report, confusion_matrix\n",
    "\n",
    "svm_classifier = SVC(kernel='poly', degree=2, random_state=42)\n",
    "svm_classifier.fit(x_train, y_train)"
   ]
  },
  {
   "cell_type": "code",
   "outputs": [
    {
     "name": "stdout",
     "output_type": "stream",
     "text": [
      "Accuracy: 0.919074074074074\n",
      "Classification Report:\n",
      "               precision    recall  f1-score   support\n",
      "\n",
      "           0       0.95      0.93      0.94      1566\n",
      "           1       0.95      0.90      0.93      1836\n",
      "           2       0.76      0.97      0.85       432\n",
      "           3       0.91      0.91      0.91       756\n",
      "           4       0.90      0.92      0.91       594\n",
      "           5       0.88      0.96      0.92       216\n",
      "\n",
      "    accuracy                           0.92      5400\n",
      "   macro avg       0.89      0.93      0.91      5400\n",
      "weighted avg       0.92      0.92      0.92      5400\n",
      "\n",
      "Confusion Matrix:\n",
      " [[1449   38   14   40   21    4]\n",
      " [  31 1655  117   11   11   11]\n",
      " [   5    5  421    1    0    0]\n",
      " [  18   24    1  685   25    3]\n",
      " [  12   10    2   15  546    9]\n",
      " [   3    3    0    2    1  207]]\n"
     ]
    }
   ],
   "source": [
    "y_pred = svm_classifier.predict(x_val)\n",
    "\n",
    "# Evaluate the performance\n",
    "accuracy = accuracy_score(y_val, y_pred)\n",
    "report = classification_report(y_val, y_pred)\n",
    "conf_matrix = confusion_matrix(y_val, y_pred)\n",
    "\n",
    "# Print the evaluation metrics\n",
    "print(\"Accuracy:\", accuracy)\n",
    "print(\"Classification Report:\\n\", report)\n",
    "print(\"Confusion Matrix:\\n\", conf_matrix)"
   ],
   "metadata": {
    "collapsed": false,
    "ExecuteTime": {
     "end_time": "2024-04-03T21:21:36.656079Z",
     "start_time": "2024-04-03T21:21:10.139560Z"
    }
   },
   "execution_count": 67
  },
  {
   "cell_type": "markdown",
   "metadata": {
    "collapsed": false
   },
   "source": [
    "## KNN"
   ]
  },
  {
   "cell_type": "markdown",
   "metadata": {},
   "source": [
    "##### Hypertunning"
   ]
  },
  {
   "cell_type": "code",
   "execution_count": null,
   "metadata": {},
   "outputs": [],
   "source": [
    "# import optuna\n",
    "# from sklearn.neighbors import KNeighborsClassifier\n",
    "# from sklearn.metrics import accuracy_score, classification_report, confusion_matrix\n",
    "# from sklearn.model_selection import train_test_split\n",
    "\n",
    "# # Define objective function for Optuna\n",
    "# def objective(trial):\n",
    "#     # Define hyperparameters to optimize\n",
    "#     n_neighbors = trial.suggest_int('n_neighbors', 1, 10)\n",
    "#     weights = trial.suggest_categorical('weights', ['uniform', 'distance'])\n",
    "#     algorithm = trial.suggest_categorical('algorithm', ['auto', 'ball_tree', 'kd_tree', 'brute'])\n",
    "    \n",
    "#     # Instantiate KNN classifier with hyperparameters\n",
    "#     knn_classifier = KNeighborsClassifier(n_neighbors=n_neighbors, weights=weights, algorithm=algorithm)\n",
    "    \n",
    "#     # Train classifier\n",
    "#     knn_classifier.fit(x_train, y_train)\n",
    "    \n",
    "#     # Predict on validation set\n",
    "#     y_pred = knn_classifier.predict(x_val)\n",
    "    \n",
    "#     # Calculate accuracy score\n",
    "#     accuracy = accuracy_score(y_val, y_pred)\n",
    "    \n",
    "#     return accuracy\n",
    "\n",
    "# # Create Optuna study\n",
    "# study = optuna.create_study(direction='maximize')\n",
    "# study.optimize(objective, n_trials=100)\n",
    "\n",
    "# # Get best hyperparameters\n",
    "# best_params = study.best_params\n",
    "\n",
    "# print(best_params)\n",
    "\n",
    "# # [I 2024-04-01 13:53:46,403] Trial 26 finished with value: 0.701 and parameters: {'n_neighbors': 10, 'weights': 'uniform', 'algorithm': 'auto'}. Best is trial 26 with value: 0.701."
   ]
  },
  {
   "cell_type": "code",
   "execution_count": 23,
   "metadata": {
    "collapsed": false,
    "ExecuteTime": {
     "end_time": "2024-04-03T17:12:39.628687Z",
     "start_time": "2024-04-03T17:12:33.533149Z"
    }
   },
   "outputs": [
    {
     "name": "stdout",
     "output_type": "stream",
     "text": [
      "Accuracy: 0.7478196325848951\n",
      "Classification Report:\n",
      "               precision    recall  f1-score   support\n",
      "\n",
      "           0       0.82      0.73      0.77       902\n",
      "           1       0.82      0.69      0.75       865\n",
      "           2       0.84      0.76      0.79       904\n",
      "           3       0.55      0.89      0.68       881\n",
      "           4       0.77      0.70      0.73       931\n",
      "           5       0.86      0.73      0.79       906\n",
      "\n",
      "    accuracy                           0.75      5389\n",
      "   macro avg       0.78      0.75      0.75      5389\n",
      "weighted avg       0.78      0.75      0.75      5389\n",
      "\n",
      "Confusion Matrix:\n",
      " [[654  20  27 150  42   9]\n",
      " [ 31 594  66 117  37  20]\n",
      " [ 31  49 684 110  21   9]\n",
      " [ 27  18  10 785  37   4]\n",
      " [ 34  17  13 148 653  66]\n",
      " [ 22  25  19 118  62 660]]\n"
     ]
    }
   ],
   "source": [
    "from sklearn.neighbors import KNeighborsClassifier\n",
    "\n",
    "#knn_classifier = KNeighborsClassifier(n_neighbors=5)\n",
    "hyperparameters = {'n_neighbors': 10, 'weights': 'uniform', 'algorithm': 'auto'}\n",
    "knn_classifier = KNeighborsClassifier(**hyperparameters)\n",
    "knn_classifier.fit(x_train, y_train)"
   ]
  },
  {
   "cell_type": "code",
   "outputs": [
    {
     "name": "stdout",
     "output_type": "stream",
     "text": [
      "Accuracy: 0.7511111111111111\n",
      "Classification Report:\n",
      "               precision    recall  f1-score   support\n",
      "\n",
      "           0       0.90      0.75      0.82      1566\n",
      "           1       0.93      0.70      0.80      1836\n",
      "           2       0.63      0.75      0.69       432\n",
      "           3       0.50      0.88      0.64       756\n",
      "           4       0.71      0.77      0.74       594\n",
      "           5       0.66      0.70      0.68       216\n",
      "\n",
      "    accuracy                           0.75      5400\n",
      "   macro avg       0.72      0.76      0.73      5400\n",
      "weighted avg       0.80      0.75      0.76      5400\n",
      "\n",
      "Confusion Matrix:\n",
      " [[1173   38   45  229   65   16]\n",
      " [  67 1283  120  266   61   39]\n",
      " [  18   21  323   55   11    4]\n",
      " [  22   15   11  665   34    9]\n",
      " [  19   11    8   85  460   11]\n",
      " [   8    9    4   28   15  152]]\n"
     ]
    }
   ],
   "source": [
    "y_pred = knn_classifier.predict(x_val)\n",
    "\n",
    "# Evaluate the performance\n",
    "accuracy = accuracy_score(y_val, y_pred)\n",
    "report = classification_report(y_val, y_pred)\n",
    "conf_matrix = confusion_matrix(y_val, y_pred)\n",
    "\n",
    "# Print the evaluation metrics\n",
    "print(\"Accuracy:\", accuracy)\n",
    "print(\"Classification Report:\\n\", report)\n",
    "print(\"Confusion Matrix:\\n\", conf_matrix)"
   ],
   "metadata": {
    "collapsed": false,
    "ExecuteTime": {
     "end_time": "2024-04-03T21:23:01.456568Z",
     "start_time": "2024-04-03T21:22:55.251307Z"
    }
   },
   "execution_count": 68
  },
  {
   "cell_type": "markdown",
   "metadata": {
    "collapsed": false
   },
   "source": [
    "### Boosting Algorithms\n",
    "\n",
    "Testing with some boosting algorithms"
   ]
  },
  {
   "cell_type": "markdown",
   "metadata": {
    "collapsed": false
   },
   "source": [
    "##### XGBOOST"
   ]
  },
  {
   "cell_type": "code",
   "execution_count": 24,
   "metadata": {
    "collapsed": false,
    "ExecuteTime": {
     "end_time": "2024-04-03T17:13:37.271559Z",
     "start_time": "2024-04-03T17:12:47.293975Z"
    }
   },
   "outputs": [
    {
     "name": "stdout",
     "output_type": "stream",
     "text": [
      "XGBoost Classifier Evaluation:\n",
      "Accuracy: 0.9155687511597699\n",
      "Classification Report:\n",
      "               precision    recall  f1-score   support\n",
      "\n",
      "           0       0.96      0.88      0.92       902\n",
      "           1       0.93      0.87      0.90       865\n",
      "           2       0.90      0.98      0.94       904\n",
      "           3       0.91      0.92      0.92       881\n",
      "           4       0.90      0.86      0.88       931\n",
      "           5       0.89      0.98      0.94       906\n",
      "\n",
      "    accuracy                           0.92      5389\n",
      "   macro avg       0.92      0.92      0.92      5389\n",
      "weighted avg       0.92      0.92      0.92      5389\n",
      "\n",
      "Confusion Matrix:\n",
      " [[792  27  12  38  26   7]\n",
      " [  7 753  76  10   4  15]\n",
      " [  1   8 888   1   2   4]\n",
      " [ 12   8   5 810  41   5]\n",
      " [ 12   9   6  27 800  77]\n",
      " [  0   1   3   0  11 891]]\n"
     ]
    }
   ],
   "source": [
    "import xgboost as xgb\n",
    "# XGBoost Classifier\n",
    "xgb_classifier = xgb.XGBClassifier()\n",
    "xgb_classifier.fit(x_train, y_train)"
   ]
  },
  {
   "cell_type": "code",
   "outputs": [
    {
     "name": "stdout",
     "output_type": "stream",
     "text": [
      "Accuracy: 0.91\n",
      "Classification Report:\n",
      "               precision    recall  f1-score   support\n",
      "\n",
      "           0       0.97      0.89      0.93      1566\n",
      "           1       0.96      0.88      0.92      1836\n",
      "           2       0.74      0.99      0.85       432\n",
      "           3       0.87      0.92      0.90       756\n",
      "           4       0.87      0.94      0.91       594\n",
      "           5       0.80      0.99      0.88       216\n",
      "\n",
      "    accuracy                           0.91      5400\n",
      "   macro avg       0.87      0.94      0.90      5400\n",
      "weighted avg       0.92      0.91      0.91      5400\n",
      "\n",
      "Confusion Matrix:\n",
      " [[1394   50   19   57   35   11]\n",
      " [  20 1623  125   27   13   28]\n",
      " [   0    2  426    1    2    1]\n",
      " [   9    9    5  699   29    5]\n",
      " [   7    4    1   14  558   10]\n",
      " [   0    0    0    1    1  214]]\n"
     ]
    }
   ],
   "source": [
    "y_pred = xgb_classifier.predict(x_val)\n",
    "\n",
    "# Evaluate the performance\n",
    "accuracy = accuracy_score(y_val, y_pred)\n",
    "report = classification_report(y_val, y_pred)\n",
    "conf_matrix = confusion_matrix(y_val, y_pred)\n",
    "\n",
    "# Print the evaluation metrics\n",
    "print(\"Accuracy:\", accuracy)\n",
    "print(\"Classification Report:\\n\", report)\n",
    "print(\"Confusion Matrix:\\n\", conf_matrix)"
   ],
   "metadata": {
    "collapsed": false,
    "ExecuteTime": {
     "end_time": "2024-04-03T21:23:29.362711Z",
     "start_time": "2024-04-03T21:23:29.293588Z"
    }
   },
   "execution_count": 69
  },
  {
   "cell_type": "markdown",
   "metadata": {
    "collapsed": false
   },
   "source": [
    "##### Lightgbm"
   ]
  },
  {
   "cell_type": "code",
   "execution_count": 25,
   "metadata": {
    "collapsed": false,
    "ExecuteTime": {
     "end_time": "2024-04-03T17:14:00.450584Z",
     "start_time": "2024-04-03T17:13:46.148671Z"
    }
   },
   "outputs": [
    {
     "name": "stdout",
     "output_type": "stream",
     "text": [
      "[LightGBM] [Info] Auto-choosing row-wise multi-threading, the overhead of testing was 0.149310 seconds.\n",
      "You can set `force_row_wise=true` to remove the overhead.\n",
      "And if memory is not enough, you can set `force_col_wise=true`.\n",
      "[LightGBM] [Info] Total Bins 100080\n",
      "[LightGBM] [Info] Number of data points in the train set: 43117, number of used features: 3165\n",
      "[LightGBM] [Info] Start training from score -1.791783\n",
      "[LightGBM] [Info] Start training from score -1.797505\n",
      "[LightGBM] [Info] Start training from score -1.779611\n",
      "[LightGBM] [Info] Start training from score -1.788171\n",
      "[LightGBM] [Info] Start training from score -1.801572\n",
      "[LightGBM] [Info] Start training from score -1.792061\n",
      "\n",
      "LightGBM Classifier Evaluation:\n",
      "Accuracy: 0.917238819818148\n",
      "Classification Report:\n",
      "               precision    recall  f1-score   support\n",
      "\n",
      "           0       0.96      0.90      0.93       902\n",
      "           1       0.94      0.88      0.90       865\n",
      "           2       0.90      0.97      0.94       904\n",
      "           3       0.92      0.92      0.92       881\n",
      "           4       0.90      0.86      0.88       931\n",
      "           5       0.90      0.97      0.93       906\n",
      "\n",
      "    accuracy                           0.92      5389\n",
      "   macro avg       0.92      0.92      0.92      5389\n",
      "weighted avg       0.92      0.92      0.92      5389\n",
      "\n",
      "Confusion Matrix:\n",
      " [[809  22  10  34  23   4]\n",
      " [  8 757  74   9   3  14]\n",
      " [  1  13 881   4   2   3]\n",
      " [ 13  11   2 812  38   5]\n",
      " [ 13   5   4  27 805  77]\n",
      " [  0   1   3   0  23 879]]\n"
     ]
    }
   ],
   "source": [
    "import lightgbm as lgb\n",
    "\n",
    "lgb_classifier = lgb.LGBMClassifier()\n",
    "lgb_classifier.fit(x_train, y_train)\n"
   ]
  },
  {
   "cell_type": "code",
   "outputs": [
    {
     "name": "stdout",
     "output_type": "stream",
     "text": [
      "\n",
      "LightGBM Classifier Evaluation:\n",
      "Accuracy: 0.9174074074074074\n",
      "Classification Report:\n",
      "               precision    recall  f1-score   support\n",
      "\n",
      "           0       0.97      0.91      0.94      1566\n",
      "           1       0.96      0.89      0.92      1836\n",
      "           2       0.76      0.97      0.85       432\n",
      "           3       0.89      0.93      0.91       756\n",
      "           4       0.89      0.96      0.92       594\n",
      "           5       0.83      0.98      0.90       216\n",
      "\n",
      "    accuracy                           0.92      5400\n",
      "   macro avg       0.88      0.94      0.91      5400\n",
      "weighted avg       0.92      0.92      0.92      5400\n",
      "\n",
      "Confusion Matrix:\n",
      " [[1419   46   16   49   28    8]\n",
      " [  26 1631  116   27   10   26]\n",
      " [   3    8  420    1    0    0]\n",
      " [  10   10    3  703   28    2]\n",
      " [   7    2    0    8  569    8]\n",
      " [   0    0    0    2    2  212]]\n"
     ]
    }
   ],
   "source": [
    "y_pred_lgb = lgb_classifier.predict(x_val)\n",
    "\n",
    "# Evaluate the performance for LightGBM\n",
    "accuracy_lgb = accuracy_score(y_val, y_pred_lgb)\n",
    "report_lgb = classification_report(y_val, y_pred_lgb)\n",
    "conf_matrix_lgb = confusion_matrix(y_val, y_pred_lgb)\n",
    "\n",
    "# Print the evaluation metrics for LightGBM\n",
    "print(\"\\nLightGBM Classifier Evaluation:\")\n",
    "print(\"Accuracy:\", accuracy_lgb)\n",
    "print(\"Classification Report:\\n\", report_lgb)\n",
    "print(\"Confusion Matrix:\\n\", conf_matrix_lgb)"
   ],
   "metadata": {
    "collapsed": false,
    "ExecuteTime": {
     "end_time": "2024-04-03T21:24:29.963968Z",
     "start_time": "2024-04-03T21:24:29.845726Z"
    }
   },
   "execution_count": 70
  },
  {
   "cell_type": "code",
   "outputs": [
    {
     "name": "stdout",
     "output_type": "stream",
     "text": [
      "AdaBoost Classifier Evaluation:\n",
      "Accuracy: 0.3015401744293932\n",
      "Classification Report:\n",
      "               precision    recall  f1-score   support\n",
      "\n",
      "           0       0.02      0.00      0.00       902\n",
      "           1       0.00      0.00      0.00       865\n",
      "           2       0.21      0.99      0.34       904\n",
      "           3       0.00      0.00      0.00       881\n",
      "           4       0.20      0.03      0.05       931\n",
      "           5       0.88      0.78      0.82       906\n",
      "\n",
      "    accuracy                           0.30      5389\n",
      "   macro avg       0.22      0.30      0.20      5389\n",
      "weighted avg       0.22      0.30      0.20      5389\n",
      "\n",
      "Confusion Matrix:\n",
      " [[  1   0 894   0   0   7]\n",
      " [  0   0 850   0   0  15]\n",
      " [  0   0 896   0   1   7]\n",
      " [  0   0 872   0   1   8]\n",
      " [  0   0 843   0  25  63]\n",
      " [ 58   8   4  37  96 703]]\n"
     ]
    }
   ],
   "source": [
    "from sklearn.ensemble import AdaBoostClassifier\n",
    "\n",
    "# AdaBoost Classifier\n",
    "adaboost_classifier = AdaBoostClassifier()\n",
    "adaboost_classifier.fit(x_train, y_train)\n"
   ],
   "metadata": {
    "collapsed": false
   },
   "execution_count": 26
  },
  {
   "cell_type": "code",
   "outputs": [
    {
     "name": "stdout",
     "output_type": "stream",
     "text": [
      "AdaBoost Classifier Evaluation:\n",
      "Accuracy: 0.11259259259259259\n",
      "Classification Report:\n",
      "               precision    recall  f1-score   support\n",
      "\n",
      "           0       0.00      0.00      0.00      1566\n",
      "           1       0.00      0.00      0.00      1836\n",
      "           2       0.08      1.00      0.16       432\n",
      "           3       0.00      0.00      0.00       756\n",
      "           4       0.12      0.01      0.01       594\n",
      "           5       0.72      0.81      0.76       216\n",
      "\n",
      "    accuracy                           0.11      5400\n",
      "   macro avg       0.15      0.30      0.15      5400\n",
      "weighted avg       0.05      0.11      0.04      5400\n",
      "\n",
      "Confusion Matrix:\n",
      " [[   0    0 1553    0    0   13]\n",
      " [   0    0 1804    0    3   29]\n",
      " [   0    0  431    0    0    1]\n",
      " [   0    0  748    0    0    8]\n",
      " [   0    0  575    0    3   16]\n",
      " [  16    1    0    5   20  174]]\n"
     ]
    }
   ],
   "source": [
    "y_pred_adaboost = adaboost_classifier.predict(x_val)\n",
    "\n",
    "# Evaluate the performance for AdaBoost\n",
    "accuracy_adaboost = accuracy_score(y_val, y_pred_adaboost)\n",
    "report_adaboost = classification_report(y_val, y_pred_adaboost)\n",
    "conf_matrix_adaboost = confusion_matrix(y_val, y_pred_adaboost)\n",
    "\n",
    "# Print the evaluation metrics for AdaBoost\n",
    "print(\"AdaBoost Classifier Evaluation:\")\n",
    "print(\"Accuracy:\", accuracy_adaboost)\n",
    "print(\"Classification Report:\\n\", report_adaboost)\n",
    "print(\"Confusion Matrix:\\n\", conf_matrix_adaboost)\n"
   ],
   "metadata": {
    "collapsed": false,
    "ExecuteTime": {
     "end_time": "2024-04-03T21:24:53.083534Z",
     "start_time": "2024-04-03T21:24:52.989126Z"
    }
   },
   "execution_count": 71
  },
  {
   "cell_type": "markdown",
   "source": [
    "### Naive Bayes"
   ],
   "metadata": {
    "collapsed": false
   }
  },
  {
   "cell_type": "markdown",
   "source": [
    "### Hypertuning"
   ],
   "metadata": {
    "collapsed": false
   }
  },
  {
   "cell_type": "code",
   "outputs": [
    {
     "name": "stderr",
     "output_type": "stream",
     "text": [
      "[I 2024-04-03 22:15:43,209] A new study created in memory with name: no-name-01cfcdeb-373c-434b-954d-d263f6e58a1b\n",
      "C:\\Users\\jcarv\\AppData\\Local\\Temp\\ipykernel_57496\\3324414873.py:9: FutureWarning: suggest_loguniform has been deprecated in v3.0.0. This feature will be removed in v6.0.0. See https://github.com/optuna/optuna/releases/tag/v3.0.0. Use suggest_float(..., log=True) instead.\n",
      "  alpha = trial.suggest_loguniform('alpha', 1e-5, 1e-1)\n",
      "[I 2024-04-03 22:15:43,236] Trial 0 finished with value: 0.7600668027463351 and parameters: {'alpha': 0.0013964537506036552}. Best is trial 0 with value: 0.7600668027463351.\n",
      "C:\\Users\\jcarv\\AppData\\Local\\Temp\\ipykernel_57496\\3324414873.py:9: FutureWarning: suggest_loguniform has been deprecated in v3.0.0. This feature will be removed in v6.0.0. See https://github.com/optuna/optuna/releases/tag/v3.0.0. Use suggest_float(..., log=True) instead.\n",
      "  alpha = trial.suggest_loguniform('alpha', 1e-5, 1e-1)\n",
      "[I 2024-04-03 22:15:43,263] Trial 1 finished with value: 0.8287251809241046 and parameters: {'alpha': 0.04331146871215102}. Best is trial 1 with value: 0.8287251809241046.\n",
      "C:\\Users\\jcarv\\AppData\\Local\\Temp\\ipykernel_57496\\3324414873.py:9: FutureWarning: suggest_loguniform has been deprecated in v3.0.0. This feature will be removed in v6.0.0. See https://github.com/optuna/optuna/releases/tag/v3.0.0. Use suggest_float(..., log=True) instead.\n",
      "  alpha = trial.suggest_loguniform('alpha', 1e-5, 1e-1)\n",
      "[I 2024-04-03 22:15:43,285] Trial 2 finished with value: 0.7402115420300612 and parameters: {'alpha': 2.781862754084955e-05}. Best is trial 1 with value: 0.8287251809241046.\n",
      "C:\\Users\\jcarv\\AppData\\Local\\Temp\\ipykernel_57496\\3324414873.py:9: FutureWarning: suggest_loguniform has been deprecated in v3.0.0. This feature will be removed in v6.0.0. See https://github.com/optuna/optuna/releases/tag/v3.0.0. Use suggest_float(..., log=True) instead.\n",
      "  alpha = trial.suggest_loguniform('alpha', 1e-5, 1e-1)\n",
      "[I 2024-04-03 22:15:43,309] Trial 3 finished with value: 0.7613657450361848 and parameters: {'alpha': 0.0015582126011509535}. Best is trial 1 with value: 0.8287251809241046.\n",
      "C:\\Users\\jcarv\\AppData\\Local\\Temp\\ipykernel_57496\\3324414873.py:9: FutureWarning: suggest_loguniform has been deprecated in v3.0.0. This feature will be removed in v6.0.0. See https://github.com/optuna/optuna/releases/tag/v3.0.0. Use suggest_float(..., log=True) instead.\n",
      "  alpha = trial.suggest_loguniform('alpha', 1e-5, 1e-1)\n",
      "[I 2024-04-03 22:15:43,329] Trial 4 finished with value: 0.7719428465392466 and parameters: {'alpha': 0.002811445092563899}. Best is trial 1 with value: 0.8287251809241046.\n",
      "C:\\Users\\jcarv\\AppData\\Local\\Temp\\ipykernel_57496\\3324414873.py:9: FutureWarning: suggest_loguniform has been deprecated in v3.0.0. This feature will be removed in v6.0.0. See https://github.com/optuna/optuna/releases/tag/v3.0.0. Use suggest_float(..., log=True) instead.\n",
      "  alpha = trial.suggest_loguniform('alpha', 1e-5, 1e-1)\n",
      "[I 2024-04-03 22:15:43,358] Trial 5 finished with value: 0.7691593987752829 and parameters: {'alpha': 0.002407480951793995}. Best is trial 1 with value: 0.8287251809241046.\n",
      "C:\\Users\\jcarv\\AppData\\Local\\Temp\\ipykernel_57496\\3324414873.py:9: FutureWarning: suggest_loguniform has been deprecated in v3.0.0. This feature will be removed in v6.0.0. See https://github.com/optuna/optuna/releases/tag/v3.0.0. Use suggest_float(..., log=True) instead.\n",
      "  alpha = trial.suggest_loguniform('alpha', 1e-5, 1e-1)\n",
      "[I 2024-04-03 22:15:43,381] Trial 6 finished with value: 0.8277973650027834 and parameters: {'alpha': 0.040469538176328874}. Best is trial 1 with value: 0.8287251809241046.\n",
      "C:\\Users\\jcarv\\AppData\\Local\\Temp\\ipykernel_57496\\3324414873.py:9: FutureWarning: suggest_loguniform has been deprecated in v3.0.0. This feature will be removed in v6.0.0. See https://github.com/optuna/optuna/releases/tag/v3.0.0. Use suggest_float(..., log=True) instead.\n",
      "  alpha = trial.suggest_loguniform('alpha', 1e-5, 1e-1)\n",
      "[I 2024-04-03 22:15:43,407] Trial 7 finished with value: 0.7589534236407497 and parameters: {'alpha': 0.0011329034360930614}. Best is trial 1 with value: 0.8287251809241046.\n",
      "C:\\Users\\jcarv\\AppData\\Local\\Temp\\ipykernel_57496\\3324414873.py:9: FutureWarning: suggest_loguniform has been deprecated in v3.0.0. This feature will be removed in v6.0.0. See https://github.com/optuna/optuna/releases/tag/v3.0.0. Use suggest_float(..., log=True) instead.\n",
      "  alpha = trial.suggest_loguniform('alpha', 1e-5, 1e-1)\n",
      "[I 2024-04-03 22:15:43,429] Trial 8 finished with value: 0.7502319539803303 and parameters: {'alpha': 0.00034024124022822953}. Best is trial 1 with value: 0.8287251809241046.\n",
      "C:\\Users\\jcarv\\AppData\\Local\\Temp\\ipykernel_57496\\3324414873.py:9: FutureWarning: suggest_loguniform has been deprecated in v3.0.0. This feature will be removed in v6.0.0. See https://github.com/optuna/optuna/releases/tag/v3.0.0. Use suggest_float(..., log=True) instead.\n",
      "  alpha = trial.suggest_loguniform('alpha', 1e-5, 1e-1)\n",
      "[I 2024-04-03 22:15:43,452] Trial 9 finished with value: 0.7554277231397291 and parameters: {'alpha': 0.0008134573972971711}. Best is trial 1 with value: 0.8287251809241046.\n",
      "C:\\Users\\jcarv\\AppData\\Local\\Temp\\ipykernel_57496\\3324414873.py:9: FutureWarning: suggest_loguniform has been deprecated in v3.0.0. This feature will be removed in v6.0.0. See https://github.com/optuna/optuna/releases/tag/v3.0.0. Use suggest_float(..., log=True) instead.\n",
      "  alpha = trial.suggest_loguniform('alpha', 1e-5, 1e-1)\n",
      "[I 2024-04-03 22:15:43,501] Trial 10 finished with value: 0.8339209500835034 and parameters: {'alpha': 0.055054774698795474}. Best is trial 10 with value: 0.8339209500835034.\n",
      "C:\\Users\\jcarv\\AppData\\Local\\Temp\\ipykernel_57496\\3324414873.py:9: FutureWarning: suggest_loguniform has been deprecated in v3.0.0. This feature will be removed in v6.0.0. See https://github.com/optuna/optuna/releases/tag/v3.0.0. Use suggest_float(..., log=True) instead.\n",
      "  alpha = trial.suggest_loguniform('alpha', 1e-5, 1e-1)\n",
      "[I 2024-04-03 22:15:43,530] Trial 11 finished with value: 0.8406012247170161 and parameters: {'alpha': 0.06680894344819592}. Best is trial 11 with value: 0.8406012247170161.\n",
      "C:\\Users\\jcarv\\AppData\\Local\\Temp\\ipykernel_57496\\3324414873.py:9: FutureWarning: suggest_loguniform has been deprecated in v3.0.0. This feature will be removed in v6.0.0. See https://github.com/optuna/optuna/releases/tag/v3.0.0. Use suggest_float(..., log=True) instead.\n",
      "  alpha = trial.suggest_loguniform('alpha', 1e-5, 1e-1)\n",
      "[I 2024-04-03 22:15:43,561] Trial 12 finished with value: 0.8495082575616998 and parameters: {'alpha': 0.08916341015318022}. Best is trial 12 with value: 0.8495082575616998.\n",
      "C:\\Users\\jcarv\\AppData\\Local\\Temp\\ipykernel_57496\\3324414873.py:9: FutureWarning: suggest_loguniform has been deprecated in v3.0.0. This feature will be removed in v6.0.0. See https://github.com/optuna/optuna/releases/tag/v3.0.0. Use suggest_float(..., log=True) instead.\n",
      "  alpha = trial.suggest_loguniform('alpha', 1e-5, 1e-1)\n",
      "[I 2024-04-03 22:15:43,589] Trial 13 finished with value: 0.7986639450732974 and parameters: {'alpha': 0.011431311195057707}. Best is trial 12 with value: 0.8495082575616998.\n",
      "C:\\Users\\jcarv\\AppData\\Local\\Temp\\ipykernel_57496\\3324414873.py:9: FutureWarning: suggest_loguniform has been deprecated in v3.0.0. This feature will be removed in v6.0.0. See https://github.com/optuna/optuna/releases/tag/v3.0.0. Use suggest_float(..., log=True) instead.\n",
      "  alpha = trial.suggest_loguniform('alpha', 1e-5, 1e-1)\n",
      "[I 2024-04-03 22:15:43,619] Trial 14 finished with value: 0.797550565967712 and parameters: {'alpha': 0.010898756550024395}. Best is trial 12 with value: 0.8495082575616998.\n",
      "C:\\Users\\jcarv\\AppData\\Local\\Temp\\ipykernel_57496\\3324414873.py:9: FutureWarning: suggest_loguniform has been deprecated in v3.0.0. This feature will be removed in v6.0.0. See https://github.com/optuna/optuna/releases/tag/v3.0.0. Use suggest_float(..., log=True) instead.\n",
      "  alpha = trial.suggest_loguniform('alpha', 1e-5, 1e-1)\n",
      "[I 2024-04-03 22:15:43,652] Trial 15 finished with value: 0.8470959361662647 and parameters: {'alpha': 0.08273684358328953}. Best is trial 12 with value: 0.8495082575616998.\n",
      "C:\\Users\\jcarv\\AppData\\Local\\Temp\\ipykernel_57496\\3324414873.py:9: FutureWarning: suggest_loguniform has been deprecated in v3.0.0. This feature will be removed in v6.0.0. See https://github.com/optuna/optuna/releases/tag/v3.0.0. Use suggest_float(..., log=True) instead.\n",
      "  alpha = trial.suggest_loguniform('alpha', 1e-5, 1e-1)\n",
      "[I 2024-04-03 22:15:43,681] Trial 16 finished with value: 0.797550565967712 and parameters: {'alpha': 0.010879769729684125}. Best is trial 12 with value: 0.8495082575616998.\n",
      "C:\\Users\\jcarv\\AppData\\Local\\Temp\\ipykernel_57496\\3324414873.py:9: FutureWarning: suggest_loguniform has been deprecated in v3.0.0. This feature will be removed in v6.0.0. See https://github.com/optuna/optuna/releases/tag/v3.0.0. Use suggest_float(..., log=True) instead.\n",
      "  alpha = trial.suggest_loguniform('alpha', 1e-5, 1e-1)\n",
      "[I 2024-04-03 22:15:43,715] Trial 17 finished with value: 0.7455928743737242 and parameters: {'alpha': 0.00011246214225492055}. Best is trial 12 with value: 0.8495082575616998.\n",
      "C:\\Users\\jcarv\\AppData\\Local\\Temp\\ipykernel_57496\\3324414873.py:9: FutureWarning: suggest_loguniform has been deprecated in v3.0.0. This feature will be removed in v6.0.0. See https://github.com/optuna/optuna/releases/tag/v3.0.0. Use suggest_float(..., log=True) instead.\n",
      "  alpha = trial.suggest_loguniform('alpha', 1e-5, 1e-1)\n",
      "[I 2024-04-03 22:15:43,750] Trial 18 finished with value: 0.8079421042865096 and parameters: {'alpha': 0.016999879975860648}. Best is trial 12 with value: 0.8495082575616998.\n",
      "C:\\Users\\jcarv\\AppData\\Local\\Temp\\ipykernel_57496\\3324414873.py:9: FutureWarning: suggest_loguniform has been deprecated in v3.0.0. This feature will be removed in v6.0.0. See https://github.com/optuna/optuna/releases/tag/v3.0.0. Use suggest_float(..., log=True) instead.\n",
      "  alpha = trial.suggest_loguniform('alpha', 1e-5, 1e-1)\n",
      "[I 2024-04-03 22:15:43,781] Trial 19 finished with value: 0.8483948784561143 and parameters: {'alpha': 0.0869243161000582}. Best is trial 12 with value: 0.8495082575616998.\n",
      "C:\\Users\\jcarv\\AppData\\Local\\Temp\\ipykernel_57496\\3324414873.py:9: FutureWarning: suggest_loguniform has been deprecated in v3.0.0. This feature will be removed in v6.0.0. See https://github.com/optuna/optuna/releases/tag/v3.0.0. Use suggest_float(..., log=True) instead.\n",
      "  alpha = trial.suggest_loguniform('alpha', 1e-5, 1e-1)\n",
      "[I 2024-04-03 22:15:43,811] Trial 20 finished with value: 0.7793653739098163 and parameters: {'alpha': 0.004692358087288282}. Best is trial 12 with value: 0.8495082575616998.\n",
      "C:\\Users\\jcarv\\AppData\\Local\\Temp\\ipykernel_57496\\3324414873.py:9: FutureWarning: suggest_loguniform has been deprecated in v3.0.0. This feature will be removed in v6.0.0. See https://github.com/optuna/optuna/releases/tag/v3.0.0. Use suggest_float(..., log=True) instead.\n",
      "  alpha = trial.suggest_loguniform('alpha', 1e-5, 1e-1)\n",
      "[I 2024-04-03 22:15:43,844] Trial 21 finished with value: 0.8513638894043422 and parameters: {'alpha': 0.09705368695815624}. Best is trial 21 with value: 0.8513638894043422.\n",
      "C:\\Users\\jcarv\\AppData\\Local\\Temp\\ipykernel_57496\\3324414873.py:9: FutureWarning: suggest_loguniform has been deprecated in v3.0.0. This feature will be removed in v6.0.0. See https://github.com/optuna/optuna/releases/tag/v3.0.0. Use suggest_float(..., log=True) instead.\n",
      "  alpha = trial.suggest_loguniform('alpha', 1e-5, 1e-1)\n",
      "[I 2024-04-03 22:15:43,878] Trial 22 finished with value: 0.8168491371311932 and parameters: {'alpha': 0.0246224817450502}. Best is trial 21 with value: 0.8513638894043422.\n",
      "C:\\Users\\jcarv\\AppData\\Local\\Temp\\ipykernel_57496\\3324414873.py:9: FutureWarning: suggest_loguniform has been deprecated in v3.0.0. This feature will be removed in v6.0.0. See https://github.com/optuna/optuna/releases/tag/v3.0.0. Use suggest_float(..., log=True) instead.\n",
      "  alpha = trial.suggest_loguniform('alpha', 1e-5, 1e-1)\n",
      "[I 2024-04-03 22:15:43,912] Trial 23 finished with value: 0.8513638894043422 and parameters: {'alpha': 0.09710481092898553}. Best is trial 21 with value: 0.8513638894043422.\n",
      "C:\\Users\\jcarv\\AppData\\Local\\Temp\\ipykernel_57496\\3324414873.py:9: FutureWarning: suggest_loguniform has been deprecated in v3.0.0. This feature will be removed in v6.0.0. See https://github.com/optuna/optuna/releases/tag/v3.0.0. Use suggest_float(..., log=True) instead.\n",
      "  alpha = trial.suggest_loguniform('alpha', 1e-5, 1e-1)\n",
      "[I 2024-04-03 22:15:43,948] Trial 24 finished with value: 0.8175913898682501 and parameters: {'alpha': 0.02648916679036463}. Best is trial 21 with value: 0.8513638894043422.\n",
      "C:\\Users\\jcarv\\AppData\\Local\\Temp\\ipykernel_57496\\3324414873.py:9: FutureWarning: suggest_loguniform has been deprecated in v3.0.0. This feature will be removed in v6.0.0. See https://github.com/optuna/optuna/releases/tag/v3.0.0. Use suggest_float(..., log=True) instead.\n",
      "  alpha = trial.suggest_loguniform('alpha', 1e-5, 1e-1)\n",
      "[I 2024-04-03 22:15:43,983] Trial 25 finished with value: 0.7370569678975691 and parameters: {'alpha': 1.0456401133244849e-05}. Best is trial 21 with value: 0.8513638894043422.\n",
      "C:\\Users\\jcarv\\AppData\\Local\\Temp\\ipykernel_57496\\3324414873.py:9: FutureWarning: suggest_loguniform has been deprecated in v3.0.0. This feature will be removed in v6.0.0. See https://github.com/optuna/optuna/releases/tag/v3.0.0. Use suggest_float(..., log=True) instead.\n",
      "  alpha = trial.suggest_loguniform('alpha', 1e-5, 1e-1)\n",
      "[I 2024-04-03 22:15:44,019] Trial 26 finished with value: 0.7843755798849509 and parameters: {'alpha': 0.005584167322524829}. Best is trial 21 with value: 0.8513638894043422.\n",
      "C:\\Users\\jcarv\\AppData\\Local\\Temp\\ipykernel_57496\\3324414873.py:9: FutureWarning: suggest_loguniform has been deprecated in v3.0.0. This feature will be removed in v6.0.0. See https://github.com/optuna/optuna/releases/tag/v3.0.0. Use suggest_float(..., log=True) instead.\n",
      "  alpha = trial.suggest_loguniform('alpha', 1e-5, 1e-1)\n",
      "[I 2024-04-03 22:15:44,059] Trial 27 finished with value: 0.8508071998515494 and parameters: {'alpha': 0.09478717873955504}. Best is trial 21 with value: 0.8513638894043422.\n",
      "C:\\Users\\jcarv\\AppData\\Local\\Temp\\ipykernel_57496\\3324414873.py:9: FutureWarning: suggest_loguniform has been deprecated in v3.0.0. This feature will be removed in v6.0.0. See https://github.com/optuna/optuna/releases/tag/v3.0.0. Use suggest_float(..., log=True) instead.\n",
      "  alpha = trial.suggest_loguniform('alpha', 1e-5, 1e-1)\n",
      "[I 2024-04-03 22:15:44,094] Trial 28 finished with value: 0.8170347003154574 and parameters: {'alpha': 0.026182730234990813}. Best is trial 21 with value: 0.8513638894043422.\n",
      "C:\\Users\\jcarv\\AppData\\Local\\Temp\\ipykernel_57496\\3324414873.py:9: FutureWarning: suggest_loguniform has been deprecated in v3.0.0. This feature will be removed in v6.0.0. See https://github.com/optuna/optuna/releases/tag/v3.0.0. Use suggest_float(..., log=True) instead.\n",
      "  alpha = trial.suggest_loguniform('alpha', 1e-5, 1e-1)\n",
      "[I 2024-04-03 22:15:44,130] Trial 29 finished with value: 0.7494897012432733 and parameters: {'alpha': 0.0003090442969980676}. Best is trial 21 with value: 0.8513638894043422.\n",
      "C:\\Users\\jcarv\\AppData\\Local\\Temp\\ipykernel_57496\\3324414873.py:9: FutureWarning: suggest_loguniform has been deprecated in v3.0.0. This feature will be removed in v6.0.0. See https://github.com/optuna/optuna/releases/tag/v3.0.0. Use suggest_float(..., log=True) instead.\n",
      "  alpha = trial.suggest_loguniform('alpha', 1e-5, 1e-1)\n",
      "[I 2024-04-03 22:15:44,166] Trial 30 finished with value: 0.8263128595286695 and parameters: {'alpha': 0.0382699891225179}. Best is trial 21 with value: 0.8513638894043422.\n",
      "C:\\Users\\jcarv\\AppData\\Local\\Temp\\ipykernel_57496\\3324414873.py:9: FutureWarning: suggest_loguniform has been deprecated in v3.0.0. This feature will be removed in v6.0.0. See https://github.com/optuna/optuna/releases/tag/v3.0.0. Use suggest_float(..., log=True) instead.\n",
      "  alpha = trial.suggest_loguniform('alpha', 1e-5, 1e-1)\n",
      "[I 2024-04-03 22:15:44,193] Trial 31 finished with value: 0.849693820745964 and parameters: {'alpha': 0.09107010188611687}. Best is trial 21 with value: 0.8513638894043422.\n",
      "C:\\Users\\jcarv\\AppData\\Local\\Temp\\ipykernel_57496\\3324414873.py:9: FutureWarning: suggest_loguniform has been deprecated in v3.0.0. This feature will be removed in v6.0.0. See https://github.com/optuna/optuna/releases/tag/v3.0.0. Use suggest_float(..., log=True) instead.\n",
      "  alpha = trial.suggest_loguniform('alpha', 1e-5, 1e-1)\n",
      "[I 2024-04-03 22:15:44,222] Trial 32 finished with value: 0.8326220077936537 and parameters: {'alpha': 0.05278347575518794}. Best is trial 21 with value: 0.8513638894043422.\n",
      "C:\\Users\\jcarv\\AppData\\Local\\Temp\\ipykernel_57496\\3324414873.py:9: FutureWarning: suggest_loguniform has been deprecated in v3.0.0. This feature will be removed in v6.0.0. See https://github.com/optuna/optuna/releases/tag/v3.0.0. Use suggest_float(..., log=True) instead.\n",
      "  alpha = trial.suggest_loguniform('alpha', 1e-5, 1e-1)\n",
      "[I 2024-04-03 22:15:44,251] Trial 33 finished with value: 0.850436073483021 and parameters: {'alpha': 0.09278540732004975}. Best is trial 21 with value: 0.8513638894043422.\n",
      "C:\\Users\\jcarv\\AppData\\Local\\Temp\\ipykernel_57496\\3324414873.py:9: FutureWarning: suggest_loguniform has been deprecated in v3.0.0. This feature will be removed in v6.0.0. See https://github.com/optuna/optuna/releases/tag/v3.0.0. Use suggest_float(..., log=True) instead.\n",
      "  alpha = trial.suggest_loguniform('alpha', 1e-5, 1e-1)\n",
      "[I 2024-04-03 22:15:44,279] Trial 34 finished with value: 0.8116533679717944 and parameters: {'alpha': 0.018498858519342784}. Best is trial 21 with value: 0.8513638894043422.\n",
      "C:\\Users\\jcarv\\AppData\\Local\\Temp\\ipykernel_57496\\3324414873.py:9: FutureWarning: suggest_loguniform has been deprecated in v3.0.0. This feature will be removed in v6.0.0. See https://github.com/optuna/optuna/releases/tag/v3.0.0. Use suggest_float(..., log=True) instead.\n",
      "  alpha = trial.suggest_loguniform('alpha', 1e-5, 1e-1)\n",
      "[I 2024-04-03 22:15:44,306] Trial 35 finished with value: 0.8263128595286695 and parameters: {'alpha': 0.038800404519426165}. Best is trial 21 with value: 0.8513638894043422.\n",
      "C:\\Users\\jcarv\\AppData\\Local\\Temp\\ipykernel_57496\\3324414873.py:9: FutureWarning: suggest_loguniform has been deprecated in v3.0.0. This feature will be removed in v6.0.0. See https://github.com/optuna/optuna/releases/tag/v3.0.0. Use suggest_float(..., log=True) instead.\n",
      "  alpha = trial.suggest_loguniform('alpha', 1e-5, 1e-1)\n",
      "[I 2024-04-03 22:15:44,339] Trial 36 finished with value: 0.786787901280386 and parameters: {'alpha': 0.006461954399336009}. Best is trial 21 with value: 0.8513638894043422.\n",
      "C:\\Users\\jcarv\\AppData\\Local\\Temp\\ipykernel_57496\\3324414873.py:9: FutureWarning: suggest_loguniform has been deprecated in v3.0.0. This feature will be removed in v6.0.0. See https://github.com/optuna/optuna/releases/tag/v3.0.0. Use suggest_float(..., log=True) instead.\n",
      "  alpha = trial.suggest_loguniform('alpha', 1e-5, 1e-1)\n",
      "[I 2024-04-03 22:15:44,371] Trial 37 finished with value: 0.8251994804230841 and parameters: {'alpha': 0.03628534122761419}. Best is trial 21 with value: 0.8513638894043422.\n",
      "C:\\Users\\jcarv\\AppData\\Local\\Temp\\ipykernel_57496\\3324414873.py:9: FutureWarning: suggest_loguniform has been deprecated in v3.0.0. This feature will be removed in v6.0.0. See https://github.com/optuna/optuna/releases/tag/v3.0.0. Use suggest_float(..., log=True) instead.\n",
      "  alpha = trial.suggest_loguniform('alpha', 1e-5, 1e-1)\n",
      "[I 2024-04-03 22:15:44,403] Trial 38 finished with value: 0.7428094266097606 and parameters: {'alpha': 5.470047412923904e-05}. Best is trial 21 with value: 0.8513638894043422.\n",
      "C:\\Users\\jcarv\\AppData\\Local\\Temp\\ipykernel_57496\\3324414873.py:9: FutureWarning: suggest_loguniform has been deprecated in v3.0.0. This feature will be removed in v6.0.0. See https://github.com/optuna/optuna/releases/tag/v3.0.0. Use suggest_float(..., log=True) instead.\n",
      "  alpha = trial.suggest_loguniform('alpha', 1e-5, 1e-1)\n",
      "[I 2024-04-03 22:15:44,429] Trial 39 finished with value: 0.8515494525886064 and parameters: {'alpha': 0.09811920430757447}. Best is trial 39 with value: 0.8515494525886064.\n",
      "C:\\Users\\jcarv\\AppData\\Local\\Temp\\ipykernel_57496\\3324414873.py:9: FutureWarning: suggest_loguniform has been deprecated in v3.0.0. This feature will be removed in v6.0.0. See https://github.com/optuna/optuna/releases/tag/v3.0.0. Use suggest_float(..., log=True) instead.\n",
      "  alpha = trial.suggest_loguniform('alpha', 1e-5, 1e-1)\n",
      "[I 2024-04-03 22:15:44,457] Trial 40 finished with value: 0.8326220077936537 and parameters: {'alpha': 0.05262100476336812}. Best is trial 39 with value: 0.8515494525886064.\n",
      "C:\\Users\\jcarv\\AppData\\Local\\Temp\\ipykernel_57496\\3324414873.py:9: FutureWarning: suggest_loguniform has been deprecated in v3.0.0. This feature will be removed in v6.0.0. See https://github.com/optuna/optuna/releases/tag/v3.0.0. Use suggest_float(..., log=True) instead.\n",
      "  alpha = trial.suggest_loguniform('alpha', 1e-5, 1e-1)\n",
      "[I 2024-04-03 22:15:44,489] Trial 41 finished with value: 0.8515494525886064 and parameters: {'alpha': 0.09740138655413934}. Best is trial 39 with value: 0.8515494525886064.\n",
      "C:\\Users\\jcarv\\AppData\\Local\\Temp\\ipykernel_57496\\3324414873.py:9: FutureWarning: suggest_loguniform has been deprecated in v3.0.0. This feature will be removed in v6.0.0. See https://github.com/optuna/optuna/releases/tag/v3.0.0. Use suggest_float(..., log=True) instead.\n",
      "  alpha = trial.suggest_loguniform('alpha', 1e-5, 1e-1)\n",
      "[I 2024-04-03 22:15:44,533] Trial 42 finished with value: 0.8329931341621822 and parameters: {'alpha': 0.05323237316153641}. Best is trial 39 with value: 0.8515494525886064.\n",
      "C:\\Users\\jcarv\\AppData\\Local\\Temp\\ipykernel_57496\\3324414873.py:9: FutureWarning: suggest_loguniform has been deprecated in v3.0.0. This feature will be removed in v6.0.0. See https://github.com/optuna/optuna/releases/tag/v3.0.0. Use suggest_float(..., log=True) instead.\n",
      "  alpha = trial.suggest_loguniform('alpha', 1e-5, 1e-1)\n",
      "[I 2024-04-03 22:15:44,564] Trial 43 finished with value: 0.8070142883651883 and parameters: {'alpha': 0.016138319913192537}. Best is trial 39 with value: 0.8515494525886064.\n",
      "C:\\Users\\jcarv\\AppData\\Local\\Temp\\ipykernel_57496\\3324414873.py:9: FutureWarning: suggest_loguniform has been deprecated in v3.0.0. This feature will be removed in v6.0.0. See https://github.com/optuna/optuna/releases/tag/v3.0.0. Use suggest_float(..., log=True) instead.\n",
      "  alpha = trial.suggest_loguniform('alpha', 1e-5, 1e-1)\n",
      "[I 2024-04-03 22:15:44,593] Trial 44 finished with value: 0.8181480794210428 and parameters: {'alpha': 0.027381640939263967}. Best is trial 39 with value: 0.8515494525886064.\n",
      "C:\\Users\\jcarv\\AppData\\Local\\Temp\\ipykernel_57496\\3324414873.py:9: FutureWarning: suggest_loguniform has been deprecated in v3.0.0. This feature will be removed in v6.0.0. See https://github.com/optuna/optuna/releases/tag/v3.0.0. Use suggest_float(..., log=True) instead.\n",
      "  alpha = trial.suggest_loguniform('alpha', 1e-5, 1e-1)\n",
      "[I 2024-04-03 22:15:44,626] Trial 45 finished with value: 0.838931156058638 and parameters: {'alpha': 0.06235198483988837}. Best is trial 39 with value: 0.8515494525886064.\n",
      "C:\\Users\\jcarv\\AppData\\Local\\Temp\\ipykernel_57496\\3324414873.py:9: FutureWarning: suggest_loguniform has been deprecated in v3.0.0. This feature will be removed in v6.0.0. See https://github.com/optuna/optuna/releases/tag/v3.0.0. Use suggest_float(..., log=True) instead.\n",
      "  alpha = trial.suggest_loguniform('alpha', 1e-5, 1e-1)\n",
      "[I 2024-04-03 22:15:44,658] Trial 46 finished with value: 0.8519205789571349 and parameters: {'alpha': 0.09927118035437996}. Best is trial 46 with value: 0.8519205789571349.\n",
      "C:\\Users\\jcarv\\AppData\\Local\\Temp\\ipykernel_57496\\3324414873.py:9: FutureWarning: suggest_loguniform has been deprecated in v3.0.0. This feature will be removed in v6.0.0. See https://github.com/optuna/optuna/releases/tag/v3.0.0. Use suggest_float(..., log=True) instead.\n",
      "  alpha = trial.suggest_loguniform('alpha', 1e-5, 1e-1)\n",
      "[I 2024-04-03 22:15:44,694] Trial 47 finished with value: 0.8294674336611616 and parameters: {'alpha': 0.04418974301830748}. Best is trial 46 with value: 0.8519205789571349.\n",
      "C:\\Users\\jcarv\\AppData\\Local\\Temp\\ipykernel_57496\\3324414873.py:9: FutureWarning: suggest_loguniform has been deprecated in v3.0.0. This feature will be removed in v6.0.0. See https://github.com/optuna/optuna/releases/tag/v3.0.0. Use suggest_float(..., log=True) instead.\n",
      "  alpha = trial.suggest_loguniform('alpha', 1e-5, 1e-1)\n",
      "[I 2024-04-03 22:15:44,725] Trial 48 finished with value: 0.7548710335869363 and parameters: {'alpha': 0.0007625453677395546}. Best is trial 46 with value: 0.8519205789571349.\n",
      "C:\\Users\\jcarv\\AppData\\Local\\Temp\\ipykernel_57496\\3324414873.py:9: FutureWarning: suggest_loguniform has been deprecated in v3.0.0. This feature will be removed in v6.0.0. See https://github.com/optuna/optuna/releases/tag/v3.0.0. Use suggest_float(..., log=True) instead.\n",
      "  alpha = trial.suggest_loguniform('alpha', 1e-5, 1e-1)\n",
      "[I 2024-04-03 22:15:44,757] Trial 49 finished with value: 0.7639636296158842 and parameters: {'alpha': 0.0018734388707842232}. Best is trial 46 with value: 0.8519205789571349.\n",
      "C:\\Users\\jcarv\\AppData\\Local\\Temp\\ipykernel_57496\\3324414873.py:9: FutureWarning: suggest_loguniform has been deprecated in v3.0.0. This feature will be removed in v6.0.0. See https://github.com/optuna/optuna/releases/tag/v3.0.0. Use suggest_float(..., log=True) instead.\n",
      "  alpha = trial.suggest_loguniform('alpha', 1e-5, 1e-1)\n",
      "[I 2024-04-03 22:15:44,786] Trial 50 finished with value: 0.8398589719799592 and parameters: {'alpha': 0.06404714787675866}. Best is trial 46 with value: 0.8519205789571349.\n",
      "C:\\Users\\jcarv\\AppData\\Local\\Temp\\ipykernel_57496\\3324414873.py:9: FutureWarning: suggest_loguniform has been deprecated in v3.0.0. This feature will be removed in v6.0.0. See https://github.com/optuna/optuna/releases/tag/v3.0.0. Use suggest_float(..., log=True) instead.\n",
      "  alpha = trial.suggest_loguniform('alpha', 1e-5, 1e-1)\n",
      "[I 2024-04-03 22:15:44,810] Trial 51 finished with value: 0.8522917053256633 and parameters: {'alpha': 0.09965020089826075}. Best is trial 51 with value: 0.8522917053256633.\n",
      "C:\\Users\\jcarv\\AppData\\Local\\Temp\\ipykernel_57496\\3324414873.py:9: FutureWarning: suggest_loguniform has been deprecated in v3.0.0. This feature will be removed in v6.0.0. See https://github.com/optuna/optuna/releases/tag/v3.0.0. Use suggest_float(..., log=True) instead.\n",
      "  alpha = trial.suggest_loguniform('alpha', 1e-5, 1e-1)\n",
      "[I 2024-04-03 22:15:44,838] Trial 52 finished with value: 0.8393022824271664 and parameters: {'alpha': 0.06249336051148714}. Best is trial 51 with value: 0.8522917053256633.\n",
      "C:\\Users\\jcarv\\AppData\\Local\\Temp\\ipykernel_57496\\3324414873.py:9: FutureWarning: suggest_loguniform has been deprecated in v3.0.0. This feature will be removed in v6.0.0. See https://github.com/optuna/optuna/releases/tag/v3.0.0. Use suggest_float(..., log=True) instead.\n",
      "  alpha = trial.suggest_loguniform('alpha', 1e-5, 1e-1)\n",
      "[I 2024-04-03 22:15:44,865] Trial 53 finished with value: 0.8229727222119132 and parameters: {'alpha': 0.03323387795190761}. Best is trial 51 with value: 0.8522917053256633.\n",
      "C:\\Users\\jcarv\\AppData\\Local\\Temp\\ipykernel_57496\\3324414873.py:9: FutureWarning: suggest_loguniform has been deprecated in v3.0.0. This feature will be removed in v6.0.0. See https://github.com/optuna/optuna/releases/tag/v3.0.0. Use suggest_float(..., log=True) instead.\n",
      "  alpha = trial.suggest_loguniform('alpha', 1e-5, 1e-1)\n",
      "[I 2024-04-03 22:15:44,892] Trial 54 finished with value: 0.8413434774540731 and parameters: {'alpha': 0.06981068669404301}. Best is trial 51 with value: 0.8522917053256633.\n",
      "C:\\Users\\jcarv\\AppData\\Local\\Temp\\ipykernel_57496\\3324414873.py:9: FutureWarning: suggest_loguniform has been deprecated in v3.0.0. This feature will be removed in v6.0.0. See https://github.com/optuna/optuna/releases/tag/v3.0.0. Use suggest_float(..., log=True) instead.\n",
      "  alpha = trial.suggest_loguniform('alpha', 1e-5, 1e-1)\n",
      "[I 2024-04-03 22:15:44,917] Trial 55 finished with value: 0.8099832993134162 and parameters: {'alpha': 0.018052993109654275}. Best is trial 51 with value: 0.8522917053256633.\n",
      "C:\\Users\\jcarv\\AppData\\Local\\Temp\\ipykernel_57496\\3324414873.py:9: FutureWarning: suggest_loguniform has been deprecated in v3.0.0. This feature will be removed in v6.0.0. See https://github.com/optuna/optuna/releases/tag/v3.0.0. Use suggest_float(..., log=True) instead.\n",
      "  alpha = trial.suggest_loguniform('alpha', 1e-5, 1e-1)\n",
      "[I 2024-04-03 22:15:44,944] Trial 56 finished with value: 0.8508071998515494 and parameters: {'alpha': 0.09618614699100539}. Best is trial 51 with value: 0.8522917053256633.\n",
      "C:\\Users\\jcarv\\AppData\\Local\\Temp\\ipykernel_57496\\3324414873.py:9: FutureWarning: suggest_loguniform has been deprecated in v3.0.0. This feature will be removed in v6.0.0. See https://github.com/optuna/optuna/releases/tag/v3.0.0. Use suggest_float(..., log=True) instead.\n",
      "  alpha = trial.suggest_loguniform('alpha', 1e-5, 1e-1)\n",
      "[I 2024-04-03 22:15:44,971] Trial 57 finished with value: 0.7903136017814065 and parameters: {'alpha': 0.007861506050498911}. Best is trial 51 with value: 0.8522917053256633.\n",
      "C:\\Users\\jcarv\\AppData\\Local\\Temp\\ipykernel_57496\\3324414873.py:9: FutureWarning: suggest_loguniform has been deprecated in v3.0.0. This feature will be removed in v6.0.0. See https://github.com/optuna/optuna/releases/tag/v3.0.0. Use suggest_float(..., log=True) instead.\n",
      "  alpha = trial.suggest_loguniform('alpha', 1e-5, 1e-1)\n",
      "[I 2024-04-03 22:15:44,998] Trial 58 finished with value: 0.8300241232139544 and parameters: {'alpha': 0.04624098358551049}. Best is trial 51 with value: 0.8522917053256633.\n",
      "C:\\Users\\jcarv\\AppData\\Local\\Temp\\ipykernel_57496\\3324414873.py:9: FutureWarning: suggest_loguniform has been deprecated in v3.0.0. This feature will be removed in v6.0.0. See https://github.com/optuna/optuna/releases/tag/v3.0.0. Use suggest_float(..., log=True) instead.\n",
      "  alpha = trial.suggest_loguniform('alpha', 1e-5, 1e-1)\n",
      "[I 2024-04-03 22:15:45,023] Trial 59 finished with value: 0.8430135461124513 and parameters: {'alpha': 0.07194388718180607}. Best is trial 51 with value: 0.8522917053256633.\n",
      "C:\\Users\\jcarv\\AppData\\Local\\Temp\\ipykernel_57496\\3324414873.py:9: FutureWarning: suggest_loguniform has been deprecated in v3.0.0. This feature will be removed in v6.0.0. See https://github.com/optuna/optuna/releases/tag/v3.0.0. Use suggest_float(..., log=True) instead.\n",
      "  alpha = trial.suggest_loguniform('alpha', 1e-5, 1e-1)\n",
      "[I 2024-04-03 22:15:45,057] Trial 60 finished with value: 0.7765819261458526 and parameters: {'alpha': 0.003960988480391891}. Best is trial 51 with value: 0.8522917053256633.\n",
      "C:\\Users\\jcarv\\AppData\\Local\\Temp\\ipykernel_57496\\3324414873.py:9: FutureWarning: suggest_loguniform has been deprecated in v3.0.0. This feature will be removed in v6.0.0. See https://github.com/optuna/optuna/releases/tag/v3.0.0. Use suggest_float(..., log=True) instead.\n",
      "  alpha = trial.suggest_loguniform('alpha', 1e-5, 1e-1)\n",
      "[I 2024-04-03 22:15:45,084] Trial 61 finished with value: 0.8515494525886064 and parameters: {'alpha': 0.09823783648678186}. Best is trial 51 with value: 0.8522917053256633.\n",
      "C:\\Users\\jcarv\\AppData\\Local\\Temp\\ipykernel_57496\\3324414873.py:9: FutureWarning: suggest_loguniform has been deprecated in v3.0.0. This feature will be removed in v6.0.0. See https://github.com/optuna/optuna/releases/tag/v3.0.0. Use suggest_float(..., log=True) instead.\n",
      "  alpha = trial.suggest_loguniform('alpha', 1e-5, 1e-1)\n",
      "[I 2024-04-03 22:15:45,115] Trial 62 finished with value: 0.8437557988495082 and parameters: {'alpha': 0.073075468257031}. Best is trial 51 with value: 0.8522917053256633.\n",
      "C:\\Users\\jcarv\\AppData\\Local\\Temp\\ipykernel_57496\\3324414873.py:9: FutureWarning: suggest_loguniform has been deprecated in v3.0.0. This feature will be removed in v6.0.0. See https://github.com/optuna/optuna/releases/tag/v3.0.0. Use suggest_float(..., log=True) instead.\n",
      "  alpha = trial.suggest_loguniform('alpha', 1e-5, 1e-1)\n",
      "[I 2024-04-03 22:15:45,146] Trial 63 finished with value: 0.8214882167377993 and parameters: {'alpha': 0.030784973702376588}. Best is trial 51 with value: 0.8522917053256633.\n",
      "C:\\Users\\jcarv\\AppData\\Local\\Temp\\ipykernel_57496\\3324414873.py:9: FutureWarning: suggest_loguniform has been deprecated in v3.0.0. This feature will be removed in v6.0.0. See https://github.com/optuna/optuna/releases/tag/v3.0.0. Use suggest_float(..., log=True) instead.\n",
      "  alpha = trial.suggest_loguniform('alpha', 1e-5, 1e-1)\n",
      "[I 2024-04-03 22:15:45,178] Trial 64 finished with value: 0.8506216366672852 and parameters: {'alpha': 0.093425857281908}. Best is trial 51 with value: 0.8522917053256633.\n",
      "C:\\Users\\jcarv\\AppData\\Local\\Temp\\ipykernel_57496\\3324414873.py:9: FutureWarning: suggest_loguniform has been deprecated in v3.0.0. This feature will be removed in v6.0.0. See https://github.com/optuna/optuna/releases/tag/v3.0.0. Use suggest_float(..., log=True) instead.\n",
      "  alpha = trial.suggest_loguniform('alpha', 1e-5, 1e-1)\n",
      "[I 2024-04-03 22:15:45,209] Trial 65 finished with value: 0.8298385600296901 and parameters: {'alpha': 0.04558101512378688}. Best is trial 51 with value: 0.8522917053256633.\n",
      "C:\\Users\\jcarv\\AppData\\Local\\Temp\\ipykernel_57496\\3324414873.py:9: FutureWarning: suggest_loguniform has been deprecated in v3.0.0. This feature will be removed in v6.0.0. See https://github.com/optuna/optuna/releases/tag/v3.0.0. Use suggest_float(..., log=True) instead.\n",
      "  alpha = trial.suggest_loguniform('alpha', 1e-5, 1e-1)\n",
      "[I 2024-04-03 22:15:45,237] Trial 66 finished with value: 0.8413434774540731 and parameters: {'alpha': 0.06955909381291259}. Best is trial 51 with value: 0.8522917053256633.\n",
      "C:\\Users\\jcarv\\AppData\\Local\\Temp\\ipykernel_57496\\3324414873.py:9: FutureWarning: suggest_loguniform has been deprecated in v3.0.0. This feature will be removed in v6.0.0. See https://github.com/optuna/optuna/releases/tag/v3.0.0. Use suggest_float(..., log=True) instead.\n",
      "  alpha = trial.suggest_loguniform('alpha', 1e-5, 1e-1)\n",
      "[I 2024-04-03 22:15:45,264] Trial 67 finished with value: 0.8146223789200223 and parameters: {'alpha': 0.022249352456386873}. Best is trial 51 with value: 0.8522917053256633.\n",
      "C:\\Users\\jcarv\\AppData\\Local\\Temp\\ipykernel_57496\\3324414873.py:9: FutureWarning: suggest_loguniform has been deprecated in v3.0.0. This feature will be removed in v6.0.0. See https://github.com/optuna/optuna/releases/tag/v3.0.0. Use suggest_float(..., log=True) instead.\n",
      "  alpha = trial.suggest_loguniform('alpha', 1e-5, 1e-1)\n",
      "[I 2024-04-03 22:15:45,290] Trial 68 finished with value: 0.8509927630358137 and parameters: {'alpha': 0.09645366578595464}. Best is trial 51 with value: 0.8522917053256633.\n",
      "C:\\Users\\jcarv\\AppData\\Local\\Temp\\ipykernel_57496\\3324414873.py:9: FutureWarning: suggest_loguniform has been deprecated in v3.0.0. This feature will be removed in v6.0.0. See https://github.com/optuna/optuna/releases/tag/v3.0.0. Use suggest_float(..., log=True) instead.\n",
      "  alpha = trial.suggest_loguniform('alpha', 1e-5, 1e-1)\n",
      "[I 2024-04-03 22:15:45,323] Trial 69 finished with value: 0.8251994804230841 and parameters: {'alpha': 0.03646262884609733}. Best is trial 51 with value: 0.8522917053256633.\n",
      "C:\\Users\\jcarv\\AppData\\Local\\Temp\\ipykernel_57496\\3324414873.py:9: FutureWarning: suggest_loguniform has been deprecated in v3.0.0. This feature will be removed in v6.0.0. See https://github.com/optuna/optuna/releases/tag/v3.0.0. Use suggest_float(..., log=True) instead.\n",
      "  alpha = trial.suggest_loguniform('alpha', 1e-5, 1e-1)\n",
      "[I 2024-04-03 22:15:45,357] Trial 70 finished with value: 0.802189645574318 and parameters: {'alpha': 0.012876735217887096}. Best is trial 51 with value: 0.8522917053256633.\n",
      "C:\\Users\\jcarv\\AppData\\Local\\Temp\\ipykernel_57496\\3324414873.py:9: FutureWarning: suggest_loguniform has been deprecated in v3.0.0. This feature will be removed in v6.0.0. See https://github.com/optuna/optuna/releases/tag/v3.0.0. Use suggest_float(..., log=True) instead.\n",
      "  alpha = trial.suggest_loguniform('alpha', 1e-5, 1e-1)\n",
      "[I 2024-04-03 22:15:45,384] Trial 71 finished with value: 0.8522917053256633 and parameters: {'alpha': 0.09961052840436789}. Best is trial 51 with value: 0.8522917053256633.\n",
      "C:\\Users\\jcarv\\AppData\\Local\\Temp\\ipykernel_57496\\3324414873.py:9: FutureWarning: suggest_loguniform has been deprecated in v3.0.0. This feature will be removed in v6.0.0. See https://github.com/optuna/optuna/releases/tag/v3.0.0. Use suggest_float(..., log=True) instead.\n",
      "  alpha = trial.suggest_loguniform('alpha', 1e-5, 1e-1)\n",
      "[I 2024-04-03 22:15:45,422] Trial 72 finished with value: 0.832807570977918 and parameters: {'alpha': 0.05298190011407276}. Best is trial 51 with value: 0.8522917053256633.\n",
      "C:\\Users\\jcarv\\AppData\\Local\\Temp\\ipykernel_57496\\3324414873.py:9: FutureWarning: suggest_loguniform has been deprecated in v3.0.0. This feature will be removed in v6.0.0. See https://github.com/optuna/optuna/releases/tag/v3.0.0. Use suggest_float(..., log=True) instead.\n",
      "  alpha = trial.suggest_loguniform('alpha', 1e-5, 1e-1)\n",
      "[I 2024-04-03 22:15:45,451] Trial 73 finished with value: 0.8439413620337725 and parameters: {'alpha': 0.07508912529209497}. Best is trial 51 with value: 0.8522917053256633.\n",
      "C:\\Users\\jcarv\\AppData\\Local\\Temp\\ipykernel_57496\\3324414873.py:9: FutureWarning: suggest_loguniform has been deprecated in v3.0.0. This feature will be removed in v6.0.0. See https://github.com/optuna/optuna/releases/tag/v3.0.0. Use suggest_float(..., log=True) instead.\n",
      "  alpha = trial.suggest_loguniform('alpha', 1e-5, 1e-1)\n",
      "[I 2024-04-03 22:15:45,479] Trial 74 finished with value: 0.8515494525886064 and parameters: {'alpha': 0.09801408290254832}. Best is trial 51 with value: 0.8522917053256633.\n",
      "C:\\Users\\jcarv\\AppData\\Local\\Temp\\ipykernel_57496\\3324414873.py:9: FutureWarning: suggest_loguniform has been deprecated in v3.0.0. This feature will be removed in v6.0.0. See https://github.com/optuna/optuna/releases/tag/v3.0.0. Use suggest_float(..., log=True) instead.\n",
      "  alpha = trial.suggest_loguniform('alpha', 1e-5, 1e-1)\n",
      "[I 2024-04-03 22:15:45,529] Trial 75 finished with value: 0.8331786973464465 and parameters: {'alpha': 0.053594646612273894}. Best is trial 51 with value: 0.8522917053256633.\n",
      "C:\\Users\\jcarv\\AppData\\Local\\Temp\\ipykernel_57496\\3324414873.py:9: FutureWarning: suggest_loguniform has been deprecated in v3.0.0. This feature will be removed in v6.0.0. See https://github.com/optuna/optuna/releases/tag/v3.0.0. Use suggest_float(..., log=True) instead.\n",
      "  alpha = trial.suggest_loguniform('alpha', 1e-5, 1e-1)\n",
      "[I 2024-04-03 22:15:45,567] Trial 76 finished with value: 0.7493041380590091 and parameters: {'alpha': 0.0002843248575988615}. Best is trial 51 with value: 0.8522917053256633.\n",
      "C:\\Users\\jcarv\\AppData\\Local\\Temp\\ipykernel_57496\\3324414873.py:9: FutureWarning: suggest_loguniform has been deprecated in v3.0.0. This feature will be removed in v6.0.0. See https://github.com/optuna/optuna/releases/tag/v3.0.0. Use suggest_float(..., log=True) instead.\n",
      "  alpha = trial.suggest_loguniform('alpha', 1e-5, 1e-1)\n",
      "[I 2024-04-03 22:15:45,605] Trial 77 finished with value: 0.8448691779550938 and parameters: {'alpha': 0.07623743887482395}. Best is trial 51 with value: 0.8522917053256633.\n",
      "C:\\Users\\jcarv\\AppData\\Local\\Temp\\ipykernel_57496\\3324414873.py:9: FutureWarning: suggest_loguniform has been deprecated in v3.0.0. This feature will be removed in v6.0.0. See https://github.com/optuna/optuna/releases/tag/v3.0.0. Use suggest_float(..., log=True) instead.\n",
      "  alpha = trial.suggest_loguniform('alpha', 1e-5, 1e-1)\n",
      "[I 2024-04-03 22:15:45,642] Trial 78 finished with value: 0.8287251809241046 and parameters: {'alpha': 0.04326782204148208}. Best is trial 51 with value: 0.8522917053256633.\n",
      "C:\\Users\\jcarv\\AppData\\Local\\Temp\\ipykernel_57496\\3324414873.py:9: FutureWarning: suggest_loguniform has been deprecated in v3.0.0. This feature will be removed in v6.0.0. See https://github.com/optuna/optuna/releases/tag/v3.0.0. Use suggest_float(..., log=True) instead.\n",
      "  alpha = trial.suggest_loguniform('alpha', 1e-5, 1e-1)\n",
      "[I 2024-04-03 22:15:45,679] Trial 79 finished with value: 0.8148079421042865 and parameters: {'alpha': 0.0225495197370592}. Best is trial 51 with value: 0.8522917053256633.\n",
      "C:\\Users\\jcarv\\AppData\\Local\\Temp\\ipykernel_57496\\3324414873.py:9: FutureWarning: suggest_loguniform has been deprecated in v3.0.0. This feature will be removed in v6.0.0. See https://github.com/optuna/optuna/releases/tag/v3.0.0. Use suggest_float(..., log=True) instead.\n",
      "  alpha = trial.suggest_loguniform('alpha', 1e-5, 1e-1)\n",
      "[I 2024-04-03 22:15:45,711] Trial 80 finished with value: 0.8218593431063277 and parameters: {'alpha': 0.031121256500933458}. Best is trial 51 with value: 0.8522917053256633.\n",
      "C:\\Users\\jcarv\\AppData\\Local\\Temp\\ipykernel_57496\\3324414873.py:9: FutureWarning: suggest_loguniform has been deprecated in v3.0.0. This feature will be removed in v6.0.0. See https://github.com/optuna/optuna/releases/tag/v3.0.0. Use suggest_float(..., log=True) instead.\n",
      "  alpha = trial.suggest_loguniform('alpha', 1e-5, 1e-1)\n",
      "[I 2024-04-03 22:15:45,739] Trial 81 finished with value: 0.8509927630358137 and parameters: {'alpha': 0.09659827996723276}. Best is trial 51 with value: 0.8522917053256633.\n",
      "C:\\Users\\jcarv\\AppData\\Local\\Temp\\ipykernel_57496\\3324414873.py:9: FutureWarning: suggest_loguniform has been deprecated in v3.0.0. This feature will be removed in v6.0.0. See https://github.com/optuna/optuna/releases/tag/v3.0.0. Use suggest_float(..., log=True) instead.\n",
      "  alpha = trial.suggest_loguniform('alpha', 1e-5, 1e-1)\n",
      "[I 2024-04-03 22:15:45,770] Trial 82 finished with value: 0.8365188346632029 and parameters: {'alpha': 0.060012956369238674}. Best is trial 51 with value: 0.8522917053256633.\n",
      "C:\\Users\\jcarv\\AppData\\Local\\Temp\\ipykernel_57496\\3324414873.py:9: FutureWarning: suggest_loguniform has been deprecated in v3.0.0. This feature will be removed in v6.0.0. See https://github.com/optuna/optuna/releases/tag/v3.0.0. Use suggest_float(..., log=True) instead.\n",
      "  alpha = trial.suggest_loguniform('alpha', 1e-5, 1e-1)\n",
      "[I 2024-04-03 22:15:45,797] Trial 83 finished with value: 0.8521061421413991 and parameters: {'alpha': 0.09991531256355189}. Best is trial 51 with value: 0.8522917053256633.\n",
      "C:\\Users\\jcarv\\AppData\\Local\\Temp\\ipykernel_57496\\3324414873.py:9: FutureWarning: suggest_loguniform has been deprecated in v3.0.0. This feature will be removed in v6.0.0. See https://github.com/optuna/optuna/releases/tag/v3.0.0. Use suggest_float(..., log=True) instead.\n",
      "  alpha = trial.suggest_loguniform('alpha', 1e-5, 1e-1)\n",
      "[I 2024-04-03 22:15:45,836] Trial 84 finished with value: 0.8439413620337725 and parameters: {'alpha': 0.07409739323387421}. Best is trial 51 with value: 0.8522917053256633.\n",
      "C:\\Users\\jcarv\\AppData\\Local\\Temp\\ipykernel_57496\\3324414873.py:9: FutureWarning: suggest_loguniform has been deprecated in v3.0.0. This feature will be removed in v6.0.0. See https://github.com/optuna/optuna/releases/tag/v3.0.0. Use suggest_float(..., log=True) instead.\n",
      "  alpha = trial.suggest_loguniform('alpha', 1e-5, 1e-1)\n",
      "[I 2024-04-03 22:15:45,882] Trial 85 finished with value: 0.8300241232139544 and parameters: {'alpha': 0.04598450538362843}. Best is trial 51 with value: 0.8522917053256633.\n",
      "C:\\Users\\jcarv\\AppData\\Local\\Temp\\ipykernel_57496\\3324414873.py:9: FutureWarning: suggest_loguniform has been deprecated in v3.0.0. This feature will be removed in v6.0.0. See https://github.com/optuna/optuna/releases/tag/v3.0.0. Use suggest_float(..., log=True) instead.\n",
      "  alpha = trial.suggest_loguniform('alpha', 1e-5, 1e-1)\n",
      "[I 2024-04-03 22:15:45,930] Trial 86 finished with value: 0.8517350157728707 and parameters: {'alpha': 0.09859742968455087}. Best is trial 51 with value: 0.8522917053256633.\n",
      "C:\\Users\\jcarv\\AppData\\Local\\Temp\\ipykernel_57496\\3324414873.py:9: FutureWarning: suggest_loguniform has been deprecated in v3.0.0. This feature will be removed in v6.0.0. See https://github.com/optuna/optuna/releases/tag/v3.0.0. Use suggest_float(..., log=True) instead.\n",
      "  alpha = trial.suggest_loguniform('alpha', 1e-5, 1e-1)\n",
      "[I 2024-04-03 22:15:45,976] Trial 87 finished with value: 0.8344776396362962 and parameters: {'alpha': 0.05719897077442419}. Best is trial 51 with value: 0.8522917053256633.\n",
      "C:\\Users\\jcarv\\AppData\\Local\\Temp\\ipykernel_57496\\3324414873.py:9: FutureWarning: suggest_loguniform has been deprecated in v3.0.0. This feature will be removed in v6.0.0. See https://github.com/optuna/optuna/releases/tag/v3.0.0. Use suggest_float(..., log=True) instead.\n",
      "  alpha = trial.suggest_loguniform('alpha', 1e-5, 1e-1)\n",
      "[I 2024-04-03 22:15:46,015] Trial 88 finished with value: 0.8452403043236222 and parameters: {'alpha': 0.07747237857085129}. Best is trial 51 with value: 0.8522917053256633.\n",
      "C:\\Users\\jcarv\\AppData\\Local\\Temp\\ipykernel_57496\\3324414873.py:9: FutureWarning: suggest_loguniform has been deprecated in v3.0.0. This feature will be removed in v6.0.0. See https://github.com/optuna/optuna/releases/tag/v3.0.0. Use suggest_float(..., log=True) instead.\n",
      "  alpha = trial.suggest_loguniform('alpha', 1e-5, 1e-1)\n",
      "[I 2024-04-03 22:15:46,053] Trial 89 finished with value: 0.8457969938764149 and parameters: {'alpha': 0.07971539870060382}. Best is trial 51 with value: 0.8522917053256633.\n",
      "C:\\Users\\jcarv\\AppData\\Local\\Temp\\ipykernel_57496\\3324414873.py:9: FutureWarning: suggest_loguniform has been deprecated in v3.0.0. This feature will be removed in v6.0.0. See https://github.com/optuna/optuna/releases/tag/v3.0.0. Use suggest_float(..., log=True) instead.\n",
      "  alpha = trial.suggest_loguniform('alpha', 1e-5, 1e-1)\n",
      "[I 2024-04-03 22:15:46,088] Trial 90 finished with value: 0.837446650584524 and parameters: {'alpha': 0.06043373420732678}. Best is trial 51 with value: 0.8522917053256633.\n",
      "C:\\Users\\jcarv\\AppData\\Local\\Temp\\ipykernel_57496\\3324414873.py:9: FutureWarning: suggest_loguniform has been deprecated in v3.0.0. This feature will be removed in v6.0.0. See https://github.com/optuna/optuna/releases/tag/v3.0.0. Use suggest_float(..., log=True) instead.\n",
      "  alpha = trial.suggest_loguniform('alpha', 1e-5, 1e-1)\n",
      "[I 2024-04-03 22:15:46,120] Trial 91 finished with value: 0.8515494525886064 and parameters: {'alpha': 0.09805314388551735}. Best is trial 51 with value: 0.8522917053256633.\n",
      "C:\\Users\\jcarv\\AppData\\Local\\Temp\\ipykernel_57496\\3324414873.py:9: FutureWarning: suggest_loguniform has been deprecated in v3.0.0. This feature will be removed in v6.0.0. See https://github.com/optuna/optuna/releases/tag/v3.0.0. Use suggest_float(..., log=True) instead.\n",
      "  alpha = trial.suggest_loguniform('alpha', 1e-5, 1e-1)\n",
      "[I 2024-04-03 22:15:46,154] Trial 92 finished with value: 0.8508071998515494 and parameters: {'alpha': 0.0963416505767989}. Best is trial 51 with value: 0.8522917053256633.\n",
      "C:\\Users\\jcarv\\AppData\\Local\\Temp\\ipykernel_57496\\3324414873.py:9: FutureWarning: suggest_loguniform has been deprecated in v3.0.0. This feature will be removed in v6.0.0. See https://github.com/optuna/optuna/releases/tag/v3.0.0. Use suggest_float(..., log=True) instead.\n",
      "  alpha = trial.suggest_loguniform('alpha', 1e-5, 1e-1)\n",
      "[I 2024-04-03 22:15:46,191] Trial 93 finished with value: 0.8250139172388198 and parameters: {'alpha': 0.03613795324861709}. Best is trial 51 with value: 0.8522917053256633.\n",
      "C:\\Users\\jcarv\\AppData\\Local\\Temp\\ipykernel_57496\\3324414873.py:9: FutureWarning: suggest_loguniform has been deprecated in v3.0.0. This feature will be removed in v6.0.0. See https://github.com/optuna/optuna/releases/tag/v3.0.0. Use suggest_float(..., log=True) instead.\n",
      "  alpha = trial.suggest_loguniform('alpha', 1e-5, 1e-1)\n",
      "[I 2024-04-03 22:15:46,227] Trial 94 finished with value: 0.8457969938764149 and parameters: {'alpha': 0.0797180746575695}. Best is trial 51 with value: 0.8522917053256633.\n",
      "C:\\Users\\jcarv\\AppData\\Local\\Temp\\ipykernel_57496\\3324414873.py:9: FutureWarning: suggest_loguniform has been deprecated in v3.0.0. This feature will be removed in v6.0.0. See https://github.com/optuna/optuna/releases/tag/v3.0.0. Use suggest_float(..., log=True) instead.\n",
      "  alpha = trial.suggest_loguniform('alpha', 1e-5, 1e-1)\n",
      "[I 2024-04-03 22:15:46,266] Trial 95 finished with value: 0.7376136574503619 and parameters: {'alpha': 1.2468087148000803e-05}. Best is trial 51 with value: 0.8522917053256633.\n",
      "C:\\Users\\jcarv\\AppData\\Local\\Temp\\ipykernel_57496\\3324414873.py:9: FutureWarning: suggest_loguniform has been deprecated in v3.0.0. This feature will be removed in v6.0.0. See https://github.com/optuna/optuna/releases/tag/v3.0.0. Use suggest_float(..., log=True) instead.\n",
      "  alpha = trial.suggest_loguniform('alpha', 1e-5, 1e-1)\n",
      "[I 2024-04-03 22:15:46,300] Trial 96 finished with value: 0.8318797550565967 and parameters: {'alpha': 0.050030629913385506}. Best is trial 51 with value: 0.8522917053256633.\n",
      "C:\\Users\\jcarv\\AppData\\Local\\Temp\\ipykernel_57496\\3324414873.py:9: FutureWarning: suggest_loguniform has been deprecated in v3.0.0. This feature will be removed in v6.0.0. See https://github.com/optuna/optuna/releases/tag/v3.0.0. Use suggest_float(..., log=True) instead.\n",
      "  alpha = trial.suggest_loguniform('alpha', 1e-5, 1e-1)\n",
      "[I 2024-04-03 22:15:46,345] Trial 97 finished with value: 0.8380033401373168 and parameters: {'alpha': 0.06083949962932438}. Best is trial 51 with value: 0.8522917053256633.\n",
      "C:\\Users\\jcarv\\AppData\\Local\\Temp\\ipykernel_57496\\3324414873.py:9: FutureWarning: suggest_loguniform has been deprecated in v3.0.0. This feature will be removed in v6.0.0. See https://github.com/optuna/optuna/releases/tag/v3.0.0. Use suggest_float(..., log=True) instead.\n",
      "  alpha = trial.suggest_loguniform('alpha', 1e-5, 1e-1)\n",
      "[I 2024-04-03 22:15:46,378] Trial 98 finished with value: 0.8469103729820003 and parameters: {'alpha': 0.08263350778537248}. Best is trial 51 with value: 0.8522917053256633.\n",
      "C:\\Users\\jcarv\\AppData\\Local\\Temp\\ipykernel_57496\\3324414873.py:9: FutureWarning: suggest_loguniform has been deprecated in v3.0.0. This feature will be removed in v6.0.0. See https://github.com/optuna/optuna/releases/tag/v3.0.0. Use suggest_float(..., log=True) instead.\n",
      "  alpha = trial.suggest_loguniform('alpha', 1e-5, 1e-1)\n",
      "[I 2024-04-03 22:15:46,416] Trial 99 finished with value: 0.8281684913713119 and parameters: {'alpha': 0.041690253844305754}. Best is trial 51 with value: 0.8522917053256633.\n"
     ]
    },
    {
     "name": "stdout",
     "output_type": "stream",
     "text": [
      "{'alpha': 0.09965020089826075}\n"
     ]
    }
   ],
   "source": [
    "# import optuna\n",
    "# from sklearn.naive_bayes import MultinomialNB\n",
    "# from sklearn.metrics import accuracy_score, classification_report, confusion_matrix\n",
    "# from sklearn.model_selection import train_test_split\n",
    "# \n",
    "# # Define objective function for Optuna\n",
    "# def objective(trial):\n",
    "#     # Define hyperparameters to optimize\n",
    "#     alpha = trial.suggest_loguniform('alpha', 1e-5, 1e-1)\n",
    "# \n",
    "#     \n",
    "#     # Instantiate Naive Bayes classifier with hyperparameters\n",
    "#     mnb_classifier = MultinomialNB(alpha=alpha)\n",
    "# \n",
    "#     \n",
    "#     # Train classifier\n",
    "#     mnb_classifier.fit(x_train, y_train)\n",
    "#     \n",
    "#     # Predict on validation set\n",
    "#     y_pred = mnb_classifier.predict(x_val)\n",
    "#     \n",
    "#     # Calculate accuracy score\n",
    "#     accuracy = accuracy_score(y_val, y_pred)\n",
    "#     \n",
    "#     return accuracy\n",
    "# \n",
    "# # Create Optuna study\n",
    "# study = optuna.create_study(direction='maximize')\n",
    "# study.optimize(objective, n_trials=100)\n",
    "# \n",
    "# # Get best hyperparameters\n",
    "# best_params = study.best_params\n",
    "# \n",
    "# print(best_params)\n"
   ],
   "metadata": {
    "collapsed": false,
    "ExecuteTime": {
     "end_time": "2024-04-03T21:15:46.421091Z",
     "start_time": "2024-04-03T21:15:42.731357Z"
    }
   },
   "execution_count": 62
  },
  {
   "cell_type": "code",
   "outputs": [
    {
     "name": "stdout",
     "output_type": "stream",
     "text": [
      "Multinomial Naive Bayes Classifier Evaluation:\n",
      "Accuracy: 0.8942289849693821\n",
      "Classification Report:\n",
      "               precision    recall  f1-score   support\n",
      "\n",
      "           0       0.92      0.88      0.90       902\n",
      "           1       0.92      0.82      0.87       865\n",
      "           2       0.86      0.96      0.90       904\n",
      "           3       0.91      0.91      0.91       881\n",
      "           4       0.89      0.85      0.87       931\n",
      "           5       0.87      0.94      0.90       906\n",
      "\n",
      "    accuracy                           0.89      5389\n",
      "   macro avg       0.90      0.89      0.89      5389\n",
      "weighted avg       0.90      0.89      0.89      5389\n"
     ]
    }
   ],
   "source": [
    "from sklearn.naive_bayes import MultinomialNB\n",
    "\n",
    "hyperparameters = {'alpha': 0.09965020089826075}\n",
    "mnb_classifier = MultinomialNB()\n",
    "mnb_classifier.fit(x_train, y_train)\n",
    "y_pred_mnb = mnb_classifier.predict(x_val)\n",
    "\n",
    "# Evaluate the performance for Multinomial Naive Bayes\n",
    "accuracy_mnb = accuracy_score(y_val, y_pred_mnb)\n",
    "report_mnb = classification_report(y_val, y_pred_mnb)\n",
    "conf_matrix_mnb = confusion_matrix(y_val, y_pred_mnb)\n",
    "\n",
    "# Print the evaluation metrics for Multinomial Naive Bayes\n",
    "print(\"Multinomial Naive Bayes Classifier Evaluation:\")\n",
    "print(\"Accuracy:\", accuracy_mnb)\n",
    "print(\"Classification Report:\\n\", report_mnb)"
   ],
   "metadata": {
    "collapsed": false,
    "ExecuteTime": {
     "end_time": "2024-04-03T21:16:14.458909Z",
     "start_time": "2024-04-03T21:16:14.415509Z"
    }
   },
   "execution_count": 63
  },
  {
   "cell_type": "code",
   "outputs": [
    {
     "name": "stdout",
     "output_type": "stream",
     "text": [
      "Multinomial Naive Bayes Classifier Evaluation:\n",
      "Accuracy: 0.8944444444444445\n",
      "Classification Report:\n",
      "               precision    recall  f1-score   support\n",
      "\n",
      "           0       0.96      0.90      0.93      1566\n",
      "           1       0.97      0.85      0.91      1836\n",
      "           2       0.69      0.97      0.81       432\n",
      "           3       0.87      0.90      0.89       756\n",
      "           4       0.87      0.93      0.90       594\n",
      "           5       0.71      0.96      0.81       216\n",
      "\n",
      "    accuracy                           0.89      5400\n",
      "   macro avg       0.84      0.92      0.87      5400\n",
      "weighted avg       0.91      0.89      0.90      5400\n"
     ]
    }
   ],
   "source": [
    "y_pred_mnb = mnb_classifier.predict(x_val)\n",
    "\n",
    "# Evaluate the performance for Multinomial Naive Bayes\n",
    "accuracy_mnb = accuracy_score(y_val, y_pred_mnb)\n",
    "report_mnb = classification_report(y_val, y_pred_mnb)\n",
    "conf_matrix_mnb = confusion_matrix(y_val, y_pred_mnb)\n",
    "\n",
    "# Print the evaluation metrics for Multinomial Naive Bayes\n",
    "print(\"Multinomial Naive Bayes Classifier Evaluation:\")\n",
    "print(\"Accuracy:\", accuracy_mnb)\n",
    "print(\"Classification Report:\\n\", report_mnb)"
   ],
   "metadata": {
    "collapsed": false,
    "ExecuteTime": {
     "end_time": "2024-04-03T21:25:10.635354Z",
     "start_time": "2024-04-03T21:25:10.615023Z"
    }
   },
   "execution_count": 72
  },
  {
   "cell_type": "code",
   "outputs": [
    {
     "ename": "TypeError",
     "evalue": "A sparse matrix was passed, but dense data is required. Use X.toarray() to convert to a dense numpy array.",
     "output_type": "error",
     "traceback": [
      "\u001B[1;31m---------------------------------------------------------------------------\u001B[0m",
      "\u001B[1;31mTypeError\u001B[0m                                 Traceback (most recent call last)",
      "Cell \u001B[1;32mIn[37], line 5\u001B[0m\n\u001B[0;32m      3\u001B[0m gnb_classifier \u001B[38;5;241m=\u001B[39m GaussianNB()\n\u001B[0;32m      4\u001B[0m gnb_classifier\u001B[38;5;241m.\u001B[39mfit(x_train\u001B[38;5;241m.\u001B[39mtoarray(), y_train)\n\u001B[1;32m----> 5\u001B[0m y_pred_gnb \u001B[38;5;241m=\u001B[39m \u001B[43mgnb_classifier\u001B[49m\u001B[38;5;241;43m.\u001B[39;49m\u001B[43mpredict\u001B[49m\u001B[43m(\u001B[49m\u001B[43mx_val\u001B[49m\u001B[43m)\u001B[49m\n\u001B[0;32m      7\u001B[0m \u001B[38;5;66;03m# Evaluate the performance for Gaussian Naive Bayes\u001B[39;00m\n\u001B[0;32m      8\u001B[0m accuracy_gnb \u001B[38;5;241m=\u001B[39m accuracy_score(y_val, y_pred_gnb)\n",
      "File \u001B[1;32mC:\\Python311\\Lib\\site-packages\\sklearn\\naive_bayes.py:101\u001B[0m, in \u001B[0;36m_BaseNB.predict\u001B[1;34m(self, X)\u001B[0m\n\u001B[0;32m     87\u001B[0m \u001B[38;5;250m\u001B[39m\u001B[38;5;124;03m\"\"\"\u001B[39;00m\n\u001B[0;32m     88\u001B[0m \u001B[38;5;124;03mPerform classification on an array of test vectors X.\u001B[39;00m\n\u001B[0;32m     89\u001B[0m \n\u001B[1;32m   (...)\u001B[0m\n\u001B[0;32m     98\u001B[0m \u001B[38;5;124;03m    Predicted target values for X.\u001B[39;00m\n\u001B[0;32m     99\u001B[0m \u001B[38;5;124;03m\"\"\"\u001B[39;00m\n\u001B[0;32m    100\u001B[0m check_is_fitted(\u001B[38;5;28mself\u001B[39m)\n\u001B[1;32m--> 101\u001B[0m X \u001B[38;5;241m=\u001B[39m \u001B[38;5;28;43mself\u001B[39;49m\u001B[38;5;241;43m.\u001B[39;49m\u001B[43m_check_X\u001B[49m\u001B[43m(\u001B[49m\u001B[43mX\u001B[49m\u001B[43m)\u001B[49m\n\u001B[0;32m    102\u001B[0m jll \u001B[38;5;241m=\u001B[39m \u001B[38;5;28mself\u001B[39m\u001B[38;5;241m.\u001B[39m_joint_log_likelihood(X)\n\u001B[0;32m    103\u001B[0m \u001B[38;5;28;01mreturn\u001B[39;00m \u001B[38;5;28mself\u001B[39m\u001B[38;5;241m.\u001B[39mclasses_[np\u001B[38;5;241m.\u001B[39margmax(jll, axis\u001B[38;5;241m=\u001B[39m\u001B[38;5;241m1\u001B[39m)]\n",
      "File \u001B[1;32mC:\\Python311\\Lib\\site-packages\\sklearn\\naive_bayes.py:269\u001B[0m, in \u001B[0;36mGaussianNB._check_X\u001B[1;34m(self, X)\u001B[0m\n\u001B[0;32m    267\u001B[0m \u001B[38;5;28;01mdef\u001B[39;00m \u001B[38;5;21m_check_X\u001B[39m(\u001B[38;5;28mself\u001B[39m, X):\n\u001B[0;32m    268\u001B[0m \u001B[38;5;250m    \u001B[39m\u001B[38;5;124;03m\"\"\"Validate X, used only in predict* methods.\"\"\"\u001B[39;00m\n\u001B[1;32m--> 269\u001B[0m     \u001B[38;5;28;01mreturn\u001B[39;00m \u001B[38;5;28;43mself\u001B[39;49m\u001B[38;5;241;43m.\u001B[39;49m\u001B[43m_validate_data\u001B[49m\u001B[43m(\u001B[49m\u001B[43mX\u001B[49m\u001B[43m,\u001B[49m\u001B[43m \u001B[49m\u001B[43mreset\u001B[49m\u001B[38;5;241;43m=\u001B[39;49m\u001B[38;5;28;43;01mFalse\u001B[39;49;00m\u001B[43m)\u001B[49m\n",
      "File \u001B[1;32mC:\\Python311\\Lib\\site-packages\\sklearn\\base.py:605\u001B[0m, in \u001B[0;36mBaseEstimator._validate_data\u001B[1;34m(self, X, y, reset, validate_separately, cast_to_ndarray, **check_params)\u001B[0m\n\u001B[0;32m    603\u001B[0m         out \u001B[38;5;241m=\u001B[39m X, y\n\u001B[0;32m    604\u001B[0m \u001B[38;5;28;01melif\u001B[39;00m \u001B[38;5;129;01mnot\u001B[39;00m no_val_X \u001B[38;5;129;01mand\u001B[39;00m no_val_y:\n\u001B[1;32m--> 605\u001B[0m     out \u001B[38;5;241m=\u001B[39m \u001B[43mcheck_array\u001B[49m\u001B[43m(\u001B[49m\u001B[43mX\u001B[49m\u001B[43m,\u001B[49m\u001B[43m \u001B[49m\u001B[43minput_name\u001B[49m\u001B[38;5;241;43m=\u001B[39;49m\u001B[38;5;124;43m\"\u001B[39;49m\u001B[38;5;124;43mX\u001B[39;49m\u001B[38;5;124;43m\"\u001B[39;49m\u001B[43m,\u001B[49m\u001B[43m \u001B[49m\u001B[38;5;241;43m*\u001B[39;49m\u001B[38;5;241;43m*\u001B[39;49m\u001B[43mcheck_params\u001B[49m\u001B[43m)\u001B[49m\n\u001B[0;32m    606\u001B[0m \u001B[38;5;28;01melif\u001B[39;00m no_val_X \u001B[38;5;129;01mand\u001B[39;00m \u001B[38;5;129;01mnot\u001B[39;00m no_val_y:\n\u001B[0;32m    607\u001B[0m     out \u001B[38;5;241m=\u001B[39m _check_y(y, \u001B[38;5;241m*\u001B[39m\u001B[38;5;241m*\u001B[39mcheck_params)\n",
      "File \u001B[1;32mC:\\Python311\\Lib\\site-packages\\sklearn\\utils\\validation.py:881\u001B[0m, in \u001B[0;36mcheck_array\u001B[1;34m(array, accept_sparse, accept_large_sparse, dtype, order, copy, force_all_finite, ensure_2d, allow_nd, ensure_min_samples, ensure_min_features, estimator, input_name)\u001B[0m\n\u001B[0;32m    879\u001B[0m \u001B[38;5;28;01mif\u001B[39;00m sp\u001B[38;5;241m.\u001B[39missparse(array):\n\u001B[0;32m    880\u001B[0m     _ensure_no_complex_data(array)\n\u001B[1;32m--> 881\u001B[0m     array \u001B[38;5;241m=\u001B[39m \u001B[43m_ensure_sparse_format\u001B[49m\u001B[43m(\u001B[49m\n\u001B[0;32m    882\u001B[0m \u001B[43m        \u001B[49m\u001B[43marray\u001B[49m\u001B[43m,\u001B[49m\n\u001B[0;32m    883\u001B[0m \u001B[43m        \u001B[49m\u001B[43maccept_sparse\u001B[49m\u001B[38;5;241;43m=\u001B[39;49m\u001B[43maccept_sparse\u001B[49m\u001B[43m,\u001B[49m\n\u001B[0;32m    884\u001B[0m \u001B[43m        \u001B[49m\u001B[43mdtype\u001B[49m\u001B[38;5;241;43m=\u001B[39;49m\u001B[43mdtype\u001B[49m\u001B[43m,\u001B[49m\n\u001B[0;32m    885\u001B[0m \u001B[43m        \u001B[49m\u001B[43mcopy\u001B[49m\u001B[38;5;241;43m=\u001B[39;49m\u001B[43mcopy\u001B[49m\u001B[43m,\u001B[49m\n\u001B[0;32m    886\u001B[0m \u001B[43m        \u001B[49m\u001B[43mforce_all_finite\u001B[49m\u001B[38;5;241;43m=\u001B[39;49m\u001B[43mforce_all_finite\u001B[49m\u001B[43m,\u001B[49m\n\u001B[0;32m    887\u001B[0m \u001B[43m        \u001B[49m\u001B[43maccept_large_sparse\u001B[49m\u001B[38;5;241;43m=\u001B[39;49m\u001B[43maccept_large_sparse\u001B[49m\u001B[43m,\u001B[49m\n\u001B[0;32m    888\u001B[0m \u001B[43m        \u001B[49m\u001B[43mestimator_name\u001B[49m\u001B[38;5;241;43m=\u001B[39;49m\u001B[43mestimator_name\u001B[49m\u001B[43m,\u001B[49m\n\u001B[0;32m    889\u001B[0m \u001B[43m        \u001B[49m\u001B[43minput_name\u001B[49m\u001B[38;5;241;43m=\u001B[39;49m\u001B[43minput_name\u001B[49m\u001B[43m,\u001B[49m\n\u001B[0;32m    890\u001B[0m \u001B[43m    \u001B[49m\u001B[43m)\u001B[49m\n\u001B[0;32m    891\u001B[0m \u001B[38;5;28;01melse\u001B[39;00m:\n\u001B[0;32m    892\u001B[0m     \u001B[38;5;66;03m# If np.array(..) gives ComplexWarning, then we convert the warning\u001B[39;00m\n\u001B[0;32m    893\u001B[0m     \u001B[38;5;66;03m# to an error. This is needed because specifying a non complex\u001B[39;00m\n\u001B[0;32m    894\u001B[0m     \u001B[38;5;66;03m# dtype to the function converts complex to real dtype,\u001B[39;00m\n\u001B[0;32m    895\u001B[0m     \u001B[38;5;66;03m# thereby passing the test made in the lines following the scope\u001B[39;00m\n\u001B[0;32m    896\u001B[0m     \u001B[38;5;66;03m# of warnings context manager.\u001B[39;00m\n\u001B[0;32m    897\u001B[0m     \u001B[38;5;28;01mwith\u001B[39;00m warnings\u001B[38;5;241m.\u001B[39mcatch_warnings():\n",
      "File \u001B[1;32mC:\\Python311\\Lib\\site-packages\\sklearn\\utils\\validation.py:532\u001B[0m, in \u001B[0;36m_ensure_sparse_format\u001B[1;34m(spmatrix, accept_sparse, dtype, copy, force_all_finite, accept_large_sparse, estimator_name, input_name)\u001B[0m\n\u001B[0;32m    529\u001B[0m _check_large_sparse(spmatrix, accept_large_sparse)\n\u001B[0;32m    531\u001B[0m \u001B[38;5;28;01mif\u001B[39;00m accept_sparse \u001B[38;5;129;01mis\u001B[39;00m \u001B[38;5;28;01mFalse\u001B[39;00m:\n\u001B[1;32m--> 532\u001B[0m     \u001B[38;5;28;01mraise\u001B[39;00m \u001B[38;5;167;01mTypeError\u001B[39;00m(\n\u001B[0;32m    533\u001B[0m         \u001B[38;5;124m\"\u001B[39m\u001B[38;5;124mA sparse matrix was passed, but dense \u001B[39m\u001B[38;5;124m\"\u001B[39m\n\u001B[0;32m    534\u001B[0m         \u001B[38;5;124m\"\u001B[39m\u001B[38;5;124mdata is required. Use X.toarray() to \u001B[39m\u001B[38;5;124m\"\u001B[39m\n\u001B[0;32m    535\u001B[0m         \u001B[38;5;124m\"\u001B[39m\u001B[38;5;124mconvert to a dense numpy array.\u001B[39m\u001B[38;5;124m\"\u001B[39m\n\u001B[0;32m    536\u001B[0m     )\n\u001B[0;32m    537\u001B[0m \u001B[38;5;28;01melif\u001B[39;00m \u001B[38;5;28misinstance\u001B[39m(accept_sparse, (\u001B[38;5;28mlist\u001B[39m, \u001B[38;5;28mtuple\u001B[39m)):\n\u001B[0;32m    538\u001B[0m     \u001B[38;5;28;01mif\u001B[39;00m \u001B[38;5;28mlen\u001B[39m(accept_sparse) \u001B[38;5;241m==\u001B[39m \u001B[38;5;241m0\u001B[39m:\n",
      "\u001B[1;31mTypeError\u001B[0m: A sparse matrix was passed, but dense data is required. Use X.toarray() to convert to a dense numpy array."
     ]
    }
   ],
   "source": [
    "# não dá com tfidf por ser esparso\n",
    "from sklearn.naive_bayes import GaussianNB\n",
    "\n",
    "gnb_classifier = GaussianNB()\n",
    "gnb_classifier.fit(x_train, y_train)\n",
    "\n"
   ],
   "metadata": {
    "collapsed": false,
    "ExecuteTime": {
     "end_time": "2024-04-03T17:54:53.350733Z",
     "start_time": "2024-04-03T17:53:43.314362Z"
    }
   },
   "execution_count": 37
  },
  {
   "cell_type": "code",
   "outputs": [],
   "source": [
    "y_pred_gnb = gnb_classifier.predict(x_val)\n",
    "\n",
    "# Evaluate the performance for Gaussian Naive Bayes\n",
    "accuracy_gnb = accuracy_score(y_val, y_pred_gnb)\n",
    "report_gnb = classification_report(y_val, y_pred_gnb)\n",
    "conf_matrix_gnb = confusion_matrix(y_val, y_pred_gnb)\n",
    "\n",
    "# Print the evaluation metrics for Gaussian Naive Bayes\n",
    "print(\"Gaussian Naive Bayes Classifier Evaluation:\")\n",
    "print(\"Accuracy:\", accuracy_gnb)\n",
    "print(\"Classification Report:\\n\", report_gnb)\n",
    "print(\"Confusion Matrix:\\n\", conf_matrix_gnb)"
   ],
   "metadata": {
    "collapsed": false
   }
  },
  {
   "cell_type": "markdown",
   "source": [
    "### Random Forest"
   ],
   "metadata": {
    "collapsed": false
   }
  },
  {
   "cell_type": "markdown",
   "source": [
    "##### Hypertunning"
   ],
   "metadata": {
    "collapsed": false
   }
  },
  {
   "cell_type": "code",
   "outputs": [],
   "source": [
    "# import optuna\n",
    "# from sklearn.ensemble import RandomForestClassifier\n",
    "# from sklearn.metrics import accuracy_score\n",
    "\n",
    "# # Define the objective function for Optuna\n",
    "# def objective(trial):\n",
    "#     # Define hyperparameters to optimize\n",
    "#     n_estimators = trial.suggest_int('n_estimators', 100, 1000)\n",
    "#     max_depth = trial.suggest_int('max_depth', 10, 100)\n",
    "#     min_samples_split = trial.suggest_int('min_samples_split', 2, 10)\n",
    "#     min_samples_leaf = trial.suggest_int('min_samples_leaf', 1, 5)\n",
    "\n",
    "    \n",
    "#     # Instantiate Random Forest classifier with hyperparameters\n",
    "#     rf_classifier = RandomForestClassifier(n_estimators=n_estimators, max_depth=max_depth, min_samples_split=min_samples_split, min_samples_leaf=min_samples_leaf)\n",
    "\n",
    "#     # Train classifier\n",
    "#     rf_classifier.fit(x_train, y_train)\n",
    "\n",
    "#     # Predict on validation set\n",
    "#     y_pred = rf_classifier.predict(x_val)\n",
    "        \n",
    "#     # Calculate accuracy score\n",
    "#     accuracy = accuracy_score(y_val, y_pred)\n",
    "\n",
    "#     return accuracy\n",
    "\n",
    "# # Create Optuna study\n",
    "# study = optuna.create_study(direction='maximize')\n",
    "# study.optimize(objective, n_trials=100)\n",
    "\n",
    "# # Get best hyperparameters\n",
    "# best_params = study.best_params\n",
    "\n",
    "# print(best_params)"
   ],
   "metadata": {
    "collapsed": false
   }
  },
  {
   "cell_type": "code",
   "outputs": [
    {
     "name": "stdout",
     "output_type": "stream",
     "text": [
      "Random Forest Classifier Evaluation:\n",
      "Accuracy: 0.9062905919465578\n",
      "Classification Report:\n",
      "               precision    recall  f1-score   support\n",
      "\n",
      "           0       0.95      0.89      0.92       902\n",
      "           1       0.93      0.86      0.89       865\n",
      "           2       0.89      0.97      0.93       904\n",
      "           3       0.91      0.92      0.92       881\n",
      "           4       0.87      0.86      0.87       931\n",
      "           5       0.89      0.94      0.91       906\n",
      "\n",
      "    accuracy                           0.91      5389\n",
      "   macro avg       0.91      0.91      0.91      5389\n",
      "weighted avg       0.91      0.91      0.91      5389\n",
      "\n",
      "Confusion Matrix:\n",
      " [[805  13  14  37  25   8]\n",
      " [ 11 741  83   9   7  14]\n",
      " [  1  23 875   1   0   4]\n",
      " [ 18   7   6 811  36   3]\n",
      " [ 10   5   6  31 798  81]\n",
      " [  0   5   0   0  47 854]]\n"
     ]
    }
   ],
   "source": [
    "from sklearn.ensemble import RandomForestClassifier\n",
    "\n",
    "# hyperparameters = {'n_estimators': 100, 'max_depth': 10, 'min_samples_split': 2, 'min_samples_leaf': 1}  # placeholders\n",
    "# rf_classifier = RandomForestClassifier(**hyperparameters)\n",
    "rf_classifier = RandomForestClassifier()\n",
    "rf_classifier.fit(x_train, y_train)\n"
   ],
   "metadata": {
    "collapsed": false,
    "ExecuteTime": {
     "end_time": "2024-04-03T18:07:26.885914Z",
     "start_time": "2024-04-03T17:55:41.925338Z"
    }
   },
   "execution_count": 38
  },
  {
   "cell_type": "code",
   "outputs": [
    {
     "name": "stdout",
     "output_type": "stream",
     "text": [
      "Random Forest Classifier Evaluation:\n",
      "Accuracy: 0.9124074074074074\n",
      "Classification Report:\n",
      "               precision    recall  f1-score   support\n",
      "\n",
      "           0       0.97      0.90      0.93      1566\n",
      "           1       0.98      0.87      0.92      1836\n",
      "           2       0.73      0.98      0.84       432\n",
      "           3       0.88      0.93      0.91       756\n",
      "           4       0.88      0.95      0.91       594\n",
      "           5       0.80      1.00      0.89       216\n",
      "\n",
      "    accuracy                           0.91      5400\n",
      "   macro avg       0.87      0.94      0.90      5400\n",
      "weighted avg       0.92      0.91      0.91      5400\n",
      "\n",
      "Confusion Matrix:\n",
      " [[1413   27   22   58   34   12]\n",
      " [  31 1605  131   24   17   28]\n",
      " [   0    3  425    2    1    1]\n",
      " [   9    7    3  706   27    4]\n",
      " [   7    1    3   12  563    8]\n",
      " [   0    0    0    1    0  215]]\n"
     ]
    }
   ],
   "source": [
    "y_pred_rf = rf_classifier.predict(x_val)\n",
    "\n",
    "# Evaluate the performance for Random Forest\n",
    "accuracy_rf = accuracy_score(y_val, y_pred_rf)\n",
    "report_rf = classification_report(y_val, y_pred_rf)\n",
    "conf_matrix_rf = confusion_matrix(y_val, y_pred_rf)\n",
    "\n",
    "# Print the evaluation metrics for Random Forest\n",
    "print(\"Random Forest Classifier Evaluation:\")\n",
    "print(\"Accuracy:\", accuracy_rf)\n",
    "print(\"Classification Report:\\n\", report_rf)\n",
    "print(\"Confusion Matrix:\\n\", conf_matrix_rf)"
   ],
   "metadata": {
    "collapsed": false,
    "ExecuteTime": {
     "end_time": "2024-04-03T21:25:49.000630Z",
     "start_time": "2024-04-03T21:25:47.668831Z"
    }
   },
   "execution_count": 73
  },
  {
   "cell_type": "markdown",
   "source": [
    "### Neural Network - MLP"
   ],
   "metadata": {
    "collapsed": false
   }
  },
  {
   "cell_type": "markdown",
   "source": [
    "##### Hypertunning"
   ],
   "metadata": {
    "collapsed": false
   }
  },
  {
   "cell_type": "code",
   "outputs": [],
   "source": [
    "# import optuna\n",
    "# from sklearn.neural_network import MLPClassifier\n",
    "# from sklearn.metrics import accuracy_score\n",
    "\n",
    "# # Define the objective function for Optuna\n",
    "# def objective(trial):\n",
    "#     # Define hyperparameters to optimize\n",
    "#     hidden_layer_sizes = trial.suggest_int('hidden_layer_sizes', 1, 100)\n",
    "#     activation = trial.suggest_categorical('activation', ['identity', 'logistic', 'tanh', 'relu'])\n",
    "#     solver = trial.suggest_categorical('solver', ['lbfgs', 'sgd', 'adam'])\n",
    "#     alpha = trial.suggest_loguniform('alpha', 1e-5, 1e-1)\n",
    "    \n",
    "#     # Instantiate MLP classifier with hyperparameters\n",
    "#     mlp_classifier = MLPClassifier(hidden_layer_sizes=(hidden_layer_sizes,), activation=activation, solver=solver, alpha=alpha)\n",
    "\n",
    "#     # Train classifier\n",
    "#     mlp_classifier.fit(x_train, y_train)\n",
    "\n",
    "#     # Predict on validation set\n",
    "#     y_pred = mlp_classifier.predict(x_val)\n",
    "        \n",
    "#     # Calculate accuracy score\n",
    "#     accuracy = accuracy_score(y_val, y_pred)\n",
    "\n",
    "#     return accuracy\n",
    "\n",
    "# # Create Optuna study\n",
    "# study = optuna.create_study(direction='maximize')\n",
    "# study.optimize(objective, n_trials=100)\n",
    "\n",
    "# # Get best hyperparameters\n",
    "# best_params = study.best_params\n",
    "\n",
    "# print(best_params)\n"
   ],
   "metadata": {
    "collapsed": false
   }
  },
  {
   "cell_type": "code",
   "outputs": [
    {
     "name": "stdout",
     "output_type": "stream",
     "text": [
      "Multilayer Perceptron Classifier Evaluation:\n",
      "Accuracy: 0.8871775839673409\n",
      "Classification Report:\n",
      "               precision    recall  f1-score   support\n",
      "\n",
      "           0       0.92      0.92      0.92       902\n",
      "           1       0.88      0.86      0.87       865\n",
      "           2       0.89      0.91      0.90       904\n",
      "           3       0.92      0.90      0.91       881\n",
      "           4       0.82      0.85      0.84       931\n",
      "           5       0.90      0.88      0.89       906\n",
      "\n",
      "    accuracy                           0.89      5389\n",
      "   macro avg       0.89      0.89      0.89      5389\n",
      "weighted avg       0.89      0.89      0.89      5389\n",
      "\n",
      "Confusion Matrix:\n",
      " [[832   6   8  25  28   3]\n",
      " [ 12 741  77  10  11  14]\n",
      " [  3  67 825   4   4   1]\n",
      " [ 34   8   6 797  34   2]\n",
      " [ 27   5   2  34 793  70]\n",
      " [  0  11   4   1  97 793]]\n"
     ]
    }
   ],
   "source": [
    "from sklearn.neural_network import MLPClassifier\n",
    "\n",
    "# hyperparameters = {'hidden_layer_sizes': 100, 'activation': 'relu', 'solver': 'adam', 'alpha': 0.0001} # placeholders\n",
    "# mlp_classifier = MLPClassifier(**hyperparameters)\n",
    "mlp_classifier = MLPClassifier()\n",
    "mlp_classifier.fit(x_train, y_train)\n"
   ],
   "metadata": {
    "collapsed": false,
    "ExecuteTime": {
     "end_time": "2024-04-03T18:50:46.705436Z",
     "start_time": "2024-04-03T18:11:24.306495Z"
    }
   },
   "execution_count": 41
  },
  {
   "cell_type": "code",
   "outputs": [
    {
     "name": "stdout",
     "output_type": "stream",
     "text": [
      "Multilayer Perceptron Classifier Evaluation:\n",
      "Accuracy: 0.9138888888888889\n",
      "Classification Report:\n",
      "               precision    recall  f1-score   support\n",
      "\n",
      "           0       0.95      0.93      0.94      1566\n",
      "           1       0.97      0.89      0.93      1836\n",
      "           2       0.76      0.94      0.84       432\n",
      "           3       0.89      0.92      0.90       756\n",
      "           4       0.85      0.91      0.88       594\n",
      "           5       0.87      0.91      0.89       216\n",
      "\n",
      "    accuracy                           0.91      5400\n",
      "   macro avg       0.88      0.92      0.90      5400\n",
      "weighted avg       0.92      0.91      0.92      5400\n",
      "\n",
      "Confusion Matrix:\n",
      " [[1461   15   11   39   36    4]\n",
      " [  33 1632  115   21   21   14]\n",
      " [   4   20  407    1    0    0]\n",
      " [  22    5    3  696   27    3]\n",
      " [  12    4    1   26  542    9]\n",
      " [   2    3    0    2   12  197]]\n"
     ]
    }
   ],
   "source": [
    "y_pred_mlp = mlp_classifier.predict(x_val)\n",
    "\n",
    "# Evaluate the performance for Multilayer Perceptron\n",
    "accuracy_mlp = accuracy_score(y_val, y_pred_mlp)\n",
    "report_mlp = classification_report(y_val, y_pred_mlp)\n",
    "conf_matrix_mlp = confusion_matrix(y_val, y_pred_mlp)\n",
    "\n",
    "# Print the evaluation metrics for Multilayer Perceptron\n",
    "print(\"Multilayer Perceptron Classifier Evaluation:\")\n",
    "print(\"Accuracy:\", accuracy_mlp)\n",
    "print(\"Classification Report:\\n\", report_mlp)\n",
    "print(\"Confusion Matrix:\\n\", conf_matrix_mlp)\n"
   ],
   "metadata": {
    "collapsed": false,
    "ExecuteTime": {
     "end_time": "2024-04-03T21:26:07.263011Z",
     "start_time": "2024-04-03T21:26:07.215171Z"
    }
   },
   "execution_count": 74
  },
  {
   "cell_type": "markdown",
   "metadata": {
    "collapsed": false
   },
   "source": [
    "###  Bagging Algorithm"
   ]
  },
  {
   "cell_type": "code",
   "execution_count": null,
   "metadata": {
    "collapsed": false
   },
   "outputs": [],
   "source": [
    "# from sklearn.ensemble import BaggingClassifier, VotingClassifier\n",
    "\n",
    "# model1 = xgb_classifier\n",
    "# model2 = svm_classifier\n",
    "# model3 = logreg_classifier\n",
    "\n",
    "# voting_clf = VotingClassifier(estimators=[\n",
    "#     ('model1', model1), \n",
    "#     ('model2', model2),\n",
    "#     ('model3', model3)\n",
    "# ], voting='soft')\n",
    "# # Fit the ensemble model\n",
    "# voting_clf.fit(x_train, y_train)\n",
    "\n",
    "# # Predict the validation set\n",
    "# y_pred_voting = voting_clf.predict(x_val)\n",
    "\n",
    "# # Evaluate the performance for the ensemble model\n",
    "# accuracy_voting = accuracy_score(y_val, y_pred_voting)\n",
    "# report_voting = classification_report(y_val, y_pred_voting)\n",
    "# conf_matrix_voting = confusion_matrix(y_val, y_pred_voting)\n",
    "\n",
    "# # Print the evaluation metrics for the ensemble model\n",
    "# print(\"Voting Classifier Evaluation:\")\n",
    "# print(\"Accuracy:\", accuracy_voting)\n",
    "# print(\"Classification Report:\\n\", report_voting)\n",
    "# print(\"Confusion Matrix:\\n\", conf_matrix_voting)\n"
   ]
  },
  {
   "cell_type": "code",
   "outputs": [],
   "source": [],
   "metadata": {
    "collapsed": false
   }
  },
  {
   "cell_type": "code",
   "outputs": [
    {
     "data": {
      "text/plain": "<Figure size 640x480 with 1 Axes>",
      "image/png": "[encoded data removed]"
     },
     "metadata": {},
     "output_type": "display_data"
    }
   ],
   "source": [
    "from sklearn.model_selection import learning_curve\n",
    "\n",
    "def plot_learning_curves(model, X_train, y_train, cv=5):\n",
    "    train_sizes, train_scores, test_scores = learning_curve(\n",
    "        model, X_train, y_train, cv=cv, n_jobs=-1, \n",
    "        train_sizes=np.linspace(.1, 1.0, 10),\n",
    "        scoring='accuracy'\n",
    "    )\n",
    "\n",
    "    train_scores_mean = np.mean(train_scores, axis=1)\n",
    "    train_scores_std = np.std(train_scores, axis=1)\n",
    "    test_scores_mean = np.mean(test_scores, axis=1)\n",
    "    test_scores_std = np.std(test_scores, axis=1)\n",
    "\n",
    "    plt.figure()\n",
    "    plt.title(\"Learning Curves\")\n",
    "    plt.xlabel(\"Training examples\")\n",
    "    plt.ylabel(\"Score\")\n",
    "    \n",
    "    plt.fill_between(train_sizes, train_scores_mean - train_scores_std,\n",
    "                        train_scores_mean + train_scores_std, alpha=0.1, color=\"r\")\n",
    "    plt.plot(train_sizes, train_scores_mean, 'o-', color=\"r\",\n",
    "                label=\"Training score\")\n",
    "\n",
    "    plt.fill_between(train_sizes, test_scores_mean - test_scores_std,\n",
    "                        test_scores_mean + test_scores_std, alpha=0.1, color=\"g\")\n",
    "    plt.plot(train_sizes, test_scores_mean, 'o-', color=\"g\",\n",
    "                label=\"Cross-validation score\")\n",
    "\n",
    "    plt.legend(loc=\"best\")\n",
    "    return plt\n",
    "\n",
    "\n",
    "model = xgb.XGBClassifier()\n",
    "plot_learning_curves(model, x_train, y_train, cv=5)\n",
    "plt.show()"
   ],
   "metadata": {
    "collapsed": false,
    "ExecuteTime": {
     "end_time": "2024-04-03T19:31:31.135588Z",
     "start_time": "2024-04-03T19:22:09.650677Z"
    }
   },
   "execution_count": 59
  },
  {
   "cell_type": "markdown",
   "metadata": {
    "collapsed": false
   },
   "source": [
    "# 5. Model Evaluation"
   ]
  },
  {
   "cell_type": "code",
   "execution_count": 75,
   "metadata": {
    "collapsed": false,
    "ExecuteTime": {
     "end_time": "2024-04-03T21:26:24.964472Z",
     "start_time": "2024-04-03T21:26:24.942085Z"
    }
   },
   "outputs": [
    {
     "name": "stdout",
     "output_type": "stream",
     "text": [
      "0.8855555555555555\n",
      "              precision    recall  f1-score   support\n",
      "\n",
      "           0       0.95      0.89      0.92      1566\n",
      "           1       0.95      0.84      0.89      1836\n",
      "           2       0.67      0.97      0.79       432\n",
      "           3       0.87      0.90      0.88       756\n",
      "           4       0.84      0.90      0.87       594\n",
      "           5       0.79      1.00      0.88       216\n",
      "\n",
      "    accuracy                           0.89      5400\n",
      "   macro avg       0.85      0.92      0.87      5400\n",
      "weighted avg       0.90      0.89      0.89      5400\n",
      "\n",
      "[[1399   35   30   45   44   13]\n",
      " [  49 1536  157   43   32   19]\n",
      " [   1    4  419    3    2    3]\n",
      " [  11   22   15  677   26    5]\n",
      " [  14   11    9    8  536   16]\n",
      " [   0    1    0    0    0  215]]\n"
     ]
    }
   ],
   "source": [
    "# evaluate with test set\n",
    "y_pred = logreg_classifier.predict(x_test)\n",
    "print(accuracy_score(y_test, y_pred))\n",
    "print(classification_report(y_test, y_pred))\n",
    "print(confusion_matrix(y_test, y_pred))\n",
    "\n",
    "y_pred_logreg = logreg_classifier.predict(x_test)"
   ]
  },
  {
   "cell_type": "code",
   "execution_count": 76,
   "metadata": {
    "collapsed": false,
    "ExecuteTime": {
     "end_time": "2024-04-03T21:26:32.274782Z",
     "start_time": "2024-04-03T21:26:32.250792Z"
    }
   },
   "outputs": [
    {
     "name": "stdout",
     "output_type": "stream",
     "text": [
      "0.8964814814814814\n",
      "              precision    recall  f1-score   support\n",
      "\n",
      "           0       0.97      0.90      0.93      1566\n",
      "           1       0.97      0.85      0.91      1836\n",
      "           2       0.67      0.95      0.79       432\n",
      "           3       0.89      0.92      0.90       756\n",
      "           4       0.85      0.92      0.88       594\n",
      "           5       0.74      0.95      0.83       216\n",
      "\n",
      "    accuracy                           0.90      5400\n",
      "   macro avg       0.85      0.92      0.87      5400\n",
      "weighted avg       0.91      0.90      0.90      5400\n",
      "\n",
      "[[1416   23   27   45   38   17]\n",
      " [  20 1567  159   31   27   32]\n",
      " [   2   13  412    2    2    1]\n",
      " [   9    4   14  696   25    8]\n",
      " [  15    4    4   12  545   14]\n",
      " [   1    5    1    0    4  205]]\n"
     ]
    }
   ],
   "source": [
    "y_pred = mnb_classifier.predict(x_test)\n",
    "print(accuracy_score(y_test, y_pred))\n",
    "print(classification_report(y_test, y_pred))\n",
    "print(confusion_matrix(y_test, y_pred))"
   ]
  },
  {
   "cell_type": "code",
   "execution_count": 77,
   "metadata": {
    "collapsed": false,
    "ExecuteTime": {
     "end_time": "2024-04-03T21:27:00.388787Z",
     "start_time": "2024-04-03T21:26:36.765462Z"
    }
   },
   "outputs": [
    {
     "name": "stdout",
     "output_type": "stream",
     "text": [
      "0.9231481481481482\n",
      "              precision    recall  f1-score   support\n",
      "\n",
      "           0       0.96      0.93      0.94      1566\n",
      "           1       0.96      0.91      0.93      1836\n",
      "           2       0.75      0.97      0.85       432\n",
      "           3       0.92      0.92      0.92       756\n",
      "           4       0.89      0.91      0.90       594\n",
      "           5       0.88      0.97      0.92       216\n",
      "\n",
      "    accuracy                           0.92      5400\n",
      "   macro avg       0.89      0.94      0.91      5400\n",
      "weighted avg       0.93      0.92      0.92      5400\n",
      "\n",
      "[[1450   36    7   41   27    5]\n",
      " [  24 1666  122    7    8    9]\n",
      " [   1    7  420    2    2    0]\n",
      " [  15   11    6  696   26    2]\n",
      " [  13    9    3   13  543   13]\n",
      " [   2    2    0    0    2  210]]\n"
     ]
    }
   ],
   "source": [
    "y_pred = svm_classifier.predict(x_test)\n",
    "print(accuracy_score(y_test, y_pred))\n",
    "print(classification_report(y_test, y_pred))\n",
    "print(confusion_matrix(y_test, y_pred))\n"
   ]
  },
  {
   "cell_type": "code",
   "execution_count": 78,
   "metadata": {
    "collapsed": false,
    "ExecuteTime": {
     "end_time": "2024-04-03T21:27:15.830383Z",
     "start_time": "2024-04-03T21:27:15.758362Z"
    }
   },
   "outputs": [
    {
     "name": "stdout",
     "output_type": "stream",
     "text": [
      "0.9131481481481482\n",
      "              precision    recall  f1-score   support\n",
      "\n",
      "           0       0.98      0.90      0.93      1566\n",
      "           1       0.97      0.89      0.93      1836\n",
      "           2       0.74      0.98      0.84       432\n",
      "           3       0.88      0.93      0.90       756\n",
      "           4       0.87      0.93      0.90       594\n",
      "           5       0.79      0.98      0.88       216\n",
      "\n",
      "    accuracy                           0.91      5400\n",
      "   macro avg       0.87      0.93      0.90      5400\n",
      "weighted avg       0.92      0.91      0.91      5400\n",
      "\n",
      "[[1402   44   15   55   37   13]\n",
      " [  21 1638  124   25   10   18]\n",
      " [   1    3  423    1    1    3]\n",
      " [   5    4    6  705   31    5]\n",
      " [   5    2    3   17  551   16]\n",
      " [   0    1    0    0    3  212]]\n"
     ]
    }
   ],
   "source": [
    "y_pred = xgb_classifier.predict(x_test)\n",
    "print(accuracy_score(y_test, y_pred))\n",
    "print(classification_report(y_test, y_pred))\n",
    "print(confusion_matrix(y_test, y_pred))\n"
   ]
  },
  {
   "cell_type": "code",
   "execution_count": 79,
   "metadata": {
    "collapsed": false,
    "ExecuteTime": {
     "end_time": "2024-04-03T21:27:23.687629Z",
     "start_time": "2024-04-03T21:27:23.578718Z"
    }
   },
   "outputs": [
    {
     "name": "stdout",
     "output_type": "stream",
     "text": [
      "0.917962962962963\n",
      "              precision    recall  f1-score   support\n",
      "\n",
      "           0       0.98      0.90      0.94      1566\n",
      "           1       0.96      0.90      0.93      1836\n",
      "           2       0.75      0.96      0.84       432\n",
      "           3       0.89      0.94      0.91       756\n",
      "           4       0.89      0.94      0.91       594\n",
      "           5       0.81      0.98      0.88       216\n",
      "\n",
      "    accuracy                           0.92      5400\n",
      "   macro avg       0.88      0.94      0.90      5400\n",
      "weighted avg       0.93      0.92      0.92      5400\n",
      "\n",
      "[[1416   45   12   51   31   11]\n",
      " [  26 1645  118   23    8   16]\n",
      " [   0    9  416    3    2    2]\n",
      " [   6    5    3  710   26    6]\n",
      " [   4    1    3   11  559   16]\n",
      " [   0    1    1    0    3  211]]\n"
     ]
    }
   ],
   "source": [
    "y_pred = lgb_classifier.predict(x_test)\n",
    "print(accuracy_score(y_test, y_pred))\n",
    "print(classification_report(y_test, y_pred))\n",
    "print(confusion_matrix(y_test, y_pred))"
   ]
  },
  {
   "cell_type": "code",
   "execution_count": 80,
   "metadata": {
    "collapsed": false,
    "ExecuteTime": {
     "end_time": "2024-04-03T21:27:28.164109Z",
     "start_time": "2024-04-03T21:27:28.067869Z"
    }
   },
   "outputs": [
    {
     "name": "stdout",
     "output_type": "stream",
     "text": [
      "0.11074074074074074\n",
      "              precision    recall  f1-score   support\n",
      "\n",
      "           0       0.00      0.00      0.00      1566\n",
      "           1       0.00      0.00      0.00      1836\n",
      "           2       0.08      0.99      0.15       432\n",
      "           3       0.00      0.00      0.00       756\n",
      "           4       0.21      0.01      0.02       594\n",
      "           5       0.74      0.77      0.75       216\n",
      "\n",
      "    accuracy                           0.11      5400\n",
      "   macro avg       0.17      0.29      0.15      5400\n",
      "weighted avg       0.06      0.11      0.04      5400\n",
      "\n",
      "[[   0    0 1553    0    1   12]\n",
      " [   0    0 1816    0    0   20]\n",
      " [   0    0  427    0    0    5]\n",
      " [   0    0  747    0    2    7]\n",
      " [   0    1  574    0    5   14]\n",
      " [  20    0    0   14   16  166]]\n"
     ]
    }
   ],
   "source": [
    "y_pred = adaboost_classifier.predict(x_test)\n",
    "print(accuracy_score(y_test, y_pred))\n",
    "print(classification_report(y_test, y_pred))\n",
    "print(confusion_matrix(y_test, y_pred))"
   ]
  },
  {
   "cell_type": "code",
   "execution_count": 81,
   "metadata": {
    "collapsed": false,
    "ExecuteTime": {
     "end_time": "2024-04-03T21:27:36.977781Z",
     "start_time": "2024-04-03T21:27:30.776498Z"
    }
   },
   "outputs": [
    {
     "name": "stdout",
     "output_type": "stream",
     "text": [
      "0.7433333333333333\n",
      "              precision    recall  f1-score   support\n",
      "\n",
      "           0       0.91      0.74      0.82      1566\n",
      "           1       0.93      0.68      0.78      1836\n",
      "           2       0.63      0.69      0.66       432\n",
      "           3       0.48      0.89      0.62       756\n",
      "           4       0.71      0.78      0.74       594\n",
      "           5       0.70      0.81      0.75       216\n",
      "\n",
      "    accuracy                           0.74      5400\n",
      "   macro avg       0.73      0.76      0.73      5400\n",
      "weighted avg       0.80      0.74      0.75      5400\n",
      "\n",
      "[[1161   44   29  258   62   12]\n",
      " [  59 1246  123  294   80   34]\n",
      " [  14   26  297   76   15    4]\n",
      " [  19   16   16  674   21   10]\n",
      " [  21    6    5   85  462   15]\n",
      " [   6    5    3   21    7  174]]\n"
     ]
    }
   ],
   "source": [
    "y_pred = knn_classifier.predict(x_test)\n",
    "print(accuracy_score(y_test, y_pred))\n",
    "print(classification_report(y_test, y_pred))\n",
    "print(confusion_matrix(y_test, y_pred))"
   ]
  },
  {
   "cell_type": "code",
   "outputs": [
    {
     "name": "stdout",
     "output_type": "stream",
     "text": [
      "0.9175925925925926\n",
      "              precision    recall  f1-score   support\n",
      "\n",
      "           0       0.98      0.90      0.94      1566\n",
      "           1       0.98      0.89      0.93      1836\n",
      "           2       0.73      0.99      0.84       432\n",
      "           3       0.89      0.95      0.92       756\n",
      "           4       0.88      0.93      0.90       594\n",
      "           5       0.81      0.99      0.89       216\n",
      "\n",
      "    accuracy                           0.92      5400\n",
      "   macro avg       0.88      0.94      0.90      5400\n",
      "weighted avg       0.93      0.92      0.92      5400\n",
      "\n",
      "[[1414   26   21   52   42   11]\n",
      " [  24 1635  131   20   11   15]\n",
      " [   0    2  427    0    0    3]\n",
      " [   4    7    5  715   21    4]\n",
      " [   6    4    3   13  551   17]\n",
      " [   0    1    1    0    1  213]]\n"
     ]
    }
   ],
   "source": [
    "y_pred = rf_classifier.predict(x_test)\n",
    "print(accuracy_score(y_test, y_pred))\n",
    "print(classification_report(y_test, y_pred))\n",
    "print(confusion_matrix(y_test, y_pred))"
   ],
   "metadata": {
    "collapsed": false,
    "ExecuteTime": {
     "end_time": "2024-04-03T21:27:40.881753Z",
     "start_time": "2024-04-03T21:27:39.585768Z"
    }
   },
   "execution_count": 82
  },
  {
   "cell_type": "code",
   "outputs": [
    {
     "name": "stdout",
     "output_type": "stream",
     "text": [
      "0.9101851851851852\n",
      "              precision    recall  f1-score   support\n",
      "\n",
      "           0       0.95      0.93      0.94      1566\n",
      "           1       0.97      0.87      0.92      1836\n",
      "           2       0.74      0.94      0.83       432\n",
      "           3       0.90      0.94      0.92       756\n",
      "           4       0.85      0.90      0.87       594\n",
      "           5       0.81      0.92      0.86       216\n",
      "\n",
      "    accuracy                           0.91      5400\n",
      "   macro avg       0.87      0.92      0.89      5400\n",
      "weighted avg       0.92      0.91      0.91      5400\n",
      "\n",
      "[[1460   18    5   36   44    3]\n",
      " [  38 1605  129   22   19   23]\n",
      " [   2   17  408    1    3    1]\n",
      " [  16    5    2  707   21    5]\n",
      " [  18    6    3   17  537   13]\n",
      " [   0    5    1    2   10  198]]\n"
     ]
    }
   ],
   "source": [
    "y_pred = mlp_classifier.predict(x_test)\n",
    "print(accuracy_score(y_test, y_pred))\n",
    "print(classification_report(y_test, y_pred))\n",
    "print(confusion_matrix(y_test, y_pred))"
   ],
   "metadata": {
    "collapsed": false,
    "ExecuteTime": {
     "end_time": "2024-04-03T21:27:43.922484Z",
     "start_time": "2024-04-03T21:27:43.887681Z"
    }
   },
   "execution_count": 83
  },
  {
   "cell_type": "code",
   "outputs": [],
   "source": [],
   "metadata": {
    "collapsed": false
   }
  },
  {
   "cell_type": "markdown",
   "metadata": {
    "collapsed": false
   },
   "source": [
    "# 6. Cause of errors\n"
   ]
  },
  {
   "cell_type": "code",
   "execution_count": 50,
   "metadata": {
    "collapsed": false,
    "ExecuteTime": {
     "end_time": "2024-04-03T18:58:19.127402Z",
     "start_time": "2024-04-03T18:58:19.102229Z"
    }
   },
   "outputs": [
    {
     "name": "stdout",
     "output_type": "stream",
     "text": [
      "['forget', 'just', 'want', 'feel', 'weird', 'work', 'far', 'hometown']\n",
      "Real:  fear\n",
      "Pred: surprise\n",
      "\n",
      "\n",
      "['mean', 'he', 'just', 'sweet', 'bea', 'feel', 'like', 'totally', 'understands', 'but', 'hand', 'dangerous', 'he', 'vampire']\n",
      "Real:  anger\n",
      "Pred: love\n",
      "\n",
      "\n",
      "['im', 'not', 'careful', 'easy', 'fall', 'feeling', 'overwhelmed', 'day']\n",
      "Real:  fear\n",
      "Pred: surprise\n",
      "\n",
      "\n",
      "['didn', 't', 'enjoy', 'feel', 'extremely', 'unsure', 'lousy', 'alone', 'long', 'time']\n",
      "Real:  fear\n",
      "Pred: sadness\n",
      "\n",
      "\n",
      "['closed', 'feeling', 'dissatisfied', 'im', 'curious', 'huntley', 'fitzpatrick', 'going']\n",
      "Real:  anger\n",
      "Pred: surprise\n",
      "\n",
      "\n",
      "['feel', 'neurotic', 'talked', 'therapist', 'said', 'use', 'good', 'finding', 'headspace']\n",
      "Real:  fear\n",
      "Pred: joy\n",
      "\n",
      "\n",
      "['not', 'wishing', 'november', 'away', 'trying', 'forget', 'thanksgiving', 'but', 'need', 'mindful', 'really', 'matter', 'feel', 'overwhelmed']\n",
      "Real:  fear\n",
      "Pred: surprise\n",
      "\n",
      "\n",
      "['feel', 'like', 'im', 'petrified', 'care', 'case', 'take', 'away', 'family']\n",
      "Real:  fear\n",
      "Pred: love\n",
      "\n",
      "\n",
      "['cant', 'remember', 'little', 'mermaid', 'feeling', 'carefree', 'beauty', 'life', 'get', 'lost', 'massive', 'pile', 'homework', 'budgeting', 'off', 'finance', 'eventually', 'daunting', 'choice', 'life', 'adult']\n",
      "Real:  joy\n",
      "Pred: sadness\n",
      "\n",
      "\n",
      "['im', 'reading', 'work', 'tie', 'overall', 'scheme', 'feel', 'hopeless', 'pointless', 'impatient', 'indirect', 'way', 'aswell']\n",
      "Real:  sadness\n",
      "Pred: anger\n"
     ]
    }
   ],
   "source": [
    "emotions_to_int = {\n",
    "    'sadness': 0,\n",
    "    'joy': 1,\n",
    "    'love': 2,\n",
    "    'anger': 3,\n",
    "    'fear': 4,\n",
    "    'surprise': 5\n",
    "}\n",
    "\n",
    "int_to_emotions = {v: k for k, v in emotions_to_int.items()}\n",
    "\n",
    "\n",
    "wrong_predictions = y_test[y_test != y_pred_logreg].index\n",
    "for i, index in enumerate(wrong_predictions):\n",
    "    if i == 10:\n",
    "        break\n",
    "    print(test_data['text'][index])\n",
    "    print('Real: ', int_to_emotions[test_data['label'][index]])\n",
    "    print('Pred:', int_to_emotions[y_pred_logreg[index]])\n",
    "    print('\\n')\n",
    "\n"
   ]
  },
  {
   "cell_type": "code",
   "execution_count": 51,
   "metadata": {
    "collapsed": false,
    "ExecuteTime": {
     "end_time": "2024-04-03T18:58:39.453517Z",
     "start_time": "2024-04-03T18:58:39.433757Z"
    }
   },
   "outputs": [
    {
     "name": "stdout",
     "output_type": "stream",
     "text": [
      "[[787  21  19  37  23   9]\n",
      " [ 19 730  85  18  19  12]\n",
      " [  5   7 889   7   9   3]\n",
      " [ 19  30  15 798  35   7]\n",
      " [ 26  16  12  19 729  83]\n",
      " [  1   8   3   3   4 885]]\n",
      "              precision    recall  f1-score   support\n",
      "\n",
      "           0       0.92      0.88      0.90       896\n",
      "           1       0.90      0.83      0.86       883\n",
      "           2       0.87      0.97      0.92       920\n",
      "           3       0.90      0.88      0.89       904\n",
      "           4       0.89      0.82      0.86       885\n",
      "           5       0.89      0.98      0.93       904\n",
      "\n",
      "    accuracy                           0.89      5392\n",
      "   macro avg       0.89      0.89      0.89      5392\n",
      "weighted avg       0.89      0.89      0.89      5392\n"
     ]
    }
   ],
   "source": [
    "print(confusion_matrix(y_test, y_pred_logreg))\n",
    "print(classification_report(y_test, y_pred_logreg))"
   ]
  },
  {
   "cell_type": "code",
   "execution_count": 52,
   "metadata": {
    "collapsed": false,
    "ExecuteTime": {
     "end_time": "2024-04-03T18:58:44.737986Z",
     "start_time": "2024-04-03T18:58:44.099120Z"
    }
   },
   "outputs": [
    {
     "data": {
      "text/plain": "<Figure size 640x480 with 1 Axes>",
      "image/png": "[encoded data removed]"
     },
     "metadata": {},
     "output_type": "display_data"
    }
   ],
   "source": [
    "# check which emotions are being confused\n",
    "conf_matrix = confusion_matrix(y_test, y_pred_logreg)\n",
    "conf_matrix_copy = conf_matrix.copy()\n",
    "for i in range(conf_matrix.shape[0]):\n",
    "    conf_matrix[i, i] = 0 # make the diagonal null, to not eclipse the other values\n",
    "    \n",
    "plt.imshow(conf_matrix, cmap='viridis', interpolation='nearest')\n",
    "# annotate the axes with the emotion names\n",
    "plt.xticks(range(6), int_to_emotions.values(), rotation=45)\n",
    "plt.yticks(range(6), int_to_emotions.values())\n",
    "# add colorbar more to the right\n",
    "# plt.colorbar()\n",
    "# legend the axes with predicted and true values\n",
    "plt.xlabel('Predicted')\n",
    "plt.ylabel('True')\n",
    "\n",
    "# add counts in the plot\n",
    "for i in range(conf_matrix.shape[0]):\n",
    "    for j in range(conf_matrix.shape[1]):\n",
    "        if i == j:\n",
    "            plt.text(j, i, conf_matrix_copy[i, j], ha='center', va='center', color='white')\n",
    "        else:\n",
    "            plt.text(j, i, conf_matrix[i, j], ha='center', va='center', color='black')\n",
    "\n",
    "for i in range(conf_matrix.shape[0]): # this does not count correct predictions\n",
    "    plt.text(6, i, conf_matrix[i, :].sum(), ha='center', va='center', color='black')\n",
    "for i in range(conf_matrix.shape[1]):\n",
    "    plt.text(i, 7, conf_matrix[:, i].sum(), ha='center', va='center', color='black')\n",
    "plt.show()"
   ]
  },
  {
   "cell_type": "markdown",
   "metadata": {
    "collapsed": false
   },
   "source": [
    "The test set appears to be unbalance.\n",
    "- 'joy' is a lot more mixed with 'love' than the contrary. \n",
    "- 'surprise' has a low Precision"
   ]
  },
  {
   "cell_type": "code",
   "execution_count": 53,
   "metadata": {
    "collapsed": false,
    "ExecuteTime": {
     "end_time": "2024-04-03T18:58:54.480236Z",
     "start_time": "2024-04-03T18:58:54.200038Z"
    }
   },
   "outputs": [
    {
     "data": {
      "text/plain": "<Figure size 640x480 with 2 Axes>",
      "image/png": "[encoded data removed]"
     },
     "metadata": {},
     "output_type": "display_data"
    }
   ],
   "source": [
    "conf_matrix = confusion_matrix(y_test, y_pred_logreg)\n",
    "conf_matrix = conf_matrix / conf_matrix.sum(axis=1)[:, None] # normalize the confusion matrix\n",
    "conf_matrix_copy = conf_matrix.copy()\n",
    "for i in range(conf_matrix.shape[0]):\n",
    "    conf_matrix[i, i] = 0 # make the diagonal null, to not eclipse the other values\n",
    "plt.imshow(conf_matrix, cmap='viridis', interpolation='nearest')\n",
    "\n",
    "plt.xticks(range(6), int_to_emotions.values(), rotation=45)\n",
    "plt.yticks(range(6), int_to_emotions.values())\n",
    "plt.colorbar()\n",
    "plt.xlabel('Predicted')\n",
    "plt.ylabel('True')\n",
    "\n",
    "# add counts in the plot\n",
    "for i in range(conf_matrix.shape[0]):\n",
    "    for j in range(conf_matrix.shape[1]):\n",
    "        if i == j:\n",
    "            plt.text(j, i, f'{conf_matrix_copy[i, j]:.2f}', ha='center', va='center', color='white')\n",
    "        else:\n",
    "            plt.text(j, i, f'{conf_matrix[i, j]:.2f}', ha='center', va='center', color='black')\n",
    "\n",
    "        \n",
    "plt.title('Percentage of predictions (row sum=1)')\n",
    "# Rows add to 1\n",
    "plt.show()\n",
    "\n"
   ]
  },
  {
   "cell_type": "markdown",
   "metadata": {
    "collapsed": false
   },
   "source": [
    "- sadness mixed with joy and anger\n",
    "- joy mixed with love\n",
    "- love mixed with joy\n",
    "- anger mixed with sadness and joy??\n",
    "- fear mixed with sadness\n",
    "- surprise mixed with almost everything"
   ]
  },
  {
   "cell_type": "markdown",
   "metadata": {},
   "source": [
    "# 7. Experiment with user-inputed setences"
   ]
  },
  {
   "cell_type": "code",
   "execution_count": null,
   "metadata": {},
   "outputs": [],
   "source": [
    "import nltk\n",
    "from nltk.corpus import stopwords\n",
    "from nltk.stem import WordNetLemmatizer\n",
    "from sklearn.feature_extraction import text\n",
    "\n",
    "emotions = {\n",
    "    0: \"0. sadness\",\n",
    "    1: \"1. joy\",\n",
    "    2: \"2. love\",\n",
    "    3: \"3. anger\",\n",
    "    4: \"4. fear\",\n",
    "    5: \"5. surprise\"\n",
    "}\n",
    "\n",
    "def preprocess_text(phrase):\n",
    "    # Tokenize\n",
    "    tokens = nltk.word_tokenize(phrase.lower())\n",
    "\n",
    "    # Remove stop words\n",
    "    my_stop_words = set(stopwords.words('english'))\n",
    "    words_to_keep = frozenset(['no', 'couldnt', 'cry', 'not', 'cant', 'cannot', 'nor', 'except', 'nobody', 'off', 'but', 'serious', 'enough', 'nothing', 'alone', 'down', 'only', 'without','hereby'])\n",
    "    my_stop_words -= words_to_keep\n",
    "    tokens = [word for word in tokens if word not in my_stop_words]\n",
    "\n",
    "    # Lemmatize\n",
    "    lemmatizer = WordNetLemmatizer()\n",
    "    tokens = [lemmatizer.lemmatize(word) for word in tokens]\n",
    "    \n",
    "    return tokens\n",
    "\n",
    "def doc2vec_text(tokens):\n",
    "    model = Doc2Vec.load(\"d2v_best_stopwords.model\")\n",
    "    return model.infer_vector(tokens)\n",
    "\n",
    "def classify_emotion(number):\n",
    "    if number==0:\n",
    "        return \"0. sadness\"\n",
    "    if number==1:\n",
    "        return \"1. joy\"\n",
    "    if number==2:\n",
    "        return \"2. love\"\n",
    "    if number==3:\n",
    "        return \"3. anger\"\n",
    "    if number==4:\n",
    "        return \"4. fear\"\n",
    "    if number==5:\n",
    "        return \"5. surprise\"\n",
    "\n",
    "    return \"Not possible to identify\"\n",
    "\n",
    "\n",
    "def analyze_sentiment(phrase):\n",
    "    tokens = preprocess_text(phrase)\n",
    "    tokens_embeddings = doc2vec_text(tokens)\n",
    "\n",
    "    # Reshape to have proper structure\n",
    "    tokens_embeddings = np.array(tokens_embeddings).reshape(1, -1)\n",
    "\n",
    "    # Predict the class using the SVM classifier\n",
    "    predicted_class = svm_classifier.predict(tokens_embeddings)\n",
    "    print(classify_emotion(predicted_class[0]))\n"
   ]
  },
  {
   "cell_type": "code",
   "execution_count": null,
   "metadata": {},
   "outputs": [
    {
     "ename": "ValueError",
     "evalue": "X has 88 features, but SVC is expecting 99 features as input.",
     "output_type": "error",
     "traceback": [
      "\u001B[1;31m---------------------------------------------------------------------------\u001B[0m",
      "\u001B[1;31mValueError\u001B[0m                                Traceback (most recent call last)",
      "Cell \u001B[1;32mIn[157], line 2\u001B[0m\n\u001B[0;32m      1\u001B[0m phrase \u001B[38;5;241m=\u001B[39m \u001B[38;5;124m\"\u001B[39m\u001B[38;5;124mi love love\u001B[39m\u001B[38;5;124m\"\u001B[39m\n\u001B[1;32m----> 2\u001B[0m \u001B[43manalyze_sentiment\u001B[49m\u001B[43m(\u001B[49m\u001B[43mphrase\u001B[49m\u001B[43m)\u001B[49m\n",
      "Cell \u001B[1;32mIn[155], line 60\u001B[0m, in \u001B[0;36manalyze_sentiment\u001B[1;34m(phrase)\u001B[0m\n\u001B[0;32m     57\u001B[0m tokens_embeddings \u001B[38;5;241m=\u001B[39m np\u001B[38;5;241m.\u001B[39marray(tokens_embeddings)\u001B[38;5;241m.\u001B[39mreshape(\u001B[38;5;241m1\u001B[39m, \u001B[38;5;241m-\u001B[39m\u001B[38;5;241m1\u001B[39m)\n\u001B[0;32m     59\u001B[0m \u001B[38;5;66;03m# Predict the class using the SVM classifier\u001B[39;00m\n\u001B[1;32m---> 60\u001B[0m predicted_class \u001B[38;5;241m=\u001B[39m \u001B[43msvm_classifier\u001B[49m\u001B[38;5;241;43m.\u001B[39;49m\u001B[43mpredict\u001B[49m\u001B[43m(\u001B[49m\u001B[43mtokens_embeddings\u001B[49m\u001B[43m)\u001B[49m\n\u001B[0;32m     61\u001B[0m \u001B[38;5;28mprint\u001B[39m(classify_emotion(predicted_class[\u001B[38;5;241m0\u001B[39m]))\n",
      "File \u001B[1;32mc:\\Users\\inesc\\AppData\\Local\\Programs\\Python\\Python310\\lib\\site-packages\\sklearn\\svm\\_base.py:820\u001B[0m, in \u001B[0;36mBaseSVC.predict\u001B[1;34m(self, X)\u001B[0m\n\u001B[0;32m    818\u001B[0m     y \u001B[38;5;241m=\u001B[39m np\u001B[38;5;241m.\u001B[39margmax(\u001B[38;5;28mself\u001B[39m\u001B[38;5;241m.\u001B[39mdecision_function(X), axis\u001B[38;5;241m=\u001B[39m\u001B[38;5;241m1\u001B[39m)\n\u001B[0;32m    819\u001B[0m \u001B[38;5;28;01melse\u001B[39;00m:\n\u001B[1;32m--> 820\u001B[0m     y \u001B[38;5;241m=\u001B[39m \u001B[38;5;28;43msuper\u001B[39;49m\u001B[43m(\u001B[49m\u001B[43m)\u001B[49m\u001B[38;5;241;43m.\u001B[39;49m\u001B[43mpredict\u001B[49m\u001B[43m(\u001B[49m\u001B[43mX\u001B[49m\u001B[43m)\u001B[49m\n\u001B[0;32m    821\u001B[0m \u001B[38;5;28;01mreturn\u001B[39;00m \u001B[38;5;28mself\u001B[39m\u001B[38;5;241m.\u001B[39mclasses_\u001B[38;5;241m.\u001B[39mtake(np\u001B[38;5;241m.\u001B[39masarray(y, dtype\u001B[38;5;241m=\u001B[39mnp\u001B[38;5;241m.\u001B[39mintp))\n",
      "File \u001B[1;32mc:\\Users\\inesc\\AppData\\Local\\Programs\\Python\\Python310\\lib\\site-packages\\sklearn\\svm\\_base.py:433\u001B[0m, in \u001B[0;36mBaseLibSVM.predict\u001B[1;34m(self, X)\u001B[0m\n\u001B[0;32m    417\u001B[0m \u001B[38;5;28;01mdef\u001B[39;00m \u001B[38;5;21mpredict\u001B[39m(\u001B[38;5;28mself\u001B[39m, X):\n\u001B[0;32m    418\u001B[0m     \u001B[38;5;124;03m\"\"\"Perform regression on samples in X.\u001B[39;00m\n\u001B[0;32m    419\u001B[0m \n\u001B[0;32m    420\u001B[0m \u001B[38;5;124;03m    For an one-class model, +1 (inlier) or -1 (outlier) is returned.\u001B[39;00m\n\u001B[1;32m   (...)\u001B[0m\n\u001B[0;32m    431\u001B[0m \u001B[38;5;124;03m        The predicted values.\u001B[39;00m\n\u001B[0;32m    432\u001B[0m \u001B[38;5;124;03m    \"\"\"\u001B[39;00m\n\u001B[1;32m--> 433\u001B[0m     X \u001B[38;5;241m=\u001B[39m \u001B[38;5;28;43mself\u001B[39;49m\u001B[38;5;241;43m.\u001B[39;49m\u001B[43m_validate_for_predict\u001B[49m\u001B[43m(\u001B[49m\u001B[43mX\u001B[49m\u001B[43m)\u001B[49m\n\u001B[0;32m    434\u001B[0m     predict \u001B[38;5;241m=\u001B[39m \u001B[38;5;28mself\u001B[39m\u001B[38;5;241m.\u001B[39m_sparse_predict \u001B[38;5;28;01mif\u001B[39;00m \u001B[38;5;28mself\u001B[39m\u001B[38;5;241m.\u001B[39m_sparse \u001B[38;5;28;01melse\u001B[39;00m \u001B[38;5;28mself\u001B[39m\u001B[38;5;241m.\u001B[39m_dense_predict\n\u001B[0;32m    435\u001B[0m     \u001B[38;5;28;01mreturn\u001B[39;00m predict(X)\n",
      "File \u001B[1;32mc:\\Users\\inesc\\AppData\\Local\\Programs\\Python\\Python310\\lib\\site-packages\\sklearn\\svm\\_base.py:613\u001B[0m, in \u001B[0;36mBaseLibSVM._validate_for_predict\u001B[1;34m(self, X)\u001B[0m\n\u001B[0;32m    610\u001B[0m check_is_fitted(\u001B[38;5;28mself\u001B[39m)\n\u001B[0;32m    612\u001B[0m \u001B[38;5;28;01mif\u001B[39;00m \u001B[38;5;129;01mnot\u001B[39;00m callable(\u001B[38;5;28mself\u001B[39m\u001B[38;5;241m.\u001B[39mkernel):\n\u001B[1;32m--> 613\u001B[0m     X \u001B[38;5;241m=\u001B[39m \u001B[38;5;28;43mself\u001B[39;49m\u001B[38;5;241;43m.\u001B[39;49m\u001B[43m_validate_data\u001B[49m\u001B[43m(\u001B[49m\n\u001B[0;32m    614\u001B[0m \u001B[43m        \u001B[49m\u001B[43mX\u001B[49m\u001B[43m,\u001B[49m\n\u001B[0;32m    615\u001B[0m \u001B[43m        \u001B[49m\u001B[43maccept_sparse\u001B[49m\u001B[38;5;241;43m=\u001B[39;49m\u001B[38;5;124;43m\"\u001B[39;49m\u001B[38;5;124;43mcsr\u001B[39;49m\u001B[38;5;124;43m\"\u001B[39;49m\u001B[43m,\u001B[49m\n\u001B[0;32m    616\u001B[0m \u001B[43m        \u001B[49m\u001B[43mdtype\u001B[49m\u001B[38;5;241;43m=\u001B[39;49m\u001B[43mnp\u001B[49m\u001B[38;5;241;43m.\u001B[39;49m\u001B[43mfloat64\u001B[49m\u001B[43m,\u001B[49m\n\u001B[0;32m    617\u001B[0m \u001B[43m        \u001B[49m\u001B[43morder\u001B[49m\u001B[38;5;241;43m=\u001B[39;49m\u001B[38;5;124;43m\"\u001B[39;49m\u001B[38;5;124;43mC\u001B[39;49m\u001B[38;5;124;43m\"\u001B[39;49m\u001B[43m,\u001B[49m\n\u001B[0;32m    618\u001B[0m \u001B[43m        \u001B[49m\u001B[43maccept_large_sparse\u001B[49m\u001B[38;5;241;43m=\u001B[39;49m\u001B[38;5;28;43;01mFalse\u001B[39;49;00m\u001B[43m,\u001B[49m\n\u001B[0;32m    619\u001B[0m \u001B[43m        \u001B[49m\u001B[43mreset\u001B[49m\u001B[38;5;241;43m=\u001B[39;49m\u001B[38;5;28;43;01mFalse\u001B[39;49;00m\u001B[43m,\u001B[49m\n\u001B[0;32m    620\u001B[0m \u001B[43m    \u001B[49m\u001B[43m)\u001B[49m\n\u001B[0;32m    622\u001B[0m \u001B[38;5;28;01mif\u001B[39;00m \u001B[38;5;28mself\u001B[39m\u001B[38;5;241m.\u001B[39m_sparse \u001B[38;5;129;01mand\u001B[39;00m \u001B[38;5;129;01mnot\u001B[39;00m sp\u001B[38;5;241m.\u001B[39misspmatrix(X):\n\u001B[0;32m    623\u001B[0m     X \u001B[38;5;241m=\u001B[39m sp\u001B[38;5;241m.\u001B[39mcsr_matrix(X)\n",
      "File \u001B[1;32mc:\\Users\\inesc\\AppData\\Local\\Programs\\Python\\Python310\\lib\\site-packages\\sklearn\\base.py:588\u001B[0m, in \u001B[0;36mBaseEstimator._validate_data\u001B[1;34m(self, X, y, reset, validate_separately, **check_params)\u001B[0m\n\u001B[0;32m    585\u001B[0m     out \u001B[38;5;241m=\u001B[39m X, y\n\u001B[0;32m    587\u001B[0m \u001B[38;5;28;01mif\u001B[39;00m \u001B[38;5;129;01mnot\u001B[39;00m no_val_X \u001B[38;5;129;01mand\u001B[39;00m check_params\u001B[38;5;241m.\u001B[39mget(\u001B[38;5;124m\"\u001B[39m\u001B[38;5;124mensure_2d\u001B[39m\u001B[38;5;124m\"\u001B[39m, \u001B[38;5;28;01mTrue\u001B[39;00m):\n\u001B[1;32m--> 588\u001B[0m     \u001B[38;5;28;43mself\u001B[39;49m\u001B[38;5;241;43m.\u001B[39;49m\u001B[43m_check_n_features\u001B[49m\u001B[43m(\u001B[49m\u001B[43mX\u001B[49m\u001B[43m,\u001B[49m\u001B[43m \u001B[49m\u001B[43mreset\u001B[49m\u001B[38;5;241;43m=\u001B[39;49m\u001B[43mreset\u001B[49m\u001B[43m)\u001B[49m\n\u001B[0;32m    590\u001B[0m \u001B[38;5;28;01mreturn\u001B[39;00m out\n",
      "File \u001B[1;32mc:\\Users\\inesc\\AppData\\Local\\Programs\\Python\\Python310\\lib\\site-packages\\sklearn\\base.py:389\u001B[0m, in \u001B[0;36mBaseEstimator._check_n_features\u001B[1;34m(self, X, reset)\u001B[0m\n\u001B[0;32m    386\u001B[0m     \u001B[38;5;28;01mreturn\u001B[39;00m\n\u001B[0;32m    388\u001B[0m \u001B[38;5;28;01mif\u001B[39;00m n_features \u001B[38;5;241m!=\u001B[39m \u001B[38;5;28mself\u001B[39m\u001B[38;5;241m.\u001B[39mn_features_in_:\n\u001B[1;32m--> 389\u001B[0m     \u001B[38;5;28;01mraise\u001B[39;00m \u001B[38;5;167;01mValueError\u001B[39;00m(\n\u001B[0;32m    390\u001B[0m         \u001B[38;5;124mf\u001B[39m\u001B[38;5;124m\"\u001B[39m\u001B[38;5;124mX has \u001B[39m\u001B[38;5;132;01m{\u001B[39;00mn_features\u001B[38;5;132;01m}\u001B[39;00m\u001B[38;5;124m features, but \u001B[39m\u001B[38;5;132;01m{\u001B[39;00m\u001B[38;5;28mself\u001B[39m\u001B[38;5;241m.\u001B[39m\u001B[38;5;18m__class__\u001B[39m\u001B[38;5;241m.\u001B[39m\u001B[38;5;18m__name__\u001B[39m\u001B[38;5;132;01m}\u001B[39;00m\u001B[38;5;124m \u001B[39m\u001B[38;5;124m\"\u001B[39m\n\u001B[0;32m    391\u001B[0m         \u001B[38;5;124mf\u001B[39m\u001B[38;5;124m\"\u001B[39m\u001B[38;5;124mis expecting \u001B[39m\u001B[38;5;132;01m{\u001B[39;00m\u001B[38;5;28mself\u001B[39m\u001B[38;5;241m.\u001B[39mn_features_in_\u001B[38;5;132;01m}\u001B[39;00m\u001B[38;5;124m features as input.\u001B[39m\u001B[38;5;124m\"\u001B[39m\n\u001B[0;32m    392\u001B[0m     )\n",
      "\u001B[1;31mValueError\u001B[0m: X has 88 features, but SVC is expecting 99 features as input."
     ]
    }
   ],
   "source": [
    "#phrase = \"i love love\"\n",
    "#analyze_sentiment(phrase)"
   ]
  }
 ],
 "metadata": {
  "kernelspec": {
   "display_name": "venv",
   "language": "python",
   "name": "python3"
  },
  "language_info": {
   "codemirror_mode": {
    "name": "ipython",
    "version": 3
   },
   "file_extension": ".py",
   "mimetype": "text/x-python",
   "name": "python",
   "nbconvert_exporter": "python",
   "pygments_lexer": "ipython3",
   "version": "3.10.7"
  }
 },
 "nbformat": 4,
 "nbformat_minor": 2
}
